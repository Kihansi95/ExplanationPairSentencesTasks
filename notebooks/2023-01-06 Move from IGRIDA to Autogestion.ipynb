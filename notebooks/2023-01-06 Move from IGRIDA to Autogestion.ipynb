{
 "cells": [
  {
   "cell_type": "markdown",
   "id": "2066a519-0e65-4bf5-8f1e-661dfa2d1129",
   "metadata": {},
   "source": [
    "# Move files from IGRIDA to Autogestion collection"
   ]
  },
  {
   "cell_type": "code",
   "execution_count": 1,
   "id": "e6a29490-098c-41ac-a6d8-0e2c0b4a8b63",
   "metadata": {},
   "outputs": [],
   "source": [
    "%load_ext autoreload\n",
    "%autoreload 2\n",
    "\n",
    "from IPython.display import display, HTML\n",
    "import sys\n",
    "import os\n",
    "from os import path\n",
    "\n",
    "sys.path.append(\"./../src\")"
   ]
  },
  {
   "cell_type": "markdown",
   "id": "5f0e8ba9-92d9-4b86-9560-ba04367b2153",
   "metadata": {},
   "source": [
    "No need, simply use the following Linux command:\n",
    "\n",
    "```bash\n",
    "src_path=/Users/dunguyen/Projects/IGRIDA/RUNS/autogestion/.\n",
    "dst_path=/Volumes/Lacie/ARCHIVAL/autogestion/collection/.\n",
    "cp -Rv $src_path $dst_path\n",
    "```\n",
    "\n",
    "`-R` recursively"
   ]
  },
  {
   "cell_type": "code",
   "execution_count": null,
   "id": "587a22fa-ad1d-4309-884b-f00923c8304a",
   "metadata": {},
   "outputs": [],
   "source": []
  },
  {
   "cell_type": "code",
   "execution_count": 2,
   "id": "e63f9432-d07c-4f9b-b86c-e295bbdcfa9f",
   "metadata": {},
   "outputs": [],
   "source": [
    "src_path = '/Users/dunguyen/Projects/IGRIDA/RUNS/autogestion'\n",
    "dst_path = '/Volumes/Lacie/ARCHIVAL/autogestion/collection'"
   ]
  },
  {
   "cell_type": "code",
   "execution_count": 3,
   "id": "3d6ee8fd-f44d-47b3-8a08-711ffa2887b3",
   "metadata": {},
   "outputs": [
    {
     "data": {
      "application/vnd.jupyter.widget-view+json": {
       "model_id": "ae33656f18b14d25ba15868d48ea66d4",
       "version_major": 2,
       "version_minor": 0
      },
      "text/plain": [
       "Moving links:   0%|          | 0/6 [00:00<?, ?article/s]"
      ]
     },
     "metadata": {},
     "output_type": "display_data"
    }
   ],
   "source": [
    "import shutil \n",
    "from tqdm.auto import tqdm\n",
    "\n",
    "def copy_all_structure(source_path, dst_path, disable=False):\n",
    "    # create the dst_path directory if it doesn't exist\n",
    "    if not os.path.exists(dst_path):\n",
    "        os.makedirs(dst_path)\n",
    "        \n",
    "    if not disable: \n",
    "        items = tqdm(os.listdir(source_path))\n",
    "    else:\n",
    "        items = os.listdir(source_path)\n",
    "\n",
    "    for item in items:\n",
    "        # get the full path of the item in source_path\n",
    "        source_item = os.path.join(source_path, item)\n",
    "        # get the full path of the corresponding item in dst_path\n",
    "        dst_item = os.path.join(dst_path, item)\n",
    "\n",
    "        if os.path.isdir(source_item):\n",
    "            # if the item is a directory, recursively copy its contents\n",
    "            copy_all_structure(source_item, dst_item, disable=True)\n",
    "        else:\n",
    "            # if the item is a file, copy it to the dst_path\n",
    "            shutil.copy2(source_item, dst_item)\n",
    "            \n",
    "copy_all_structure(src_path, dst_path)"
   ]
  }
 ],
 "metadata": {
  "kernelspec": {
   "display_name": "Python 3 (ipykernel)",
   "language": "python",
   "name": "python3"
  },
  "language_info": {
   "codemirror_mode": {
    "name": "ipython",
    "version": 3
   },
   "file_extension": ".py",
   "mimetype": "text/x-python",
   "name": "python",
   "nbconvert_exporter": "python",
   "pygments_lexer": "ipython3",
   "version": "3.8.16"
  }
 },
 "nbformat": 4,
 "nbformat_minor": 5
}
