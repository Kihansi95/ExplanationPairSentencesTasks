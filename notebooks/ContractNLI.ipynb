{
 "cells": [
  {
   "cell_type": "code",
   "execution_count": 1,
   "metadata": {
    "tags": []
   },
   "outputs": [],
   "source": [
    "%load_ext autoreload\n",
    "%autoreload 2\n",
    "\n",
    "from IPython.display import display, HTML\n",
    "import os\n",
    "from os import path\n",
    "\n",
    "cache = path.join(os.getcwd(), '..', '.cache')"
   ]
  },
  {
   "cell_type": "code",
   "execution_count": 2,
   "metadata": {},
   "outputs": [],
   "source": [
    "URL = 'https://stanfordnlp.github.io/contract-nli/resources/contract-nli.zip'"
   ]
  },
  {
   "cell_type": "code",
   "execution_count": 4,
   "metadata": {},
   "outputs": [],
   "source": [
    "import pandas as pd"
   ]
  },
  {
   "cell_type": "code",
   "execution_count": 5,
   "metadata": {},
   "outputs": [],
   "source": [
    "import json"
   ]
  },
  {
   "cell_type": "code",
   "execution_count": 7,
   "metadata": {},
   "outputs": [],
   "source": [
    "with open(path.join(cache, 'contract-nli', 'train.json')) as f:\n",
    "    cnli = json.load(f)"
   ]
  },
  {
   "cell_type": "code",
   "execution_count": 9,
   "metadata": {},
   "outputs": [
    {
     "data": {
      "text/plain": [
       "dict_keys(['documents', 'labels'])"
      ]
     },
     "execution_count": 9,
     "metadata": {},
     "output_type": "execute_result"
    }
   ],
   "source": [
    "cnli.keys()"
   ]
  },
  {
   "cell_type": "code",
   "execution_count": 10,
   "metadata": {},
   "outputs": [
    {
     "data": {
      "text/plain": [
       "{'nda-11': {'short_description': 'No reverse engineering',\n",
       "  'hypothesis': \"Receiving Party shall not reverse engineer any objects which embody Disclosing Party's Confidential Information.\"},\n",
       " 'nda-16': {'short_description': 'Return of confidential information',\n",
       "  'hypothesis': 'Receiving Party shall destroy or return some Confidential Information upon the termination of Agreement.'},\n",
       " 'nda-15': {'short_description': 'No licensing',\n",
       "  'hypothesis': 'Agreement shall not grant Receiving Party any right to Confidential Information.'},\n",
       " 'nda-10': {'short_description': 'Confidentiality of Agreement',\n",
       "  'hypothesis': 'Receiving Party shall not disclose the fact that Agreement was agreed or negotiated.'},\n",
       " 'nda-2': {'short_description': 'None-inclusion of non-technical information',\n",
       "  'hypothesis': 'Confidential Information shall only include technical information.'},\n",
       " 'nda-1': {'short_description': 'Explicit identification',\n",
       "  'hypothesis': 'All Confidential Information shall be expressly identified by the Disclosing Party.'},\n",
       " 'nda-19': {'short_description': 'Survival of obligations',\n",
       "  'hypothesis': 'Some obligations of Agreement may survive termination of Agreement.'},\n",
       " 'nda-12': {'short_description': 'Permissible development of similar information',\n",
       "  'hypothesis': 'Receiving Party may independently develop information similar to Confidential Information.'},\n",
       " 'nda-20': {'short_description': 'Permissible post-agreement possession',\n",
       "  'hypothesis': 'Receiving Party may retain some Confidential Information even after the return or destruction of Confidential Information.'},\n",
       " 'nda-3': {'short_description': 'Inclusion of verbally conveyed information',\n",
       "  'hypothesis': 'Confidential Information may include verbally conveyed information.'},\n",
       " 'nda-18': {'short_description': 'No solicitation',\n",
       "  'hypothesis': \"Receiving Party shall not solicit some of Disclosing Party's representatives.\"},\n",
       " 'nda-7': {'short_description': 'Sharing with third-parties',\n",
       "  'hypothesis': 'Receiving Party may share some Confidential Information with some third-parties (including consultants, agents and professional advisors).'},\n",
       " 'nda-17': {'short_description': 'Permissible copy',\n",
       "  'hypothesis': 'Receiving Party may create a copy of some Confidential Information in some circumstances.'},\n",
       " 'nda-8': {'short_description': 'Notice on compelled disclosure',\n",
       "  'hypothesis': 'Receiving Party shall notify Disclosing Party in case Receiving Party is required by law, regulation or judicial process to disclose any Confidential Information.'},\n",
       " 'nda-13': {'short_description': 'Permissible acquirement of similar information',\n",
       "  'hypothesis': 'Receiving Party may acquire information similar to Confidential Information from a third party.'},\n",
       " 'nda-5': {'short_description': 'Sharing with employees',\n",
       "  'hypothesis': \"Receiving Party may share some Confidential Information with some of Receiving Party's employees.\"},\n",
       " 'nda-4': {'short_description': 'Limited use',\n",
       "  'hypothesis': 'Receiving Party shall not use any Confidential Information for any purpose other than the purposes stated in Agreement.'}}"
      ]
     },
     "execution_count": 10,
     "metadata": {},
     "output_type": "execute_result"
    }
   ],
   "source": [
    "cnli['labels']"
   ]
  },
  {
   "cell_type": "code",
   "execution_count": 14,
   "metadata": {},
   "outputs": [
    {
     "name": "stdout",
     "output_type": "stream",
     "text": [
      "# contrat:  423\n"
     ]
    },
    {
     "data": {
      "text/plain": [
       "{'id': 34,\n",
       " 'file_name': 'Annex E_Non-Disclosure and Confidentiality Agreement.pdf',\n",
       " 'text': \"NON-DISCLOSURE AND CONFIDENTIALITY AGREEMENT\\nThis NON-DISCLOSURE AND CONFIDENTIALITY AGREEMENT (“Agreement”) is made by and between:\\n(i) the Office of the United Nations High Commissioner for Refugees, having its headquarters located at 94 rue de Montbrillant, 1202 Geneva, Switzerland (hereinafter “UNHCR” or the “Discloser”); and\\n(ii) ________________________ , a company established in accordance with the laws of ________________________ and having its principal offices located at ________________________________________________ (hereinafter the “Bidder” or the “Recipient”).\\nThe Discloser and Recipient are also referred to collectively as the “Parties” and individually as a “Party”.\\nRECITALS\\nWHEREAS in connection with RFP/2014/620, Request for Proposal for the provision Off-the-shelf Soft-skill, IT Online and HR specific E-learning Courses (the “RFP”), it is advantageous to share certain data and information with the Bidder participating in the RFP;\\nWHEREAS UNHCR agrees to provide such data and information to the Bidder for the sole purpose of preparing its Proposal under said RFP;\\nWHEREAS the Bidder is willing to ensure that UNHCR’s data and information will be held in strict confidence and only used for the permitted purpose;\\nNOW, THEREFORE, the Parties agree as follows:\\n1. “Confidential Information”, whenever used in this Agreement, shall mean any data, document, specification and other information or material, that is delivered or disclosed by UNHCR to the Recipient in any form whatsoever, whether orally, visually in writing or otherwise (including computerized form), and that, at the time of disclosure to the Recipient, is designated as confidential.\\n2. The Confidential Information that is delivered or otherwise disclosed by the Discloser to the Recipient shall be held in trust and confidence by the Recipient and shall be handled as follows:\\n2.1 The Recipient shall use the same care and discretion to avoid disclosure, publication or dissemination of the Confidential Information as it uses with its own similar information that it does not wish to disclose, publish or disseminate;\\n2.2 The Recipient shall use the Confidential Information solely for the purpose for which it was disclosed;\\n2.3 Provided that the Recipient has a written agreement with the following persons or entities requiring them to treat the Confidential Information in accordance with this Agreement, the Recipient may disclose the Confidential Information to:\\n2.3.1 Any other party with the Discloser’s prior written consent; and\\n2.3.2 the Recipient’s employees, officials, representatives and agents who have a strict need to know the contents of the Confidential Information, and employees, officials, representatives and agents of any legal entity that it controls, controls it, or with which it is under common control, who have a similar need to know the contents of the Confidential Information, provided that, for these purposes a controlled legal entity means:\\n2.3.2.1 a corporate entity in which the Party owns or otherwise controls, whether directly or indirectly, over fifty percent (50%) of voting shares thereof; or,\\n2.3.2.2 any entity over which the Party exercises effective managerial control; or,\\n2.3.2.3 for UNHCR, a principal or subsidiary organ of the United Nations established in accordance with the Charter of the United Nations.\\n2.4 The Recipient may disclose the Confidential Information to the extent required by law, provided that, subject to and without any waiver of the privileges and immunities of UNHCR, the Recipient will give UNHCR sufficient prior notice of a request for the disclosure of the Confidential Information in order to allow UNHCR to have a reasonable opportunity to take protective measures or such other action as may be appropriate before any such disclosure is made.\\n2.5 The Recipient shall not be precluded from disclosing the Confidential Information that is (i) obtained by the Recipient without restriction from a third party who is not in breach of any obligation as to confidentiality to the owner of such Confidential Information or any other person, or (ii) disclosed by the Discloser to a third party without any obligation of confidentiality, or (iii) previously known by the Recipient, or (iv) at any time is developed by the Recipient completely independently of any disclosures hereunder.\\n2.6 The Recipient will not copy or reproduce the Confidential Information except as reasonably required for the purposes contemplated in this Agreement, and will ensure that any confidentiality or other proprietary rights notices on the Confidential Information are reproduced on all copies.\\n3. The Recipient acknowledges that UNHCR hereto makes no any representation or warranty, express or implied, as to the accuracy or completeness of the Confidential Information.\\n4. Nothing in this Agreement is to be construed as granting the Recipient, by implication or otherwise, any right whatsoever with respect to the Confidential Information or part thereof.\\n5. All Confidential Information in any form and any medium, including all copies thereof, disclosed to the Recipient shall be returned to UNHCR or destroyed: (a) if a business relationship is not entered into with UNHCR on or before the date which is three (3) months after the date both Parties have signed the Agreement; or (b) promptly upon request by the UNHCR at any time.\\n6. The Recipient agrees to indemnify UNHCR in respect of any expenses, losses, damages, costs, claims or liability UNHCR may suffer or incur as a result of an act or omission by the Recipient or its employees, consultants and agents in connection with the Confidential Information and the Recipient’s obligations under this Agreement.\\n7. Nothing in this Agreement shall be construed as obligating any Party to continue any discussions or to enter into a business relationship.\\n8. This Agreement shall enter into force on the date it is signed by both Parties. Either Party may terminate the working relationship contemplated by this Agreement by providing written notice to the other, provided, however, that the obligations and restrictions hereunder regarding the Confidential Information shall remain effective following any such termination or any other termination or expiration of this Agreement.\\n9. Any dispute, controversy or claim between the Parties arising out of, this Agreement or the breach, termination or invalidity thereof, unless settled amicably within twenty (20) days after receipt by one Party of the other Party's request for such amicable settlement, shall be referred by either Party to arbitration in accordance with the UNCITRAL Arbitration Rules then obtaining, including provisions on applicable law. The arbitral tribunal shall have no authority to award punitive damages. In addition, unless otherwise expressly provided in this Agreement, the arbitral tribunal shall have no authority to award interest. The Parties shall be bound by any arbitration award rendered as a result of such arbitration as the final adjudication of any such controversy, claim or dispute.\\n10. Nothing in or relating to this Agreement shall be deemed a waiver, express or implied, of any of the privileges and immunities of the United Nations, including UNHCR as its subsidiary organ.\\n11. The Recipient shall not advertise or otherwise make public the fact that it has a confidential relationship with UNHCR, nor shall the Recipient, in any manner whatsoever use the name, emblem, or official seal of the United Nations or UNHCR, or any abbreviation of the name of the United Nations or UNHCR in connection with its business or otherwise.\\n12. If any provision of this Agreement shall be held to be invalid, illegal or unenforceable, the validity, legality and enforceability of the remaining provisions shall not in any way be affected or impaired.\\n13. This Agreement constitutes the entire agreement concerning the subject matter hereof above and supersedes all prior representations, agreements and understandings, whether written or oral, by and between the Parties on the subject hereof.\\n14. The Parties acknowledge and agree that their representatives who have signed this Agreement had full authority to do so and to fully bind the Party being represented by doing so.\\nIN WITNESS WHEREOF, the Parties, acting through their authorized representatives, have caused this Agreement to be signed on the dates set forth below:\\nFor and on behalf of UNHCR: For and on behalf of the Bidder:\\n________________________ ________________________\\n Name: Name:\\nTitle: Title:\\n Date: Date:\\n\",\n",
       " 'spans': [[0, 44],\n",
       "  [45, 132],\n",
       "  [133, 331],\n",
       "  [332, 417],\n",
       "  [417, 486],\n",
       "  [486, 535],\n",
       "  [535, 581],\n",
       "  [582, 691],\n",
       "  [692, 700],\n",
       "  [701, 963],\n",
       "  [964, 1098],\n",
       "  [1099, 1107],\n",
       "  [1107, 1247],\n",
       "  [1248, 1293],\n",
       "  [1294, 1683],\n",
       "  [1684, 1878],\n",
       "  [1879, 1883],\n",
       "  [1883, 2120],\n",
       "  [2121, 2125],\n",
       "  [2125, 2228],\n",
       "  [2229, 2471],\n",
       "  [2472, 2478],\n",
       "  [2478, 2541],\n",
       "  [2542, 2980],\n",
       "  [2981, 3141],\n",
       "  [3142, 3225],\n",
       "  [3226, 3364],\n",
       "  [3365, 3369],\n",
       "  [3369, 3829],\n",
       "  [3830, 3834],\n",
       "  [3834, 3924],\n",
       "  [3924, 4124],\n",
       "  [4124, 4219],\n",
       "  [4219, 4263],\n",
       "  [4263, 4364],\n",
       "  [4365, 4369],\n",
       "  [4369, 4656],\n",
       "  [4657, 4833],\n",
       "  [4834, 5020],\n",
       "  [5021, 5179],\n",
       "  [5179, 5347],\n",
       "  [5347, 5398],\n",
       "  [5399, 5733],\n",
       "  [5734, 5875],\n",
       "  [5876, 5959],\n",
       "  [5959, 6301],\n",
       "  [6302, 6729],\n",
       "  [6729, 6802],\n",
       "  [6802, 6935],\n",
       "  [6935, 7096],\n",
       "  [7097, 7291],\n",
       "  [7292, 7645],\n",
       "  [7646, 7855],\n",
       "  [7856, 8098],\n",
       "  [8099, 8281],\n",
       "  [8282, 8433],\n",
       "  [8434, 8494],\n",
       "  [8495, 8520],\n",
       "  [8520, 8544],\n",
       "  [8545, 8546],\n",
       "  [8546, 8557],\n",
       "  [8558, 8571],\n",
       "  [8572, 8573],\n",
       "  [8573, 8579],\n",
       "  [8579, 8584]],\n",
       " 'annotation_sets': [{'annotations': {'nda-11': {'choice': 'NotMentioned',\n",
       "     'spans': []},\n",
       "    'nda-16': {'choice': 'Entailment', 'spans': [39, 40]},\n",
       "    'nda-15': {'choice': 'Entailment', 'spans': [38]},\n",
       "    'nda-10': {'choice': 'Entailment', 'spans': [51]},\n",
       "    'nda-2': {'choice': 'NotMentioned', 'spans': []},\n",
       "    'nda-1': {'choice': 'Entailment', 'spans': [14]},\n",
       "    'nda-19': {'choice': 'Entailment', 'spans': [45]},\n",
       "    'nda-12': {'choice': 'Entailment', 'spans': [30, 34]},\n",
       "    'nda-20': {'choice': 'NotMentioned', 'spans': []},\n",
       "    'nda-3': {'choice': 'Entailment', 'spans': [14]},\n",
       "    'nda-18': {'choice': 'NotMentioned', 'spans': []},\n",
       "    'nda-7': {'choice': 'Entailment', 'spans': [20, 23]},\n",
       "    'nda-17': {'choice': 'Entailment', 'spans': [36]},\n",
       "    'nda-8': {'choice': 'Entailment', 'spans': [28]},\n",
       "    'nda-13': {'choice': 'Entailment', 'spans': [30, 31]},\n",
       "    'nda-5': {'choice': 'Entailment', 'spans': [20, 23, 25]},\n",
       "    'nda-4': {'choice': 'Entailment', 'spans': [19]}}}],\n",
       " 'document_type': 'search-pdf',\n",
       " 'url': 'https://www.ungm.org/UNUser/Documents/DownloadPublicDocument?docId=287983'}"
      ]
     },
     "metadata": {},
     "output_type": "display_data"
    }
   ],
   "source": [
    "print('# contrat: ', len(cnli['documents']))\n",
    "display(cnli['documents'][0])"
   ]
  },
  {
   "cell_type": "code",
   "execution_count": 18,
   "metadata": {},
   "outputs": [
    {
     "name": "stdout",
     "output_type": "stream",
     "text": [
      ">>  NON-DISCLOSURE AND CONFIDENTIALITY AGREEMENT\n",
      ">>  This NON-DISCLOSURE AND CONFIDENTIALITY AGREEMENT (“Agreement”) is made by and between:\n",
      ">>  (i) the Office of the United Nations High Commissioner for Refugees, having its headquarters located at 94 rue de Montbrillant, 1202 Geneva, Switzerland (hereinafter “UNHCR” or the “Discloser”); and\n",
      ">>  (ii) ________________________ , a company established in accordance with the laws of \n",
      ">>  ________________________ and having its principal offices located at \n",
      ">>  ________________________________________________ \n",
      ">>  (hereinafter the “Bidder” or the “Recipient”).\n",
      ">>  The Discloser and Recipient are also referred to collectively as the “Parties” and individually as a “Party”.\n",
      ">>  RECITALS\n",
      ">>  WHEREAS in connection with RFP/2014/620, Request for Proposal for the provision Off-the-shelf Soft-skill, IT Online and HR specific E-learning Courses (the “RFP”), it is advantageous to share certain data and information with the Bidder participating in the RFP;\n",
      ">>  WHEREAS UNHCR agrees to provide such data and information to the Bidder for the sole purpose of preparing its Proposal under said RFP;\n",
      ">>  WHEREAS \n",
      ">>  the Bidder is willing to ensure that UNHCR’s data and information will be held in strict confidence and only used for the permitted purpose;\n",
      ">>  NOW, THEREFORE, the Parties agree as follows:\n",
      ">>  1. “Confidential Information”, whenever used in this Agreement, shall mean any data, document, specification and other information or material, that is delivered or disclosed by UNHCR to the Recipient in any form whatsoever, whether orally, visually in writing or otherwise (including computerized form), and that, at the time of disclosure to the Recipient, is designated as confidential.\n",
      ">>  2. The Confidential Information that is delivered or otherwise disclosed by the Discloser to the Recipient shall be held in trust and confidence by the Recipient and shall be handled as follows:\n",
      ">>  2.1 \n",
      ">>  The Recipient shall use the same care and discretion to avoid disclosure, publication or dissemination of the Confidential Information as it uses with its own similar information that it does not wish to disclose, publish or disseminate;\n",
      ">>  2.2 \n",
      ">>  The Recipient shall use the Confidential Information solely for the purpose for which it was disclosed;\n",
      ">>  2.3 Provided that the Recipient has a written agreement with the following persons or entities requiring them to treat the Confidential Information in accordance with this Agreement, the Recipient may disclose the Confidential Information to:\n",
      ">>  2.3.1 \n",
      ">>  Any other party with the Discloser’s prior written consent; and\n",
      ">>  2.3.2 the Recipient’s employees, officials, representatives and agents who have a strict need to know the contents of the Confidential Information, and employees, officials, representatives and agents of any legal entity that it controls, controls it, or with which it is under common control, who have a similar need to know the contents of the Confidential Information, provided that, for these purposes a controlled legal entity means:\n",
      ">>  2.3.2.1 a corporate entity in which the Party owns or otherwise controls, whether directly or indirectly, over fifty percent (50%) of voting shares thereof; or,\n",
      ">>  2.3.2.2 any entity over which the Party exercises effective managerial control; or,\n",
      ">>  2.3.2.3 for UNHCR, a principal or subsidiary organ of the United Nations established in accordance with the Charter of the United Nations.\n",
      ">>  2.4 \n",
      ">>  The Recipient may disclose the Confidential Information to the extent required by law, provided that, subject to and without any waiver of the privileges and immunities of UNHCR, the Recipient will give UNHCR sufficient prior notice of a request for the disclosure of the Confidential Information in order to allow UNHCR to have a reasonable opportunity to take protective measures or such other action as may be appropriate before any such disclosure is made.\n",
      ">>  2.5 \n",
      ">>  The Recipient shall not be precluded from disclosing the Confidential Information that is \n",
      ">>  (i) obtained by the Recipient without restriction from a third party who is not in breach of any obligation as to confidentiality to the owner of such Confidential Information or any other person, or \n",
      ">>  (ii) disclosed by the Discloser to a third party without any obligation of confidentiality, or \n",
      ">>  (iii) previously known by the Recipient, or \n",
      ">>  (iv) at any time is developed by the Recipient completely independently of any disclosures hereunder.\n",
      ">>  2.6 \n",
      ">>  The Recipient will not copy or reproduce the Confidential Information except as reasonably required for the purposes contemplated in this Agreement, and will ensure that any confidentiality or other proprietary rights notices on the Confidential Information are reproduced on all copies.\n",
      ">>  3. The Recipient acknowledges that UNHCR hereto makes no any representation or warranty, express or implied, as to the accuracy or completeness of the Confidential Information.\n",
      ">>  4. Nothing in this Agreement is to be construed as granting the Recipient, by implication or otherwise, any right whatsoever with respect to the Confidential Information or part thereof.\n",
      ">>  5. All Confidential Information in any form and any medium, including all copies thereof, disclosed to the Recipient shall be returned to UNHCR or destroyed: \n",
      ">>  (a) if a business relationship is not entered into with UNHCR on or before the date which is three (3) months after the date both Parties have signed the Agreement; or \n",
      ">>  (b) promptly upon request by the UNHCR at any time.\n",
      ">>  6. The Recipient agrees to indemnify UNHCR in respect of any expenses, losses, damages, costs, claims or liability UNHCR may suffer or incur as a result of an act or omission by the Recipient or its employees, consultants and agents in connection with the Confidential Information and the Recipient’s obligations under this Agreement.\n",
      ">>  7. Nothing in this Agreement shall be construed as obligating any Party to continue any discussions or to enter into a business relationship.\n",
      ">>  8. This Agreement shall enter into force on the date it is signed by both Parties. \n",
      ">>  Either Party may terminate the working relationship contemplated by this Agreement by providing written notice to the other, provided, however, that the obligations and restrictions hereunder regarding the Confidential Information shall remain effective following any such termination or any other termination or expiration of this Agreement.\n",
      ">>  9. Any dispute, controversy or claim between the Parties arising out of, this Agreement or the breach, termination or invalidity thereof, unless settled amicably within twenty (20) days after receipt by one Party of the other Party's request for such amicable settlement, shall be referred by either Party to arbitration in accordance with the UNCITRAL Arbitration Rules then obtaining, including provisions on applicable law. \n",
      ">>  The arbitral tribunal shall have no authority to award punitive damages. \n",
      ">>  In addition, unless otherwise expressly provided in this Agreement, the arbitral tribunal shall have no authority to award interest. \n",
      ">>  The Parties shall be bound by any arbitration award rendered as a result of such arbitration as the final adjudication of any such controversy, claim or dispute.\n",
      ">>  10. Nothing in or relating to this Agreement shall be deemed a waiver, express or implied, of any of the privileges and immunities of the United Nations, including UNHCR as its subsidiary organ.\n",
      ">>  11. The Recipient shall not advertise or otherwise make public the fact that it has a confidential relationship with UNHCR, nor shall the Recipient, in any manner whatsoever use the name, emblem, or official seal of the United Nations or UNHCR, or any abbreviation of the name of the United Nations or UNHCR in connection with its business or otherwise.\n",
      ">>  12. If any provision of this Agreement shall be held to be invalid, illegal or unenforceable, the validity, legality and enforceability of the remaining provisions shall not in any way be affected or impaired.\n",
      ">>  13. This Agreement constitutes the entire agreement concerning the subject matter hereof above and supersedes all prior representations, agreements and understandings, whether written or oral, by and between the Parties on the subject hereof.\n",
      ">>  14. The Parties acknowledge and agree that their representatives who have signed this Agreement had full authority to do so and to fully bind the Party being represented by doing so.\n",
      ">>  IN WITNESS WHEREOF, the Parties, acting through their authorized representatives, have caused this Agreement to be signed on the dates set forth below:\n",
      ">>  For and on behalf of UNHCR: For and on behalf of the Bidder:\n",
      ">>  ________________________ \n",
      ">>  ________________________\n",
      ">>   \n",
      ">>  Name: Name:\n",
      ">>  Title: Title:\n",
      ">>   \n",
      ">>  Date: \n",
      ">>  Date:\n"
     ]
    }
   ],
   "source": [
    "for span_s, span_e in cnli['documents'][0]['spans']:\n",
    "    print('>> ', cnli['documents'][0]['text'][span_s: span_e])"
   ]
  },
  {
   "cell_type": "code",
   "execution_count": null,
   "metadata": {},
   "outputs": [],
   "source": []
  }
 ],
 "metadata": {
  "kernelspec": {
   "display_name": "Python 3 (ipykernel)",
   "language": "python",
   "name": "python3"
  },
  "language_info": {
   "codemirror_mode": {
    "name": "ipython",
    "version": 3
   },
   "file_extension": ".py",
   "mimetype": "text/x-python",
   "name": "python",
   "nbconvert_exporter": "python",
   "pygments_lexer": "ipython3",
   "version": "3.8.5"
  }
 },
 "nbformat": 4,
 "nbformat_minor": 4
}
