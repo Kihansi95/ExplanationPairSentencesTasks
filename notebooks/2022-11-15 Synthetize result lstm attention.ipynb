{
 "cells": [
  {
   "cell_type": "markdown",
   "id": "2a5e8bda-53da-4eff-b96a-c3a610adca66",
   "metadata": {},
   "source": [
    "# Synthetise result from lstm attention"
   ]
  },
  {
   "cell_type": "code",
   "execution_count": 1,
   "id": "65d04856-9a2c-4969-9256-f565f2a6b386",
   "metadata": {},
   "outputs": [],
   "source": [
    "%load_ext autoreload\n",
    "%autoreload 2\n",
    "\n",
    "from IPython.display import display, HTML\n",
    "import sys\n",
    "import os\n",
    "from os import path\n",
    "\n",
    "sys.path.append(\"./../src\")\n",
    "tmp_path = path.join('.cache', '2022-11-15')\n",
    "os.makedirs(tmp_path,exist_ok=True)"
   ]
  },
  {
   "cell_type": "code",
   "execution_count": 96,
   "id": "8e3766fc-51e8-49b7-9425-794b9a90f1c2",
   "metadata": {},
   "outputs": [],
   "source": [
    "import pandas as pd\n",
    "\n",
    "semi_supervision = pd.read_csv('/Users/dunguyen/Projects/IGRIDA/historic/2022-08-16/semi_supervision.csv')"
   ]
  },
  {
   "cell_type": "code",
   "execution_count": 17,
   "id": "66568aff-3e47-448b-b4ed-1cb6d0e86961",
   "metadata": {},
   "outputs": [
    {
     "data": {
      "image/png": "[encoded data removed]",
      "text/plain": [
       "<Figure size 432x288 with 1 Axes>"
      ]
     },
     "metadata": {
      "needs_background": "light"
     },
     "output_type": "display_data"
    }
   ],
   "source": [
    "import matplotlib.pyplot as plt\n",
    "import seaborn as sns\n",
    "\n",
    "sns.pointplot(data=semi_supervision, x=\"lamb\", y='hp/accuracy', errwidth=2, capsize=0.1, dodge=True, linestyles='-')\n",
    "plt.show()"
   ]
  },
  {
   "cell_type": "code",
   "execution_count": 97,
   "id": "8d45a657-8c35-4bfc-8e93-e362d0bb04dd",
   "metadata": {},
   "outputs": [
    {
     "data": {
      "text/html": [
       "<div>\n",
       "<style scoped>\n",
       "    .dataframe tbody tr th:only-of-type {\n",
       "        vertical-align: middle;\n",
       "    }\n",
       "\n",
       "    .dataframe tbody tr th {\n",
       "        vertical-align: top;\n",
       "    }\n",
       "\n",
       "    .dataframe thead th {\n",
       "        text-align: right;\n",
       "    }\n",
       "</style>\n",
       "<table border=\"1\" class=\"dataframe\">\n",
       "  <thead>\n",
       "    <tr style=\"text-align: right;\">\n",
       "      <th></th>\n",
       "      <th>lamb</th>\n",
       "      <th>hp/accuracy</th>\n",
       "      <th>hp/f1</th>\n",
       "      <th>hp/attention_auc_roc</th>\n",
       "      <th>hp/attention_jaccard</th>\n",
       "      <th>hp/attention_recall</th>\n",
       "      <th>hp/attention_specificity</th>\n",
       "      <th>hp/reg_term</th>\n",
       "    </tr>\n",
       "  </thead>\n",
       "  <tbody>\n",
       "    <tr>\n",
       "      <th>0</th>\n",
       "      <td>0.00</td>\n",
       "      <td>0.798555</td>\n",
       "      <td>0.798555</td>\n",
       "      <td>0.722778</td>\n",
       "      <td>0.519379</td>\n",
       "      <td>0.390818</td>\n",
       "      <td>0.890443</td>\n",
       "      <td>0.776506</td>\n",
       "    </tr>\n",
       "    <tr>\n",
       "      <th>1</th>\n",
       "      <td>0.01</td>\n",
       "      <td>0.797028</td>\n",
       "      <td>0.797028</td>\n",
       "      <td>0.729404</td>\n",
       "      <td>0.516960</td>\n",
       "      <td>0.392086</td>\n",
       "      <td>0.886522</td>\n",
       "      <td>0.747101</td>\n",
       "    </tr>\n",
       "    <tr>\n",
       "      <th>2</th>\n",
       "      <td>0.06</td>\n",
       "      <td>0.796213</td>\n",
       "      <td>0.796213</td>\n",
       "      <td>0.771108</td>\n",
       "      <td>0.528595</td>\n",
       "      <td>0.408464</td>\n",
       "      <td>0.891673</td>\n",
       "      <td>0.694515</td>\n",
       "    </tr>\n",
       "    <tr>\n",
       "      <th>3</th>\n",
       "      <td>0.10</td>\n",
       "      <td>0.800489</td>\n",
       "      <td>0.800489</td>\n",
       "      <td>0.778320</td>\n",
       "      <td>0.532514</td>\n",
       "      <td>0.403571</td>\n",
       "      <td>0.899493</td>\n",
       "      <td>0.666742</td>\n",
       "    </tr>\n",
       "    <tr>\n",
       "      <th>4</th>\n",
       "      <td>0.20</td>\n",
       "      <td>0.797740</td>\n",
       "      <td>0.797740</td>\n",
       "      <td>0.783613</td>\n",
       "      <td>0.537189</td>\n",
       "      <td>0.397391</td>\n",
       "      <td>0.908938</td>\n",
       "      <td>0.648310</td>\n",
       "    </tr>\n",
       "  </tbody>\n",
       "</table>\n",
       "</div>"
      ],
      "text/plain": [
       "   lamb  hp/accuracy     hp/f1  hp/attention_auc_roc  hp/attention_jaccard  \\\n",
       "0  0.00     0.798555  0.798555              0.722778              0.519379   \n",
       "1  0.01     0.797028  0.797028              0.729404              0.516960   \n",
       "2  0.06     0.796213  0.796213              0.771108              0.528595   \n",
       "3  0.10     0.800489  0.800489              0.778320              0.532514   \n",
       "4  0.20     0.797740  0.797740              0.783613              0.537189   \n",
       "\n",
       "   hp/attention_recall  hp/attention_specificity  hp/reg_term  \n",
       "0             0.390818                  0.890443     0.776506  \n",
       "1             0.392086                  0.886522     0.747101  \n",
       "2             0.408464                  0.891673     0.694515  \n",
       "3             0.403571                  0.899493     0.666742  \n",
       "4             0.397391                  0.908938     0.648310  "
      ]
     },
     "execution_count": 97,
     "metadata": {},
     "output_type": "execute_result"
    }
   ],
   "source": [
    "supervision.head()"
   ]
  },
  {
   "cell_type": "code",
   "execution_count": 106,
   "id": "f6b630bb-76d5-48d6-adcb-350fc7eef5bd",
   "metadata": {},
   "outputs": [
    {
     "data": {
      "image/png": "[encoded data removed]",
      "text/plain": [
       "<Figure size 432x288 with 1 Axes>"
      ]
     },
     "metadata": {
      "needs_background": "light"
     },
     "output_type": "display_data"
    }
   ],
   "source": [
    "g = sns.scatterplot(data=semi_supervision, x=\"lamb\", y='hp/attention_recall')\n",
    "g.set(ylim=(0.28, 0.48))\n",
    "plt.title('Semi-supervision')\n",
    "plt.ylabel('Plausibilité (Rappel)')\n",
    "plt.xlabel('$\\lambda$')\n",
    "plt.savefig(path.join(tmp_path, 'semisupervision_recall.png'))"
   ]
  },
  {
   "cell_type": "code",
   "execution_count": 105,
   "id": "646e812a-ddb9-44ea-b8e0-3ffe536303d0",
   "metadata": {},
   "outputs": [
    {
     "data": {
      "image/png": "[encoded data removed]",
      "text/plain": [
       "<Figure size 432x288 with 1 Axes>"
      ]
     },
     "metadata": {
      "needs_background": "light"
     },
     "output_type": "display_data"
    }
   ],
   "source": [
    "supervision = pd.read_csv('/Users/dunguyen/Projects/IGRIDA/historic/2022-08-16/supervision.csv')\n",
    "g = sns.scatterplot(data=supervision, x=\"lamb\", y='hp/attention_recall')\n",
    "g.set(ylim=(0.28, 0.48))\n",
    "plt.title('Supervision')\n",
    "plt.ylabel('Plausibilité (Rappel)')\n",
    "plt.xlabel('$\\lambda$')\n",
    "plt.savefig(path.join(tmp_path, 'supervision_recall.png'))"
   ]
  },
  {
   "cell_type": "code",
   "execution_count": 88,
   "id": "c38481ee-8add-4c78-a05c-3d5b362cc498",
   "metadata": {},
   "outputs": [
    {
     "data": {
      "text/html": [
       "<div>\n",
       "<style scoped>\n",
       "    .dataframe tbody tr th:only-of-type {\n",
       "        vertical-align: middle;\n",
       "    }\n",
       "\n",
       "    .dataframe tbody tr th {\n",
       "        vertical-align: top;\n",
       "    }\n",
       "\n",
       "    .dataframe thead th {\n",
       "        text-align: right;\n",
       "    }\n",
       "</style>\n",
       "<table border=\"1\" class=\"dataframe\">\n",
       "  <thead>\n",
       "    <tr style=\"text-align: right;\">\n",
       "      <th></th>\n",
       "      <th>lamb</th>\n",
       "      <th>hp/accuracy</th>\n",
       "      <th>hp/f1</th>\n",
       "      <th>hp/attention_auc_roc</th>\n",
       "      <th>hp/attention_jaccard</th>\n",
       "      <th>hp/attention_recall</th>\n",
       "    </tr>\n",
       "  </thead>\n",
       "  <tbody>\n",
       "    <tr>\n",
       "      <th>0</th>\n",
       "      <td>0.000</td>\n",
       "      <td>0.796417</td>\n",
       "      <td>0.796417</td>\n",
       "      <td>0.721422</td>\n",
       "      <td>0.514255</td>\n",
       "      <td>0.388206</td>\n",
       "    </tr>\n",
       "    <tr>\n",
       "      <th>1</th>\n",
       "      <td>0.005</td>\n",
       "      <td>0.788986</td>\n",
       "      <td>0.788986</td>\n",
       "      <td>0.743282</td>\n",
       "      <td>0.522445</td>\n",
       "      <td>0.448105</td>\n",
       "    </tr>\n",
       "    <tr>\n",
       "      <th>2</th>\n",
       "      <td>0.010</td>\n",
       "      <td>0.798046</td>\n",
       "      <td>0.798046</td>\n",
       "      <td>0.742321</td>\n",
       "      <td>0.520490</td>\n",
       "      <td>0.470859</td>\n",
       "    </tr>\n",
       "    <tr>\n",
       "      <th>3</th>\n",
       "      <td>0.020</td>\n",
       "      <td>0.794585</td>\n",
       "      <td>0.794585</td>\n",
       "      <td>0.733869</td>\n",
       "      <td>0.513143</td>\n",
       "      <td>0.466456</td>\n",
       "    </tr>\n",
       "    <tr>\n",
       "      <th>4</th>\n",
       "      <td>0.030</td>\n",
       "      <td>0.788375</td>\n",
       "      <td>0.788375</td>\n",
       "      <td>0.726778</td>\n",
       "      <td>0.508062</td>\n",
       "      <td>0.454439</td>\n",
       "    </tr>\n",
       "  </tbody>\n",
       "</table>\n",
       "</div>"
      ],
      "text/plain": [
       "    lamb  hp/accuracy     hp/f1  hp/attention_auc_roc  hp/attention_jaccard  \\\n",
       "0  0.000     0.796417  0.796417              0.721422              0.514255   \n",
       "1  0.005     0.788986  0.788986              0.743282              0.522445   \n",
       "2  0.010     0.798046  0.798046              0.742321              0.520490   \n",
       "3  0.020     0.794585  0.794585              0.733869              0.513143   \n",
       "4  0.030     0.788375  0.788375              0.726778              0.508062   \n",
       "\n",
       "   hp/attention_recall  \n",
       "0             0.388206  \n",
       "1             0.448105  \n",
       "2             0.470859  \n",
       "3             0.466456  \n",
       "4             0.454439  "
      ]
     },
     "execution_count": 88,
     "metadata": {},
     "output_type": "execute_result"
    }
   ],
   "source": [
    "regularization.head()"
   ]
  },
  {
   "cell_type": "code",
   "execution_count": 107,
   "id": "c4b604e7-21ab-4cf1-9116-990fee44ad20",
   "metadata": {},
   "outputs": [
    {
     "data": {
      "image/png": "[encoded data removed]",
      "text/plain": [
       "<Figure size 432x288 with 1 Axes>"
      ]
     },
     "metadata": {
      "needs_background": "light"
     },
     "output_type": "display_data"
    }
   ],
   "source": [
    "regularization = pd.read_csv('/Users/dunguyen/Projects/IGRIDA/historic/2022-08-16/regularization_heuristic.csv')\n",
    "regularization = regularization[regularization['hp/f1']> 0]\n",
    "g = sns.scatterplot(data=regularization, x=\"lamb\", y='hp/attention_recall')\n",
    "g.set(ylim=(0.28, 0.48))\n",
    "plt.title('Regularization')\n",
    "plt.ylabel('Plausibilité (Rappel)')\n",
    "plt.xlabel('$\\lambda$')\n",
    "plt.savefig(path.join(tmp_path, 'regularization_recall.png'))"
   ]
  },
  {
   "cell_type": "code",
   "execution_count": null,
   "id": "22d2925e-04fd-4f9f-ade4-2be9f926e22d",
   "metadata": {},
   "outputs": [],
   "source": []
  }
 ],
 "metadata": {
  "kernelspec": {
   "display_name": "Python 3 (ipykernel)",
   "language": "python",
   "name": "python3"
  },
  "language_info": {
   "codemirror_mode": {
    "name": "ipython",
    "version": 3
   },
   "file_extension": ".py",
   "mimetype": "text/x-python",
   "name": "python",
   "nbconvert_exporter": "python",
   "pygments_lexer": "ipython3",
   "version": "3.8.5"
  }
 },
 "nbformat": 4,
 "nbformat_minor": 5
}
