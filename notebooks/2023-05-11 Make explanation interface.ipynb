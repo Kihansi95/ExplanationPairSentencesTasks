{
 "cells": [
  {
   "cell_type": "markdown",
   "id": "e9e9b893-2a09-42f9-9f7a-3ab087df503e",
   "metadata": {},
   "source": [
    "# Création d'interface d'explication"
   ]
  },
  {
   "cell_type": "code",
   "execution_count": 10,
   "id": "e6e51d63-70c0-4e12-a29d-8a875ff60315",
   "metadata": {},
   "outputs": [
    {
     "name": "stdout",
     "output_type": "stream",
     "text": [
      "The autoreload extension is already loaded. To reload it, use:\n",
      "  %reload_ext autoreload\n"
     ]
    }
   ],
   "source": [
    "%load_ext autoreload\n",
    "%autoreload 2\n",
    "\n",
    "from IPython.display import display, HTML\n",
    "import sys\n",
    "import os\n",
    "from os import path\n",
    "\n",
    "sys.path.append(\"./../src\")\n",
    "sys.path.append(\"./../../archi-utils\")"
   ]
  },
  {
   "cell_type": "code",
   "execution_count": 11,
   "id": "38a5d927-8823-4002-8ba5-be621ebc38bb",
   "metadata": {},
   "outputs": [],
   "source": [
    "link_similarity = {\n",
    "    \"referenceArticle\" : \"autog_0005-0970_1966_num_1_1_892\",\n",
    "    \"referencePage\":\"FMSH_PB188a_00001_096\",\n",
    "    \"referenceBlocks[]\":\"block_6\"\n",
    "}"
   ]
  },
  {
   "cell_type": "code",
   "execution_count": 13,
   "id": "ec44c5ba-58c7-4f57-9503-4329177d076c",
   "metadata": {},
   "outputs": [
    {
     "ename": "ModuleNotFoundError",
     "evalue": "No module named 'archi_utils.inference_utils'",
     "output_type": "error",
     "traceback": [
      "\u001b[0;31m---------------------------------------------------------------------------\u001b[0m",
      "\u001b[0;31mModuleNotFoundError\u001b[0m                       Traceback (most recent call last)",
      "Input \u001b[0;32mIn [13]\u001b[0m, in \u001b[0;36m<cell line: 1>\u001b[0;34m()\u001b[0m\n\u001b[0;32m----> 1\u001b[0m \u001b[38;5;28;01mfrom\u001b[39;00m \u001b[38;5;21;01marchi_utils\u001b[39;00m\u001b[38;5;21;01m.\u001b[39;00m\u001b[38;5;21;01minference_utils\u001b[39;00m\u001b[38;5;21;01m.\u001b[39;00m\u001b[38;5;21;01minfer\u001b[39;00m \u001b[38;5;28;01mimport\u001b[39;00m InferenceArchivalMongoClient\n\u001b[1;32m      3\u001b[0m c \u001b[38;5;241m=\u001b[39m InferenceArchivalMongoClient(url\u001b[38;5;241m=\u001b[39m\u001b[38;5;124m'\u001b[39m\u001b[38;5;124mmongodb://193.51.124.73:27017/\u001b[39m\u001b[38;5;124m'\u001b[39m, username\u001b[38;5;241m=\u001b[39m\u001b[38;5;124m'\u001b[39m\u001b[38;5;124mcollectionreader\u001b[39m\u001b[38;5;124m'\u001b[39m, password\u001b[38;5;241m=\u001b[39m\u001b[38;5;124m'\u001b[39m\u001b[38;5;124mxR5c(-EXuicqOyVLg.y@\u001b[39m\u001b[38;5;124m'\u001b[39m)\n",
      "\u001b[0;31mModuleNotFoundError\u001b[0m: No module named 'archi_utils.inference_utils'"
     ]
    }
   ],
   "source": [
    "from archi_utils.inference_utils.infer import InferenceArchivalMongoClient\n",
    "\n",
    "c = InferenceArchivalMongoClient(url='mongodb://193.51.124.73:27017/', username='collectionreader', password='xR5c(-EXuicqOyVLg.y@')"
   ]
  },
  {
   "cell_type": "code",
   "execution_count": 6,
   "id": "c0011361-8929-4988-970a-a36fecd45aa9",
   "metadata": {},
   "outputs": [
    {
     "ename": "NameError",
     "evalue": "name 'c' is not defined",
     "output_type": "error",
     "traceback": [
      "\u001b[0;31m---------------------------------------------------------------------------\u001b[0m",
      "\u001b[0;31mNameError\u001b[0m                                 Traceback (most recent call last)",
      "Input \u001b[0;32mIn [6]\u001b[0m, in \u001b[0;36m<cell line: 1>\u001b[0;34m()\u001b[0m\n\u001b[0;32m----> 1\u001b[0m \u001b[43mc\u001b[49m\u001b[38;5;241m.\u001b[39msimilarity_collection\u001b[38;5;241m.\u001b[39mfind({})\n",
      "\u001b[0;31mNameError\u001b[0m: name 'c' is not defined"
     ]
    }
   ],
   "source": [
    "c.similarity_collection.find({})"
   ]
  },
  {
   "cell_type": "code",
   "execution_count": null,
   "id": "ab05ff28-2d28-4599-83c3-7a02debd4c99",
   "metadata": {},
   "outputs": [],
   "source": []
  }
 ],
 "metadata": {
  "kernelspec": {
   "display_name": "Python 3 (ipykernel)",
   "language": "python",
   "name": "python3"
  },
  "language_info": {
   "codemirror_mode": {
    "name": "ipython",
    "version": 3
   },
   "file_extension": ".py",
   "mimetype": "text/x-python",
   "name": "python",
   "nbconvert_exporter": "python",
   "pygments_lexer": "ipython3",
   "version": "3.8.5"
  }
 },
 "nbformat": 4,
 "nbformat_minor": 5
}
