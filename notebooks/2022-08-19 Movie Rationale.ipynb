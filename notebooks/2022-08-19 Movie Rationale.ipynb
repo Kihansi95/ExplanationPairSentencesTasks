{
 "cells": [
  {
   "cell_type": "markdown",
   "id": "eacfc772-b9d7-44fb-9556-1404098b7eae",
   "metadata": {},
   "source": [
    "# Movie Rationale\n",
    "\n",
    "Paper: https://aclanthology.org/N07-1033/\n",
    "Dataset: https://huggingface.co/datasets/movie_rationales"
   ]
  },
  {
   "cell_type": "code",
   "execution_count": 1,
   "id": "4bde57c4-9fb0-4284-bfa8-80258a16735d",
   "metadata": {},
   "outputs": [],
   "source": [
    "%load_ext autoreload\n",
    "%autoreload 2\n",
    "\n",
    "from IPython.display import display, HTML\n",
    "import os\n",
    "from os import path\n",
    "\n",
    "import sys\n",
    "sys.path.append(\"./../src\")\n",
    "\n",
    "cache_path = path.join(os.getcwd(), '..', '.cache')\n",
    "dataset_path = path.join(cache_path, 'dataset')\n",
    "tmp_path = path.join('.cache', '2022-08-19')\n",
    "os.makedirs(tmp_path,exist_ok=True)"
   ]
  },
  {
   "cell_type": "code",
   "execution_count": 11,
   "id": "b29dfa75-54b1-4792-80cd-de4c18bea941",
   "metadata": {},
   "outputs": [
    {
     "data": {
      "text/html": [
       "<div>\n",
       "<style scoped>\n",
       "    .dataframe tbody tr th:only-of-type {\n",
       "        vertical-align: middle;\n",
       "    }\n",
       "\n",
       "    .dataframe tbody tr th {\n",
       "        vertical-align: top;\n",
       "    }\n",
       "\n",
       "    .dataframe thead th {\n",
       "        text-align: right;\n",
       "    }\n",
       "</style>\n",
       "<table border=\"1\" class=\"dataframe\">\n",
       "  <thead>\n",
       "    <tr style=\"text-align: right;\">\n",
       "      <th></th>\n",
       "      <th>label</th>\n",
       "    </tr>\n",
       "  </thead>\n",
       "  <tbody>\n",
       "    <tr>\n",
       "      <th>count</th>\n",
       "      <td>1600.000000</td>\n",
       "    </tr>\n",
       "    <tr>\n",
       "      <th>mean</th>\n",
       "      <td>0.500000</td>\n",
       "    </tr>\n",
       "    <tr>\n",
       "      <th>std</th>\n",
       "      <td>0.500156</td>\n",
       "    </tr>\n",
       "    <tr>\n",
       "      <th>min</th>\n",
       "      <td>0.000000</td>\n",
       "    </tr>\n",
       "    <tr>\n",
       "      <th>25%</th>\n",
       "      <td>0.000000</td>\n",
       "    </tr>\n",
       "    <tr>\n",
       "      <th>50%</th>\n",
       "      <td>0.500000</td>\n",
       "    </tr>\n",
       "    <tr>\n",
       "      <th>75%</th>\n",
       "      <td>1.000000</td>\n",
       "    </tr>\n",
       "    <tr>\n",
       "      <th>max</th>\n",
       "      <td>1.000000</td>\n",
       "    </tr>\n",
       "  </tbody>\n",
       "</table>\n",
       "</div>"
      ],
      "text/plain": [
       "             label\n",
       "count  1600.000000\n",
       "mean      0.500000\n",
       "std       0.500156\n",
       "min       0.000000\n",
       "25%       0.000000\n",
       "50%       0.500000\n",
       "75%       1.000000\n",
       "max       1.000000"
      ]
     },
     "metadata": {},
     "output_type": "display_data"
    },
    {
     "data": {
      "text/html": [
       "<div>\n",
       "<style scoped>\n",
       "    .dataframe tbody tr th:only-of-type {\n",
       "        vertical-align: middle;\n",
       "    }\n",
       "\n",
       "    .dataframe tbody tr th {\n",
       "        vertical-align: top;\n",
       "    }\n",
       "\n",
       "    .dataframe thead th {\n",
       "        text-align: right;\n",
       "    }\n",
       "</style>\n",
       "<table border=\"1\" class=\"dataframe\">\n",
       "  <thead>\n",
       "    <tr style=\"text-align: right;\">\n",
       "      <th></th>\n",
       "      <th>review</th>\n",
       "      <th>label</th>\n",
       "      <th>evidences</th>\n",
       "    </tr>\n",
       "  </thead>\n",
       "  <tbody>\n",
       "    <tr>\n",
       "      <th>0</th>\n",
       "      <td>plot : two teen couples go to a church party ,...</td>\n",
       "      <td>0</td>\n",
       "      <td>[mind - fuck movie, the sad part is, downshift...</td>\n",
       "    </tr>\n",
       "    <tr>\n",
       "      <th>1</th>\n",
       "      <td>the happy bastard 's quick movie review damn\\n...</td>\n",
       "      <td>0</td>\n",
       "      <td>[it 's pretty much a sunken ship, sutherland i...</td>\n",
       "    </tr>\n",
       "    <tr>\n",
       "      <th>2</th>\n",
       "      <td>it is movies like these that make a jaded movi...</td>\n",
       "      <td>0</td>\n",
       "      <td>[the characters and acting is nothing spectacu...</td>\n",
       "    </tr>\n",
       "    <tr>\n",
       "      <th>3</th>\n",
       "      <td>\" quest for camelot \" is warner bros . '\\nfirs...</td>\n",
       "      <td>0</td>\n",
       "      <td>[dead on arrival, the characters stink, subpar...</td>\n",
       "    </tr>\n",
       "    <tr>\n",
       "      <th>4</th>\n",
       "      <td>synopsis : a mentally unstable man undergoing ...</td>\n",
       "      <td>0</td>\n",
       "      <td>[it is highly derivative and somewhat boring, ...</td>\n",
       "    </tr>\n",
       "  </tbody>\n",
       "</table>\n",
       "</div>"
      ],
      "text/plain": [
       "                                              review  label  \\\n",
       "0  plot : two teen couples go to a church party ,...      0   \n",
       "1  the happy bastard 's quick movie review damn\\n...      0   \n",
       "2  it is movies like these that make a jaded movi...      0   \n",
       "3  \" quest for camelot \" is warner bros . '\\nfirs...      0   \n",
       "4  synopsis : a mentally unstable man undergoing ...      0   \n",
       "\n",
       "                                           evidences  \n",
       "0  [mind - fuck movie, the sad part is, downshift...  \n",
       "1  [it 's pretty much a sunken ship, sutherland i...  \n",
       "2  [the characters and acting is nothing spectacu...  \n",
       "3  [dead on arrival, the characters stink, subpar...  \n",
       "4  [it is highly derivative and somewhat boring, ...  "
      ]
     },
     "metadata": {},
     "output_type": "display_data"
    }
   ],
   "source": [
    "from datasets import load_dataset\n",
    "import pandas as pd\n",
    "\n",
    "if path.exists('movie_rationales.parquet'):\n",
    "    df_train = pd.read_parquet('movie_rationales.parquet')\n",
    "else:\n",
    "    dataset = load_dataset(\"movie_rationales\", cache_dir=path.join(cache_path, 'dataset'))\n",
    "    df_train = dataset['train'].to_pandas()\n",
    "    df_train.to_parquet('movie_rationales.parquet')\n",
    "    \n",
    "display(df_train.describe())\n",
    "display(df_train.head())"
   ]
  },
  {
   "cell_type": "code",
   "execution_count": 12,
   "id": "0dc7901a-6b7d-4df2-ac72-a13ee35ddd1d",
   "metadata": {},
   "outputs": [
    {
     "data": {
      "text/plain": [
       "0       [mind - fuck movie, the sad part is, downshift...\n",
       "1       [it 's pretty much a sunken ship, sutherland i...\n",
       "2       [the characters and acting is nothing spectacu...\n",
       "3       [dead on arrival, the characters stink, subpar...\n",
       "4       [it is highly derivative and somewhat boring, ...\n",
       "                              ...                        \n",
       "1595    [emerging as the definite face of independent ...\n",
       "1596    [a visual and aural treat , backed up with a g...\n",
       "1597    [this movie is so infectious . and funny ! and...\n",
       "1598                   [powerfully done, an eye - opener]\n",
       "1599    [a thoughtful human story, hands down , the mo...\n",
       "Name: evidences, Length: 1600, dtype: object"
      ]
     },
     "execution_count": 12,
     "metadata": {},
     "output_type": "execute_result"
    }
   ],
   "source": [
    "df_train['evidences']"
   ]
  },
  {
   "cell_type": "code",
   "execution_count": 13,
   "id": "baed90e6-e690-4705-bd7b-be7608e8bbeb",
   "metadata": {},
   "outputs": [],
   "source": [
    "review = df_train.review[0]\n",
    "evidences = df_train.evidences[0]"
   ]
  },
  {
   "cell_type": "code",
   "execution_count": 15,
   "id": "3ea933f6-c8ba-413c-93b6-660737fc573f",
   "metadata": {},
   "outputs": [
    {
     "data": {
      "text/plain": [
       "273"
      ]
     },
     "execution_count": 15,
     "metadata": {},
     "output_type": "execute_result"
    }
   ],
   "source": [
    "review.find(evidences[0])"
   ]
  },
  {
   "cell_type": "code",
   "execution_count": 20,
   "id": "a3e9e94a-b661-4c19-8a5e-8273e269a74f",
   "metadata": {},
   "outputs": [
    {
     "data": {
      "text/plain": [
       "17"
      ]
     },
     "execution_count": 20,
     "metadata": {},
     "output_type": "execute_result"
    }
   ],
   "source": [
    "len(evidences[0])"
   ]
  },
  {
   "cell_type": "code",
   "execution_count": 21,
   "id": "30f0fead-02c4-4f19-8510-c4f2393d69f4",
   "metadata": {},
   "outputs": [
    {
     "data": {
      "text/plain": [
       "'mind - fuck movie'"
      ]
     },
     "execution_count": 21,
     "metadata": {},
     "output_type": "execute_result"
    }
   ],
   "source": [
    "review[273:273+17]"
   ]
  },
  {
   "cell_type": "code",
   "execution_count": 22,
   "id": "7f54e50a-fe7a-4660-ba5a-9ec35b10826c",
   "metadata": {},
   "outputs": [
    {
     "data": {
      "text/plain": [
       "'mind - fuck movie'"
      ]
     },
     "execution_count": 22,
     "metadata": {},
     "output_type": "execute_result"
    }
   ],
   "source": [
    "evidences[0]"
   ]
  },
  {
   "cell_type": "code",
   "execution_count": 23,
   "id": "32208521-d8fa-4cb1-a56c-2de18d326be3",
   "metadata": {},
   "outputs": [],
   "source": [
    "import spacy\n",
    "sm = spacy.load('en_core_web_sm')"
   ]
  },
  {
   "cell_type": "code",
   "execution_count": 26,
   "id": "5d1f10a7-531f-40d3-a682-13bf22d4ff02",
   "metadata": {},
   "outputs": [],
   "source": [
    "tokens = list(sm(review))"
   ]
  },
  {
   "cell_type": "code",
   "execution_count": 29,
   "id": "d28d17a2-ead5-42e6-9ea2-884d20fb92fe",
   "metadata": {},
   "outputs": [
    {
     "name": "stdout",
     "output_type": "stream",
     "text": [
      "plot 0\n",
      ": 5\n",
      "two 7\n",
      "teen 11\n",
      "couples 16\n"
     ]
    }
   ],
   "source": [
    "for tk in tokens[:5]:\n",
    "    print(tk.text, tk.idx)"
   ]
  },
  {
   "cell_type": "code",
   "execution_count": 38,
   "id": "90064369-5f7d-40c2-a8fc-98afb8b9d404",
   "metadata": {},
   "outputs": [],
   "source": [
    "df_train = df_train[:5]"
   ]
  },
  {
   "cell_type": "code",
   "execution_count": 39,
   "id": "7814be30-24ad-4fc5-8f3e-2ebc59695ab1",
   "metadata": {},
   "outputs": [],
   "source": [
    "docs = list(sm.pipe(df_train['review']))"
   ]
  },
  {
   "cell_type": "code",
   "execution_count": 40,
   "id": "8a3786cc-1e9d-4bd8-8921-e98e7948757b",
   "metadata": {},
   "outputs": [
    {
     "name": "stderr",
     "output_type": "stream",
     "text": [
      "/var/folders/wt/74qzbgts2pjdbwt397c_q5dr00m9p0/T/ipykernel_10803/1679546769.py:1: SettingWithCopyWarning: \n",
      "A value is trying to be set on a copy of a slice from a DataFrame.\n",
      "Try using .loc[row_indexer,col_indexer] = value instead\n",
      "\n",
      "See the caveats in the documentation: https://pandas.pydata.org/pandas-docs/stable/user_guide/indexing.html#returning-a-view-versus-a-copy\n",
      "  df_train['tokens'] = docs\n"
     ]
    }
   ],
   "source": [
    "df_train['tokens'] = docs"
   ]
  },
  {
   "cell_type": "code",
   "execution_count": 48,
   "id": "5ab1ed10-afd8-4982-b85a-2beabb16aa7f",
   "metadata": {},
   "outputs": [
    {
     "ename": "ValueError",
     "evalue": "Must have equal len keys and value when setting with an iterable",
     "output_type": "error",
     "traceback": [
      "\u001b[0;31m---------------------------------------------------------------------------\u001b[0m",
      "\u001b[0;31mValueError\u001b[0m                                Traceback (most recent call last)",
      "Input \u001b[0;32mIn [48]\u001b[0m, in \u001b[0;36m<cell line: 1>\u001b[0;34m()\u001b[0m\n\u001b[1;32m      1\u001b[0m \u001b[38;5;28;01mfor\u001b[39;00m i \u001b[38;5;129;01min\u001b[39;00m \u001b[38;5;28mrange\u001b[39m(\u001b[38;5;28mlen\u001b[39m(docs)):\n\u001b[0;32m----> 2\u001b[0m     df_train\u001b[38;5;241m.\u001b[39mloc[i, \u001b[38;5;124m'\u001b[39m\u001b[38;5;124mtokens\u001b[39m\u001b[38;5;124m'\u001b[39m] \u001b[38;5;241m=\u001b[39m [tk\u001b[38;5;241m.\u001b[39mtext \u001b[38;5;28;01mfor\u001b[39;00m tk \u001b[38;5;129;01min\u001b[39;00m docs[i]]\n",
      "File \u001b[0;32m~/venv/eps/lib/python3.8/site-packages/pandas/core/indexing.py:716\u001b[0m, in \u001b[0;36m_LocationIndexer.__setitem__\u001b[0;34m(self, key, value)\u001b[0m\n\u001b[1;32m    713\u001b[0m \u001b[38;5;28mself\u001b[39m\u001b[38;5;241m.\u001b[39m_has_valid_setitem_indexer(key)\n\u001b[1;32m    715\u001b[0m iloc \u001b[38;5;241m=\u001b[39m \u001b[38;5;28mself\u001b[39m \u001b[38;5;28;01mif\u001b[39;00m \u001b[38;5;28mself\u001b[39m\u001b[38;5;241m.\u001b[39mname \u001b[38;5;241m==\u001b[39m \u001b[38;5;124m\"\u001b[39m\u001b[38;5;124miloc\u001b[39m\u001b[38;5;124m\"\u001b[39m \u001b[38;5;28;01melse\u001b[39;00m \u001b[38;5;28mself\u001b[39m\u001b[38;5;241m.\u001b[39mobj\u001b[38;5;241m.\u001b[39miloc\n\u001b[0;32m--> 716\u001b[0m \u001b[43miloc\u001b[49m\u001b[38;5;241;43m.\u001b[39;49m\u001b[43m_setitem_with_indexer\u001b[49m\u001b[43m(\u001b[49m\u001b[43mindexer\u001b[49m\u001b[43m,\u001b[49m\u001b[43m \u001b[49m\u001b[43mvalue\u001b[49m\u001b[43m,\u001b[49m\u001b[43m \u001b[49m\u001b[38;5;28;43mself\u001b[39;49m\u001b[38;5;241;43m.\u001b[39;49m\u001b[43mname\u001b[49m\u001b[43m)\u001b[49m\n",
      "File \u001b[0;32m~/venv/eps/lib/python3.8/site-packages/pandas/core/indexing.py:1688\u001b[0m, in \u001b[0;36m_iLocIndexer._setitem_with_indexer\u001b[0;34m(self, indexer, value, name)\u001b[0m\n\u001b[1;32m   1685\u001b[0m \u001b[38;5;66;03m# align and set the values\u001b[39;00m\n\u001b[1;32m   1686\u001b[0m \u001b[38;5;28;01mif\u001b[39;00m take_split_path:\n\u001b[1;32m   1687\u001b[0m     \u001b[38;5;66;03m# We have to operate column-wise\u001b[39;00m\n\u001b[0;32m-> 1688\u001b[0m     \u001b[38;5;28;43mself\u001b[39;49m\u001b[38;5;241;43m.\u001b[39;49m\u001b[43m_setitem_with_indexer_split_path\u001b[49m\u001b[43m(\u001b[49m\u001b[43mindexer\u001b[49m\u001b[43m,\u001b[49m\u001b[43m \u001b[49m\u001b[43mvalue\u001b[49m\u001b[43m,\u001b[49m\u001b[43m \u001b[49m\u001b[43mname\u001b[49m\u001b[43m)\u001b[49m\n\u001b[1;32m   1689\u001b[0m \u001b[38;5;28;01melse\u001b[39;00m:\n\u001b[1;32m   1690\u001b[0m     \u001b[38;5;28mself\u001b[39m\u001b[38;5;241m.\u001b[39m_setitem_single_block(indexer, value, name)\n",
      "File \u001b[0;32m~/venv/eps/lib/python3.8/site-packages/pandas/core/indexing.py:1743\u001b[0m, in \u001b[0;36m_iLocIndexer._setitem_with_indexer_split_path\u001b[0;34m(self, indexer, value, name)\u001b[0m\n\u001b[1;32m   1738\u001b[0m     \u001b[38;5;28;01mif\u001b[39;00m \u001b[38;5;28mlen\u001b[39m(value) \u001b[38;5;241m==\u001b[39m \u001b[38;5;241m1\u001b[39m \u001b[38;5;129;01mand\u001b[39;00m \u001b[38;5;129;01mnot\u001b[39;00m is_integer(info_axis):\n\u001b[1;32m   1739\u001b[0m         \u001b[38;5;66;03m# This is a case like df.iloc[:3, [1]] = [0]\u001b[39;00m\n\u001b[1;32m   1740\u001b[0m         \u001b[38;5;66;03m#  where we treat as df.iloc[:3, 1] = 0\u001b[39;00m\n\u001b[1;32m   1741\u001b[0m         \u001b[38;5;28;01mreturn\u001b[39;00m \u001b[38;5;28mself\u001b[39m\u001b[38;5;241m.\u001b[39m_setitem_with_indexer((pi, info_axis[\u001b[38;5;241m0\u001b[39m]), value[\u001b[38;5;241m0\u001b[39m])\n\u001b[0;32m-> 1743\u001b[0m     \u001b[38;5;28;01mraise\u001b[39;00m \u001b[38;5;167;01mValueError\u001b[39;00m(\n\u001b[1;32m   1744\u001b[0m         \u001b[38;5;124m\"\u001b[39m\u001b[38;5;124mMust have equal len keys and value \u001b[39m\u001b[38;5;124m\"\u001b[39m\n\u001b[1;32m   1745\u001b[0m         \u001b[38;5;124m\"\u001b[39m\u001b[38;5;124mwhen setting with an iterable\u001b[39m\u001b[38;5;124m\"\u001b[39m\n\u001b[1;32m   1746\u001b[0m     )\n\u001b[1;32m   1748\u001b[0m \u001b[38;5;28;01melif\u001b[39;00m lplane_indexer \u001b[38;5;241m==\u001b[39m \u001b[38;5;241m0\u001b[39m \u001b[38;5;129;01mand\u001b[39;00m \u001b[38;5;28mlen\u001b[39m(value) \u001b[38;5;241m==\u001b[39m \u001b[38;5;28mlen\u001b[39m(\u001b[38;5;28mself\u001b[39m\u001b[38;5;241m.\u001b[39mobj\u001b[38;5;241m.\u001b[39mindex):\n\u001b[1;32m   1749\u001b[0m     \u001b[38;5;66;03m# We get here in one case via .loc with a all-False mask\u001b[39;00m\n\u001b[1;32m   1750\u001b[0m     \u001b[38;5;28;01mpass\u001b[39;00m\n",
      "\u001b[0;31mValueError\u001b[0m: Must have equal len keys and value when setting with an iterable"
     ]
    }
   ],
   "source": [
    "for i in range(len(docs)):\n",
    "    df_train.loc[i, 'tokens'] = [tk.text for tk in docs[i]]"
   ]
  },
  {
   "cell_type": "code",
   "execution_count": 133,
   "id": "849a1c90-c813-4143-aaa0-bdf33ec2d7a5",
   "metadata": {},
   "outputs": [
    {
     "data": {
      "text/html": [
       "<div>\n",
       "<style scoped>\n",
       "    .dataframe tbody tr th:only-of-type {\n",
       "        vertical-align: middle;\n",
       "    }\n",
       "\n",
       "    .dataframe tbody tr th {\n",
       "        vertical-align: top;\n",
       "    }\n",
       "\n",
       "    .dataframe thead th {\n",
       "        text-align: right;\n",
       "    }\n",
       "</style>\n",
       "<table border=\"1\" class=\"dataframe\">\n",
       "  <thead>\n",
       "    <tr style=\"text-align: right;\">\n",
       "      <th></th>\n",
       "      <th>review</th>\n",
       "      <th>label</th>\n",
       "      <th>evidences</th>\n",
       "      <th>tokens</th>\n",
       "      <th>token_offet</th>\n",
       "      <th>rationale_offset</th>\n",
       "      <th>check_rational_offset</th>\n",
       "      <th>token_offset</th>\n",
       "    </tr>\n",
       "  </thead>\n",
       "  <tbody>\n",
       "    <tr>\n",
       "      <th>0</th>\n",
       "      <td>plot : two teen couples go to a church party ,...</td>\n",
       "      <td>0</td>\n",
       "      <td>[mind - fuck movie, the sad part is, downshift...</td>\n",
       "      <td>[plot, :, two, teen, couples, go, to, a, churc...</td>\n",
       "      <td>[0, 5, 7, 11, 16, 24, 27, 30, 32, 39, 45, 47, ...</td>\n",
       "      <td>[(273, 290), (1749, 1764), (907, 945), (1453, ...</td>\n",
       "      <td>[mind - fuck movie, the sad part is, downshift...</td>\n",
       "      <td>[0, 5, 7, 11, 16, 24, 27, 30, 32, 39, 45, 47, ...</td>\n",
       "    </tr>\n",
       "    <tr>\n",
       "      <th>1</th>\n",
       "      <td>the happy bastard 's quick movie review damn\\n...</td>\n",
       "      <td>0</td>\n",
       "      <td>[it 's pretty much a sunken ship, sutherland i...</td>\n",
       "      <td>[the, happy, bastard, 's, quick, movie, review...</td>\n",
       "      <td>[0, 4, 10, 18, 21, 27, 33, 40, 44, 45, 50, 54,...</td>\n",
       "      <td>[(1325, 1356), (1010, 1030), (449, 471), (879,...</td>\n",
       "      <td>[it 's pretty much a sunken ship, sutherland i...</td>\n",
       "      <td>[0, 4, 10, 18, 21, 27, 33, 40, 44, 45, 50, 54,...</td>\n",
       "    </tr>\n",
       "    <tr>\n",
       "      <th>2</th>\n",
       "      <td>it is movies like these that make a jaded movi...</td>\n",
       "      <td>0</td>\n",
       "      <td>[the characters and acting is nothing spectacu...</td>\n",
       "      <td>[it, is, movies, like, these, that, make, a, j...</td>\n",
       "      <td>[0, 3, 6, 13, 18, 24, 29, 34, 36, 42, 48, 55, ...</td>\n",
       "      <td>[(1135, 1183), (1270, 1290), (761, 786), (1201...</td>\n",
       "      <td>[the characters and acting is nothing spectacu...</td>\n",
       "      <td>[0, 3, 6, 13, 18, 24, 29, 34, 36, 42, 48, 55, ...</td>\n",
       "    </tr>\n",
       "    <tr>\n",
       "      <th>3</th>\n",
       "      <td>\" quest for camelot \" is warner bros . '\\nfirs...</td>\n",
       "      <td>0</td>\n",
       "      <td>[dead on arrival, the characters stink, subpar...</td>\n",
       "      <td>[\", quest, for, camelot, \", is, warner, bros, ...</td>\n",
       "      <td>[0, 2, 8, 12, 20, 22, 25, 32, 37, 39, 40, 41, ...</td>\n",
       "      <td>[(546, 561), (1910, 1930), (1698, 1787), (2861...</td>\n",
       "      <td>[dead on arrival, the characters stink, subpar...</td>\n",
       "      <td>[0, 2, 8, 12, 20, 22, 25, 32, 37, 39, 40, 41, ...</td>\n",
       "    </tr>\n",
       "    <tr>\n",
       "      <th>4</th>\n",
       "      <td>synopsis : a mentally unstable man undergoing ...</td>\n",
       "      <td>0</td>\n",
       "      <td>[it is highly derivative and somewhat boring, ...</td>\n",
       "      <td>[synopsis, :, a, mentally, unstable, man, unde...</td>\n",
       "      <td>[0, 9, 11, 13, 22, 31, 35, 46, 60, 66, 68, 72,...</td>\n",
       "      <td>[(4105, 4148), (1131, 1161), (1017, 1120), (19...</td>\n",
       "      <td>[it is highly derivative and somewhat boring, ...</td>\n",
       "      <td>[0, 9, 11, 13, 22, 31, 35, 46, 60, 66, 68, 72,...</td>\n",
       "    </tr>\n",
       "  </tbody>\n",
       "</table>\n",
       "</div>"
      ],
      "text/plain": [
       "                                              review  label  \\\n",
       "0  plot : two teen couples go to a church party ,...      0   \n",
       "1  the happy bastard 's quick movie review damn\\n...      0   \n",
       "2  it is movies like these that make a jaded movi...      0   \n",
       "3  \" quest for camelot \" is warner bros . '\\nfirs...      0   \n",
       "4  synopsis : a mentally unstable man undergoing ...      0   \n",
       "\n",
       "                                           evidences  \\\n",
       "0  [mind - fuck movie, the sad part is, downshift...   \n",
       "1  [it 's pretty much a sunken ship, sutherland i...   \n",
       "2  [the characters and acting is nothing spectacu...   \n",
       "3  [dead on arrival, the characters stink, subpar...   \n",
       "4  [it is highly derivative and somewhat boring, ...   \n",
       "\n",
       "                                              tokens  \\\n",
       "0  [plot, :, two, teen, couples, go, to, a, churc...   \n",
       "1  [the, happy, bastard, 's, quick, movie, review...   \n",
       "2  [it, is, movies, like, these, that, make, a, j...   \n",
       "3  [\", quest, for, camelot, \", is, warner, bros, ...   \n",
       "4  [synopsis, :, a, mentally, unstable, man, unde...   \n",
       "\n",
       "                                         token_offet  \\\n",
       "0  [0, 5, 7, 11, 16, 24, 27, 30, 32, 39, 45, 47, ...   \n",
       "1  [0, 4, 10, 18, 21, 27, 33, 40, 44, 45, 50, 54,...   \n",
       "2  [0, 3, 6, 13, 18, 24, 29, 34, 36, 42, 48, 55, ...   \n",
       "3  [0, 2, 8, 12, 20, 22, 25, 32, 37, 39, 40, 41, ...   \n",
       "4  [0, 9, 11, 13, 22, 31, 35, 46, 60, 66, 68, 72,...   \n",
       "\n",
       "                                    rationale_offset  \\\n",
       "0  [(273, 290), (1749, 1764), (907, 945), (1453, ...   \n",
       "1  [(1325, 1356), (1010, 1030), (449, 471), (879,...   \n",
       "2  [(1135, 1183), (1270, 1290), (761, 786), (1201...   \n",
       "3  [(546, 561), (1910, 1930), (1698, 1787), (2861...   \n",
       "4  [(4105, 4148), (1131, 1161), (1017, 1120), (19...   \n",
       "\n",
       "                               check_rational_offset  \\\n",
       "0  [mind - fuck movie, the sad part is, downshift...   \n",
       "1  [it 's pretty much a sunken ship, sutherland i...   \n",
       "2  [the characters and acting is nothing spectacu...   \n",
       "3  [dead on arrival, the characters stink, subpar...   \n",
       "4  [it is highly derivative and somewhat boring, ...   \n",
       "\n",
       "                                        token_offset  \n",
       "0  [0, 5, 7, 11, 16, 24, 27, 30, 32, 39, 45, 47, ...  \n",
       "1  [0, 4, 10, 18, 21, 27, 33, 40, 44, 45, 50, 54,...  \n",
       "2  [0, 3, 6, 13, 18, 24, 29, 34, 36, 42, 48, 55, ...  \n",
       "3  [0, 2, 8, 12, 20, 22, 25, 32, 37, 39, 40, 41, ...  \n",
       "4  [0, 9, 11, 13, 22, 31, 35, 46, 60, 66, 68, 72,...  "
      ]
     },
     "execution_count": 133,
     "metadata": {},
     "output_type": "execute_result"
    }
   ],
   "source": [
    "df_train['tokens'] = df_train['review'].apply(lambda x: [tk.text for tk in sm(x)])\n",
    "df_train['token_offset'] = df_train['review'].apply(lambda x: [tk.idx for tk in sm(x)])\n",
    "df_train['rationale_offset'] = df_train.apply(lambda x: [(x.review.find(evidence), len(evidence)) for evidence in x['evidences']], axis=1)\n",
    "df_train['rationale_offset'] = df_train.rationale_offset.apply(lambda x: [(r[0], r[0] + r[1]) for r in x])\n",
    "df_train"
   ]
  },
  {
   "cell_type": "code",
   "execution_count": 134,
   "id": "80a7e57e-21af-49aa-a693-03042b799f96",
   "metadata": {},
   "outputs": [
    {
     "data": {
      "text/html": [
       "<div>\n",
       "<style scoped>\n",
       "    .dataframe tbody tr th:only-of-type {\n",
       "        vertical-align: middle;\n",
       "    }\n",
       "\n",
       "    .dataframe tbody tr th {\n",
       "        vertical-align: top;\n",
       "    }\n",
       "\n",
       "    .dataframe thead th {\n",
       "        text-align: right;\n",
       "    }\n",
       "</style>\n",
       "<table border=\"1\" class=\"dataframe\">\n",
       "  <thead>\n",
       "    <tr style=\"text-align: right;\">\n",
       "      <th></th>\n",
       "      <th>review</th>\n",
       "      <th>label</th>\n",
       "      <th>evidences</th>\n",
       "      <th>tokens</th>\n",
       "      <th>token_offet</th>\n",
       "      <th>rationale_offset</th>\n",
       "      <th>check_rational_offset</th>\n",
       "      <th>token_offset</th>\n",
       "    </tr>\n",
       "  </thead>\n",
       "  <tbody>\n",
       "    <tr>\n",
       "      <th>0</th>\n",
       "      <td>plot : two teen couples go to a church party ,...</td>\n",
       "      <td>0</td>\n",
       "      <td>[mind - fuck movie, the sad part is, downshift...</td>\n",
       "      <td>[plot, :, two, teen, couples, go, to, a, churc...</td>\n",
       "      <td>[0, 5, 7, 11, 16, 24, 27, 30, 32, 39, 45, 47, ...</td>\n",
       "      <td>[(273, 290), (1749, 1764), (907, 945), (1453, ...</td>\n",
       "      <td>[mind - fuck movie, the sad part is, downshift...</td>\n",
       "      <td>[0, 5, 7, 11, 16, 24, 27, 30, 32, 39, 45, 47, ...</td>\n",
       "    </tr>\n",
       "    <tr>\n",
       "      <th>1</th>\n",
       "      <td>the happy bastard 's quick movie review damn\\n...</td>\n",
       "      <td>0</td>\n",
       "      <td>[it 's pretty much a sunken ship, sutherland i...</td>\n",
       "      <td>[the, happy, bastard, 's, quick, movie, review...</td>\n",
       "      <td>[0, 4, 10, 18, 21, 27, 33, 40, 44, 45, 50, 54,...</td>\n",
       "      <td>[(1325, 1356), (1010, 1030), (449, 471), (879,...</td>\n",
       "      <td>[it 's pretty much a sunken ship, sutherland i...</td>\n",
       "      <td>[0, 4, 10, 18, 21, 27, 33, 40, 44, 45, 50, 54,...</td>\n",
       "    </tr>\n",
       "    <tr>\n",
       "      <th>2</th>\n",
       "      <td>it is movies like these that make a jaded movi...</td>\n",
       "      <td>0</td>\n",
       "      <td>[the characters and acting is nothing spectacu...</td>\n",
       "      <td>[it, is, movies, like, these, that, make, a, j...</td>\n",
       "      <td>[0, 3, 6, 13, 18, 24, 29, 34, 36, 42, 48, 55, ...</td>\n",
       "      <td>[(1135, 1183), (1270, 1290), (761, 786), (1201...</td>\n",
       "      <td>[the characters and acting is nothing spectacu...</td>\n",
       "      <td>[0, 3, 6, 13, 18, 24, 29, 34, 36, 42, 48, 55, ...</td>\n",
       "    </tr>\n",
       "    <tr>\n",
       "      <th>3</th>\n",
       "      <td>\" quest for camelot \" is warner bros . '\\nfirs...</td>\n",
       "      <td>0</td>\n",
       "      <td>[dead on arrival, the characters stink, subpar...</td>\n",
       "      <td>[\", quest, for, camelot, \", is, warner, bros, ...</td>\n",
       "      <td>[0, 2, 8, 12, 20, 22, 25, 32, 37, 39, 40, 41, ...</td>\n",
       "      <td>[(546, 561), (1910, 1930), (1698, 1787), (2861...</td>\n",
       "      <td>[dead on arrival, the characters stink, subpar...</td>\n",
       "      <td>[0, 2, 8, 12, 20, 22, 25, 32, 37, 39, 40, 41, ...</td>\n",
       "    </tr>\n",
       "    <tr>\n",
       "      <th>4</th>\n",
       "      <td>synopsis : a mentally unstable man undergoing ...</td>\n",
       "      <td>0</td>\n",
       "      <td>[it is highly derivative and somewhat boring, ...</td>\n",
       "      <td>[synopsis, :, a, mentally, unstable, man, unde...</td>\n",
       "      <td>[0, 9, 11, 13, 22, 31, 35, 46, 60, 66, 68, 72,...</td>\n",
       "      <td>[(4105, 4148), (1131, 1161), (1017, 1120), (19...</td>\n",
       "      <td>[it is highly derivative and somewhat boring, ...</td>\n",
       "      <td>[0, 9, 11, 13, 22, 31, 35, 46, 60, 66, 68, 72,...</td>\n",
       "    </tr>\n",
       "  </tbody>\n",
       "</table>\n",
       "</div>"
      ],
      "text/plain": [
       "                                              review  label  \\\n",
       "0  plot : two teen couples go to a church party ,...      0   \n",
       "1  the happy bastard 's quick movie review damn\\n...      0   \n",
       "2  it is movies like these that make a jaded movi...      0   \n",
       "3  \" quest for camelot \" is warner bros . '\\nfirs...      0   \n",
       "4  synopsis : a mentally unstable man undergoing ...      0   \n",
       "\n",
       "                                           evidences  \\\n",
       "0  [mind - fuck movie, the sad part is, downshift...   \n",
       "1  [it 's pretty much a sunken ship, sutherland i...   \n",
       "2  [the characters and acting is nothing spectacu...   \n",
       "3  [dead on arrival, the characters stink, subpar...   \n",
       "4  [it is highly derivative and somewhat boring, ...   \n",
       "\n",
       "                                              tokens  \\\n",
       "0  [plot, :, two, teen, couples, go, to, a, churc...   \n",
       "1  [the, happy, bastard, 's, quick, movie, review...   \n",
       "2  [it, is, movies, like, these, that, make, a, j...   \n",
       "3  [\", quest, for, camelot, \", is, warner, bros, ...   \n",
       "4  [synopsis, :, a, mentally, unstable, man, unde...   \n",
       "\n",
       "                                         token_offet  \\\n",
       "0  [0, 5, 7, 11, 16, 24, 27, 30, 32, 39, 45, 47, ...   \n",
       "1  [0, 4, 10, 18, 21, 27, 33, 40, 44, 45, 50, 54,...   \n",
       "2  [0, 3, 6, 13, 18, 24, 29, 34, 36, 42, 48, 55, ...   \n",
       "3  [0, 2, 8, 12, 20, 22, 25, 32, 37, 39, 40, 41, ...   \n",
       "4  [0, 9, 11, 13, 22, 31, 35, 46, 60, 66, 68, 72,...   \n",
       "\n",
       "                                    rationale_offset  \\\n",
       "0  [(273, 290), (1749, 1764), (907, 945), (1453, ...   \n",
       "1  [(1325, 1356), (1010, 1030), (449, 471), (879,...   \n",
       "2  [(1135, 1183), (1270, 1290), (761, 786), (1201...   \n",
       "3  [(546, 561), (1910, 1930), (1698, 1787), (2861...   \n",
       "4  [(4105, 4148), (1131, 1161), (1017, 1120), (19...   \n",
       "\n",
       "                               check_rational_offset  \\\n",
       "0  [mind - fuck movie, the sad part is, downshift...   \n",
       "1  [it 's pretty much a sunken ship, sutherland i...   \n",
       "2  [the characters and acting is nothing spectacu...   \n",
       "3  [dead on arrival, the characters stink, subpar...   \n",
       "4  [it is highly derivative and somewhat boring, ...   \n",
       "\n",
       "                                        token_offset  \n",
       "0  [0, 5, 7, 11, 16, 24, 27, 30, 32, 39, 45, 47, ...  \n",
       "1  [0, 4, 10, 18, 21, 27, 33, 40, 44, 45, 50, 54,...  \n",
       "2  [0, 3, 6, 13, 18, 24, 29, 34, 36, 42, 48, 55, ...  \n",
       "3  [0, 2, 8, 12, 20, 22, 25, 32, 37, 39, 40, 41, ...  \n",
       "4  [0, 9, 11, 13, 22, 31, 35, 46, 60, 66, 68, 72,...  "
      ]
     },
     "execution_count": 134,
     "metadata": {},
     "output_type": "execute_result"
    }
   ],
   "source": [
    "def checking(x):\n",
    "    rationale = list()\n",
    "    for r in x['rationale_offset']:\n",
    "        rationale.append()\n",
    "    return rationale\n",
    "\n",
    "df_train['check_rational_offset'] = df_train.apply(lambda x: [x.review[r[0]:r[1]] for r in x['rationale_offset']], axis=1)\n",
    "df_train"
   ]
  },
  {
   "cell_type": "code",
   "execution_count": 136,
   "id": "da96ab65-b1cc-4be0-9ad7-f45272c00232",
   "metadata": {},
   "outputs": [
    {
     "data": {
      "text/plain": [
       "True"
      ]
     },
     "execution_count": 136,
     "metadata": {},
     "output_type": "execute_result"
    }
   ],
   "source": [
    "(df_train['evidences'] == df_train['check_rational_offset']).all()"
   ]
  },
  {
   "cell_type": "code",
   "execution_count": 139,
   "id": "5ada8292-cb55-4bef-b435-de5a68909095",
   "metadata": {},
   "outputs": [],
   "source": [
    "def binarize_rationale(row):\n",
    "    rationales = row.rationale_offset.copy()\n",
    "    r_start, r_end = rationales.pop(0)\n",
    "    rationale_mask = list()\n",
    "    for token_offset in row['token_offset']:\n",
    "        rationale_mask.append(r_start <= token_offset <= r_end)\n",
    "        if r_end <= token_offset and len(rationales) > 0:\n",
    "            r_start, r_end = rationales.pop(0)\n",
    "    return rationale_mask\n",
    "    \n",
    "df_train['rationale'] = df_train.apply(binarize_rationale, axis=1)"
   ]
  },
  {
   "cell_type": "code",
   "execution_count": 147,
   "id": "bfd2b7d9-affa-4580-a656-ec7f13bc187d",
   "metadata": {},
   "outputs": [
    {
     "name": "stdout",
     "output_type": "stream",
     "text": [
      "check the rationale map cohenrent with the tokens\n"
     ]
    },
    {
     "data": {
      "text/plain": [
       "True"
      ]
     },
     "execution_count": 147,
     "metadata": {},
     "output_type": "execute_result"
    }
   ],
   "source": [
    "print('check the rationale map cohenrent with the tokens')\n",
    "(df_train['rationale'].str.len() == df_train['tokens'].str.len()).all()"
   ]
  },
  {
   "cell_type": "code",
   "execution_count": 143,
   "id": "4fe5b6d4-c0af-48bd-987f-2839cf1c8ff4",
   "metadata": {},
   "outputs": [
    {
     "data": {
      "text/plain": [
       "14"
      ]
     },
     "execution_count": 143,
     "metadata": {},
     "output_type": "execute_result"
    }
   ],
   "source": [
    "sum(df_train['rationale'][0])"
   ]
  },
  {
   "cell_type": "code",
   "execution_count": null,
   "id": "2d73c136-5f6f-4a0b-8108-39a35ad747c9",
   "metadata": {},
   "outputs": [],
   "source": []
  }
 ],
 "metadata": {
  "kernelspec": {
   "display_name": "Python 3 (ipykernel)",
   "language": "python",
   "name": "python3"
  },
  "language_info": {
   "codemirror_mode": {
    "name": "ipython",
    "version": 3
   },
   "file_extension": ".py",
   "mimetype": "text/x-python",
   "name": "python",
   "nbconvert_exporter": "python",
   "pygments_lexer": "ipython3",
   "version": "3.8.5"
  }
 },
 "nbformat": 4,
 "nbformat_minor": 5
}
