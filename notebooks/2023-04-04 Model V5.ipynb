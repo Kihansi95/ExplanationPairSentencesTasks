{
 "cells": [
  {
   "cell_type": "markdown",
   "id": "77eeddca-9241-49e2-a3f8-2426e610f1dc",
   "metadata": {},
   "source": [
    "# Model V5\n",
    "\n",
    "Last updated dataset (May 2023). Tokenizer transform named entity with a special label"
   ]
  },
  {
   "cell_type": "code",
   "execution_count": 1,
   "id": "7ea639db-3f00-40d4-ab38-836fbada9fa4",
   "metadata": {
    "ExecuteTime": {
     "end_time": "2023-07-19T15:17:56.785284Z",
     "start_time": "2023-07-19T15:17:56.688994Z"
    },
    "tags": []
   },
   "outputs": [],
   "source": [
    "%load_ext autoreload\n",
    "%autoreload 2\n",
    "\n",
    "from IPython.display import display, HTML\n",
    "import sys\n",
    "import os\n",
    "from os import path\n",
    "\n",
    "sys.path.append(\"./../src\")\n",
    "tmp_path = path.join('.cache', '2023-04-04')\n",
    "os.makedirs(tmp_path,exist_ok=True)"
   ]
  },
  {
   "cell_type": "code",
   "execution_count": 2,
   "id": "0538ce9a-6370-4ef2-bbbd-cfd16e0a1310",
   "metadata": {
    "ExecuteTime": {
     "end_time": "2023-07-19T15:17:56.808010Z",
     "start_time": "2023-07-19T15:17:56.787840Z"
    }
   },
   "outputs": [
    {
     "name": "stdout",
     "output_type": "stream",
     "text": [
      "Current node: MAC-C02D80HRMD6\n"
     ]
    }
   ],
   "source": [
    "import platform\n",
    "node = platform.node()\n",
    "print('Current node:', node)\n",
    "\n",
    "if node == 'MAC-C02D80HRMD6':\n",
    "    ROOT = '/Users/dunguyen/Developer/server_backup/historic/2023-06-05'\n",
    "elif node[-11:] == 'grid5000.fr':\n",
    "    ROOT = '/home/dunguyen/RUNS'\n",
    "else :\n",
    "    ROOT = '/srv/tempdd/dunguyen/RUNS'\n",
    "\n",
    "LOG_PATH = path.join(ROOT, 'logs')\n",
    "DATA_CACHE = path.join(ROOT, 'dataset')\n",
    "\n",
    "MONGO_CACHE = path.join(DATA_CACHE, 'archival', 'mongo_db') # Generated from Mongodb\n",
    "AUTOGESTION_CACHE = path.join(DATA_CACHE, 'archival', 'autogestion') # generated from autogestion repository\n",
    "INFERENCE_CACHE = path.join(DATA_CACHE, 'archival', 'inference') # model generation"
   ]
  },
  {
   "cell_type": "code",
   "execution_count": 3,
   "id": "d6df6530-0ded-4a73-9dee-70197735f84b",
   "metadata": {
    "ExecuteTime": {
     "end_time": "2023-07-19T15:17:57.395048Z",
     "start_time": "2023-07-19T15:17:56.826054Z"
    }
   },
   "outputs": [],
   "source": [
    "from modules.logger import init_logging\n",
    "from modules.logger import log\n",
    "\n",
    "init_logging(color=True)"
   ]
  },
  {
   "cell_type": "code",
   "execution_count": null,
   "id": "0966a302-cc06-4d8a-91a2-38a3dad81b49",
   "metadata": {
    "scrolled": true,
    "tags": []
   },
   "outputs": [],
   "source": [
    "# CHECK GPU hardware\n",
    "!nvidia-smi"
   ]
  },
  {
   "cell_type": "markdown",
   "id": "edca64b4-e85e-44f4-88c7-c440e16e4b56",
   "metadata": {},
   "source": [
    "# Loading trained model"
   ]
  },
  {
   "cell_type": "code",
   "execution_count": 6,
   "id": "b2111c57-948a-40d0-a2d0-d6fa9615cfa4",
   "metadata": {},
   "outputs": [
    {
     "name": "stdout",
     "output_type": "stream",
     "text": [
      "21-05-2024 01:32:43 | \u001b[32;1m   DEBUG\u001b[0m \u001b[1m \u001b[4m archival_module.py:prepare_data:77 \u001b[0m \u001b[32;1mBuild vocab from dictionary : /Users/dunguyen/Developer/server_backup/historic/2023-06-05/dataset/archival/v5/frequency_token_norm.json\u001b[0m\n",
      "21-05-2024 01:32:46 | \u001b[34m    INFO\u001b[0m \u001b[1m \u001b[4m dataset.py:__init__:89 \u001b[0m \u001b[34mLoad dataset from /Users/dunguyen/Developer/server_backup/historic/2023-06-05/dataset/archival/v5/archival_nli.json\u001b[0m\n",
      "Building vocabulary: 100%|█████████████████████████████████████████████████████████████████████████████████████████████████████████████████████████████████████████████████| 2476/2476 [00:04<00:00, 566.61sents/s]\n",
      "21-05-2024 01:32:50 | \u001b[34m    INFO\u001b[0m \u001b[1m \u001b[4m archival_module.py:prepare_data:104 \u001b[0m \u001b[34mVocab size: 14543\u001b[0m\n",
      "21-05-2024 01:32:51 | \u001b[34m    INFO\u001b[0m \u001b[1m \u001b[4m dataset.py:__init__:89 \u001b[0m \u001b[34mLoad dataset from /Users/dunguyen/Developer/server_backup/historic/2023-06-05/dataset/archival/v5/test.json\u001b[0m\n",
      "21-05-2024 01:32:51 | \u001b[32;1m   DEBUG\u001b[0m \u001b[1m \u001b[4m dual_lstm_attention.py:__init__:33 \u001b[0m \u001b[32;1mInitialize embedding from random\u001b[0m\n",
      "Model is in cuda:  False\n"
     ]
    }
   ],
   "source": [
    "from data_module.archival_module import ArchivalNLIDM\n",
    "from model_module.lstm.archival_lstm_module import ArchivalLstmModule\n",
    "import torch\n",
    "\n",
    "MODEL_NAME = 'v5/run=0_vector=fasttext_lentropy=0'\n",
    "device = torch.device('cuda' if torch.cuda.is_available() else 'cpu') \n",
    "\n",
    "###############\n",
    "# PREPARE DATA\n",
    "###############\n",
    "dm = ArchivalNLIDM(cache_path=DATA_CACHE, batch_size=16, num_workers=8, version='v5')\n",
    "dm.prepare_data()\n",
    "dm.setup('test')\n",
    "\n",
    "###############\n",
    "# MODEL MODULE\n",
    "###############\n",
    "# model's parameters (could be changed in other versions)\n",
    "m_kwargs = dict(\n",
    "    n_context=1, \n",
    "    d_embedding=300\n",
    ")\n",
    "\n",
    "# leave the default ones\n",
    "model = ArchivalLstmModule(cache_path=ROOT,\n",
    "    mode='dev',\n",
    "    vocab=dm.vocab,\n",
    "    concat_context=True,\n",
    "    data='archival',\n",
    "    num_class=dm.num_class, **m_kwargs)\n",
    "\n",
    "ckpt_path = path.join(LOG_PATH, 'archival', MODEL_NAME, 'checkpoints', 'best.ckpt')\n",
    "checkpoint = torch.load(ckpt_path, map_location=device)\n",
    "    \n",
    "model.to(device)\n",
    "model.load_state_dict(checkpoint['state_dict'])\n",
    "model.eval()\n",
    "\n",
    "print('Model is in cuda: ',next(model.parameters()).is_cuda)"
   ]
  },
  {
   "cell_type": "markdown",
   "id": "785776f3-f2d3-4570-bd9e-6ccde543b9d6",
   "metadata": {
    "tags": []
   },
   "source": [
    "# Evaluation in generated test set"
   ]
  },
  {
   "cell_type": "markdown",
   "id": "5be09072-484e-427a-82d3-819677248a31",
   "metadata": {},
   "source": [
    "## Model's predictions"
   ]
  },
  {
   "cell_type": "markdown",
   "id": "5fd2b304-2e13-411b-8818-e96c9d77f8d8",
   "metadata": {},
   "source": [
    "### Evaluate accuracy"
   ]
  },
  {
   "cell_type": "code",
   "execution_count": 16,
   "id": "1cfa9451-e478-499e-a39d-dd0b7eff91c4",
   "metadata": {
    "ExecuteTime": {
     "end_time": "2023-07-17T18:24:19.288218Z",
     "start_time": "2023-07-17T18:24:14.554816Z"
    }
   },
   "outputs": [
    {
     "data": {
      "application/vnd.jupyter.widget-view+json": {
       "model_id": "141b3d1b9e834ec19662e4c111fbf12d",
       "version_major": 2,
       "version_minor": 0
      },
      "text/plain": [
       "Evaluating :   0%|          | 0/372 [00:34<?, ?it/s]"
      ]
     },
     "metadata": {},
     "output_type": "display_data"
    },
    {
     "data": {
      "text/plain": [
       "tensor(0.5995)"
      ]
     },
     "execution_count": 16,
     "metadata": {},
     "output_type": "execute_result"
    }
   ],
   "source": [
    "import torchmetrics as m\n",
    "from tqdm.auto import tqdm\n",
    "\n",
    "accuracy = m.Accuracy().to(device)\n",
    "\n",
    "all_y_true = list()\n",
    "all_y_hat = list()\n",
    "\n",
    "for batch in tqdm(dm.test_dataloader(), desc='Evaluating '):\n",
    "    y_true = batch['y_true'].to(device)\n",
    "    with torch.no_grad():\n",
    "        y_hat, a_hat = model(premise_ids=batch['premise.ids'].to(device), \n",
    "            hypothesis_ids=batch['hypothesis.ids'].to(device), \n",
    "            premise_padding=batch['padding_mask']['premise'].to(device),\n",
    "            hypothesis_padding=batch['padding_mask']['hypothesis'].to(device))\n",
    "\n",
    "    y_hat = y_hat.softmax(-1)    \n",
    "    y_hat = y_hat[:, 1]\n",
    "    \n",
    "    accuracy.update(y_hat, y_true)\n",
    "    \n",
    "    all_y_true.append(y_true)\n",
    "    all_y_hat.append(y_hat)   \n",
    "    \n",
    "all_y_hat = torch.cat(all_y_hat)\n",
    "all_y_true = torch.cat(all_y_true)\n",
    "\n",
    "accuracy.compute()"
   ]
  },
  {
   "cell_type": "markdown",
   "id": "da76869b-f5e2-4322-8b9c-a833811564e8",
   "metadata": {},
   "source": [
    "Precision / Recall curve "
   ]
  },
  {
   "cell_type": "code",
   "execution_count": 7,
   "id": "269ff8b0-6b4f-4c1a-a7fb-11b480fc9a0f",
   "metadata": {
    "ExecuteTime": {
     "end_time": "2023-07-17T18:24:20.153502Z",
     "start_time": "2023-07-17T18:24:19.288380Z"
    }
   },
   "outputs": [
    {
     "data": {
      "image/png": "[encoded data removed]",
      "text/plain": [
       "<Figure size 432x288 with 1 Axes>"
      ]
     },
     "metadata": {
      "needs_background": "light"
     },
     "output_type": "display_data"
    }
   ],
   "source": [
    "from sklearn.metrics import precision_recall_curve\n",
    "from matplotlib import pyplot as plt\n",
    "\n",
    "\n",
    "precision, recall, thresholds = precision_recall_curve(all_y_true.cpu(), all_y_hat.cpu())\n",
    "plt.plot(thresholds, precision[:-1], label=\"Precision\")\n",
    "plt.plot(thresholds, recall[:-1], label=\"Recall\")\n",
    "plt.xlabel(\"$\\epsilon_{score}$\",fontsize=18)\n",
    "plt.legend(bbox_to_anchor=(1.05, 1), loc='upper left', borderaxespad=0.)\n",
    "plt.grid(visible=True, which=\"both\", axis=\"both\", color='gray', linestyle='-', linewidth=0.5)\n",
    "plt.title('Precision and Recall of V1 model', fontsize=18)\n",
    "plt.show()"
   ]
  },
  {
   "cell_type": "markdown",
   "id": "4313e1f4-cff5-4718-a499-a257461bf919",
   "metadata": {},
   "source": [
    "Distribution"
   ]
  },
  {
   "cell_type": "code",
   "execution_count": null,
   "id": "f42a5fc7-af50-4787-87b2-1721e5bbdf4e",
   "metadata": {},
   "outputs": [],
   "source": [
    "y_score = all_y_hat.cpu().numpy()\n",
    "\n",
    "plt.hist(y_score) \n",
    "plt.title(\"histogram\") \n",
    "plt.show()"
   ]
  },
  {
   "cell_type": "markdown",
   "id": "505364fd-0e93-48de-92c7-8bfd74ce1c1e",
   "metadata": {},
   "source": [
    "## Model's attention map"
   ]
  },
  {
   "cell_type": "code",
   "execution_count": 9,
   "id": "ca1308dd-ae24-49ad-af72-e50d3bc6715e",
   "metadata": {},
   "outputs": [],
   "source": [
    "import pandas as pd\n",
    "\n",
    "df_inference = pd.DataFrame()\n",
    "\n",
    "for batch in dm.test_dataloader():\n",
    "    y_true = batch['y_true'].to(device)\n",
    "    padding_mask = batch['padding_mask']\n",
    "    B = len(y_true)\n",
    "    \n",
    "    with torch.no_grad():\n",
    "        y_hat, a_hat = model(premise_ids=batch['premise.ids'].to(device), \n",
    "            hypothesis_ids=batch['hypothesis.ids'].to(device), \n",
    "            premise_padding=batch['padding_mask']['premise'].to(device),\n",
    "            hypothesis_padding=batch['padding_mask']['hypothesis'].to(device))\n",
    "        \n",
    "    y_hat = y_hat.softmax(-1)    \n",
    "    y_hat = y_hat[:, 1]\n",
    "    \n",
    "    a_hat = {side: a_hat[side].softmax(-1) for side in a_hat}\n",
    "    a_hat = { side : [ attention[i][~padding_mask[side][i]].tolist()  for i in range(B) ] for side, attention in a_hat.items() }\n",
    "\n",
    "    inferench_batch = {}\n",
    "    for side in ['premise', 'hypothesis']:\n",
    "        COLUMNS = [side + '.norm', side + '.form']\n",
    "        inferench_batch.update({c : batch[c] for c in COLUMNS})\n",
    "        inferench_batch.update({side + '.attention' : a_hat[side]})\n",
    "\n",
    "\n",
    "\n",
    "    inferench_batch['y_true'] = batch['y_true'].tolist()\n",
    "    inferench_batch['y_score'] = y_hat.tolist()\n",
    "    \n",
    "    inferench_batch = pd.DataFrame(inferench_batch)\n",
    "    \n",
    "    df_inference = pd.concat([df_inference, inferench_batch])\n",
    "    \n",
    "df_inference.reset_index(drop=True, inplace=True)"
   ]
  },
  {
   "cell_type": "code",
   "execution_count": 10,
   "id": "0e005b4c-56ea-40c2-848c-c5a89a27b1ce",
   "metadata": {},
   "outputs": [
    {
     "name": "stdout",
     "output_type": "stream",
     "text": [
      "% True positive: 0.4672724213360256\n",
      "# True positive: 2777\n"
     ]
    }
   ],
   "source": [
    "EPSILON_Y_HAT = 0.8\n",
    "\n",
    "df_inference['y_hat'] = df_inference['y_score'] > EPSILON_Y_HAT\n",
    "\n",
    "df_true_positive = df_inference[df_inference['y_hat'] & df_inference['y_true']]\n",
    "df_true_positive.reset_index(drop=True, inplace=True)\n",
    "\n",
    "print('% True positive:', len(df_true_positive) / len(df_inference))\n",
    "print('# True positive:', len(df_true_positive))"
   ]
  },
  {
   "cell_type": "code",
   "execution_count": 11,
   "id": "e2332403-68aa-4bf5-b76d-e7dd1194060c",
   "metadata": {},
   "outputs": [
    {
     "data": {
      "text/html": [
       "<table><thead><tr><th>Index</th> <th>Premise</th> <th>Hypothesis</th> <th>Score</th> </tr></thead><tr><td>0</td><td><span style=\"background-color:rgba(135, 206, 250, 0.07882210612297058);\">Avec</span> <span style=\"background-color:rgba(135, 206, 250, 0.037072040140628815);\">le</span> <span style=\"background-color:rgba(135, 206, 250, 0.16010889410972595);\">développement</span> <span style=\"background-color:rgba(135, 206, 250, 0.09749551862478256);\">de</span> <span style=\"background-color:rgba(135, 206, 250, 0.06326064467430115);\">la</span> <span style=\"background-color:rgba(135, 206, 250, 0.30211251974105835);\">guerre</span> <span style=\"background-color:rgba(135, 206, 250, 0.781691312789917);\">froide</span> <span style=\"background-color:rgba(135, 206, 250, 0.1437147557735443);\">et</span> <span style=\"background-color:rgba(135, 206, 250, 0.09056666493415833);\">du</span> <span style=\"background-color:rgba(135, 206, 250, 0.030057262629270554);\">MacCarthysme</span> <span style=\"background-color:rgba(135, 206, 250, 0.05260500684380531);\">,</span> <span style=\"background-color:rgba(135, 206, 250, 0.051599279046058655);\">et</span> <span style=\"background-color:rgba(135, 206, 250, 0.033703528344631195);\">aussi</span> <span style=\"background-color:rgba(135, 206, 250, 0.1269940286874771);\">grâce</span> <span style=\"background-color:rgba(135, 206, 250, 0.08029896765947342);\">à</span> <span style=\"background-color:rgba(135, 206, 250, 0.03862234577536583);\">la</span> <span style=\"background-color:rgba(135, 206, 250, 0.022525006905198097);\">loi</span> <span style=\"background-color:rgba(135, 206, 250, 0.0);\">Smith</span> <span style=\"background-color:rgba(135, 206, 250, 0.029907602816820145);\">,</span> <span style=\"background-color:rgba(135, 206, 250, 0.014509618282318115);\">les</span> <span style=\"background-color:rgba(135, 206, 250, 0.10124241560697556);\">syndicats</span> <span style=\"background-color:rgba(135, 206, 250, 0.20479001104831696);\">se</span> <span style=\"background-color:rgba(135, 206, 250, 1.25);\">débarassèrent</span> <span style=\"background-color:rgba(135, 206, 250, 0.2579020857810974);\">eux</span> <span style=\"background-color:rgba(135, 206, 250, 0.1257321834564209);\">-</span> <span style=\"background-color:rgba(135, 206, 250, 0.06231214851140976);\">mêmes</span> <span style=\"background-color:rgba(135, 206, 250, 0.07313092797994614);\">de</span> <span style=\"background-color:rgba(135, 206, 250, 0.10330180823802948);\">leurs</span> <span style=\"background-color:rgba(135, 206, 250, 0.11484764516353607);\">membres</span> <span style=\"background-color:rgba(135, 206, 250, 0.29318520426750183);\">communistes</span> <span style=\"background-color:rgba(135, 206, 250, 0.14169901609420776);\">.</span></td><td><span style=\"background-color:rgba(135, 206, 250, 0.000848564610350877);\">Comme</span> <span style=\"background-color:rgba(135, 206, 250, 0.0033505901228636503);\">preuve</span> <span style=\"background-color:rgba(135, 206, 250, 0.0003253732866141945);\">de</span> <span style=\"background-color:rgba(135, 206, 250, 0.0002583223977126181);\">leur</span> <span style=\"background-color:rgba(135, 206, 250, 0.00030770254670642316);\">statut</span> <span style=\"background-color:rgba(135, 206, 250, 0.00043561140773817897);\">nouvellement</span> <span style=\"background-color:rgba(135, 206, 250, 0.0013829291565343738);\">acquis</span> <span style=\"background-color:rgba(135, 206, 250, 0.000402137782657519);\">de</span> <span style=\"background-color:rgba(135, 206, 250, 0.005673892330378294);\">jeunes</span> <span style=\"background-color:rgba(135, 206, 250, 0.00047238546540029347);\">membres</span> <span style=\"background-color:rgba(135, 206, 250, 0.0002739201590884477);\">de</span> <span style=\"background-color:rgba(135, 206, 250, 0.00011109024489996955);\">l'</span> <span style=\"background-color:rgba(135, 206, 250, 0.0025608441792428493);\">élite</span> <span style=\"background-color:rgba(135, 206, 250, 0.0003354136715643108);\">au</span> <span style=\"background-color:rgba(135, 206, 250, 0.00047646494931541383);\">pouvoir</span> <span style=\"background-color:rgba(135, 206, 250, 0.0002574342070147395);\">,</span> <span style=\"background-color:rgba(135, 206, 250, 7.103451935108751e-05);\">les</span> <span style=\"background-color:rgba(135, 206, 250, 0.0015851727221161127);\">leaders</span> <span style=\"background-color:rgba(135, 206, 250, 0.0029945794958621264);\">syndicaux</span> <span style=\"background-color:rgba(135, 206, 250, 0.1586168259382248);\">renchérirent</span> <span style=\"background-color:rgba(135, 206, 250, 0.005158131942152977);\">sur</span> <span style=\"background-color:rgba(135, 206, 250, 0.0007227380410768092);\">les</span> <span style=\"background-color:rgba(135, 206, 250, 0.002588150091469288);\">représentants</span> <span style=\"background-color:rgba(135, 206, 250, 0.0004848041571676731);\">du</span> <span style=\"background-color:rgba(135, 206, 250, 0.0012660492211580276);\">grand</span> <span style=\"background-color:rgba(135, 206, 250, 0.0031648739241063595);\">patronat</span> <span style=\"background-color:rgba(135, 206, 250, 0.0006691219168715179);\">pour</span> <span style=\"background-color:rgba(135, 206, 250, 0.003172614611685276);\">défendre</span> <span style=\"background-color:rgba(135, 206, 250, 0.00025747987092472613);\">l'</span> <span style=\"background-color:rgba(135, 206, 250, 0.002698698081076145);\">idéologie</span> <span style=\"background-color:rgba(135, 206, 250, 0.00039872710476629436);\">de</span> <span style=\"background-color:rgba(135, 206, 250, 0.0001939606008818373);\">la</span> <span style=\"background-color:rgba(135, 206, 250, 0.002106781816110015);\">guerre</span> <span style=\"background-color:rgba(135, 206, 250, 0.010252002626657486);\">froide</span> <span style=\"background-color:rgba(135, 206, 250, 0.0010906965471804142);\">et</span> <span style=\"background-color:rgba(135, 206, 250, 0.0005748101975768805);\">l'</span> <span style=\"background-color:rgba(135, 206, 250, 1.25);\">A.F.L.-CI.O.</span> <span style=\"background-color:rgba(135, 206, 250, 0.14289064705371857);\">coopéra</span> <span style=\"background-color:rgba(135, 206, 250, 0.016716232523322105);\">activement</span> <span style=\"background-color:rgba(135, 206, 250, 0.0015320514794439077);\">avec</span> <span style=\"background-color:rgba(135, 206, 250, 0.00021076864504721016);\">la</span> <span style=\"background-color:rgba(135, 206, 250, 0.0);\">C.I.A.</span> <span style=\"background-color:rgba(135, 206, 250, 6.15761018707417e-05);\">pour</span> <span style=\"background-color:rgba(135, 206, 250, 0.0004480980569496751);\">empêcher</span> <span style=\"background-color:rgba(135, 206, 250, 0.0004616078222170472);\">que</span> <span style=\"background-color:rgba(135, 206, 250, 0.00018344144336879253);\">le</span> <span style=\"background-color:rgba(135, 206, 250, 0.002734402660280466);\">mouvement</span> <span style=\"background-color:rgba(135, 206, 250, 0.001215582713484764);\">ouvrier</span> <span style=\"background-color:rgba(135, 206, 250, 1.177298903465271);\">latino-américain</span> <span style=\"background-color:rgba(135, 206, 250, 0.011140268296003342);\">ne</span> <span style=\"background-color:rgba(135, 206, 250, 0.005962749477475882);\">soit</span> <span style=\"background-color:rgba(135, 206, 250, 0.053868819028139114);\">contaminé</span> <span style=\"background-color:rgba(135, 206, 250, 0.006600901950150728);\">par</span> <span style=\"background-color:rgba(135, 206, 250, 0.0011440182570368052);\">les</span> <span style=\"background-color:rgba(135, 206, 250, 0.007805331144481897);\">idéologies</span> <span style=\"background-color:rgba(135, 206, 250, 0.0010288067860528827);\">de</span> <span style=\"background-color:rgba(135, 206, 250, 0.002202166710048914);\">gauche</span> <span style=\"background-color:rgba(135, 206, 250, 0.0005323372315615416);\">.</span></td><td>1.0</td></tr><tr><td>1</td><td><span style=\"background-color:rgba(135, 206, 250, 0.0013049428816884756);\">Ainsi</span> <span style=\"background-color:rgba(135, 206, 250, 0.0008112706709653139);\">certaines</span> <span style=\"background-color:rgba(135, 206, 250, 0.0007316165720112622);\">formes</span> <span style=\"background-color:rgba(135, 206, 250, 0.00039587041828781366);\">de</span> <span style=\"background-color:rgba(135, 206, 250, 0.0008143691229633987);\">participation</span> <span style=\"background-color:rgba(135, 206, 250, 0.0007199675892479718);\">proches</span> <span style=\"background-color:rgba(135, 206, 250, 0.00021713685418944806);\">de</span> <span style=\"background-color:rgba(135, 206, 250, 3.491634561214596e-05);\">la</span> <span style=\"background-color:rgba(135, 206, 250, 0.0);\">démocratie</span> <span style=\"background-color:rgba(135, 206, 250, 0.00012811568740289658);\">directe</span> <span style=\"background-color:rgba(135, 206, 250, 0.0004287751216907054);\">s'</span> <span style=\"background-color:rgba(135, 206, 250, 0.001334192231297493);\">avèrent</span> <span style=\"background-color:rgba(135, 206, 250, 0.0008342284709215164);\">possibles</span> <span style=\"background-color:rgba(135, 206, 250, 0.0006177938194014132);\">à</span> <span style=\"background-color:rgba(135, 206, 250, 0.0002645222994033247);\">l'</span> <span style=\"background-color:rgba(135, 206, 250, 0.0008725968073122203);\">échelle</span> <span style=\"background-color:rgba(135, 206, 250, 0.0006486056372523308);\">de</span> <span style=\"background-color:rgba(135, 206, 250, 0.0024191446136683226);\">petites</span> <span style=\"background-color:rgba(135, 206, 250, 0.0015710537554696202);\">communes</span> <span style=\"background-color:rgba(135, 206, 250, 0.000999043113552034);\">de</span> <span style=\"background-color:rgba(135, 206, 250, 0.0020566899329423904);\">600</span> <span style=\"background-color:rgba(135, 206, 250, 0.011599396355450153);\">habitants</span> <span style=\"background-color:rgba(135, 206, 250, 0.0026964859571307898);\">comme</span> <span style=\"background-color:rgba(135, 206, 250, 0.001141176326200366);\">à</span> <span style=\"background-color:rgba(135, 206, 250, 0.00030645684455521405);\">Vandoncourt</span> <span style=\"background-color:rgba(135, 206, 250, 0.0006660338840447366);\">et</span> <span style=\"background-color:rgba(135, 206, 250, 0.0010416575241833925);\">de</span> <span style=\"background-color:rgba(135, 206, 250, 1.25);\">1200</span> <span style=\"background-color:rgba(135, 206, 250, 0.2849777638912201);\">habitants</span> <span style=\"background-color:rgba(135, 206, 250, 0.03407863527536392);\">comme</span> <span style=\"background-color:rgba(135, 206, 250, 0.007721835747361183);\">à</span> <span style=\"background-color:rgba(135, 206, 250, 0.0015691568842157722);\">Coupvray</span> <span style=\"background-color:rgba(135, 206, 250, 0.0006808958714827895);\">.</span></td><td><span style=\"background-color:rgba(135, 206, 250, 0.0007579780649393797);\">Par</span> <span style=\"background-color:rgba(135, 206, 250, 0.001618585898540914);\">contre</span> <span style=\"background-color:rgba(135, 206, 250, 0.0004074321477673948);\">elles</span> <span style=\"background-color:rgba(135, 206, 250, 0.00019128367421217263);\">deviennent</span> <span style=\"background-color:rgba(135, 206, 250, 0.0013915657764300704);\">utopiques</span> <span style=\"background-color:rgba(135, 206, 250, 0.00045188909280113876);\">à</span> <span style=\"background-color:rgba(135, 206, 250, 0.011340898461639881);\">léchelle</span> <span style=\"background-color:rgba(135, 206, 250, 0.0007158928783610463);\">de</span> <span style=\"background-color:rgba(135, 206, 250, 0.00016331273945979774);\">Grande-Synthe</span> <span style=\"background-color:rgba(135, 206, 250, 0.0002570122014731169);\">,</span> <span style=\"background-color:rgba(135, 206, 250, 0.017657414078712463);\">ZUP</span> <span style=\"background-color:rgba(135, 206, 250, 0.001127040246501565);\">de</span> <span style=\"background-color:rgba(135, 206, 250, 0.0015153216663748026);\">15000</span> <span style=\"background-color:rgba(135, 206, 250, 0.004640932194888592);\">habitants</span> <span style=\"background-color:rgba(135, 206, 250, 0.0003808343899436295);\">,</span> <span style=\"background-color:rgba(135, 206, 250, 3.9052854845067486e-05);\">où</span> <span style=\"background-color:rgba(135, 206, 250, 8.410927875956986e-06);\">le</span> <span style=\"background-color:rgba(135, 206, 250, 0.00020528098684735596);\">problème</span> <span style=\"background-color:rgba(135, 206, 250, 0.0015696128830313683);\">essentiel</span> <span style=\"background-color:rgba(135, 206, 250, 0.0006730810273438692);\">consiste</span> <span style=\"background-color:rgba(135, 206, 250, 0.00033991425880230963);\">plutôt</span> <span style=\"background-color:rgba(135, 206, 250, 0.00014328757242765278);\">à</span> <span style=\"background-color:rgba(135, 206, 250, 4.910992720397189e-05);\">créer</span> <span style=\"background-color:rgba(135, 206, 250, 1.238327968167141e-05);\">la</span> <span style=\"background-color:rgba(135, 206, 250, 0.0);\">ville</span> <span style=\"background-color:rgba(135, 206, 250, 8.750366396270692e-05);\">,</span> <span style=\"background-color:rgba(135, 206, 250, 0.00014727626694366336);\">à</span> <span style=\"background-color:rgba(135, 206, 250, 0.00019134253670927137);\">partir</span> <span style=\"background-color:rgba(135, 206, 250, 0.00022785027977079153);\">de</span> <span style=\"background-color:rgba(135, 206, 250, 0.0009131309343501925);\">communautés</span> <span style=\"background-color:rgba(135, 206, 250, 1.25);\">éthniques</span> <span style=\"background-color:rgba(135, 206, 250, 0.009494420140981674);\">de</span> <span style=\"background-color:rgba(135, 206, 250, 0.007402315735816956);\">toutes</span> <span style=\"background-color:rgba(135, 206, 250, 0.009849855676293373);\">provenances</span> <span style=\"background-color:rgba(135, 206, 250, 0.001220458885654807);\">qui</span> <span style=\"background-color:rgba(135, 206, 250, 0.00017659581499174237);\">n'</span> <span style=\"background-color:rgba(135, 206, 250, 4.3561401980696246e-05);\">ont</span> <span style=\"background-color:rgba(135, 206, 250, 9.228085400536656e-05);\">à</span> <span style=\"background-color:rgba(135, 206, 250, 9.084786870516837e-05);\">aucun</span> <span style=\"background-color:rgba(135, 206, 250, 3.826541069429368e-05);\">moment</span> <span style=\"background-color:rgba(135, 206, 250, 6.779643445042893e-05);\">décidé</span> <span style=\"background-color:rgba(135, 206, 250, 9.37855220399797e-05);\">de</span> <span style=\"background-color:rgba(135, 206, 250, 0.00023326814698521048);\">vivre</span> <span style=\"background-color:rgba(135, 206, 250, 0.00022688068565912545);\">ensemble</span> <span style=\"background-color:rgba(135, 206, 250, 0.00019565857655834407);\">.</span></td><td>1.0</td></tr><tr><td>2</td><td><span style=\"background-color:rgba(135, 206, 250, 0.03351105377078056);\">Qu'</span> <span style=\"background-color:rgba(135, 206, 250, 0.023840798065066338);\">est</span> <span style=\"background-color:rgba(135, 206, 250, 0.040774837136268616);\">-ce</span> <span style=\"background-color:rgba(135, 206, 250, 0.009533737786114216);\">à</span> <span style=\"background-color:rgba(135, 206, 250, 0.009074441157281399);\">dire</span> <span style=\"background-color:rgba(135, 206, 250, 0.040300194174051285);\">?</span> <span style=\"background-color:rgba(135, 206, 250, 0.021909957751631737);\">Que</span> <span style=\"background-color:rgba(135, 206, 250, 0.0);\">l'</span> <span style=\"background-color:rgba(135, 206, 250, 0.019799841567873955);\">autogestion</span> <span style=\"background-color:rgba(135, 206, 250, 0.018838101997971535);\">est</span> <span style=\"background-color:rgba(135, 206, 250, 0.0113965580239892);\">une</span> <span style=\"background-color:rgba(135, 206, 250, 0.33365023136138916);\">ineptie</span> <span style=\"background-color:rgba(135, 206, 250, 0.02203100547194481);\">actuellement</span> <span style=\"background-color:rgba(135, 206, 250, 0.06982005387544632);\">?</span> <span style=\"background-color:rgba(135, 206, 250, 0.02507690154016018);\">et</span> <span style=\"background-color:rgba(135, 206, 250, 0.0376427136361599);\">que</span> <span style=\"background-color:rgba(135, 206, 250, 0.013702229596674442);\">la</span> <span style=\"background-color:rgba(135, 206, 250, 0.2144908905029297);\">sagesse</span> <span style=\"background-color:rgba(135, 206, 250, 1.25);\">prônerait</span> <span style=\"background-color:rgba(135, 206, 250, 0.07605063170194626);\">une</span> <span style=\"background-color:rgba(135, 206, 250, 0.45577821135520935);\">vigilante</span> <span style=\"background-color:rgba(135, 206, 250, 0.09170917421579361);\">co-gestion</span> <span style=\"background-color:rgba(135, 206, 250, 0.10375739634037018);\">?</span> <span style=\"background-color:rgba(135, 206, 250, 0.04452536255121231);\">Pas</span> <span style=\"background-color:rgba(135, 206, 250, 0.058764468878507614);\">précisément</span> <span style=\"background-color:rgba(135, 206, 250, 0.04072798416018486);\">.</span></td><td><span style=\"background-color:rgba(135, 206, 250, 0.013272223994135857);\">Là</span> <span style=\"background-color:rgba(135, 206, 250, 0.007228427100926638);\">il</span> <span style=\"background-color:rgba(135, 206, 250, 0.08106989413499832);\">faut</span> <span style=\"background-color:rgba(135, 206, 250, 0.047559093683958054);\">reprendre</span> <span style=\"background-color:rgba(135, 206, 250, 0.014450744725763798);\">le</span> <span style=\"background-color:rgba(135, 206, 250, 0.3198760449886322);\">mot</span> <span style=\"background-color:rgba(135, 206, 250, 0.06796447932720184);\">,</span> <span style=\"background-color:rgba(135, 206, 250, 0.04614881053566933);\">et</span> <span style=\"background-color:rgba(135, 206, 250, 0.0500354990363121);\">au</span> <span style=\"background-color:rgba(135, 206, 250, 0.47126588225364685);\">mot</span> <span style=\"background-color:rgba(135, 206, 250, 0.08526073396205902);\">,</span> <span style=\"background-color:rgba(135, 206, 250, 0.030412305146455765);\">Che</span> <span style=\"background-color:rgba(135, 206, 250, 0.014936021529138088);\">Guevarra</span> <span style=\"background-color:rgba(135, 206, 250, 0.0363251268863678);\">:</span> <span style=\"background-color:rgba(135, 206, 250, 0.004299445543438196);\">«</span> <span style=\"background-color:rgba(135, 206, 250, 0.002392026362940669);\">créons</span> <span style=\"background-color:rgba(135, 206, 250, 0.01175057701766491);\">,</span> <span style=\"background-color:rgba(135, 206, 250, 0.014623246155679226);\">dans</span> <span style=\"background-color:rgba(135, 206, 250, 0.006297294516116381);\">le</span> <span style=\"background-color:rgba(135, 206, 250, 0.05543222278356552);\">monde</span> <span style=\"background-color:rgba(135, 206, 250, 0.020858801901340485);\">,</span> <span style=\"background-color:rgba(135, 206, 250, 0.0513482540845871);\">deux</span> <span style=\"background-color:rgba(135, 206, 250, 0.026771605014801025);\">ou</span> <span style=\"background-color:rgba(135, 206, 250, 0.024420268833637238);\">trois</span> <span style=\"background-color:rgba(135, 206, 250, 0.007370820268988609);\">Vietnam</span> <span style=\"background-color:rgba(135, 206, 250, 0.031566426157951355);\">»</span> <span style=\"background-color:rgba(135, 206, 250, 0.02714603953063488);\">;</span> <span style=\"background-color:rgba(135, 206, 250, 0.0);\">Créons</span> <span style=\"background-color:rgba(135, 206, 250, 0.003067290410399437);\">où</span> <span style=\"background-color:rgba(135, 206, 250, 0.004575977101922035);\">l'</span> <span style=\"background-color:rgba(135, 206, 250, 0.020848559215664864);\">on</span> <span style=\"background-color:rgba(135, 206, 250, 0.042352400720119476);\">peut</span> <span style=\"background-color:rgba(135, 206, 250, 0.0223905798047781);\">des</span> <span style=\"background-color:rgba(135, 206, 250, 0.0630386546254158);\">contre-milieux</span> <span style=\"background-color:rgba(135, 206, 250, 0.020806200802326202);\">de</span> <span style=\"background-color:rgba(135, 206, 250, 0.03524424880743027);\">lutte</span> <span style=\"background-color:rgba(135, 206, 250, 0.02145041525363922);\">à</span> <span style=\"background-color:rgba(135, 206, 250, 0.0419732965528965);\">tous</span> <span style=\"background-color:rgba(135, 206, 250, 0.012499549426138401);\">les</span> <span style=\"background-color:rgba(135, 206, 250, 0.11160950362682343);\">niveaux</span> <span style=\"background-color:rgba(135, 206, 250, 0.0944119319319725);\">..</span> <span style=\"background-color:rgba(135, 206, 250, 0.04355267062783241);\">Dans</span> <span style=\"background-color:rgba(135, 206, 250, 0.017284782603383064);\">la</span> <span style=\"background-color:rgba(135, 206, 250, 0.05781754478812218);\">perspective</span> <span style=\"background-color:rgba(135, 206, 250, 0.026262737810611725);\">d'</span> <span style=\"background-color:rgba(135, 206, 250, 0.02445351518690586);\">une</span> <span style=\"background-color:rgba(135, 206, 250, 0.12730886042118073);\">socialisation</span> <span style=\"background-color:rgba(135, 206, 250, 0.3976091742515564);\">lente</span> <span style=\"background-color:rgba(135, 206, 250, 0.19903558492660522);\">?</span> <span style=\"background-color:rgba(135, 206, 250, 1.25);\">Oui</span> <span style=\"background-color:rgba(135, 206, 250, 0.10148587822914124);\">et</span> <span style=\"background-color:rgba(135, 206, 250, 0.13206501305103302);\">non</span> <span style=\"background-color:rgba(135, 206, 250, 0.06764007359743118);\">.</span></td><td>1.0</td></tr><tr><td>3</td><td><span style=\"background-color:rgba(135, 206, 250, 7.809954695403576e-05);\">Si</span> <span style=\"background-color:rgba(135, 206, 250, 0.0015537224244326353);\">la</span> <span style=\"background-color:rgba(135, 206, 250, 0.15125291049480438);\">quête</span> <span style=\"background-color:rgba(135, 206, 250, 0.014468600042164326);\">des</span> <span style=\"background-color:rgba(135, 206, 250, 0.1813824474811554);\">racines</span> <span style=\"background-color:rgba(135, 206, 250, 0.02528340369462967);\">est</span> <span style=\"background-color:rgba(135, 206, 250, 0.020403603091835976);\">nécessaire</span> <span style=\"background-color:rgba(135, 206, 250, 0.012402328662574291);\">,</span> <span style=\"background-color:rgba(135, 206, 250, 0.01390172727406025);\">car</span> <span style=\"background-color:rgba(135, 206, 250, 0.03738151118159294);\">celles-ci</span> <span style=\"background-color:rgba(135, 206, 250, 0.06073056533932686);\">servent</span> <span style=\"background-color:rgba(135, 206, 250, 0.027326922863721848);\">à</span> <span style=\"background-color:rgba(135, 206, 250, 0.2887960970401764);\">projeter</span> <span style=\"background-color:rgba(135, 206, 250, 0.03567461669445038);\">des</span> <span style=\"background-color:rgba(135, 206, 250, 0.5447959899902344);\">rameaux</span> <span style=\"background-color:rgba(135, 206, 250, 0.024906650185585022);\">nouveaux</span> <span style=\"background-color:rgba(135, 206, 250, 0.033218033611774445);\">vers</span> <span style=\"background-color:rgba(135, 206, 250, 0.01614539325237274);\">le</span> <span style=\"background-color:rgba(135, 206, 250, 1.25);\">ciel</span> <span style=\"background-color:rgba(135, 206, 250, 0.04427626356482506);\">,</span> <span style=\"background-color:rgba(135, 206, 250, 0.03621584177017212);\">comme</span> <span style=\"background-color:rgba(135, 206, 250, 0.0061515094712376595);\">l'</span> <span style=\"background-color:rgba(135, 206, 250, 0.025868838652968407);\">écrit</span> <span style=\"background-color:rgba(135, 206, 250, 0.007573904935270548);\">Y.</span> <span style=\"background-color:rgba(135, 206, 250, 0.002399702789261937);\">Bourdet</span> <span style=\"background-color:rgba(135, 206, 250, 0.004276477266103029);\">,</span> <span style=\"background-color:rgba(135, 206, 250, 0.0010827434016391635);\">il</span> <span style=\"background-color:rgba(135, 206, 250, 0.02221328392624855);\">reste</span> <span style=\"background-color:rgba(135, 206, 250, 0.015397366136312485);\">que</span> <span style=\"background-color:rgba(135, 206, 250, 0.002689849119633436);\">l'</span> <span style=\"background-color:rgba(135, 206, 250, 0.04351167753338814);\">adaptation</span> <span style=\"background-color:rgba(135, 206, 250, 0.00421468261629343);\">d'</span> <span style=\"background-color:rgba(135, 206, 250, 0.0014988705515861511);\">institutions</span> <span style=\"background-color:rgba(135, 206, 250, 0.019481446593999863);\">anciennes</span> <span style=\"background-color:rgba(135, 206, 250, 0.00551564572378993);\">à</span> <span style=\"background-color:rgba(135, 206, 250, 0.0);\">la</span> <span style=\"background-color:rgba(135, 206, 250, 0.008457059971988201);\">société</span> <span style=\"background-color:rgba(135, 206, 250, 0.1939956247806549);\">contemporaine</span> <span style=\"background-color:rgba(135, 206, 250, 0.021730395033955574);\">ne</span> <span style=\"background-color:rgba(135, 206, 250, 0.031943581998348236);\">se</span> <span style=\"background-color:rgba(135, 206, 250, 0.0388137511909008);\">fait</span> <span style=\"background-color:rgba(135, 206, 250, 0.013621630147099495);\">pas</span> <span style=\"background-color:rgba(135, 206, 250, 0.016546521335840225);\">sans</span> <span style=\"background-color:rgba(135, 206, 250, 0.11225232481956482);\">mal</span> <span style=\"background-color:rgba(135, 206, 250, 0.021175941452383995);\">.</span></td><td><span style=\"background-color:rgba(135, 206, 250, 0.0006409326451830566);\">Le</span> <span style=\"background-color:rgba(135, 206, 250, 0.11628725379705429);\">maintien</span> <span style=\"background-color:rgba(135, 206, 250, 0.0045575606636703014);\">d'</span> <span style=\"background-color:rgba(135, 206, 250, 0.0);\">une</span> <span style=\"background-color:rgba(135, 206, 250, 0.001260163844563067);\">certaine</span> <span style=\"background-color:rgba(135, 206, 250, 0.0023487317375838757);\">forme</span> <span style=\"background-color:rgba(135, 206, 250, 0.0010361878667026758);\">ne</span> <span style=\"background-color:rgba(135, 206, 250, 0.027805790305137634);\">garantit</span> <span style=\"background-color:rgba(135, 206, 250, 0.0036288469564169645);\">pas</span> <span style=\"background-color:rgba(135, 206, 250, 0.0017962516285479069);\">celui</span> <span style=\"background-color:rgba(135, 206, 250, 0.0010667602764442563);\">de</span> <span style=\"background-color:rgba(135, 206, 250, 0.0020756141748279333);\">son</span> <span style=\"background-color:rgba(135, 206, 250, 0.028151463717222214);\">esprit</span> <span style=\"background-color:rgba(135, 206, 250, 0.007002001628279686);\">et</span> <span style=\"background-color:rgba(135, 206, 250, 0.01827317103743553);\">toutes</span> <span style=\"background-color:rgba(135, 206, 250, 0.005666334647685289);\">les</span> <span style=\"background-color:rgba(135, 206, 250, 1.25);\">manipulations</span> <span style=\"background-color:rgba(135, 206, 250, 0.04803958162665367);\">sont</span> <span style=\"background-color:rgba(135, 206, 250, 0.038079965859651566);\">possibles</span> <span style=\"background-color:rgba(135, 206, 250, 0.014016934670507908);\">.</span></td><td>1.0</td></tr><tr><td>4</td><td><span style=\"background-color:rgba(135, 206, 250, 0.6315959692001343);\">Intellectuels</span> <span style=\"background-color:rgba(135, 206, 250, 0.10415428876876831);\">,</span> <span style=\"background-color:rgba(135, 206, 250, 0.023865122348070145);\">ouvriers</span> <span style=\"background-color:rgba(135, 206, 250, 0.007134825922548771);\">et</span> <span style=\"background-color:rgba(135, 206, 250, 0.2530481219291687);\">paysans</span> <span style=\"background-color:rgba(135, 206, 250, 0.04911547154188156);\">,</span> <span style=\"background-color:rgba(135, 206, 250, 0.05506354197859764);\">au</span> <span style=\"background-color:rgba(135, 206, 250, 1.25);\">contraire</span> <span style=\"background-color:rgba(135, 206, 250, 0.2721250057220459);\">,</span> <span style=\"background-color:rgba(135, 206, 250, 0.9884900450706482);\">constituent</span> <span style=\"background-color:rgba(135, 206, 250, 0.0266689695417881);\">Jimmense</span> <span style=\"background-color:rgba(135, 206, 250, 0.0);\">majorité</span> <span style=\"background-color:rgba(135, 206, 250, 0.02475937083363533);\">de</span> <span style=\"background-color:rgba(135, 206, 250, 0.24316909909248352);\">nos</span> <span style=\"background-color:rgba(135, 206, 250, 1.0185188055038452);\">peuples</span> <span style=\"background-color:rgba(135, 206, 250, 0.1968744397163391);\">.</span></td><td><span style=\"background-color:rgba(135, 206, 250, 0.017754990607500076);\">Ils</span> <span style=\"background-color:rgba(135, 206, 250, 0.09183825552463531);\">jouent</span> <span style=\"background-color:rgba(135, 206, 250, 0.016391480341553688);\">le</span> <span style=\"background-color:rgba(135, 206, 250, 0.089680515229702);\">rôle</span> <span style=\"background-color:rgba(135, 206, 250, 0.0);\">le</span> <span style=\"background-color:rgba(135, 206, 250, 0.003076898166909814);\">plus</span> <span style=\"background-color:rgba(135, 206, 250, 0.05426371097564697);\">actif</span> <span style=\"background-color:rgba(135, 206, 250, 0.03126814216375351);\">dans</span> <span style=\"background-color:rgba(135, 206, 250, 0.0027795336209237576);\">la</span> <span style=\"background-color:rgba(135, 206, 250, 0.05660995841026306);\">production</span> <span style=\"background-color:rgba(135, 206, 250, 0.04151974618434906);\">et</span> <span style=\"background-color:rgba(135, 206, 250, 0.01448351051658392);\">la</span> <span style=\"background-color:rgba(135, 206, 250, 0.07000687718391418);\">reproduction</span> <span style=\"background-color:rgba(135, 206, 250, 0.022811714559793472);\">des</span> <span style=\"background-color:rgba(135, 206, 250, 0.07010633498430252);\">biens</span> <span style=\"background-color:rgba(135, 206, 250, 0.04858076944947243);\">,</span> <span style=\"background-color:rgba(135, 206, 250, 0.23835217952728271);\">services</span> <span style=\"background-color:rgba(135, 206, 250, 0.08089389652013779);\">et</span> <span style=\"background-color:rgba(135, 206, 250, 0.20074108242988586);\">valeurs</span> <span style=\"background-color:rgba(135, 206, 250, 0.10693380236625671);\">qui</span> <span style=\"background-color:rgba(135, 206, 250, 0.6223810911178589);\">nôus</span> <span style=\"background-color:rgba(135, 206, 250, 0.46926578879356384);\">constituent</span> <span style=\"background-color:rgba(135, 206, 250, 0.09507425874471664);\">en</span> <span style=\"background-color:rgba(135, 206, 250, 0.0661604031920433);\">tant</span> <span style=\"background-color:rgba(135, 206, 250, 0.12598523497581482);\">qu'</span> <span style=\"background-color:rgba(135, 206, 250, 1.25);\">entité</span> <span style=\"background-color:rgba(135, 206, 250, 0.5143190026283264);\">spécifique</span> <span style=\"background-color:rgba(135, 206, 250, 0.10639046877622604);\">,</span> <span style=\"background-color:rgba(135, 206, 250, 0.05598267540335655);\">à</span> <span style=\"background-color:rgba(135, 206, 250, 0.026137756183743477);\">tel</span> <span style=\"background-color:rgba(135, 206, 250, 0.16730254888534546);\">point</span> <span style=\"background-color:rgba(135, 206, 250, 0.12202689051628113);\">que</span> <span style=\"background-color:rgba(135, 206, 250, 0.06754844635725021);\">sans</span> <span style=\"background-color:rgba(135, 206, 250, 0.07106022536754608);\">eux</span> <span style=\"background-color:rgba(135, 206, 250, 0.042400531470775604);\">nous</span> <span style=\"background-color:rgba(135, 206, 250, 0.0016737293917685747);\">n'</span> <span style=\"background-color:rgba(135, 206, 250, 0.017205657437443733);\">existerions</span> <span style=\"background-color:rgba(135, 206, 250, 0.04834746941924095);\">pas</span> <span style=\"background-color:rgba(135, 206, 250, 0.05067192018032074);\">.</span></td><td>0.98</td></tr><tr><td>5</td><td><span style=\"background-color:rgba(135, 206, 250, 0.8865121603012085);\">Je</span> <span style=\"background-color:rgba(135, 206, 250, 1.25);\">crois</span> <span style=\"background-color:rgba(135, 206, 250, 0.337655246257782);\">que</span> <span style=\"background-color:rgba(135, 206, 250, 0.0);\">c'</span> <span style=\"background-color:rgba(135, 206, 250, 0.12423153221607208);\">est</span> <span style=\"background-color:rgba(135, 206, 250, 0.07158906757831573);\">un</span> <span style=\"background-color:rgba(135, 206, 250, 0.39152103662490845);\">problème</span> <span style=\"background-color:rgba(135, 206, 250, 0.20651790499687195);\">.</span></td><td><span style=\"background-color:rgba(135, 206, 250, 0.03729865700006485);\">Mais</span> <span style=\"background-color:rgba(135, 206, 250, 0.010469458997249603);\">il</span> <span style=\"background-color:rgba(135, 206, 250, 0.01081519853323698);\">y</span> <span style=\"background-color:rgba(135, 206, 250, 0.013791956938803196);\">a</span> <span style=\"background-color:rgba(135, 206, 250, 0.018685778602957726);\">une</span> <span style=\"background-color:rgba(135, 206, 250, 0.1822258085012436);\">chose</span> <span style=\"background-color:rgba(135, 206, 250, 0.035141900181770325);\">,</span> <span style=\"background-color:rgba(135, 206, 250, 0.021099181845784187);\">et</span> <span style=\"background-color:rgba(135, 206, 250, 0.0059874821454286575);\">c'</span> <span style=\"background-color:rgba(135, 206, 250, 0.024638105183839798);\">est</span> <span style=\"background-color:rgba(135, 206, 250, 0.013657057657837868);\">là</span> <span style=\"background-color:rgba(135, 206, 250, 0.0034826933406293392);\">où</span> <span style=\"background-color:rgba(135, 206, 250, 0.09611762315034866);\">je</span> <span style=\"background-color:rgba(135, 206, 250, 0.1102205440402031);\">rejoins</span> <span style=\"background-color:rgba(135, 206, 250, 0.12288042902946472);\">entièrement</span> <span style=\"background-color:rgba(135, 206, 250, 0.041935961693525314);\">René</span> <span style=\"background-color:rgba(135, 206, 250, 0.021700497716665268);\">Carème</span> <span style=\"background-color:rgba(135, 206, 250, 0.01902013085782528);\">(</span> <span style=\"background-color:rgba(135, 206, 250, 0.021455636247992516);\">le</span> <span style=\"background-color:rgba(135, 206, 250, 0.38453638553619385);\">marie</span> <span style=\"background-color:rgba(135, 206, 250, 0.062379367649555206);\">de</span> <span style=\"background-color:rgba(135, 206, 250, 0.013408671133220196);\">Grande</span> <span style=\"background-color:rgba(135, 206, 250, 0.0);\">Synthe</span> <span style=\"background-color:rgba(135, 206, 250, 0.01656661182641983);\">)</span> <span style=\"background-color:rgba(135, 206, 250, 0.03125699982047081);\">,</span> <span style=\"background-color:rgba(135, 206, 250, 0.16492906212806702);\">je</span> <span style=\"background-color:rgba(135, 206, 250, 0.3046345114707947);\">crois</span> <span style=\"background-color:rgba(135, 206, 250, 1.25);\">terriblement</span> <span style=\"background-color:rgba(135, 206, 250, 0.19876550137996674);\">comme</span> <span style=\"background-color:rgba(135, 206, 250, 0.08940833806991577);\">lui</span> <span style=\"background-color:rgba(135, 206, 250, 0.03893609717488289);\">dans</span> <span style=\"background-color:rgba(135, 206, 250, 0.009581055492162704);\">la</span> <span style=\"background-color:rgba(135, 206, 250, 0.056047383695840836);\">valeur</span> <span style=\"background-color:rgba(135, 206, 250, 0.01749155856668949);\">de</span> <span style=\"background-color:rgba(135, 206, 250, 0.003111168509349227);\">la</span> <span style=\"background-color:rgba(135, 206, 250, 0.0023368531838059425);\">vie</span> <span style=\"background-color:rgba(135, 206, 250, 0.2658521234989166);\">associative</span> <span style=\"background-color:rgba(135, 206, 250, 0.08182927966117859);\">,</span> <span style=\"background-color:rgba(135, 206, 250, 0.06398342549800873);\">dans</span> <span style=\"background-color:rgba(135, 206, 250, 0.025798728689551353);\">les</span> <span style=\"background-color:rgba(135, 206, 250, 0.09586532413959503);\">associations</span> <span style=\"background-color:rgba(135, 206, 250, 0.4454891085624695);\">volontaires</span> <span style=\"background-color:rgba(135, 206, 250, 0.10711682587862015);\">.</span></td><td>1.0</td></tr><tr><td>6</td><td><span style=\"background-color:rgba(135, 206, 250, 0.0027698928024619818);\">Indignés</span> <span style=\"background-color:rgba(135, 206, 250, 0.0022360123693943024);\">,</span> <span style=\"background-color:rgba(135, 206, 250, 0.0);\">ces</span> <span style=\"background-color:rgba(135, 206, 250, 0.011505374684929848);\">travailleurs</span> <span style=\"background-color:rgba(135, 206, 250, 0.0032862513326108456);\">ont</span> <span style=\"background-color:rgba(135, 206, 250, 0.01210126280784607);\">tout</span> <span style=\"background-color:rgba(135, 206, 250, 0.019981902092695236);\">simplement</span> <span style=\"background-color:rgba(135, 206, 250, 0.4296804666519165);\">chargé</span> <span style=\"background-color:rgba(135, 206, 250, 0.0177034642547369);\">le</span> <span style=\"background-color:rgba(135, 206, 250, 1.25);\">métal</span> <span style=\"background-color:rgba(135, 206, 250, 0.11765356361865997);\">demandé</span> <span style=\"background-color:rgba(135, 206, 250, 0.046125106513500214);\">sur</span> <span style=\"background-color:rgba(135, 206, 250, 0.008325859904289246);\">le</span> <span style=\"background-color:rgba(135, 206, 250, 0.1285928189754486);\">camion</span> <span style=\"background-color:rgba(135, 206, 250, 0.015194705687463284);\">,</span> <span style=\"background-color:rgba(135, 206, 250, 0.008016552776098251);\">sans</span> <span style=\"background-color:rgba(135, 206, 250, 0.005181036423891783);\">en</span> <span style=\"background-color:rgba(135, 206, 250, 0.023805931210517883);\">référer</span> <span style=\"background-color:rgba(135, 206, 250, 0.009445433504879475);\">à</span> <span style=\"background-color:rgba(135, 206, 250, 0.010960934683680534);\">leur</span> <span style=\"background-color:rgba(135, 206, 250, 0.07974729686975479);\">employeur</span> <span style=\"background-color:rgba(135, 206, 250, 0.015175124630331993);\">.</span></td><td><span style=\"background-color:rgba(135, 206, 250, 0.024137644097208977);\">Celui</span> <span style=\"background-color:rgba(135, 206, 250, 0.01793774589896202);\">-</span> <span style=\"background-color:rgba(135, 206, 250, 0.06097736209630966);\">ci</span> <span style=\"background-color:rgba(135, 206, 250, 0.03422313556075096);\">,</span> <span style=\"background-color:rgba(135, 206, 250, 0.14611299335956573);\">mis</span> <span style=\"background-color:rgba(135, 206, 250, 0.14653000235557556);\">devant</span> <span style=\"background-color:rgba(135, 206, 250, 0.0);\">le</span> <span style=\"background-color:rgba(135, 206, 250, 0.13409128785133362);\">fait</span> <span style=\"background-color:rgba(135, 206, 250, 0.4243760406970978);\">accompli</span> <span style=\"background-color:rgba(135, 206, 250, 0.04365290328860283);\">,</span> <span style=\"background-color:rgba(135, 206, 250, 0.0747014507651329);\">s'</span> <span style=\"background-color:rgba(135, 206, 250, 0.08086816966533661);\">est</span> <span style=\"background-color:rgba(135, 206, 250, 0.3568086326122284);\">borné</span> <span style=\"background-color:rgba(135, 206, 250, 0.13270823657512665);\">à</span> <span style=\"background-color:rgba(135, 206, 250, 0.2727774381637573);\">envoyer</span> <span style=\"background-color:rgba(135, 206, 250, 0.05107530951499939);\">la</span> <span style=\"background-color:rgba(135, 206, 250, 1.25);\">facture</span> <span style=\"background-color:rgba(135, 206, 250, 0.20674064755439758);\">.</span></td><td>1.0</td></tr><tr><td>7</td><td><span style=\"background-color:rgba(135, 206, 250, 0.02973351441323757);\">Les</span> <span style=\"background-color:rgba(135, 206, 250, 1.25);\">réflexions</span> <span style=\"background-color:rgba(135, 206, 250, 0.1377989947795868);\">et</span> <span style=\"background-color:rgba(135, 206, 250, 0.04364311695098877);\">les</span> <span style=\"background-color:rgba(135, 206, 250, 1.1140751838684082);\">conclusions</span> <span style=\"background-color:rgba(135, 206, 250, 0.9629133939743042);\">auxquelles</span> <span style=\"background-color:rgba(135, 206, 250, 0.42971253395080566);\">j'</span> <span style=\"background-color:rgba(135, 206, 250, 0.14422181248664856);\">aboutis</span> <span style=\"background-color:rgba(135, 206, 250, 0.022928858175873756);\">ont</span> <span style=\"background-color:rgba(135, 206, 250, 0.027346275746822357);\">,</span> <span style=\"background-color:rgba(135, 206, 250, 0.019197765737771988);\">dans</span> <span style=\"background-color:rgba(135, 206, 250, 0.0);\">une</span> <span style=\"background-color:rgba(135, 206, 250, 0.03244075924158096);\">certaine</span> <span style=\"background-color:rgba(135, 206, 250, 0.050678472965955734);\">mesure</span> <span style=\"background-color:rgba(135, 206, 250, 0.05487140640616417);\">,</span> <span style=\"background-color:rgba(135, 206, 250, 0.04501098766922951);\">un</span> <span style=\"background-color:rgba(135, 206, 250, 0.7441040873527527);\">caractère</span> <span style=\"background-color:rgba(135, 206, 250, 0.850042998790741);\">hypothétique</span> <span style=\"background-color:rgba(135, 206, 250, 0.15760691463947296);\">.</span></td><td><span style=\"background-color:rgba(135, 206, 250, 0.0658944770693779);\">Leur</span> <span style=\"background-color:rgba(135, 206, 250, 0.16245365142822266);\">orientation</span> <span style=\"background-color:rgba(135, 206, 250, 0.0913737416267395);\">est</span> <span style=\"background-color:rgba(135, 206, 250, 0.07661529630422592);\">donnée</span> <span style=\"background-color:rgba(135, 206, 250, 0.19589661061763763);\">par</span> <span style=\"background-color:rgba(135, 206, 250, 0.04620915278792381);\">les</span> <span style=\"background-color:rgba(135, 206, 250, 0.28706473112106323);\">faits</span> <span style=\"background-color:rgba(135, 206, 250, 1.25);\">empiriquement</span> <span style=\"background-color:rgba(135, 206, 250, 0.7033268809318542);\">vérifiés</span> <span style=\"background-color:rgba(135, 206, 250, 0.204720139503479);\">,</span> <span style=\"background-color:rgba(135, 206, 250, 0.13071779906749725);\">mais</span> <span style=\"background-color:rgba(135, 206, 250, 0.026320796459913254);\">les</span> <span style=\"background-color:rgba(135, 206, 250, 0.36829960346221924);\">considérations</span> <span style=\"background-color:rgba(135, 206, 250, 0.12654338777065277);\">elles</span> <span style=\"background-color:rgba(135, 206, 250, 0.042680367827415466);\">-</span> <span style=\"background-color:rgba(135, 206, 250, 0.0);\">mêmes</span> <span style=\"background-color:rgba(135, 206, 250, 0.20733386278152466);\">dépassent</span> <span style=\"background-color:rgba(135, 206, 250, 0.08250748366117477);\">,</span> <span style=\"background-color:rgba(135, 206, 250, 0.059535566717386246);\">dans</span> <span style=\"background-color:rgba(135, 206, 250, 0.05503884330391884);\">-</span> <span style=\"background-color:rgba(135, 206, 250, 0.12529335916042328);\">certains</span> <span style=\"background-color:rgba(135, 206, 250, 0.18323400616645813);\">cas</span> <span style=\"background-color:rgba(135, 206, 250, 0.16227814555168152);\">,</span> <span style=\"background-color:rgba(135, 206, 250, 0.06632936745882034);\">le</span> <span style=\"background-color:rgba(135, 206, 250, 0.31540167331695557);\">cadre</span> <span style=\"background-color:rgba(135, 206, 250, 0.14391785860061646);\">de</span> <span style=\"background-color:rgba(135, 206, 250, 0.08524321764707565);\">ces</span> <span style=\"background-color:rgba(135, 206, 250, 0.32661914825439453);\">derniers</span> <span style=\"background-color:rgba(135, 206, 250, 0.18796035647392273);\">.</span></td><td>1.0</td></tr><tr><td>8</td><td><span style=\"background-color:rgba(135, 206, 250, 0.12374424934387207);\">Mais</span> <span style=\"background-color:rgba(135, 206, 250, 0.11687266826629639);\">elle</span> <span style=\"background-color:rgba(135, 206, 250, 0.01876455545425415);\">en</span> <span style=\"background-color:rgba(135, 206, 250, 0.08438115566968918);\">est</span> <span style=\"background-color:rgba(135, 206, 250, 0.16816169023513794);\">sûrement</span> <span style=\"background-color:rgba(135, 206, 250, 0.035402677953243256);\">la</span> <span style=\"background-color:rgba(135, 206, 250, 1.25);\">préparation</span> <span style=\"background-color:rgba(135, 206, 250, 0.11123232543468475);\">et</span> <span style=\"background-color:rgba(135, 206, 250, 0.0);\">la</span> <span style=\"background-color:rgba(135, 206, 250, 0.01595171168446541);\">condition</span> <span style=\"background-color:rgba(135, 206, 250, 0.7593026161193848);\">indispensable</span> <span style=\"background-color:rgba(135, 206, 250, 0.16905909776687622);\">.</span></td><td><span style=\"background-color:rgba(135, 206, 250, 0.0002683406346477568);\">Cela</span> <span style=\"background-color:rgba(135, 206, 250, 0.000205252377782017);\">,</span> <span style=\"background-color:rgba(135, 206, 250, 0.0);\">le</span> <span style=\"background-color:rgba(135, 206, 250, 0.009734154678881168);\">marxisme</span> <span style=\"background-color:rgba(135, 206, 250, 0.0087790098041296);\">étatique</span> <span style=\"background-color:rgba(135, 206, 250, 0.0013063038932159543);\">,</span> <span style=\"background-color:rgba(135, 206, 250, 0.0027288286946713924);\">stalinien</span> <span style=\"background-color:rgba(135, 206, 250, 0.00098039663862437);\">ou</span> <span style=\"background-color:rgba(135, 206, 250, 1.25);\">néo-stalinien</span> <span style=\"background-color:rgba(135, 206, 250, 0.00988770928233862);\">,</span> <span style=\"background-color:rgba(135, 206, 250, 0.002714865142479539);\">ne</span> <span style=\"background-color:rgba(135, 206, 250, 0.0004838316817767918);\">l'</span> <span style=\"background-color:rgba(135, 206, 250, 0.002066985471174121);\">ignore</span> <span style=\"background-color:rgba(135, 206, 250, 0.00047853292198851705);\">pas</span> <span style=\"background-color:rgba(135, 206, 250, 0.00020402086374815553);\">.</span></td><td>1.0</td></tr><tr><td>9</td><td><span style=\"background-color:rgba(135, 206, 250, 0.018321672454476357);\">Le</span> <span style=\"background-color:rgba(135, 206, 250, 1.25);\">recueil</span> <span style=\"background-color:rgba(135, 206, 250, 0.05041451007127762);\">de</span> <span style=\"background-color:rgba(135, 206, 250, 0.020824410021305084);\">J.-J</span> <span style=\"background-color:rgba(135, 206, 250, 0.013753412291407585);\">,</span> <span style=\"background-color:rgba(135, 206, 250, 0.006467532366514206);\">Marie</span> <span style=\"background-color:rgba(135, 206, 250, 0.004219858441501856);\">à</span> <span style=\"background-color:rgba(135, 206, 250, 0.00047210839693434536);\">aussi</span> <span style=\"background-color:rgba(135, 206, 250, 0.0);\">l'</span> <span style=\"background-color:rgba(135, 206, 250, 0.005177651531994343);\">avantage</span> <span style=\"background-color:rgba(135, 206, 250, 0.0023709505330771208);\">de</span> <span style=\"background-color:rgba(135, 206, 250, 0.016099000349640846);\">montrer</span> <span style=\"background-color:rgba(135, 206, 250, 0.001061734976246953);\">comment</span> <span style=\"background-color:rgba(135, 206, 250, 0.006904450710862875);\">,</span> <span style=\"background-color:rgba(135, 206, 250, 0.007828082889318466);\">du</span> <span style=\"background-color:rgba(135, 206, 250, 0.03039335086941719);\">fait</span> <span style=\"background-color:rgba(135, 206, 250, 0.008921912871301174);\">de</span> <span style=\"background-color:rgba(135, 206, 250, 0.004080417566001415);\">l'</span> <span style=\"background-color:rgba(135, 206, 250, 0.05362861603498459);\">échec</span> <span style=\"background-color:rgba(135, 206, 250, 0.010129685513675213);\">de</span> <span style=\"background-color:rgba(135, 206, 250, 0.003264772007241845);\">la</span> <span style=\"background-color:rgba(135, 206, 250, 0.00828325655311346);\">révolution</span> <span style=\"background-color:rgba(135, 206, 250, 0.004189228639006615);\">en</span> <span style=\"background-color:rgba(135, 206, 250, 0.0030680932104587555);\">Allemagne</span> <span style=\"background-color:rgba(135, 206, 250, 0.0037527354434132576);\">,</span> <span style=\"background-color:rgba(135, 206, 250, 0.0006958393496461213);\">les</span> <span style=\"background-color:rgba(135, 206, 250, 0.009236292913556099);\">luttes</span> <span style=\"background-color:rgba(135, 206, 250, 0.003696572268381715);\">et</span> <span style=\"background-color:rgba(135, 206, 250, 0.0008846442215144634);\">les</span> <span style=\"background-color:rgba(135, 206, 250, 0.031818266957998276);\">polémiques</span> <span style=\"background-color:rgba(135, 206, 250, 0.021897627040743828);\">se</span> <span style=\"background-color:rgba(135, 206, 250, 0.027330921962857246);\">font</span> <span style=\"background-color:rgba(135, 206, 250, 0.007629467640072107);\">de</span> <span style=\"background-color:rgba(135, 206, 250, 0.005057312548160553);\">plus</span> <span style=\"background-color:rgba(135, 206, 250, 0.006936178542673588);\">en</span> <span style=\"background-color:rgba(135, 206, 250, 0.01140161044895649);\">plus</span> <span style=\"background-color:rgba(135, 206, 250, 0.826055109500885);\">âpres</span> <span style=\"background-color:rgba(135, 206, 250, 0.2003444880247116);\">entre</span> <span style=\"background-color:rgba(135, 206, 250, 0.026193246245384216);\">les</span> <span style=\"background-color:rgba(135, 206, 250, 0.042669303715229034);\">bolcheviks</span> <span style=\"background-color:rgba(135, 206, 250, 0.015939222648739815);\">.</span></td><td><span style=\"background-color:rgba(135, 206, 250, 0.030239904299378395);\">Après</span> <span style=\"background-color:rgba(135, 206, 250, 0.006040047854185104);\">la</span> <span style=\"background-color:rgba(135, 206, 250, 0.039845578372478485);\">fin</span> <span style=\"background-color:rgba(135, 206, 250, 0.015336809679865837);\">de</span> <span style=\"background-color:rgba(135, 206, 250, 0.004018251784145832);\">la</span> <span style=\"background-color:rgba(135, 206, 250, 0.0741284117102623);\">guerre</span> <span style=\"background-color:rgba(135, 206, 250, 0.09755872189998627);\">civile</span> <span style=\"background-color:rgba(135, 206, 250, 0.030763942748308182);\">qui</span> <span style=\"background-color:rgba(135, 206, 250, 0.00838479958474636);\">a</span> <span style=\"background-color:rgba(135, 206, 250, 0.04057653248310089);\">épuisé</span> <span style=\"background-color:rgba(135, 206, 250, 0.004666893742978573);\">le</span> <span style=\"background-color:rgba(135, 206, 250, 0.06884840875864029);\">prolétariat</span> <span style=\"background-color:rgba(135, 206, 250, 0.0354992151260376);\">russe</span> <span style=\"background-color:rgba(135, 206, 250, 0.016665443778038025);\">,</span> <span style=\"background-color:rgba(135, 206, 250, 0.019528286531567574);\">après</span> <span style=\"background-color:rgba(135, 206, 250, 0.006264596711844206);\">les</span> <span style=\"background-color:rgba(135, 206, 250, 0.14469662308692932);\">défaites</span> <span style=\"background-color:rgba(135, 206, 250, 0.017203155905008316);\">en</span> <span style=\"background-color:rgba(135, 206, 250, 0.005971256643533707);\">Hongrie</span> <span style=\"background-color:rgba(135, 206, 250, 0.006678277160972357);\">,</span> <span style=\"background-color:rgba(135, 206, 250, 0.005512898787856102);\">en</span> <span style=\"background-color:rgba(135, 206, 250, 0.00023087761655915529);\">Bavière</span> <span style=\"background-color:rgba(135, 206, 250, 0.0025999899953603745);\">et</span> <span style=\"background-color:rgba(135, 206, 250, 0.004919842816889286);\">en</span> <span style=\"background-color:rgba(135, 206, 250, 0.0008346848771907389);\">Bulgarie</span> <span style=\"background-color:rgba(135, 206, 250, 0.006712142378091812);\">,</span> <span style=\"background-color:rgba(135, 206, 250, 0.014185888692736626);\">à</span> <span style=\"background-color:rgba(135, 206, 250, 0.006874680984765291);\">la</span> <span style=\"background-color:rgba(135, 206, 250, 0.11225740611553192);\">veille</span> <span style=\"background-color:rgba(135, 206, 250, 0.019476091489195824);\">de</span> <span style=\"background-color:rgba(135, 206, 250, 0.0037081625778228045);\">la</span> <span style=\"background-color:rgba(135, 206, 250, 0.027104487642645836);\">lutte</span> <span style=\"background-color:rgba(135, 206, 250, 0.018138984218239784);\">qui</span> <span style=\"background-color:rgba(135, 206, 250, 0.04763033241033554);\">va</span> <span style=\"background-color:rgba(135, 206, 250, 0.04357511177659035);\">être</span> <span style=\"background-color:rgba(135, 206, 250, 0.35857829451560974);\">décisive</span> <span style=\"background-color:rgba(135, 206, 250, 0.028739191591739655);\">pour</span> <span style=\"background-color:rgba(135, 206, 250, 0.0036146582569926977);\">l'</span> <span style=\"background-color:rgba(135, 206, 250, 0.0);\">Allemagne</span> <span style=\"background-color:rgba(135, 206, 250, 0.00884820707142353);\">,</span> <span style=\"background-color:rgba(135, 206, 250, 0.004331428091973066);\">Staline</span> <span style=\"background-color:rgba(135, 206, 250, 0.06028309091925621);\">écrit</span> <span style=\"background-color:rgba(135, 206, 250, 0.03474227339029312);\">,</span> <span style=\"background-color:rgba(135, 206, 250, 0.034069035202264786);\">en</span> <span style=\"background-color:rgba(135, 206, 250, 0.24656902253627777);\">août</span> <span style=\"background-color:rgba(135, 206, 250, 1.25);\">1923</span> <span style=\"background-color:rgba(135, 206, 250, 0.35808297991752625);\">:</span> <span style=\"background-color:rgba(135, 206, 250, 0.04614696279168129);\">«</span> <span style=\"background-color:rgba(135, 206, 250, 0.004117504693567753);\">(</span> <span style=\"background-color:rgba(135, 206, 250, 0.009355265647172928);\">En</span> <span style=\"background-color:rgba(135, 206, 250, 0.010414795950055122);\">Allemagne)</span> <span style=\"background-color:rgba(135, 206, 250, 0.06577872484922409);\">…</span> <span style=\"background-color:rgba(135, 206, 250, 0.0268824752420187);\">.</span></td><td>1.0</td></tr></table>"
      ],
      "text/plain": [
       "<IPython.core.display.HTML object>"
      ]
     },
     "metadata": {},
     "output_type": "display_data"
    }
   ],
   "source": [
    "from modules import highlight\n",
    "BEGIN = 0\n",
    "END = 10    \n",
    "\n",
    "html='<table>'\n",
    "html += '<thead><tr><th>Index</th> <th>Premise</th> <th>Hypothesis</th> <th>Score</th> </tr></thead>'\n",
    "\n",
    "for idx, row in df_true_positive[BEGIN:END].iterrows():\n",
    "    \n",
    "    idx = str(row.name)\n",
    "    #premise = [tk['form'] for tk in s_tokens]\n",
    "    premise = highlight(row['premise.form'], row['premise.attention'])\n",
    "\n",
    "    #hypothesis = ' '.join([tk['form'] for tk in t_tokens])\n",
    "    hypothesis = highlight(row['hypothesis.form'], row['hypothesis.attention'])\n",
    "\n",
    "    score = str(round(row['y_score'], 2))\n",
    "    \n",
    "    html += '<tr>' + '<td>' + idx + '</td>' + '<td>' +premise + '</td>' + '<td>' + hypothesis + '</td>' + '<td>' + score + '</td>' +'</tr>'\n",
    "    \n",
    "html += '</table>'\n",
    "display(HTML(html))"
   ]
  },
  {
   "cell_type": "markdown",
   "id": "05725fbb-7bf6-4204-a43d-935612e2d398",
   "metadata": {},
   "source": [
    "Words received most of attention weight"
   ]
  },
  {
   "cell_type": "code",
   "execution_count": 12,
   "id": "f8610451-2b89-4f53-a15b-d94dded3215d",
   "metadata": {},
   "outputs": [],
   "source": [
    "import numpy as np\n",
    "import json\n",
    "\n",
    "ATTENDED_TOKEN_PATH = path.join(LOG_PATH, 'archival', MODEL_NAME, 'predictions', 'words_attention_mass.json')\n",
    "\n",
    "if path.exists(ATTENDED_TOKEN_PATH):\n",
    "    \n",
    "    # Load the attention mass if the file exits\n",
    "    with open(ATTENDED_TOKEN_PATH, 'r') as f:\n",
    "        avg_attention_mass = json.load(f)\n",
    "else:\n",
    "\n",
    "    # flatten and align tokens and attentions\n",
    "    tokens = np.concatenate(df_true_positive['premise.norm'].tolist()).tolist()\n",
    "    attentions = np.concatenate(df_true_positive['premise.attention'].tolist()).tolist()\n",
    "    assert len(tokens) == len(attentions), 'Not compatible length'\n",
    "\n",
    "    # cumulate attention weights\n",
    "    attention_mass = {}\n",
    "    word_occurence = {}\n",
    "    for w, a in zip(tokens, attentions):\n",
    "        # w : word\n",
    "        # a : attention weight\n",
    "        attention_mass[w] = attention_mass.get(w, 0) + a\n",
    "        word_occurence[w] = word_occurence.get(w, 0) + 1\n",
    "\n",
    "    # renormalized by the word frequency \n",
    "    avg_attention_mass = {w : attention_mass[w]/word_occurence[w] for w in attention_mass}\n",
    "        \n",
    "    # sort by descending order\n",
    "    avg_attention_mass = {k: v for k, v in sorted(avg_attention_mass.items(), key=lambda item: -item[1])}\n",
    "\n",
    "    # Save to file\n",
    "    os.makedirs(path.dirname(ATTENDED_TOKEN_PATH))\n",
    "    with open(ATTENDED_TOKEN_PATH, 'w') as f:\n",
    "        json.dump(avg_attention_mass, f)"
   ]
  },
  {
   "cell_type": "code",
   "execution_count": 13,
   "id": "a3c21d14-85e1-42a1-99cf-1025780bc395",
   "metadata": {},
   "outputs": [
    {
     "data": {
      "image/png": "[encoded data removed]",
      "text/plain": [
       "<Figure size 2100x2100 with 1 Axes>"
      ]
     },
     "metadata": {
      "needs_background": "light"
     },
     "output_type": "display_data"
    }
   ],
   "source": [
    "import matplotlib.pyplot as plt\n",
    "plt.rcParams[\"figure.figsize\"] = (7,7)\n",
    "plt.rcParams['figure.dpi'] = 300\n",
    "\n",
    "N_WORDS = 20\n",
    "x = list(avg_attention_mass.keys())[:N_WORDS]\n",
    "y = list(avg_attention_mass.values())[:N_WORDS]\n",
    "plt.barh(x[::-1], y[::-1])\n",
    "\n",
    "plt.xticks(fontsize=14)\n",
    "plt.yticks(fontsize=14)\n",
    "plt.title(f'{N_WORDS} most attended words', fontsize=18)\n",
    "\n",
    "fig_path = path.join(tmp_path, 'figures')\n",
    "os.makedirs(fig_path, exist_ok=True)\n",
    "plt.savefig(path.join(fig_path, f'average_attn_mass_xnli.png'),dpi=100)\n",
    "plt.show()"
   ]
  },
  {
   "cell_type": "markdown",
   "id": "b4c0e269-dba9-4626-b202-6dc0ff0a5d36",
   "metadata": {},
   "source": [
    "# Evaluation in a subset"
   ]
  },
  {
   "cell_type": "code",
   "execution_count": 6,
   "id": "3ade15a0-0bf8-49c3-92ee-41e09d35468b",
   "metadata": {
    "ExecuteTime": {
     "end_time": "2023-07-18T17:03:22.453242Z",
     "start_time": "2023-07-18T17:03:22.024150Z"
    }
   },
   "outputs": [
    {
     "data": {
      "text/html": [
       "<div>\n",
       "<style scoped>\n",
       "    .dataframe tbody tr th:only-of-type {\n",
       "        vertical-align: middle;\n",
       "    }\n",
       "\n",
       "    .dataframe tbody tr th {\n",
       "        vertical-align: top;\n",
       "    }\n",
       "\n",
       "    .dataframe thead th {\n",
       "        text-align: right;\n",
       "    }\n",
       "</style>\n",
       "<table border=\"1\" class=\"dataframe\">\n",
       "  <thead>\n",
       "    <tr style=\"text-align: right;\">\n",
       "      <th></th>\n",
       "      <th>source.block.uid</th>\n",
       "      <th>target.block.uid</th>\n",
       "      <th>source.revue.id.persee</th>\n",
       "      <th>target.revue.id.persee</th>\n",
       "      <th>source.revue.id.fmsh</th>\n",
       "      <th>target.revue.id.fmsh</th>\n",
       "      <th>source.article.id</th>\n",
       "      <th>target.article.id</th>\n",
       "      <th>source.page.id.fmsh</th>\n",
       "      <th>target.page.id.fmsh</th>\n",
       "      <th>source.page.id.persee</th>\n",
       "      <th>target.page.id.persee</th>\n",
       "      <th>source.block.id</th>\n",
       "      <th>target.block.id</th>\n",
       "    </tr>\n",
       "  </thead>\n",
       "  <tbody>\n",
       "    <tr>\n",
       "      <th>0</th>\n",
       "      <td>FMSH_PB188a_00002_098_00</td>\n",
       "      <td>FMSH_PB188a_00002_098_00</td>\n",
       "      <td>autog_0005-0970_1967_num_2_1</td>\n",
       "      <td>autog_0005-0970_1967_num_2_1</td>\n",
       "      <td>FMSH_PB188a_00002</td>\n",
       "      <td>FMSH_PB188a_00002</td>\n",
       "      <td>autog_0005-0970_1967_num_2_1_902</td>\n",
       "      <td>autog_0005-0970_1967_num_2_1_902</td>\n",
       "      <td>FMSH_PB188a_00002_098</td>\n",
       "      <td>FMSH_PB188a_00002_098</td>\n",
       "      <td>autog_0005-0970_1967_num_2_1_T1_0096_0000_710</td>\n",
       "      <td>autog_0005-0970_1967_num_2_1_T1_0096_0000_710</td>\n",
       "      <td>0</td>\n",
       "      <td>0</td>\n",
       "    </tr>\n",
       "    <tr>\n",
       "      <th>1</th>\n",
       "      <td>FMSH_PB188a_00002_098_00</td>\n",
       "      <td>FMSH_PB188a_00002_102_00</td>\n",
       "      <td>autog_0005-0970_1967_num_2_1</td>\n",
       "      <td>autog_0005-0970_1967_num_2_1</td>\n",
       "      <td>FMSH_PB188a_00002</td>\n",
       "      <td>FMSH_PB188a_00002</td>\n",
       "      <td>autog_0005-0970_1967_num_2_1_902</td>\n",
       "      <td>autog_0005-0970_1967_num_2_1_902</td>\n",
       "      <td>FMSH_PB188a_00002_098</td>\n",
       "      <td>FMSH_PB188a_00002_102</td>\n",
       "      <td>autog_0005-0970_1967_num_2_1_T1_0096_0000_710</td>\n",
       "      <td>autog_0005-0970_1967_num_2_1_T1_0100_0000_710</td>\n",
       "      <td>0</td>\n",
       "      <td>0</td>\n",
       "    </tr>\n",
       "    <tr>\n",
       "      <th>2</th>\n",
       "      <td>FMSH_PB188a_00002_098_00</td>\n",
       "      <td>FMSH_PB188a_00002_099_01</td>\n",
       "      <td>autog_0005-0970_1967_num_2_1</td>\n",
       "      <td>autog_0005-0970_1967_num_2_1</td>\n",
       "      <td>FMSH_PB188a_00002</td>\n",
       "      <td>FMSH_PB188a_00002</td>\n",
       "      <td>autog_0005-0970_1967_num_2_1_902</td>\n",
       "      <td>autog_0005-0970_1967_num_2_1_902</td>\n",
       "      <td>FMSH_PB188a_00002_098</td>\n",
       "      <td>FMSH_PB188a_00002_099</td>\n",
       "      <td>autog_0005-0970_1967_num_2_1_T1_0096_0000_710</td>\n",
       "      <td>autog_0005-0970_1967_num_2_1_T1_0097_0000_710</td>\n",
       "      <td>0</td>\n",
       "      <td>1</td>\n",
       "    </tr>\n",
       "    <tr>\n",
       "      <th>3</th>\n",
       "      <td>FMSH_PB188a_00002_098_00</td>\n",
       "      <td>FMSH_PB188a_00002_102_01</td>\n",
       "      <td>autog_0005-0970_1967_num_2_1</td>\n",
       "      <td>autog_0005-0970_1967_num_2_1</td>\n",
       "      <td>FMSH_PB188a_00002</td>\n",
       "      <td>FMSH_PB188a_00002</td>\n",
       "      <td>autog_0005-0970_1967_num_2_1_902</td>\n",
       "      <td>autog_0005-0970_1967_num_2_1_902</td>\n",
       "      <td>FMSH_PB188a_00002_098</td>\n",
       "      <td>FMSH_PB188a_00002_102</td>\n",
       "      <td>autog_0005-0970_1967_num_2_1_T1_0096_0000_710</td>\n",
       "      <td>autog_0005-0970_1967_num_2_1_T1_0100_0000_710</td>\n",
       "      <td>0</td>\n",
       "      <td>1</td>\n",
       "    </tr>\n",
       "    <tr>\n",
       "      <th>4</th>\n",
       "      <td>FMSH_PB188a_00002_098_00</td>\n",
       "      <td>FMSH_PB188a_00002_097_07</td>\n",
       "      <td>autog_0005-0970_1967_num_2_1</td>\n",
       "      <td>autog_0005-0970_1967_num_2_1</td>\n",
       "      <td>FMSH_PB188a_00002</td>\n",
       "      <td>FMSH_PB188a_00002</td>\n",
       "      <td>autog_0005-0970_1967_num_2_1_902</td>\n",
       "      <td>autog_0005-0970_1967_num_2_1_902</td>\n",
       "      <td>FMSH_PB188a_00002_098</td>\n",
       "      <td>FMSH_PB188a_00002_097</td>\n",
       "      <td>autog_0005-0970_1967_num_2_1_T1_0096_0000_710</td>\n",
       "      <td>autog_0005-0970_1967_num_2_1_T1_0095_0000_710</td>\n",
       "      <td>0</td>\n",
       "      <td>7</td>\n",
       "    </tr>\n",
       "    <tr>\n",
       "      <th>...</th>\n",
       "      <td>...</td>\n",
       "      <td>...</td>\n",
       "      <td>...</td>\n",
       "      <td>...</td>\n",
       "      <td>...</td>\n",
       "      <td>...</td>\n",
       "      <td>...</td>\n",
       "      <td>...</td>\n",
       "      <td>...</td>\n",
       "      <td>...</td>\n",
       "      <td>...</td>\n",
       "      <td>...</td>\n",
       "      <td>...</td>\n",
       "      <td>...</td>\n",
       "    </tr>\n",
       "    <tr>\n",
       "      <th>11231</th>\n",
       "      <td>FMSH_PB188a_00040_070_02</td>\n",
       "      <td>FMSH_PB188a_00040_076_03</td>\n",
       "      <td>autog_0338-7259_1978_num_40_1</td>\n",
       "      <td>autog_0338-7259_1978_num_40_1</td>\n",
       "      <td>FMSH_PB188a_00040</td>\n",
       "      <td>FMSH_PB188a_00040</td>\n",
       "      <td>autog_0338-7259_1978_num_40_1_1277</td>\n",
       "      <td>autog_0338-7259_1978_num_40_1_1277</td>\n",
       "      <td>FMSH_PB188a_00040_070</td>\n",
       "      <td>FMSH_PB188a_00040_076</td>\n",
       "      <td>autog_0338-7259_1978_num_40_1_T1_0069_0000_710</td>\n",
       "      <td>autog_0338-7259_1978_num_40_1_T1_0075_0000_710</td>\n",
       "      <td>2</td>\n",
       "      <td>3</td>\n",
       "    </tr>\n",
       "    <tr>\n",
       "      <th>11232</th>\n",
       "      <td>FMSH_PB188a_00040_070_02</td>\n",
       "      <td>FMSH_PB188a_00040_072_04</td>\n",
       "      <td>autog_0338-7259_1978_num_40_1</td>\n",
       "      <td>autog_0338-7259_1978_num_40_1</td>\n",
       "      <td>FMSH_PB188a_00040</td>\n",
       "      <td>FMSH_PB188a_00040</td>\n",
       "      <td>autog_0338-7259_1978_num_40_1_1277</td>\n",
       "      <td>autog_0338-7259_1978_num_40_1_1277</td>\n",
       "      <td>FMSH_PB188a_00040_070</td>\n",
       "      <td>FMSH_PB188a_00040_072</td>\n",
       "      <td>autog_0338-7259_1978_num_40_1_T1_0069_0000_710</td>\n",
       "      <td>autog_0338-7259_1978_num_40_1_T1_0071_0000_710</td>\n",
       "      <td>2</td>\n",
       "      <td>4</td>\n",
       "    </tr>\n",
       "    <tr>\n",
       "      <th>11233</th>\n",
       "      <td>FMSH_PB188a_00040_070_02</td>\n",
       "      <td>FMSH_PB188a_00040_068_03</td>\n",
       "      <td>autog_0338-7259_1978_num_40_1</td>\n",
       "      <td>autog_0338-7259_1978_num_40_1</td>\n",
       "      <td>FMSH_PB188a_00040</td>\n",
       "      <td>FMSH_PB188a_00040</td>\n",
       "      <td>autog_0338-7259_1978_num_40_1_1277</td>\n",
       "      <td>autog_0338-7259_1978_num_40_1_1277</td>\n",
       "      <td>FMSH_PB188a_00040_070</td>\n",
       "      <td>FMSH_PB188a_00040_068</td>\n",
       "      <td>autog_0338-7259_1978_num_40_1_T1_0069_0000_710</td>\n",
       "      <td>autog_0338-7259_1978_num_40_1_T1_0067_0000_710</td>\n",
       "      <td>2</td>\n",
       "      <td>3</td>\n",
       "    </tr>\n",
       "    <tr>\n",
       "      <th>11234</th>\n",
       "      <td>FMSH_PB188a_00040_070_02</td>\n",
       "      <td>FMSH_PB188a_00040_077_02</td>\n",
       "      <td>autog_0338-7259_1978_num_40_1</td>\n",
       "      <td>autog_0338-7259_1978_num_40_1</td>\n",
       "      <td>FMSH_PB188a_00040</td>\n",
       "      <td>FMSH_PB188a_00040</td>\n",
       "      <td>autog_0338-7259_1978_num_40_1_1277</td>\n",
       "      <td>autog_0338-7259_1978_num_40_1_1277</td>\n",
       "      <td>FMSH_PB188a_00040_070</td>\n",
       "      <td>FMSH_PB188a_00040_077</td>\n",
       "      <td>autog_0338-7259_1978_num_40_1_T1_0069_0000_710</td>\n",
       "      <td>autog_0338-7259_1978_num_40_1_T1_0076_0000_710</td>\n",
       "      <td>2</td>\n",
       "      <td>2</td>\n",
       "    </tr>\n",
       "    <tr>\n",
       "      <th>11235</th>\n",
       "      <td>FMSH_PB188a_00040_070_02</td>\n",
       "      <td>FMSH_PB188a_00040_070_02</td>\n",
       "      <td>autog_0338-7259_1978_num_40_1</td>\n",
       "      <td>autog_0338-7259_1978_num_40_1</td>\n",
       "      <td>FMSH_PB188a_00040</td>\n",
       "      <td>FMSH_PB188a_00040</td>\n",
       "      <td>autog_0338-7259_1978_num_40_1_1277</td>\n",
       "      <td>autog_0338-7259_1978_num_40_1_1277</td>\n",
       "      <td>FMSH_PB188a_00040_070</td>\n",
       "      <td>FMSH_PB188a_00040_070</td>\n",
       "      <td>autog_0338-7259_1978_num_40_1_T1_0069_0000_710</td>\n",
       "      <td>autog_0338-7259_1978_num_40_1_T1_0069_0000_710</td>\n",
       "      <td>2</td>\n",
       "      <td>2</td>\n",
       "    </tr>\n",
       "  </tbody>\n",
       "</table>\n",
       "<p>11236 rows × 14 columns</p>\n",
       "</div>"
      ],
      "text/plain": [
       "               source.block.uid          target.block.uid  \\\n",
       "0      FMSH_PB188a_00002_098_00  FMSH_PB188a_00002_098_00   \n",
       "1      FMSH_PB188a_00002_098_00  FMSH_PB188a_00002_102_00   \n",
       "2      FMSH_PB188a_00002_098_00  FMSH_PB188a_00002_099_01   \n",
       "3      FMSH_PB188a_00002_098_00  FMSH_PB188a_00002_102_01   \n",
       "4      FMSH_PB188a_00002_098_00  FMSH_PB188a_00002_097_07   \n",
       "...                         ...                       ...   \n",
       "11231  FMSH_PB188a_00040_070_02  FMSH_PB188a_00040_076_03   \n",
       "11232  FMSH_PB188a_00040_070_02  FMSH_PB188a_00040_072_04   \n",
       "11233  FMSH_PB188a_00040_070_02  FMSH_PB188a_00040_068_03   \n",
       "11234  FMSH_PB188a_00040_070_02  FMSH_PB188a_00040_077_02   \n",
       "11235  FMSH_PB188a_00040_070_02  FMSH_PB188a_00040_070_02   \n",
       "\n",
       "              source.revue.id.persee         target.revue.id.persee  \\\n",
       "0       autog_0005-0970_1967_num_2_1   autog_0005-0970_1967_num_2_1   \n",
       "1       autog_0005-0970_1967_num_2_1   autog_0005-0970_1967_num_2_1   \n",
       "2       autog_0005-0970_1967_num_2_1   autog_0005-0970_1967_num_2_1   \n",
       "3       autog_0005-0970_1967_num_2_1   autog_0005-0970_1967_num_2_1   \n",
       "4       autog_0005-0970_1967_num_2_1   autog_0005-0970_1967_num_2_1   \n",
       "...                              ...                            ...   \n",
       "11231  autog_0338-7259_1978_num_40_1  autog_0338-7259_1978_num_40_1   \n",
       "11232  autog_0338-7259_1978_num_40_1  autog_0338-7259_1978_num_40_1   \n",
       "11233  autog_0338-7259_1978_num_40_1  autog_0338-7259_1978_num_40_1   \n",
       "11234  autog_0338-7259_1978_num_40_1  autog_0338-7259_1978_num_40_1   \n",
       "11235  autog_0338-7259_1978_num_40_1  autog_0338-7259_1978_num_40_1   \n",
       "\n",
       "      source.revue.id.fmsh target.revue.id.fmsh  \\\n",
       "0        FMSH_PB188a_00002    FMSH_PB188a_00002   \n",
       "1        FMSH_PB188a_00002    FMSH_PB188a_00002   \n",
       "2        FMSH_PB188a_00002    FMSH_PB188a_00002   \n",
       "3        FMSH_PB188a_00002    FMSH_PB188a_00002   \n",
       "4        FMSH_PB188a_00002    FMSH_PB188a_00002   \n",
       "...                    ...                  ...   \n",
       "11231    FMSH_PB188a_00040    FMSH_PB188a_00040   \n",
       "11232    FMSH_PB188a_00040    FMSH_PB188a_00040   \n",
       "11233    FMSH_PB188a_00040    FMSH_PB188a_00040   \n",
       "11234    FMSH_PB188a_00040    FMSH_PB188a_00040   \n",
       "11235    FMSH_PB188a_00040    FMSH_PB188a_00040   \n",
       "\n",
       "                        source.article.id                   target.article.id  \\\n",
       "0        autog_0005-0970_1967_num_2_1_902    autog_0005-0970_1967_num_2_1_902   \n",
       "1        autog_0005-0970_1967_num_2_1_902    autog_0005-0970_1967_num_2_1_902   \n",
       "2        autog_0005-0970_1967_num_2_1_902    autog_0005-0970_1967_num_2_1_902   \n",
       "3        autog_0005-0970_1967_num_2_1_902    autog_0005-0970_1967_num_2_1_902   \n",
       "4        autog_0005-0970_1967_num_2_1_902    autog_0005-0970_1967_num_2_1_902   \n",
       "...                                   ...                                 ...   \n",
       "11231  autog_0338-7259_1978_num_40_1_1277  autog_0338-7259_1978_num_40_1_1277   \n",
       "11232  autog_0338-7259_1978_num_40_1_1277  autog_0338-7259_1978_num_40_1_1277   \n",
       "11233  autog_0338-7259_1978_num_40_1_1277  autog_0338-7259_1978_num_40_1_1277   \n",
       "11234  autog_0338-7259_1978_num_40_1_1277  autog_0338-7259_1978_num_40_1_1277   \n",
       "11235  autog_0338-7259_1978_num_40_1_1277  autog_0338-7259_1978_num_40_1_1277   \n",
       "\n",
       "         source.page.id.fmsh    target.page.id.fmsh  \\\n",
       "0      FMSH_PB188a_00002_098  FMSH_PB188a_00002_098   \n",
       "1      FMSH_PB188a_00002_098  FMSH_PB188a_00002_102   \n",
       "2      FMSH_PB188a_00002_098  FMSH_PB188a_00002_099   \n",
       "3      FMSH_PB188a_00002_098  FMSH_PB188a_00002_102   \n",
       "4      FMSH_PB188a_00002_098  FMSH_PB188a_00002_097   \n",
       "...                      ...                    ...   \n",
       "11231  FMSH_PB188a_00040_070  FMSH_PB188a_00040_076   \n",
       "11232  FMSH_PB188a_00040_070  FMSH_PB188a_00040_072   \n",
       "11233  FMSH_PB188a_00040_070  FMSH_PB188a_00040_068   \n",
       "11234  FMSH_PB188a_00040_070  FMSH_PB188a_00040_077   \n",
       "11235  FMSH_PB188a_00040_070  FMSH_PB188a_00040_070   \n",
       "\n",
       "                                source.page.id.persee  \\\n",
       "0       autog_0005-0970_1967_num_2_1_T1_0096_0000_710   \n",
       "1       autog_0005-0970_1967_num_2_1_T1_0096_0000_710   \n",
       "2       autog_0005-0970_1967_num_2_1_T1_0096_0000_710   \n",
       "3       autog_0005-0970_1967_num_2_1_T1_0096_0000_710   \n",
       "4       autog_0005-0970_1967_num_2_1_T1_0096_0000_710   \n",
       "...                                               ...   \n",
       "11231  autog_0338-7259_1978_num_40_1_T1_0069_0000_710   \n",
       "11232  autog_0338-7259_1978_num_40_1_T1_0069_0000_710   \n",
       "11233  autog_0338-7259_1978_num_40_1_T1_0069_0000_710   \n",
       "11234  autog_0338-7259_1978_num_40_1_T1_0069_0000_710   \n",
       "11235  autog_0338-7259_1978_num_40_1_T1_0069_0000_710   \n",
       "\n",
       "                                target.page.id.persee  source.block.id  \\\n",
       "0       autog_0005-0970_1967_num_2_1_T1_0096_0000_710                0   \n",
       "1       autog_0005-0970_1967_num_2_1_T1_0100_0000_710                0   \n",
       "2       autog_0005-0970_1967_num_2_1_T1_0097_0000_710                0   \n",
       "3       autog_0005-0970_1967_num_2_1_T1_0100_0000_710                0   \n",
       "4       autog_0005-0970_1967_num_2_1_T1_0095_0000_710                0   \n",
       "...                                               ...              ...   \n",
       "11231  autog_0338-7259_1978_num_40_1_T1_0075_0000_710                2   \n",
       "11232  autog_0338-7259_1978_num_40_1_T1_0071_0000_710                2   \n",
       "11233  autog_0338-7259_1978_num_40_1_T1_0067_0000_710                2   \n",
       "11234  autog_0338-7259_1978_num_40_1_T1_0076_0000_710                2   \n",
       "11235  autog_0338-7259_1978_num_40_1_T1_0069_0000_710                2   \n",
       "\n",
       "       target.block.id  \n",
       "0                    0  \n",
       "1                    0  \n",
       "2                    1  \n",
       "3                    1  \n",
       "4                    7  \n",
       "...                ...  \n",
       "11231                3  \n",
       "11232                4  \n",
       "11233                3  \n",
       "11234                2  \n",
       "11235                2  \n",
       "\n",
       "[11236 rows x 14 columns]"
      ]
     },
     "execution_count": 6,
     "metadata": {},
     "output_type": "execute_result"
    }
   ],
   "source": [
    "import pandas as pd\n",
    "\n",
    "std_block_links_path = path.join(DATA_CACHE, 'archival', 'block_link', 'std_block_links.v2.json')\n",
    "df_std_block_links = pd.read_json(std_block_links_path, dtype={'link.type':'category'})\n",
    "df_std_block_links"
   ]
  },
  {
   "cell_type": "code",
   "execution_count": 7,
   "id": "9936c447",
   "metadata": {
    "ExecuteTime": {
     "end_time": "2023-07-18T17:03:30.507768Z",
     "start_time": "2023-07-18T17:03:22.452718Z"
    },
    "collapsed": false,
    "jupyter": {
     "outputs_hidden": false
    }
   },
   "outputs": [
    {
     "data": {
      "text/html": [
       "<div>\n",
       "<style scoped>\n",
       "    .dataframe tbody tr th:only-of-type {\n",
       "        vertical-align: middle;\n",
       "    }\n",
       "\n",
       "    .dataframe tbody tr th {\n",
       "        vertical-align: top;\n",
       "    }\n",
       "\n",
       "    .dataframe thead th {\n",
       "        text-align: right;\n",
       "    }\n",
       "</style>\n",
       "<table border=\"1\" class=\"dataframe\">\n",
       "  <thead>\n",
       "    <tr style=\"text-align: right;\">\n",
       "      <th></th>\n",
       "      <th>block.id</th>\n",
       "      <th>block.string_id</th>\n",
       "      <th>revue.id.fmsh</th>\n",
       "      <th>revue.id.persee</th>\n",
       "      <th>page.id.fmsh</th>\n",
       "      <th>page.id.persee</th>\n",
       "      <th>article.id</th>\n",
       "      <th>sents</th>\n",
       "      <th>article.type</th>\n",
       "      <th>sentences_masked</th>\n",
       "    </tr>\n",
       "    <tr>\n",
       "      <th>uid</th>\n",
       "      <th></th>\n",
       "      <th></th>\n",
       "      <th></th>\n",
       "      <th></th>\n",
       "      <th></th>\n",
       "      <th></th>\n",
       "      <th></th>\n",
       "      <th></th>\n",
       "      <th></th>\n",
       "      <th></th>\n",
       "    </tr>\n",
       "  </thead>\n",
       "  <tbody>\n",
       "    <tr>\n",
       "      <th>FMSH_PB188a_00001_003_00</th>\n",
       "      <td>0</td>\n",
       "      <td>block_0</td>\n",
       "      <td>FMSH_PB188a_00001</td>\n",
       "      <td>autog_0005-0970_1966_num_1_1</td>\n",
       "      <td>FMSH_PB188a_00001_003</td>\n",
       "      <td>autog_0005-0970_1966_num_1_1_T1_0001_0000_710</td>\n",
       "      <td>autog_0005-0970_1966_num_1_1_1927</td>\n",
       "      <td>[[{'form': 'autogestion', 'lemma': 'autogestio...</td>\n",
       "      <td>tables et index</td>\n",
       "      <td>[True]</td>\n",
       "    </tr>\n",
       "    <tr>\n",
       "      <th>FMSH_PB188a_00001_003_01</th>\n",
       "      <td>1</td>\n",
       "      <td>block_1</td>\n",
       "      <td>FMSH_PB188a_00001</td>\n",
       "      <td>autog_0005-0970_1966_num_1_1</td>\n",
       "      <td>FMSH_PB188a_00001_003</td>\n",
       "      <td>autog_0005-0970_1966_num_1_1_T1_0001_0000_710</td>\n",
       "      <td>autog_0005-0970_1966_num_1_1_1927</td>\n",
       "      <td>[[{'form': 'Études', 'lemma': 'étude', 'upos':...</td>\n",
       "      <td>tables et index</td>\n",
       "      <td>[True]</td>\n",
       "    </tr>\n",
       "    <tr>\n",
       "      <th>FMSH_PB188a_00001_003_02</th>\n",
       "      <td>2</td>\n",
       "      <td>block_2</td>\n",
       "      <td>FMSH_PB188a_00001</td>\n",
       "      <td>autog_0005-0970_1966_num_1_1</td>\n",
       "      <td>FMSH_PB188a_00001_003</td>\n",
       "      <td>autog_0005-0970_1966_num_1_1_T1_0001_0000_710</td>\n",
       "      <td>autog_0005-0970_1966_num_1_1_1927</td>\n",
       "      <td>[[{'form': 'Sommaire', 'lemma': 'sommaire', 'u...</td>\n",
       "      <td>tables et index</td>\n",
       "      <td>[True]</td>\n",
       "    </tr>\n",
       "    <tr>\n",
       "      <th>FMSH_PB188a_00001_003_03</th>\n",
       "      <td>3</td>\n",
       "      <td>block_3</td>\n",
       "      <td>FMSH_PB188a_00001</td>\n",
       "      <td>autog_0005-0970_1966_num_1_1</td>\n",
       "      <td>FMSH_PB188a_00001_003</td>\n",
       "      <td>autog_0005-0970_1966_num_1_1_T1_0001_0000_710</td>\n",
       "      <td>autog_0005-0970_1966_num_1_1_1927</td>\n",
       "      <td>[[{'form': 'JEAN', 'lemma': 'JEAN', 'upos': 'P...</td>\n",
       "      <td>tables et index</td>\n",
       "      <td>[True]</td>\n",
       "    </tr>\n",
       "    <tr>\n",
       "      <th>FMSH_PB188a_00001_003_04</th>\n",
       "      <td>4</td>\n",
       "      <td>block_4</td>\n",
       "      <td>FMSH_PB188a_00001</td>\n",
       "      <td>autog_0005-0970_1966_num_1_1</td>\n",
       "      <td>FMSH_PB188a_00001_003</td>\n",
       "      <td>autog_0005-0970_1966_num_1_1_T1_0001_0000_710</td>\n",
       "      <td>autog_0005-0970_1966_num_1_1_1927</td>\n",
       "      <td>[[{'form': 'gestion', 'lemma': 'gestion', 'upo...</td>\n",
       "      <td>tables et index</td>\n",
       "      <td>[True, True]</td>\n",
       "    </tr>\n",
       "    <tr>\n",
       "      <th>...</th>\n",
       "      <td>...</td>\n",
       "      <td>...</td>\n",
       "      <td>...</td>\n",
       "      <td>...</td>\n",
       "      <td>...</td>\n",
       "      <td>...</td>\n",
       "      <td>...</td>\n",
       "      <td>...</td>\n",
       "      <td>...</td>\n",
       "      <td>...</td>\n",
       "    </tr>\n",
       "    <tr>\n",
       "      <th>FMSH_PB188a_00043_004_02</th>\n",
       "      <td>2</td>\n",
       "      <td>block_2</td>\n",
       "      <td>FMSH_PB188a_00043</td>\n",
       "      <td>autog_0338-7259_1979_num_43_1</td>\n",
       "      <td>FMSH_PB188a_00043_004</td>\n",
       "      <td>autog_0338-7259_1979_num_43_1_T1_0002_0000_710</td>\n",
       "      <td>autog_0338-7259_1979_num_43_1_1952</td>\n",
       "      <td>[[{'form': 'F.', 'lemma': 'f.', 'upos': 'PUNCT...</td>\n",
       "      <td>tables et index</td>\n",
       "      <td>[True]</td>\n",
       "    </tr>\n",
       "    <tr>\n",
       "      <th>FMSH_PB188a_00043_004_03</th>\n",
       "      <td>3</td>\n",
       "      <td>block_3</td>\n",
       "      <td>FMSH_PB188a_00043</td>\n",
       "      <td>autog_0338-7259_1979_num_43_1</td>\n",
       "      <td>FMSH_PB188a_00043_004</td>\n",
       "      <td>autog_0338-7259_1979_num_43_1_T1_0002_0000_710</td>\n",
       "      <td>autog_0338-7259_1979_num_43_1_1952</td>\n",
       "      <td>[[{'form': 'B.', 'lemma': 'B.', 'upos': 'PROPN...</td>\n",
       "      <td>tables et index</td>\n",
       "      <td>[True, True]</td>\n",
       "    </tr>\n",
       "    <tr>\n",
       "      <th>FMSH_PB188a_00043_004_04</th>\n",
       "      <td>4</td>\n",
       "      <td>block_4</td>\n",
       "      <td>FMSH_PB188a_00043</td>\n",
       "      <td>autog_0338-7259_1979_num_43_1</td>\n",
       "      <td>FMSH_PB188a_00043_004</td>\n",
       "      <td>autog_0338-7259_1979_num_43_1_T1_0002_0000_710</td>\n",
       "      <td>autog_0338-7259_1979_num_43_1_1952</td>\n",
       "      <td>[[{'form': 'Oui', 'lemma': 'oui', 'upos': 'ADV...</td>\n",
       "      <td>tables et index</td>\n",
       "      <td>[True, True]</td>\n",
       "    </tr>\n",
       "    <tr>\n",
       "      <th>FMSH_PB188a_00043_004_05</th>\n",
       "      <td>5</td>\n",
       "      <td>block_5</td>\n",
       "      <td>FMSH_PB188a_00043</td>\n",
       "      <td>autog_0338-7259_1979_num_43_1</td>\n",
       "      <td>FMSH_PB188a_00043_004</td>\n",
       "      <td>autog_0338-7259_1979_num_43_1_T1_0002_0000_710</td>\n",
       "      <td>autog_0338-7259_1979_num_43_1_1952</td>\n",
       "      <td>[[{'form': 'Table', 'lemma': 'table', 'upos': ...</td>\n",
       "      <td>tables et index</td>\n",
       "      <td>[True]</td>\n",
       "    </tr>\n",
       "    <tr>\n",
       "      <th>FMSH_PB188a_00043_004_06</th>\n",
       "      <td>6</td>\n",
       "      <td>block_6</td>\n",
       "      <td>FMSH_PB188a_00043</td>\n",
       "      <td>autog_0338-7259_1979_num_43_1</td>\n",
       "      <td>FMSH_PB188a_00043_004</td>\n",
       "      <td>autog_0338-7259_1979_num_43_1_T1_0002_0000_710</td>\n",
       "      <td>autog_0338-7259_1979_num_43_1_1952</td>\n",
       "      <td>[[{'form': 'Au', 'lemma': 'au', 'upos': 'ADP',...</td>\n",
       "      <td>tables et index</td>\n",
       "      <td>[True]</td>\n",
       "    </tr>\n",
       "  </tbody>\n",
       "</table>\n",
       "<p>22441 rows × 10 columns</p>\n",
       "</div>"
      ],
      "text/plain": [
       "                          block.id block.string_id      revue.id.fmsh  \\\n",
       "uid                                                                     \n",
       "FMSH_PB188a_00001_003_00         0         block_0  FMSH_PB188a_00001   \n",
       "FMSH_PB188a_00001_003_01         1         block_1  FMSH_PB188a_00001   \n",
       "FMSH_PB188a_00001_003_02         2         block_2  FMSH_PB188a_00001   \n",
       "FMSH_PB188a_00001_003_03         3         block_3  FMSH_PB188a_00001   \n",
       "FMSH_PB188a_00001_003_04         4         block_4  FMSH_PB188a_00001   \n",
       "...                            ...             ...                ...   \n",
       "FMSH_PB188a_00043_004_02         2         block_2  FMSH_PB188a_00043   \n",
       "FMSH_PB188a_00043_004_03         3         block_3  FMSH_PB188a_00043   \n",
       "FMSH_PB188a_00043_004_04         4         block_4  FMSH_PB188a_00043   \n",
       "FMSH_PB188a_00043_004_05         5         block_5  FMSH_PB188a_00043   \n",
       "FMSH_PB188a_00043_004_06         6         block_6  FMSH_PB188a_00043   \n",
       "\n",
       "                                        revue.id.persee  \\\n",
       "uid                                                       \n",
       "FMSH_PB188a_00001_003_00   autog_0005-0970_1966_num_1_1   \n",
       "FMSH_PB188a_00001_003_01   autog_0005-0970_1966_num_1_1   \n",
       "FMSH_PB188a_00001_003_02   autog_0005-0970_1966_num_1_1   \n",
       "FMSH_PB188a_00001_003_03   autog_0005-0970_1966_num_1_1   \n",
       "FMSH_PB188a_00001_003_04   autog_0005-0970_1966_num_1_1   \n",
       "...                                                 ...   \n",
       "FMSH_PB188a_00043_004_02  autog_0338-7259_1979_num_43_1   \n",
       "FMSH_PB188a_00043_004_03  autog_0338-7259_1979_num_43_1   \n",
       "FMSH_PB188a_00043_004_04  autog_0338-7259_1979_num_43_1   \n",
       "FMSH_PB188a_00043_004_05  autog_0338-7259_1979_num_43_1   \n",
       "FMSH_PB188a_00043_004_06  autog_0338-7259_1979_num_43_1   \n",
       "\n",
       "                                   page.id.fmsh  \\\n",
       "uid                                               \n",
       "FMSH_PB188a_00001_003_00  FMSH_PB188a_00001_003   \n",
       "FMSH_PB188a_00001_003_01  FMSH_PB188a_00001_003   \n",
       "FMSH_PB188a_00001_003_02  FMSH_PB188a_00001_003   \n",
       "FMSH_PB188a_00001_003_03  FMSH_PB188a_00001_003   \n",
       "FMSH_PB188a_00001_003_04  FMSH_PB188a_00001_003   \n",
       "...                                         ...   \n",
       "FMSH_PB188a_00043_004_02  FMSH_PB188a_00043_004   \n",
       "FMSH_PB188a_00043_004_03  FMSH_PB188a_00043_004   \n",
       "FMSH_PB188a_00043_004_04  FMSH_PB188a_00043_004   \n",
       "FMSH_PB188a_00043_004_05  FMSH_PB188a_00043_004   \n",
       "FMSH_PB188a_00043_004_06  FMSH_PB188a_00043_004   \n",
       "\n",
       "                                                          page.id.persee  \\\n",
       "uid                                                                        \n",
       "FMSH_PB188a_00001_003_00   autog_0005-0970_1966_num_1_1_T1_0001_0000_710   \n",
       "FMSH_PB188a_00001_003_01   autog_0005-0970_1966_num_1_1_T1_0001_0000_710   \n",
       "FMSH_PB188a_00001_003_02   autog_0005-0970_1966_num_1_1_T1_0001_0000_710   \n",
       "FMSH_PB188a_00001_003_03   autog_0005-0970_1966_num_1_1_T1_0001_0000_710   \n",
       "FMSH_PB188a_00001_003_04   autog_0005-0970_1966_num_1_1_T1_0001_0000_710   \n",
       "...                                                                  ...   \n",
       "FMSH_PB188a_00043_004_02  autog_0338-7259_1979_num_43_1_T1_0002_0000_710   \n",
       "FMSH_PB188a_00043_004_03  autog_0338-7259_1979_num_43_1_T1_0002_0000_710   \n",
       "FMSH_PB188a_00043_004_04  autog_0338-7259_1979_num_43_1_T1_0002_0000_710   \n",
       "FMSH_PB188a_00043_004_05  autog_0338-7259_1979_num_43_1_T1_0002_0000_710   \n",
       "FMSH_PB188a_00043_004_06  autog_0338-7259_1979_num_43_1_T1_0002_0000_710   \n",
       "\n",
       "                                                  article.id  \\\n",
       "uid                                                            \n",
       "FMSH_PB188a_00001_003_00   autog_0005-0970_1966_num_1_1_1927   \n",
       "FMSH_PB188a_00001_003_01   autog_0005-0970_1966_num_1_1_1927   \n",
       "FMSH_PB188a_00001_003_02   autog_0005-0970_1966_num_1_1_1927   \n",
       "FMSH_PB188a_00001_003_03   autog_0005-0970_1966_num_1_1_1927   \n",
       "FMSH_PB188a_00001_003_04   autog_0005-0970_1966_num_1_1_1927   \n",
       "...                                                      ...   \n",
       "FMSH_PB188a_00043_004_02  autog_0338-7259_1979_num_43_1_1952   \n",
       "FMSH_PB188a_00043_004_03  autog_0338-7259_1979_num_43_1_1952   \n",
       "FMSH_PB188a_00043_004_04  autog_0338-7259_1979_num_43_1_1952   \n",
       "FMSH_PB188a_00043_004_05  autog_0338-7259_1979_num_43_1_1952   \n",
       "FMSH_PB188a_00043_004_06  autog_0338-7259_1979_num_43_1_1952   \n",
       "\n",
       "                                                                      sents  \\\n",
       "uid                                                                           \n",
       "FMSH_PB188a_00001_003_00  [[{'form': 'autogestion', 'lemma': 'autogestio...   \n",
       "FMSH_PB188a_00001_003_01  [[{'form': 'Études', 'lemma': 'étude', 'upos':...   \n",
       "FMSH_PB188a_00001_003_02  [[{'form': 'Sommaire', 'lemma': 'sommaire', 'u...   \n",
       "FMSH_PB188a_00001_003_03  [[{'form': 'JEAN', 'lemma': 'JEAN', 'upos': 'P...   \n",
       "FMSH_PB188a_00001_003_04  [[{'form': 'gestion', 'lemma': 'gestion', 'upo...   \n",
       "...                                                                     ...   \n",
       "FMSH_PB188a_00043_004_02  [[{'form': 'F.', 'lemma': 'f.', 'upos': 'PUNCT...   \n",
       "FMSH_PB188a_00043_004_03  [[{'form': 'B.', 'lemma': 'B.', 'upos': 'PROPN...   \n",
       "FMSH_PB188a_00043_004_04  [[{'form': 'Oui', 'lemma': 'oui', 'upos': 'ADV...   \n",
       "FMSH_PB188a_00043_004_05  [[{'form': 'Table', 'lemma': 'table', 'upos': ...   \n",
       "FMSH_PB188a_00043_004_06  [[{'form': 'Au', 'lemma': 'au', 'upos': 'ADP',...   \n",
       "\n",
       "                             article.type sentences_masked  \n",
       "uid                                                         \n",
       "FMSH_PB188a_00001_003_00  tables et index           [True]  \n",
       "FMSH_PB188a_00001_003_01  tables et index           [True]  \n",
       "FMSH_PB188a_00001_003_02  tables et index           [True]  \n",
       "FMSH_PB188a_00001_003_03  tables et index           [True]  \n",
       "FMSH_PB188a_00001_003_04  tables et index     [True, True]  \n",
       "...                                   ...              ...  \n",
       "FMSH_PB188a_00043_004_02  tables et index           [True]  \n",
       "FMSH_PB188a_00043_004_03  tables et index     [True, True]  \n",
       "FMSH_PB188a_00043_004_04  tables et index     [True, True]  \n",
       "FMSH_PB188a_00043_004_05  tables et index           [True]  \n",
       "FMSH_PB188a_00043_004_06  tables et index           [True]  \n",
       "\n",
       "[22441 rows x 10 columns]"
      ]
     },
     "execution_count": 7,
     "metadata": {},
     "output_type": "execute_result"
    }
   ],
   "source": [
    "block_path = path.join(DATA_CACHE, 'archival', 'mongo_db', 'blocks.v2.json')\n",
    "df_block = pd.read_json(block_path, encoding='utf-8')\n",
    "df_block = df_block.rename(columns={'sentences': 'sents'})\n",
    "df_block['uid'] = df_block['page.id.fmsh'] + '_' + df_block['block.id'].astype(str).str.zfill(2)\n",
    "df_block.set_index('uid', inplace=True)\n",
    "df_block"
   ]
  },
  {
   "cell_type": "code",
   "execution_count": 8,
   "id": "59feb58c-d3d4-4448-a148-01dc8ed031f7",
   "metadata": {
    "ExecuteTime": {
     "end_time": "2023-07-18T17:03:30.954290Z",
     "start_time": "2023-07-18T17:03:30.249850Z"
    }
   },
   "outputs": [
    {
     "data": {
      "text/html": [
       "<div>\n",
       "<style scoped>\n",
       "    .dataframe tbody tr th:only-of-type {\n",
       "        vertical-align: middle;\n",
       "    }\n",
       "\n",
       "    .dataframe tbody tr th {\n",
       "        vertical-align: top;\n",
       "    }\n",
       "\n",
       "    .dataframe thead th {\n",
       "        text-align: right;\n",
       "    }\n",
       "</style>\n",
       "<table border=\"1\" class=\"dataframe\">\n",
       "  <thead>\n",
       "    <tr style=\"text-align: right;\">\n",
       "      <th></th>\n",
       "      <th>title</th>\n",
       "      <th>type</th>\n",
       "      <th>authors</th>\n",
       "      <th>publicationYear</th>\n",
       "      <th>revue.id.persee</th>\n",
       "      <th>revue.id.fmsh</th>\n",
       "      <th>article.id.persee</th>\n",
       "      <th>pages</th>\n",
       "      <th>text</th>\n",
       "    </tr>\n",
       "    <tr>\n",
       "      <th>id</th>\n",
       "      <th></th>\n",
       "      <th></th>\n",
       "      <th></th>\n",
       "      <th></th>\n",
       "      <th></th>\n",
       "      <th></th>\n",
       "      <th></th>\n",
       "      <th></th>\n",
       "      <th></th>\n",
       "    </tr>\n",
       "  </thead>\n",
       "  <tbody>\n",
       "    <tr>\n",
       "      <th>autog_0005-0970_1966_num_1_1_1927</th>\n",
       "      <td>Sommaire</td>\n",
       "      <td>tables et index</td>\n",
       "      <td>[]</td>\n",
       "      <td>1966</td>\n",
       "      <td>autog_0005-0970_1966_num_1_1</td>\n",
       "      <td>FMSH_PB188a_00001</td>\n",
       "      <td>autog_0005-0970_1966_num_1_1_1927</td>\n",
       "      <td>[{'id.fmsh': 'FMSH_PB188a_00001_003', 'id.pers...</td>\n",
       "      <td>autogestion \\nÉtudes, débats, documents \\nSomm...</td>\n",
       "    </tr>\n",
       "    <tr>\n",
       "      <th>autog_0005-0970_1966_num_1_1_1928</th>\n",
       "      <td>Présentation de la revue</td>\n",
       "      <td>éditorial</td>\n",
       "      <td>[]</td>\n",
       "      <td>1966</td>\n",
       "      <td>autog_0005-0970_1966_num_1_1</td>\n",
       "      <td>FMSH_PB188a_00001</td>\n",
       "      <td>autog_0005-0970_1966_num_1_1_1928</td>\n",
       "      <td>[{'id.fmsh': 'FMSH_PB188a_00001_005', 'id.pers...</td>\n",
       "      <td>Les cahiers de |' « AUTOGESTION » se proposent...</td>\n",
       "    </tr>\n",
       "    <tr>\n",
       "      <th>autog_0005-0970_1966_num_1_1_884</th>\n",
       "      <td>Georges Gurvitch : une théorie sociologique de...</td>\n",
       "      <td>article</td>\n",
       "      <td>[Jean Duvignaud]</td>\n",
       "      <td>1966</td>\n",
       "      <td>autog_0005-0970_1966_num_1_1</td>\n",
       "      <td>FMSH_PB188a_00001</td>\n",
       "      <td>autog_0005-0970_1966_num_1_1_884</td>\n",
       "      <td>[{'id.fmsh': 'FMSH_PB188a_00001_007', 'id.pers...</td>\n",
       "      <td>Georges Gurvitch : \\nune théorie sociologique ...</td>\n",
       "    </tr>\n",
       "    <tr>\n",
       "      <th>autog_0005-0970_1966_num_1_1_885</th>\n",
       "      <td>Principaux extraits de l'œuvre de Georges Gurv...</td>\n",
       "      <td>article</td>\n",
       "      <td>[Georges Gurvitch]</td>\n",
       "      <td>1966</td>\n",
       "      <td>autog_0005-0970_1966_num_1_1</td>\n",
       "      <td>FMSH_PB188a_00001</td>\n",
       "      <td>autog_0005-0970_1966_num_1_1_885</td>\n",
       "      <td>[{'id.fmsh': 'FMSH_PB188a_00001_015', 'id.pers...</td>\n",
       "      <td>PRINCIPAUX EXTRAITS \\nDE L'ŒUVRE DE GEORGES GU...</td>\n",
       "    </tr>\n",
       "    <tr>\n",
       "      <th>autog_0005-0970_1966_num_1_1_886</th>\n",
       "      <td>Henri Lefebvre ouvre le débat sur la théorie d...</td>\n",
       "      <td>article</td>\n",
       "      <td>[Henri Lefebvre]</td>\n",
       "      <td>1966</td>\n",
       "      <td>autog_0005-0970_1966_num_1_1</td>\n",
       "      <td>FMSH_PB188a_00001</td>\n",
       "      <td>autog_0005-0970_1966_num_1_1_886</td>\n",
       "      <td>[{'id.fmsh': 'FMSH_PB188a_00001_061', 'id.pers...</td>\n",
       "      <td>Henri Lefebvre ouvre le débat \\nsur la théorie...</td>\n",
       "    </tr>\n",
       "    <tr>\n",
       "      <th>...</th>\n",
       "      <td>...</td>\n",
       "      <td>...</td>\n",
       "      <td>...</td>\n",
       "      <td>...</td>\n",
       "      <td>...</td>\n",
       "      <td>...</td>\n",
       "      <td>...</td>\n",
       "      <td>...</td>\n",
       "      <td>...</td>\n",
       "    </tr>\n",
       "    <tr>\n",
       "      <th>autog_0338-7259_1979_num_43_1_1302_t1_0124_0000_1</th>\n",
       "      <td>René Lourau L’Etat -Inconscient Paris, Ed. de ...</td>\n",
       "      <td>compte-rendu</td>\n",
       "      <td>[René Barbier]</td>\n",
       "      <td>1979</td>\n",
       "      <td>autog_0338-7259_1979_num_43_1</td>\n",
       "      <td>FMSH_PB188a_00043</td>\n",
       "      <td>autog_0338-7259_1979_num_43_1_1302_t1_0124_0000_1</td>\n",
       "      <td>[{'id.fmsh': 'FMSH_PB188a_00043_126', 'id.pers...</td>\n",
       "      <td>124 \\nRené LOURAU L'ÉTAT-INCONSCIENT | Paris, ...</td>\n",
       "    </tr>\n",
       "    <tr>\n",
       "      <th>autog_0338-7259_1979_num_43_1_1302_t1_0129_0000_1</th>\n",
       "      <td>Bruno Lussato Introduction critique aux théori...</td>\n",
       "      <td>compte-rendu</td>\n",
       "      <td>[Olivier Corpet]</td>\n",
       "      <td>1979</td>\n",
       "      <td>autog_0338-7259_1979_num_43_1</td>\n",
       "      <td>FMSH_PB188a_00043</td>\n",
       "      <td>autog_0338-7259_1979_num_43_1_1302_t1_0129_0000_1</td>\n",
       "      <td>[{'id.fmsh': 'FMSH_PB188a_00043_131', 'id.pers...</td>\n",
       "      <td>129 \\nBruno LUSSATO .. INTRODUCTION CRITIQUE A...</td>\n",
       "    </tr>\n",
       "    <tr>\n",
       "      <th>autog_0338-7259_1979_num_43_1_1303</th>\n",
       "      <td>Table des matières</td>\n",
       "      <td>tables et index</td>\n",
       "      <td>[]</td>\n",
       "      <td>1979</td>\n",
       "      <td>autog_0338-7259_1979_num_43_1</td>\n",
       "      <td>FMSH_PB188a_00043</td>\n",
       "      <td>autog_0338-7259_1979_num_43_1_1303</td>\n",
       "      <td>[{'id.fmsh': 'FMSH_PB188a_00043_135', 'id.pers...</td>\n",
       "      <td>TABLE DES MATIERES \\nN5s 37-38 à 4142 avril 19...</td>\n",
       "    </tr>\n",
       "    <tr>\n",
       "      <th>autog_0338-7259_1979_num_43_1_1816</th>\n",
       "      <td>A nos lecteurs</td>\n",
       "      <td>autre</td>\n",
       "      <td>[]</td>\n",
       "      <td>1979</td>\n",
       "      <td>autog_0338-7259_1979_num_43_1</td>\n",
       "      <td>FMSH_PB188a_00043</td>\n",
       "      <td>autog_0338-7259_1979_num_43_1_1816</td>\n",
       "      <td>[{'id.fmsh': 'FMSH_PB188a_00043_143', 'id.pers...</td>\n",
       "      <td>A NOS LECTEURS \\nLe premier cahier de la revue...</td>\n",
       "    </tr>\n",
       "    <tr>\n",
       "      <th>autog_0338-7259_1979_num_43_1_1952</th>\n",
       "      <td>Sommaire</td>\n",
       "      <td>tables et index</td>\n",
       "      <td>[]</td>\n",
       "      <td>1979</td>\n",
       "      <td>autog_0338-7259_1979_num_43_1</td>\n",
       "      <td>FMSH_PB188a_00043</td>\n",
       "      <td>autog_0338-7259_1979_num_43_1_1952</td>\n",
       "      <td>[{'id.fmsh': 'FMSH_PB188a_00043_003', 'id.pers...</td>\n",
       "      <td>AUTOGESTION \\nsocialisme \\nPublié avec le conc...</td>\n",
       "    </tr>\n",
       "  </tbody>\n",
       "</table>\n",
       "<p>339 rows × 9 columns</p>\n",
       "</div>"
      ],
      "text/plain": [
       "                                                                                               title  \\\n",
       "id                                                                                                     \n",
       "autog_0005-0970_1966_num_1_1_1927                                                           Sommaire   \n",
       "autog_0005-0970_1966_num_1_1_1928                                           Présentation de la revue   \n",
       "autog_0005-0970_1966_num_1_1_884                   Georges Gurvitch : une théorie sociologique de...   \n",
       "autog_0005-0970_1966_num_1_1_885                   Principaux extraits de l'œuvre de Georges Gurv...   \n",
       "autog_0005-0970_1966_num_1_1_886                   Henri Lefebvre ouvre le débat sur la théorie d...   \n",
       "...                                                                                              ...   \n",
       "autog_0338-7259_1979_num_43_1_1302_t1_0124_0000_1  René Lourau L’Etat -Inconscient Paris, Ed. de ...   \n",
       "autog_0338-7259_1979_num_43_1_1302_t1_0129_0000_1  Bruno Lussato Introduction critique aux théori...   \n",
       "autog_0338-7259_1979_num_43_1_1303                                                Table des matières   \n",
       "autog_0338-7259_1979_num_43_1_1816                                                    A nos lecteurs   \n",
       "autog_0338-7259_1979_num_43_1_1952                                                          Sommaire   \n",
       "\n",
       "                                                              type  \\\n",
       "id                                                                   \n",
       "autog_0005-0970_1966_num_1_1_1927                  tables et index   \n",
       "autog_0005-0970_1966_num_1_1_1928                        éditorial   \n",
       "autog_0005-0970_1966_num_1_1_884                           article   \n",
       "autog_0005-0970_1966_num_1_1_885                           article   \n",
       "autog_0005-0970_1966_num_1_1_886                           article   \n",
       "...                                                            ...   \n",
       "autog_0338-7259_1979_num_43_1_1302_t1_0124_0000_1     compte-rendu   \n",
       "autog_0338-7259_1979_num_43_1_1302_t1_0129_0000_1     compte-rendu   \n",
       "autog_0338-7259_1979_num_43_1_1303                 tables et index   \n",
       "autog_0338-7259_1979_num_43_1_1816                           autre   \n",
       "autog_0338-7259_1979_num_43_1_1952                 tables et index   \n",
       "\n",
       "                                                              authors  \\\n",
       "id                                                                      \n",
       "autog_0005-0970_1966_num_1_1_1927                                  []   \n",
       "autog_0005-0970_1966_num_1_1_1928                                  []   \n",
       "autog_0005-0970_1966_num_1_1_884                     [Jean Duvignaud]   \n",
       "autog_0005-0970_1966_num_1_1_885                   [Georges Gurvitch]   \n",
       "autog_0005-0970_1966_num_1_1_886                     [Henri Lefebvre]   \n",
       "...                                                               ...   \n",
       "autog_0338-7259_1979_num_43_1_1302_t1_0124_0000_1      [René Barbier]   \n",
       "autog_0338-7259_1979_num_43_1_1302_t1_0129_0000_1    [Olivier Corpet]   \n",
       "autog_0338-7259_1979_num_43_1_1303                                 []   \n",
       "autog_0338-7259_1979_num_43_1_1816                                 []   \n",
       "autog_0338-7259_1979_num_43_1_1952                                 []   \n",
       "\n",
       "                                                   publicationYear  \\\n",
       "id                                                                   \n",
       "autog_0005-0970_1966_num_1_1_1927                             1966   \n",
       "autog_0005-0970_1966_num_1_1_1928                             1966   \n",
       "autog_0005-0970_1966_num_1_1_884                              1966   \n",
       "autog_0005-0970_1966_num_1_1_885                              1966   \n",
       "autog_0005-0970_1966_num_1_1_886                              1966   \n",
       "...                                                            ...   \n",
       "autog_0338-7259_1979_num_43_1_1302_t1_0124_0000_1             1979   \n",
       "autog_0338-7259_1979_num_43_1_1302_t1_0129_0000_1             1979   \n",
       "autog_0338-7259_1979_num_43_1_1303                            1979   \n",
       "autog_0338-7259_1979_num_43_1_1816                            1979   \n",
       "autog_0338-7259_1979_num_43_1_1952                            1979   \n",
       "\n",
       "                                                                 revue.id.persee  \\\n",
       "id                                                                                 \n",
       "autog_0005-0970_1966_num_1_1_1927                   autog_0005-0970_1966_num_1_1   \n",
       "autog_0005-0970_1966_num_1_1_1928                   autog_0005-0970_1966_num_1_1   \n",
       "autog_0005-0970_1966_num_1_1_884                    autog_0005-0970_1966_num_1_1   \n",
       "autog_0005-0970_1966_num_1_1_885                    autog_0005-0970_1966_num_1_1   \n",
       "autog_0005-0970_1966_num_1_1_886                    autog_0005-0970_1966_num_1_1   \n",
       "...                                                                          ...   \n",
       "autog_0338-7259_1979_num_43_1_1302_t1_0124_0000_1  autog_0338-7259_1979_num_43_1   \n",
       "autog_0338-7259_1979_num_43_1_1302_t1_0129_0000_1  autog_0338-7259_1979_num_43_1   \n",
       "autog_0338-7259_1979_num_43_1_1303                 autog_0338-7259_1979_num_43_1   \n",
       "autog_0338-7259_1979_num_43_1_1816                 autog_0338-7259_1979_num_43_1   \n",
       "autog_0338-7259_1979_num_43_1_1952                 autog_0338-7259_1979_num_43_1   \n",
       "\n",
       "                                                       revue.id.fmsh  \\\n",
       "id                                                                     \n",
       "autog_0005-0970_1966_num_1_1_1927                  FMSH_PB188a_00001   \n",
       "autog_0005-0970_1966_num_1_1_1928                  FMSH_PB188a_00001   \n",
       "autog_0005-0970_1966_num_1_1_884                   FMSH_PB188a_00001   \n",
       "autog_0005-0970_1966_num_1_1_885                   FMSH_PB188a_00001   \n",
       "autog_0005-0970_1966_num_1_1_886                   FMSH_PB188a_00001   \n",
       "...                                                              ...   \n",
       "autog_0338-7259_1979_num_43_1_1302_t1_0124_0000_1  FMSH_PB188a_00043   \n",
       "autog_0338-7259_1979_num_43_1_1302_t1_0129_0000_1  FMSH_PB188a_00043   \n",
       "autog_0338-7259_1979_num_43_1_1303                 FMSH_PB188a_00043   \n",
       "autog_0338-7259_1979_num_43_1_1816                 FMSH_PB188a_00043   \n",
       "autog_0338-7259_1979_num_43_1_1952                 FMSH_PB188a_00043   \n",
       "\n",
       "                                                                                   article.id.persee  \\\n",
       "id                                                                                                     \n",
       "autog_0005-0970_1966_num_1_1_1927                                  autog_0005-0970_1966_num_1_1_1927   \n",
       "autog_0005-0970_1966_num_1_1_1928                                  autog_0005-0970_1966_num_1_1_1928   \n",
       "autog_0005-0970_1966_num_1_1_884                                    autog_0005-0970_1966_num_1_1_884   \n",
       "autog_0005-0970_1966_num_1_1_885                                    autog_0005-0970_1966_num_1_1_885   \n",
       "autog_0005-0970_1966_num_1_1_886                                    autog_0005-0970_1966_num_1_1_886   \n",
       "...                                                                                              ...   \n",
       "autog_0338-7259_1979_num_43_1_1302_t1_0124_0000_1  autog_0338-7259_1979_num_43_1_1302_t1_0124_0000_1   \n",
       "autog_0338-7259_1979_num_43_1_1302_t1_0129_0000_1  autog_0338-7259_1979_num_43_1_1302_t1_0129_0000_1   \n",
       "autog_0338-7259_1979_num_43_1_1303                                autog_0338-7259_1979_num_43_1_1303   \n",
       "autog_0338-7259_1979_num_43_1_1816                                autog_0338-7259_1979_num_43_1_1816   \n",
       "autog_0338-7259_1979_num_43_1_1952                                autog_0338-7259_1979_num_43_1_1952   \n",
       "\n",
       "                                                                                               pages  \\\n",
       "id                                                                                                     \n",
       "autog_0005-0970_1966_num_1_1_1927                  [{'id.fmsh': 'FMSH_PB188a_00001_003', 'id.pers...   \n",
       "autog_0005-0970_1966_num_1_1_1928                  [{'id.fmsh': 'FMSH_PB188a_00001_005', 'id.pers...   \n",
       "autog_0005-0970_1966_num_1_1_884                   [{'id.fmsh': 'FMSH_PB188a_00001_007', 'id.pers...   \n",
       "autog_0005-0970_1966_num_1_1_885                   [{'id.fmsh': 'FMSH_PB188a_00001_015', 'id.pers...   \n",
       "autog_0005-0970_1966_num_1_1_886                   [{'id.fmsh': 'FMSH_PB188a_00001_061', 'id.pers...   \n",
       "...                                                                                              ...   \n",
       "autog_0338-7259_1979_num_43_1_1302_t1_0124_0000_1  [{'id.fmsh': 'FMSH_PB188a_00043_126', 'id.pers...   \n",
       "autog_0338-7259_1979_num_43_1_1302_t1_0129_0000_1  [{'id.fmsh': 'FMSH_PB188a_00043_131', 'id.pers...   \n",
       "autog_0338-7259_1979_num_43_1_1303                 [{'id.fmsh': 'FMSH_PB188a_00043_135', 'id.pers...   \n",
       "autog_0338-7259_1979_num_43_1_1816                 [{'id.fmsh': 'FMSH_PB188a_00043_143', 'id.pers...   \n",
       "autog_0338-7259_1979_num_43_1_1952                 [{'id.fmsh': 'FMSH_PB188a_00043_003', 'id.pers...   \n",
       "\n",
       "                                                                                                text  \n",
       "id                                                                                                    \n",
       "autog_0005-0970_1966_num_1_1_1927                  autogestion \\nÉtudes, débats, documents \\nSomm...  \n",
       "autog_0005-0970_1966_num_1_1_1928                  Les cahiers de |' « AUTOGESTION » se proposent...  \n",
       "autog_0005-0970_1966_num_1_1_884                   Georges Gurvitch : \\nune théorie sociologique ...  \n",
       "autog_0005-0970_1966_num_1_1_885                   PRINCIPAUX EXTRAITS \\nDE L'ŒUVRE DE GEORGES GU...  \n",
       "autog_0005-0970_1966_num_1_1_886                   Henri Lefebvre ouvre le débat \\nsur la théorie...  \n",
       "...                                                                                              ...  \n",
       "autog_0338-7259_1979_num_43_1_1302_t1_0124_0000_1  124 \\nRené LOURAU L'ÉTAT-INCONSCIENT | Paris, ...  \n",
       "autog_0338-7259_1979_num_43_1_1302_t1_0129_0000_1  129 \\nBruno LUSSATO .. INTRODUCTION CRITIQUE A...  \n",
       "autog_0338-7259_1979_num_43_1_1303                 TABLE DES MATIERES \\nN5s 37-38 à 4142 avril 19...  \n",
       "autog_0338-7259_1979_num_43_1_1816                 A NOS LECTEURS \\nLe premier cahier de la revue...  \n",
       "autog_0338-7259_1979_num_43_1_1952                 AUTOGESTION \\nsocialisme \\nPublié avec le conc...  \n",
       "\n",
       "[339 rows x 9 columns]"
      ]
     },
     "execution_count": 8,
     "metadata": {},
     "output_type": "execute_result"
    }
   ],
   "source": [
    "article_path = path.join(DATA_CACHE, 'archival', 'mongo_db', 'articles.v2.json')\n",
    "df_article = pd.read_json(article_path)\n",
    "df_article.set_index('id', inplace=True)\n",
    "df_article"
   ]
  },
  {
   "cell_type": "code",
   "execution_count": 9,
   "id": "616b424e-b4b9-4943-8f0f-8f1aa752d997",
   "metadata": {
    "ExecuteTime": {
     "end_time": "2023-07-18T17:03:30.974381Z",
     "start_time": "2023-07-18T17:03:30.953855Z"
    }
   },
   "outputs": [],
   "source": [
    "from modules.archival import *\n",
    "from modules import *"
   ]
  },
  {
   "cell_type": "markdown",
   "id": "68fe0783-8885-4fe8-9e07-39716da7273f",
   "metadata": {},
   "source": [
    "## Study on an example link"
   ]
  },
  {
   "cell_type": "code",
   "execution_count": 10,
   "id": "e79fe604",
   "metadata": {
    "ExecuteTime": {
     "end_time": "2023-07-18T17:03:31.028077Z",
     "start_time": "2023-07-18T17:03:30.974016Z"
    },
    "collapsed": false,
    "jupyter": {
     "outputs_hidden": false
    }
   },
   "outputs": [],
   "source": [
    "link = df_std_block_links.iloc[280]\n",
    "\n",
    "block_uid = { side: link[f'{side}.block.uid'] for side in ['source', 'target']}\n",
    "\n",
    "block_source = df_block.loc[block_uid['source']].to_dict()\n",
    "block_target = df_block.loc[block_uid['target']].to_dict()"
   ]
  },
  {
   "cell_type": "code",
   "execution_count": 11,
   "id": "e6d152fa",
   "metadata": {
    "ExecuteTime": {
     "end_time": "2023-07-18T17:03:31.280032Z",
     "start_time": "2023-07-18T17:03:31.001139Z"
    },
    "collapsed": false,
    "jupyter": {
     "outputs_hidden": false
    }
   },
   "outputs": [],
   "source": [
    "inference = inference_block_with_mask(block_source, block_target, dm, model, idx_class=1, temperature_y=15)"
   ]
  },
  {
   "cell_type": "code",
   "execution_count": 12,
   "id": "31bc4afb-ba94-4d48-bb72-1b66832fd0fb",
   "metadata": {
    "ExecuteTime": {
     "end_time": "2023-07-18T17:03:31.524181Z",
     "start_time": "2023-07-18T17:03:31.097214Z"
    }
   },
   "outputs": [
    {
     "data": {
      "image/png": "[encoded data removed]",
      "text/plain": [
       "<Figure size 432x288 with 2 Axes>"
      ]
     },
     "metadata": {
      "needs_background": "light"
     },
     "output_type": "display_data"
    }
   ],
   "source": [
    "import seaborn as sns\n",
    "from matplotlib import pyplot as plt\n",
    "\n",
    "y_score_matrix = inference['sentences.y_score']\n",
    "ax = sns.heatmap(y_score_matrix, annot=True, vmin=0, vmax=1, cmap=\"crest\")\n",
    "\n",
    "plt.show()"
   ]
  },
  {
   "cell_type": "code",
   "execution_count": 13,
   "id": "602497e7",
   "metadata": {
    "ExecuteTime": {
     "end_time": "2023-07-18T17:03:31.524595Z",
     "start_time": "2023-07-18T17:03:31.385552Z"
    },
    "collapsed": false,
    "jupyter": {
     "outputs_hidden": false
    }
   },
   "outputs": [],
   "source": [
    "# Prepare the tokens\n",
    "block_words = {'source': [], 'target': []}\n",
    "for side in block_words:\n",
    "    block_form = get_block(df_block, block_uid[side], 'form')\n",
    "    block_space = [[(' ' if s else '') for s in sent_s] for sent_s in get_block(df_block, block_uid[side], 'space_after')]\n",
    "    block_words[side] = [[f+s for f, s in zip(block_f, block_s)] for block_f, block_s in zip(block_form, block_space)]"
   ]
  },
  {
   "cell_type": "code",
   "execution_count": 14,
   "id": "a025f144",
   "metadata": {
    "ExecuteTime": {
     "end_time": "2023-07-18T17:03:35.200055Z",
     "start_time": "2023-07-18T17:03:34.923809Z"
    },
    "collapsed": false,
    "jupyter": {
     "outputs_hidden": false
    }
   },
   "outputs": [
    {
     "data": {
      "text/html": [
       "<table><caption><strong>3 entailment(s) found</strong></caption><thead><tr><th>Sentence pairs</th> <th>Score</th> </tr></thead><tbody><tr><td><span style=\"background-color:rgba(216, 30, 91, 0.0);\">tant </span> <span style=\"background-color:rgba(216, 30, 91, 0.0);\">de </span> <span style=\"background-color:rgba(216, 30, 91, 0.0);\">la </span> <span style=\"background-color:rgba(216, 30, 91, 0.0);\">société</span> <span style=\"background-color:rgba(216, 30, 91, 0.0);\">, </span> <span style=\"background-color:rgba(216, 30, 91, 0.0);\">a</span> <span style=\"background-color:rgba(216, 30, 91, 0.0);\">, </span> <span style=\"background-color:rgba(216, 30, 91, 0.0);\">pour </span> <span style=\"background-color:rgba(216, 30, 91, 0.0);\">des </span> <span style=\"background-color:rgba(216, 30, 91, 0.0);\">raisons </span> <span style=\"background-color:rgba(216, 30, 91, 0.800000011920929);\">objectives</span> <span style=\"background-color:rgba(216, 30, 91, 0.0);\">, </span> <span style=\"background-color:rgba(216, 30, 91, 0.0);\">encore </span> <span style=\"background-color:rgba(216, 30, 91, 0.0);\">certains </span> <span style=\"background-color:rgba(216, 30, 91, 0.0);\">droits </span> <span style=\"background-color:rgba(216, 30, 91, 0.0);\">à </span> <span style=\"background-color:rgba(216, 30, 91, 0.0);\">exercer </span> <span style=\"background-color:rgba(216, 30, 91, 0.0);\">dans </span> <span style=\"background-color:rgba(216, 30, 91, 0.0);\">la </span> <span style=\"background-color:rgba(216, 30, 91, 0.800000011920929);\">sphère </span> <span style=\"background-color:rgba(216, 30, 91, 0.800000011920929);\">économique</span> <span style=\"background-color:rgba(216, 30, 91, 0.800000011920929);\">. </span> <u><span style=\"background-color:rgba(216, 30, 91, 0.0);\">Les </span> <span style=\"background-color:rgba(216, 30, 91, 0.0);\">proportions </span> <span style=\"background-color:rgba(216, 30, 91, 0.0);\">des </span> <span style=\"background-color:rgba(216, 30, 91, 0.0);\">partisans </span> <span style=\"background-color:rgba(216, 30, 91, 0.0);\">des </span> <span style=\"background-color:rgba(216, 30, 91, 0.0);\">conseils </span> <span style=\"background-color:rgba(216, 30, 91, 0.0);\">ouvriers </span> <span style=\"background-color:rgba(216, 30, 91, 0.0);\">parmi </span> <span style=\"background-color:rgba(216, 30, 91, 0.0);\">les </span> <span style=\"background-color:rgba(216, 30, 91, 0.0);\">ouvriers </span> <span style=\"background-color:rgba(216, 30, 91, 0.0);\">de </span> <span style=\"background-color:rgba(216, 30, 91, 0.0);\">l'</span> <span style=\"background-color:rgba(216, 30, 91, 0.0);\">usine </span> <span style=\"background-color:rgba(216, 30, 91, 0.0);\">en </span> <span style=\"background-color:rgba(216, 30, 91, 0.0);\">question </span> <span style=\"background-color:rgba(216, 30, 91, 0.0);\">sont </span> <span style=\"background-color:rgba(216, 30, 91, 0.0);\">plus </span> <span style=\"background-color:rgba(216, 30, 91, 0.0);\">élevées </span> <span style=\"background-color:rgba(216, 30, 91, 0.0);\">parmi </span> <span style=\"background-color:rgba(216, 30, 91, 0.0);\">les </span> <span style=\"background-color:rgba(216, 30, 91, 0.0);\">hommes </span> <span style=\"background-color:rgba(216, 30, 91, 0.0);\">(</span> <span style=\"background-color:rgba(216, 30, 91, 0.0);\">34,9 </span> <span style=\"background-color:rgba(216, 30, 91, 0.0);\">%</span> <span style=\"background-color:rgba(216, 30, 91, 0.0);\">) </span> <span style=\"background-color:rgba(216, 30, 91, 0.0);\">et </span> <span style=\"background-color:rgba(216, 30, 91, 0.0);\">parmi </span> <span style=\"background-color:rgba(216, 30, 91, 0.0);\">les </span> <span style=\"background-color:rgba(216, 30, 91, 0.0);\">ouvriers </span> <span style=\"background-color:rgba(216, 30, 91, 0.0);\">à </span> <span style=\"background-color:rgba(216, 30, 91, 0.0);\">l'</span> <span style=\"background-color:rgba(216, 30, 91, 0.0);\">âge </span> <span style=\"background-color:rgba(216, 30, 91, 0.0);\">le </span> <span style=\"background-color:rgba(216, 30, 91, 0.0);\">plus </span> <span style=\"background-color:rgba(216, 30, 91, 0.0);\">actif </span> <span style=\"background-color:rgba(216, 30, 91, 0.0);\">de </span> <span style=\"background-color:rgba(216, 30, 91, 0.0);\">24 </span> <span style=\"background-color:rgba(216, 30, 91, 0.0);\">à </span> <span style=\"background-color:rgba(216, 30, 91, 0.0);\">39 </span> <span style=\"background-color:rgba(216, 30, 91, 0.0);\">ans </span> <span style=\"background-color:rgba(216, 30, 91, 0.0);\">(</span> <span style=\"background-color:rgba(216, 30, 91, 0.800000011920929);\">31,5 </span> <span style=\"background-color:rgba(216, 30, 91, 0.0);\">%</span> <span style=\"background-color:rgba(216, 30, 91, 0.0);\">)</span> <span style=\"background-color:rgba(216, 30, 91, 0.0);\">. </span></u></td><td>0.99</td></tr><tr><td><span style=\"background-color:rgba(216, 30, 91, 0.0);\">Mais </span> <span style=\"background-color:rgba(216, 30, 91, 0.0);\">pour </span> <span style=\"background-color:rgba(216, 30, 91, 0.0);\">réellement </span> <span style=\"background-color:rgba(216, 30, 91, 0.800000011920929);\">comprendre </span> <span style=\"background-color:rgba(216, 30, 91, 0.0);\">le </span> <span style=\"background-color:rgba(216, 30, 91, 0.0);\">problème</span> <span style=\"background-color:rgba(216, 30, 91, 0.0);\">, </span> <span style=\"background-color:rgba(216, 30, 91, 0.800000011920929);\">ïil </span> <span style=\"background-color:rgba(216, 30, 91, 0.0);\">faut </span> <span style=\"background-color:rgba(216, 30, 91, 0.0);\">avant </span> <span style=\"background-color:rgba(216, 30, 91, 0.0);\">tout </span> <span style=\"background-color:rgba(216, 30, 91, 0.0);\">tenir </span> <span style=\"background-color:rgba(216, 30, 91, 0.0);\">compte </span> <span style=\"background-color:rgba(216, 30, 91, 0.0);\">de </span> <span style=\"background-color:rgba(216, 30, 91, 0.800000011920929);\">deux </span> <span style=\"background-color:rgba(216, 30, 91, 0.800000011920929);\">faits </span> <span style=\"background-color:rgba(216, 30, 91, 0.0);\">: </span> <span style=\"background-color:rgba(216, 30, 91, 0.0);\">il </span> <span style=\"background-color:rgba(216, 30, 91, 0.0);\">faut </span> <span style=\"background-color:rgba(216, 30, 91, 0.0);\">d'</span> <span style=\"background-color:rgba(216, 30, 91, 0.0);\">abord </span> <span style=\"background-color:rgba(216, 30, 91, 0.0);\">se </span> <span style=\"background-color:rgba(216, 30, 91, 0.800000011920929);\">rappeler </span> <span style=\"background-color:rgba(216, 30, 91, 0.0);\">que </span> <span style=\"background-color:rgba(216, 30, 91, 0.0);\">l'</span> <span style=\"background-color:rgba(216, 30, 91, 0.0);\">autogestion </span> <span style=\"background-color:rgba(216, 30, 91, 0.0);\">ouvrière </span> <span style=\"background-color:rgba(216, 30, 91, 0.0);\">yougoslave </span> <span style=\"background-color:rgba(216, 30, 91, 0.800000011920929);\">signifie </span> <span style=\"background-color:rgba(216, 30, 91, 0.0);\">un </span> <span style=\"background-color:rgba(216, 30, 91, 0.0);\">changement </span> <span style=\"background-color:rgba(216, 30, 91, 0.800000011920929);\">profond </span> <span style=\"background-color:rgba(216, 30, 91, 0.0);\">dans </span> <span style=\"background-color:rgba(216, 30, 91, 0.0);\">l'</span> <span style=\"background-color:rgba(216, 30, 91, 0.0);\">organisation </span> <span style=\"background-color:rgba(216, 30, 91, 0.0);\">du </span> <span style=\"background-color:rgba(216, 30, 91, 0.0);\">fonctionnement </span> <span style=\"background-color:rgba(216, 30, 91, 0.0);\">de </span> <span style=\"background-color:rgba(216, 30, 91, 0.0);\">l'</span> <span style=\"background-color:rgba(216, 30, 91, 0.0);\">économie</span> <span style=\"background-color:rgba(216, 30, 91, 0.0);\">, </span> <span style=\"background-color:rgba(216, 30, 91, 0.0);\">et </span> <span style=\"background-color:rgba(216, 30, 91, 0.0);\">qu'</span> <span style=\"background-color:rgba(216, 30, 91, 0.0);\">ensuite </span> <span style=\"background-color:rgba(216, 30, 91, 0.0);\">elle </span> <span style=\"background-color:rgba(216, 30, 91, 0.0);\">est </span> <span style=\"background-color:rgba(216, 30, 91, 0.0);\">à </span> <span style=\"background-color:rgba(216, 30, 91, 0.0);\">considérer </span> <span style=\"background-color:rgba(216, 30, 91, 0.0);\">comme </span> <span style=\"background-color:rgba(216, 30, 91, 0.0);\">un </span> <span style=\"background-color:rgba(216, 30, 91, 0.0);\">processus </span> <span style=\"background-color:rgba(216, 30, 91, 0.0);\">qui </span> <span style=\"background-color:rgba(216, 30, 91, 0.0);\">s'</span> <span style=\"background-color:rgba(216, 30, 91, 0.800000011920929);\">approfondit </span> <span style=\"background-color:rgba(216, 30, 91, 0.800000011920929);\">constamment</span> <span style=\"background-color:rgba(216, 30, 91, 0.0);\">, </span> <span style=\"background-color:rgba(216, 30, 91, 0.0);\">plutôt </span> <span style=\"background-color:rgba(216, 30, 91, 0.0);\">que </span> <span style=\"background-color:rgba(216, 30, 91, 0.0);\">comme </span> <span style=\"background-color:rgba(216, 30, 91, 0.0);\">une </span> <span style=\"background-color:rgba(216, 30, 91, 0.0);\">institution </span> <span style=\"background-color:rgba(216, 30, 91, 0.0);\">« </span> <span style=\"background-color:rgba(216, 30, 91, 0.800000011920929);\">achevée </span> <span style=\"background-color:rgba(216, 30, 91, 0.0);\">»</span> <span style=\"background-color:rgba(216, 30, 91, 0.0);\">. </span> <u><span style=\"background-color:rgba(216, 30, 91, 0.0);\">Les </span> <span style=\"background-color:rgba(216, 30, 91, 0.800000011920929);\">proportions </span> <span style=\"background-color:rgba(216, 30, 91, 0.0);\">des </span> <span style=\"background-color:rgba(216, 30, 91, 0.0);\">partisans </span> <span style=\"background-color:rgba(216, 30, 91, 0.0);\">des </span> <span style=\"background-color:rgba(216, 30, 91, 0.0);\">conseils </span> <span style=\"background-color:rgba(216, 30, 91, 0.0);\">ouvriers </span> <span style=\"background-color:rgba(216, 30, 91, 0.0);\">parmi </span> <span style=\"background-color:rgba(216, 30, 91, 0.0);\">les </span> <span style=\"background-color:rgba(216, 30, 91, 0.0);\">ouvriers </span> <span style=\"background-color:rgba(216, 30, 91, 0.0);\">de </span> <span style=\"background-color:rgba(216, 30, 91, 0.0);\">l'</span> <span style=\"background-color:rgba(216, 30, 91, 0.0);\">usine </span> <span style=\"background-color:rgba(216, 30, 91, 0.0);\">en </span> <span style=\"background-color:rgba(216, 30, 91, 0.0);\">question </span> <span style=\"background-color:rgba(216, 30, 91, 0.0);\">sont </span> <span style=\"background-color:rgba(216, 30, 91, 0.0);\">plus </span> <span style=\"background-color:rgba(216, 30, 91, 0.0);\">élevées </span> <span style=\"background-color:rgba(216, 30, 91, 0.0);\">parmi </span> <span style=\"background-color:rgba(216, 30, 91, 0.0);\">les </span> <span style=\"background-color:rgba(216, 30, 91, 0.0);\">hommes </span> <span style=\"background-color:rgba(216, 30, 91, 0.0);\">(</span> <span style=\"background-color:rgba(216, 30, 91, 0.800000011920929);\">34,9 </span> <span style=\"background-color:rgba(216, 30, 91, 0.800000011920929);\">%</span> <span style=\"background-color:rgba(216, 30, 91, 0.0);\">) </span> <span style=\"background-color:rgba(216, 30, 91, 0.0);\">et </span> <span style=\"background-color:rgba(216, 30, 91, 0.0);\">parmi </span> <span style=\"background-color:rgba(216, 30, 91, 0.0);\">les </span> <span style=\"background-color:rgba(216, 30, 91, 0.0);\">ouvriers </span> <span style=\"background-color:rgba(216, 30, 91, 0.0);\">à </span> <span style=\"background-color:rgba(216, 30, 91, 0.0);\">l'</span> <span style=\"background-color:rgba(216, 30, 91, 0.0);\">âge </span> <span style=\"background-color:rgba(216, 30, 91, 0.0);\">le </span> <span style=\"background-color:rgba(216, 30, 91, 0.0);\">plus </span> <span style=\"background-color:rgba(216, 30, 91, 0.0);\">actif </span> <span style=\"background-color:rgba(216, 30, 91, 0.0);\">de </span> <span style=\"background-color:rgba(216, 30, 91, 0.0);\">24 </span> <span style=\"background-color:rgba(216, 30, 91, 0.0);\">à </span> <span style=\"background-color:rgba(216, 30, 91, 0.0);\">39 </span> <span style=\"background-color:rgba(216, 30, 91, 0.800000011920929);\">ans </span> <span style=\"background-color:rgba(216, 30, 91, 0.0);\">(</span> <span style=\"background-color:rgba(216, 30, 91, 0.800000011920929);\">31,5 </span> <span style=\"background-color:rgba(216, 30, 91, 0.800000011920929);\">%</span> <span style=\"background-color:rgba(216, 30, 91, 0.800000011920929);\">)</span> <span style=\"background-color:rgba(216, 30, 91, 0.0);\">. </span></u></td><td>0.76</td></tr><tr><td><span style=\"background-color:rgba(216, 30, 91, 0.0);\">tant </span> <span style=\"background-color:rgba(216, 30, 91, 0.0);\">de </span> <span style=\"background-color:rgba(216, 30, 91, 0.0);\">la </span> <span style=\"background-color:rgba(216, 30, 91, 0.0);\">société</span> <span style=\"background-color:rgba(216, 30, 91, 0.0);\">, </span> <span style=\"background-color:rgba(216, 30, 91, 0.0);\">a</span> <span style=\"background-color:rgba(216, 30, 91, 0.0);\">, </span> <span style=\"background-color:rgba(216, 30, 91, 0.0);\">pour </span> <span style=\"background-color:rgba(216, 30, 91, 0.0);\">des </span> <span style=\"background-color:rgba(216, 30, 91, 0.0);\">raisons </span> <span style=\"background-color:rgba(216, 30, 91, 0.0);\">objectives</span> <span style=\"background-color:rgba(216, 30, 91, 0.0);\">, </span> <span style=\"background-color:rgba(216, 30, 91, 0.0);\">encore </span> <span style=\"background-color:rgba(216, 30, 91, 0.0);\">certains </span> <span style=\"background-color:rgba(216, 30, 91, 0.0);\">droits </span> <span style=\"background-color:rgba(216, 30, 91, 0.0);\">à </span> <span style=\"background-color:rgba(216, 30, 91, 0.0);\">exercer </span> <span style=\"background-color:rgba(216, 30, 91, 0.0);\">dans </span> <span style=\"background-color:rgba(216, 30, 91, 0.0);\">la </span> <span style=\"background-color:rgba(216, 30, 91, 0.800000011920929);\">sphère </span> <span style=\"background-color:rgba(216, 30, 91, 0.0);\">économique</span> <span style=\"background-color:rgba(216, 30, 91, 0.0);\">. </span> <u><span style=\"background-color:rgba(216, 30, 91, 0.0);\">L'</span> <span style=\"background-color:rgba(216, 30, 91, 0.800000011920929);\">indécision </span> <span style=\"background-color:rgba(216, 30, 91, 0.0);\">et </span> <span style=\"background-color:rgba(216, 30, 91, 0.0);\">le </span> <span style=\"background-color:rgba(216, 30, 91, 0.0);\">manque </span> <span style=\"background-color:rgba(216, 30, 91, 0.0);\">d'</span> <span style=\"background-color:rgba(216, 30, 91, 0.0);\">informations </span> <span style=\"background-color:rgba(216, 30, 91, 0.0);\">se </span> <span style=\"background-color:rgba(216, 30, 91, 0.0);\">trouvent </span> <span style=\"background-color:rgba(216, 30, 91, 0.0);\">surtout </span> <span style=\"background-color:rgba(216, 30, 91, 0.0);\">chez </span> <span style=\"background-color:rgba(216, 30, 91, 0.0);\">les </span> <span style=\"background-color:rgba(216, 30, 91, 0.0);\">femmes</span> <span style=\"background-color:rgba(216, 30, 91, 0.0);\">. </span></u></td><td>0.75</td></tr>"
      ],
      "text/plain": [
       "<IPython.core.display.HTML object>"
      ]
     },
     "metadata": {},
     "output_type": "display_data"
    }
   ],
   "source": [
    "inference = aggregate_score(inference, aggregation='topk_threshold', k=3, epsilon=0.5)\n",
    "inference_pairs = inference['blocks.top_sentence_pairs']\n",
    "\n",
    "html = '<table>'\n",
    "html += f'<caption><strong>{len(inference_pairs)} entailment(s) found</strong></caption>'\n",
    "html += '<thead><tr><th>Sentence pairs</th> <th>Score</th> </tr></thead>'\n",
    "html += '<tbody>'\n",
    "\n",
    "attentions = inference['sentences.attention']\n",
    "\n",
    "for pairs in inference_pairs:\n",
    "    s = pairs['source']\n",
    "    t = pairs['target']\n",
    "\n",
    "    source_words = block_words['source'][s]\n",
    "    target_words = block_words['target'][t]\n",
    "    source_attention = attentions['source'][s, t]\n",
    "    target_attention = attentions['target'][s, t]\n",
    "\n",
    "    source_attention = binarize_attention(source_attention, mass=.2)\n",
    "    target_attention = binarize_attention(target_attention, mass=.2)\n",
    "\n",
    "    source_words = highlight(source_words, source_attention, color='#D81E5B')\n",
    "    target_words = highlight(target_words, target_attention, color='#D81E5B')\n",
    "\n",
    "    html += '<tr>'\n",
    "    html += '<td>'+ source_words + ' '+ '<u>' + target_words + '</u>' +'</td>'\n",
    "    html += '<td>'+ str(round(pairs['y_score'],2)) +'</td>'\n",
    "    html += '</tr>'\n",
    "\n",
    "display(HTML(html))"
   ]
  },
  {
   "cell_type": "code",
   "execution_count": 27,
   "id": "260c6e0e",
   "metadata": {
    "ExecuteTime": {
     "end_time": "2023-07-18T17:43:44.758670Z",
     "start_time": "2023-07-18T17:43:43.686633Z"
    },
    "collapsed": false,
    "jupyter": {
     "outputs_hidden": false
    }
   },
   "outputs": [
    {
     "data": {
      "text/plain": [
       "[0.030472546815872192,\n",
       " 0.025046220049262047,\n",
       " 0.0,\n",
       " 0.025904221460223198,\n",
       " 0.037837278097867966,\n",
       " 0.018495960161089897,\n",
       " 0.0350545272231102,\n",
       " 0.024610020220279694,\n",
       " 0.010698188096284866,\n",
       " 0.07028816640377045,\n",
       " 0.1433502584695816,\n",
       " 0.06841618567705154,\n",
       " 0.11314467340707779,\n",
       " 0.0642591044306755,\n",
       " 0.06819770485162735,\n",
       " 0.07147733867168427,\n",
       " 0.10865410417318344,\n",
       " 0.09892921894788742,\n",
       " 0.06119402498006821,\n",
       " 1.0,\n",
       " 0.3057677149772644,\n",
       " 0.19013909995555878,\n",
       " 0.17563088238239288,\n",
       " 0.1314808875322342,\n",
       " 0.08324005454778671,\n",
       " 0.43306779861450195,\n",
       " 0.13090500235557556,\n",
       " 0.27948543429374695,\n",
       " 0.2844110131263733,\n",
       " 0.43341660499572754,\n",
       " 0.3455130457878113,\n",
       " 0.09785784780979156,\n",
       " 0.2707003355026245,\n",
       " 0.303244948387146,\n",
       " 0.08764239400625229,\n",
       " 0.12767215073108673,\n",
       " 0.3628758490085602,\n",
       " 0.40585005283355713,\n",
       " 0.3446689248085022,\n",
       " 0.06289460510015488,\n",
       " 0.2401464879512787,\n",
       " 0.09278617054224014,\n",
       " 0.07682274281978607,\n",
       " 0.18833401799201965,\n",
       " 0.4629229009151459,\n",
       " 0.1693052351474762,\n",
       " 0.0,\n",
       " 0.11912745237350464,\n",
       " 0.03146729618310928,\n",
       " 0.03366629406809807,\n",
       " 0.4198254644870758,\n",
       " 0.1493780016899109,\n",
       " 0.3327433168888092,\n",
       " 0.447995662689209,\n",
       " 0.1654122769832611,\n",
       " 0.011206340976059437,\n",
       " 0.04783947765827179,\n",
       " 0.0699905976653099,\n",
       " 0.14411382377147675,\n",
       " 0.12464695423841476,\n",
       " 0.03854410722851753,\n",
       " 0.17740961909294128,\n",
       " 0.15255066752433777,\n",
       " 0.11115293949842453,\n",
       " 0.14709745347499847,\n",
       " 0.11853032559156418,\n",
       " 0.06425110250711441,\n",
       " 0.03221965581178665,\n",
       " 0.06572365760803223,\n",
       " 0.13170850276947021,\n",
       " 0.18867458403110504,\n",
       " 0.059805676341056824,\n",
       " 0.22050438821315765,\n",
       " 0.22558307647705078,\n",
       " 0.29337871074676514,\n",
       " 1.0,\n",
       " 0.48404309153556824,\n",
       " 0.26102229952812195,\n",
       " 0.23530644178390503,\n",
       " 0.24160361289978027,\n",
       " 0.2778441309928894,\n",
       " 0.14493703842163086,\n",
       " 0.1260765790939331,\n",
       " 0.1544523984193802,\n",
       " 0.5459169745445251,\n",
       " 0.33024677634239197,\n",
       " 0.14991335570812225]"
      ]
     },
     "execution_count": 27,
     "metadata": {},
     "output_type": "execute_result"
    }
   ],
   "source": [
    "[a for sent in block_attentions['source'] for a in sent]"
   ]
  },
  {
   "cell_type": "code",
   "execution_count": 34,
   "id": "61ce73e3",
   "metadata": {
    "ExecuteTime": {
     "end_time": "2023-07-18T17:48:55.529974Z",
     "start_time": "2023-07-18T17:48:55.475354Z"
    },
    "collapsed": false,
    "jupyter": {
     "outputs_hidden": false
    }
   },
   "outputs": [
    {
     "data": {
      "text/html": [
       "<table><caption><strong>Explanation between the 2 textblocks</strong></caption><thead><tr><th>Source : Jože Goričar. 1967. \"L’autogestion ouvrière en Yougoslavie\"</th> <th>Target : Oto Sedláček. 1970. \"Ce que les ouvriers et les contremaîtres attendent des conseils ouvriers\"</th> <th>Score</th> </tr></thead><tbody><tr><td><span style=\"background-color:rgba(216, 30, 91, 0.0);\">tant </span> <span style=\"background-color:rgba(216, 30, 91, 0.0);\">de </span> <span style=\"background-color:rgba(216, 30, 91, 0.0);\">la </span> <span style=\"background-color:rgba(216, 30, 91, 0.0);\">société</span> <span style=\"background-color:rgba(216, 30, 91, 0.0);\">, </span> <span style=\"background-color:rgba(216, 30, 91, 0.0);\">a</span> <span style=\"background-color:rgba(216, 30, 91, 0.0);\">, </span> <span style=\"background-color:rgba(216, 30, 91, 0.0);\">pour </span> <span style=\"background-color:rgba(216, 30, 91, 0.0);\">des </span> <span style=\"background-color:rgba(216, 30, 91, 0.0);\">raisons </span> <span style=\"background-color:rgba(216, 30, 91, 0.0);\">objectives</span> <span style=\"background-color:rgba(216, 30, 91, 0.0);\">, </span> <span style=\"background-color:rgba(216, 30, 91, 0.0);\">encore </span> <span style=\"background-color:rgba(216, 30, 91, 0.0);\">certains </span> <span style=\"background-color:rgba(216, 30, 91, 0.0);\">droits </span> <span style=\"background-color:rgba(216, 30, 91, 0.0);\">à </span> <span style=\"background-color:rgba(216, 30, 91, 0.0);\">exercer </span> <span style=\"background-color:rgba(216, 30, 91, 0.0);\">dans </span> <span style=\"background-color:rgba(216, 30, 91, 0.0);\">la </span> <span style=\"background-color:rgba(216, 30, 91, 0.800000011920929);\">sphère </span> <span style=\"background-color:rgba(216, 30, 91, 0.800000011920929);\">économique</span> <span style=\"background-color:rgba(216, 30, 91, 0.0);\">. </span> <span style=\"background-color:rgba(216, 30, 91, 0.0);\">Mais </span> <span style=\"background-color:rgba(216, 30, 91, 0.0);\">pour </span> <span style=\"background-color:rgba(216, 30, 91, 0.0);\">réellement </span> <span style=\"background-color:rgba(216, 30, 91, 0.800000011920929);\">comprendre </span> <span style=\"background-color:rgba(216, 30, 91, 0.0);\">le </span> <span style=\"background-color:rgba(216, 30, 91, 0.0);\">problème</span> <span style=\"background-color:rgba(216, 30, 91, 0.0);\">, </span> <span style=\"background-color:rgba(216, 30, 91, 0.800000011920929);\">ïil </span> <span style=\"background-color:rgba(216, 30, 91, 0.800000011920929);\">faut </span> <span style=\"background-color:rgba(216, 30, 91, 0.0);\">avant </span> <span style=\"background-color:rgba(216, 30, 91, 0.0);\">tout </span> <span style=\"background-color:rgba(216, 30, 91, 0.800000011920929);\">tenir </span> <span style=\"background-color:rgba(216, 30, 91, 0.0);\">compte </span> <span style=\"background-color:rgba(216, 30, 91, 0.0);\">de </span> <span style=\"background-color:rgba(216, 30, 91, 0.800000011920929);\">deux </span> <span style=\"background-color:rgba(216, 30, 91, 0.800000011920929);\">faits </span> <span style=\"background-color:rgba(216, 30, 91, 0.800000011920929);\">: </span> <span style=\"background-color:rgba(216, 30, 91, 0.0);\">il </span> <span style=\"background-color:rgba(216, 30, 91, 0.0);\">faut </span> <span style=\"background-color:rgba(216, 30, 91, 0.0);\">d'</span> <span style=\"background-color:rgba(216, 30, 91, 0.0);\">abord </span> <span style=\"background-color:rgba(216, 30, 91, 0.0);\">se </span> <span style=\"background-color:rgba(216, 30, 91, 0.800000011920929);\">rappeler </span> <span style=\"background-color:rgba(216, 30, 91, 0.0);\">que </span> <span style=\"background-color:rgba(216, 30, 91, 0.0);\">l'</span> <span style=\"background-color:rgba(216, 30, 91, 0.0);\">autogestion </span> <span style=\"background-color:rgba(216, 30, 91, 0.0);\">ouvrière </span> <span style=\"background-color:rgba(216, 30, 91, 0.0);\">yougoslave </span> <span style=\"background-color:rgba(216, 30, 91, 0.800000011920929);\">signifie </span> <span style=\"background-color:rgba(216, 30, 91, 0.0);\">un </span> <span style=\"background-color:rgba(216, 30, 91, 0.800000011920929);\">changement </span> <span style=\"background-color:rgba(216, 30, 91, 0.800000011920929);\">profond </span> <span style=\"background-color:rgba(216, 30, 91, 0.0);\">dans </span> <span style=\"background-color:rgba(216, 30, 91, 0.0);\">l'</span> <span style=\"background-color:rgba(216, 30, 91, 0.0);\">organisation </span> <span style=\"background-color:rgba(216, 30, 91, 0.0);\">du </span> <span style=\"background-color:rgba(216, 30, 91, 0.0);\">fonctionnement </span> <span style=\"background-color:rgba(216, 30, 91, 0.0);\">de </span> <span style=\"background-color:rgba(216, 30, 91, 0.0);\">l'</span> <span style=\"background-color:rgba(216, 30, 91, 0.0);\">économie</span> <span style=\"background-color:rgba(216, 30, 91, 0.0);\">, </span> <span style=\"background-color:rgba(216, 30, 91, 0.0);\">et </span> <span style=\"background-color:rgba(216, 30, 91, 0.0);\">qu'</span> <span style=\"background-color:rgba(216, 30, 91, 0.0);\">ensuite </span> <span style=\"background-color:rgba(216, 30, 91, 0.0);\">elle </span> <span style=\"background-color:rgba(216, 30, 91, 0.0);\">est </span> <span style=\"background-color:rgba(216, 30, 91, 0.0);\">à </span> <span style=\"background-color:rgba(216, 30, 91, 0.0);\">considérer </span> <span style=\"background-color:rgba(216, 30, 91, 0.0);\">comme </span> <span style=\"background-color:rgba(216, 30, 91, 0.0);\">un </span> <span style=\"background-color:rgba(216, 30, 91, 0.0);\">processus </span> <span style=\"background-color:rgba(216, 30, 91, 0.0);\">qui </span> <span style=\"background-color:rgba(216, 30, 91, 0.800000011920929);\">s'</span> <span style=\"background-color:rgba(216, 30, 91, 0.800000011920929);\">approfondit </span> <span style=\"background-color:rgba(216, 30, 91, 0.800000011920929);\">constamment</span> <span style=\"background-color:rgba(216, 30, 91, 0.0);\">, </span> <span style=\"background-color:rgba(216, 30, 91, 0.0);\">plutôt </span> <span style=\"background-color:rgba(216, 30, 91, 0.0);\">que </span> <span style=\"background-color:rgba(216, 30, 91, 0.0);\">comme </span> <span style=\"background-color:rgba(216, 30, 91, 0.0);\">une </span> <span style=\"background-color:rgba(216, 30, 91, 0.0);\">institution </span> <span style=\"background-color:rgba(216, 30, 91, 0.0);\">« </span> <span style=\"background-color:rgba(216, 30, 91, 0.800000011920929);\">achevée </span> <span style=\"background-color:rgba(216, 30, 91, 0.800000011920929);\">»</span> <span style=\"background-color:rgba(216, 30, 91, 0.0);\">. </span></td><td><span style=\"background-color:rgba(216, 30, 91, 0.0);\">Les </span> <span style=\"background-color:rgba(216, 30, 91, 0.0);\">proportions </span> <span style=\"background-color:rgba(216, 30, 91, 0.0);\">des </span> <span style=\"background-color:rgba(216, 30, 91, 0.0);\">partisans </span> <span style=\"background-color:rgba(216, 30, 91, 0.0);\">des </span> <span style=\"background-color:rgba(216, 30, 91, 0.0);\">conseils </span> <span style=\"background-color:rgba(216, 30, 91, 0.0);\">ouvriers </span> <span style=\"background-color:rgba(216, 30, 91, 0.0);\">parmi </span> <span style=\"background-color:rgba(216, 30, 91, 0.0);\">les </span> <span style=\"background-color:rgba(216, 30, 91, 0.0);\">ouvriers </span> <span style=\"background-color:rgba(216, 30, 91, 0.0);\">de </span> <span style=\"background-color:rgba(216, 30, 91, 0.0);\">l'</span> <span style=\"background-color:rgba(216, 30, 91, 0.0);\">usine </span> <span style=\"background-color:rgba(216, 30, 91, 0.0);\">en </span> <span style=\"background-color:rgba(216, 30, 91, 0.0);\">question </span> <span style=\"background-color:rgba(216, 30, 91, 0.0);\">sont </span> <span style=\"background-color:rgba(216, 30, 91, 0.0);\">plus </span> <span style=\"background-color:rgba(216, 30, 91, 0.0);\">élevées </span> <span style=\"background-color:rgba(216, 30, 91, 0.0);\">parmi </span> <span style=\"background-color:rgba(216, 30, 91, 0.0);\">les </span> <span style=\"background-color:rgba(216, 30, 91, 0.0);\">hommes </span> <span style=\"background-color:rgba(216, 30, 91, 0.0);\">(</span> <span style=\"background-color:rgba(216, 30, 91, 0.800000011920929);\">34,9 </span> <span style=\"background-color:rgba(216, 30, 91, 0.0);\">%</span> <span style=\"background-color:rgba(216, 30, 91, 0.0);\">) </span> <span style=\"background-color:rgba(216, 30, 91, 0.0);\">et </span> <span style=\"background-color:rgba(216, 30, 91, 0.0);\">parmi </span> <span style=\"background-color:rgba(216, 30, 91, 0.0);\">les </span> <span style=\"background-color:rgba(216, 30, 91, 0.0);\">ouvriers </span> <span style=\"background-color:rgba(216, 30, 91, 0.0);\">à </span> <span style=\"background-color:rgba(216, 30, 91, 0.0);\">l'</span> <span style=\"background-color:rgba(216, 30, 91, 0.0);\">âge </span> <span style=\"background-color:rgba(216, 30, 91, 0.0);\">le </span> <span style=\"background-color:rgba(216, 30, 91, 0.0);\">plus </span> <span style=\"background-color:rgba(216, 30, 91, 0.0);\">actif </span> <span style=\"background-color:rgba(216, 30, 91, 0.0);\">de </span> <span style=\"background-color:rgba(216, 30, 91, 0.0);\">24 </span> <span style=\"background-color:rgba(216, 30, 91, 0.0);\">à </span> <span style=\"background-color:rgba(216, 30, 91, 0.0);\">39 </span> <span style=\"background-color:rgba(216, 30, 91, 0.0);\">ans </span> <span style=\"background-color:rgba(216, 30, 91, 0.0);\">(</span> <span style=\"background-color:rgba(216, 30, 91, 0.800000011920929);\">31,5 </span> <span style=\"background-color:rgba(216, 30, 91, 0.0);\">%</span> <span style=\"background-color:rgba(216, 30, 91, 0.0);\">)</span> <span style=\"background-color:rgba(216, 30, 91, 0.0);\">. </span> <span style=\"background-color:rgba(216, 30, 91, 0.0);\">L'</span> <span style=\"background-color:rgba(216, 30, 91, 0.800000011920929);\">indécision </span> <span style=\"background-color:rgba(216, 30, 91, 0.0);\">et </span> <span style=\"background-color:rgba(216, 30, 91, 0.0);\">le </span> <span style=\"background-color:rgba(216, 30, 91, 0.0);\">manque </span> <span style=\"background-color:rgba(216, 30, 91, 0.0);\">d'</span> <span style=\"background-color:rgba(216, 30, 91, 0.0);\">informations </span> <span style=\"background-color:rgba(216, 30, 91, 0.0);\">se </span> <span style=\"background-color:rgba(216, 30, 91, 0.0);\">trouvent </span> <span style=\"background-color:rgba(216, 30, 91, 0.0);\">surtout </span> <span style=\"background-color:rgba(216, 30, 91, 0.0);\">chez </span> <span style=\"background-color:rgba(216, 30, 91, 0.0);\">les </span> <span style=\"background-color:rgba(216, 30, 91, 0.0);\">femmes</span> <span style=\"background-color:rgba(216, 30, 91, 0.0);\">. </span> <span style=\"background-color:rgba(216, 30, 91, 0.0);\">La </span> <span style=\"background-color:rgba(216, 30, 91, 0.0);\">situation </span> <span style=\"background-color:rgba(216, 30, 91, 0.0);\">à </span> <span style=\"background-color:rgba(216, 30, 91, 0.0);\">l'</span> <span style=\"background-color:rgba(216, 30, 91, 0.0);\">usine </span> <span style=\"background-color:rgba(216, 30, 91, 0.0);\">quant </span> <span style=\"background-color:rgba(216, 30, 91, 0.0);\">au </span> <span style=\"background-color:rgba(216, 30, 91, 0.0);\">caractère </span> <span style=\"background-color:rgba(216, 30, 91, 0.0);\">du </span> <span style=\"background-color:rgba(216, 30, 91, 0.0);\">travail </span> <span style=\"background-color:rgba(216, 30, 91, 0.0);\">et </span> <span style=\"background-color:rgba(216, 30, 91, 0.0);\">à </span> <span style=\"background-color:rgba(216, 30, 91, 0.0);\">certains </span> <span style=\"background-color:rgba(216, 30, 91, 0.0);\">autres </span> <span style=\"background-color:rgba(216, 30, 91, 0.0);\">facteurs </span> <span style=\"background-color:rgba(216, 30, 91, 0.0);\">est </span> <span style=\"background-color:rgba(216, 30, 91, 0.0);\">en </span> <span style=\"background-color:rgba(216, 30, 91, 0.0);\">outre </span> <span style=\"background-color:rgba(216, 30, 91, 0.0);\">indiquée </span> <span style=\"background-color:rgba(216, 30, 91, 0.0);\">par </span> <span style=\"background-color:rgba(216, 30, 91, 0.0);\">l'</span> <span style=\"background-color:rgba(216, 30, 91, 0.0);\">attitude </span> <span style=\"background-color:rgba(216, 30, 91, 0.0);\">des </span> <span style=\"background-color:rgba(216, 30, 91, 0.0);\">ouvriers </span> <span style=\"background-color:rgba(216, 30, 91, 0.0);\">travaillant </span> <span style=\"background-color:rgba(216, 30, 91, 0.0);\">dans </span> <span style=\"background-color:rgba(216, 30, 91, 0.0);\">les </span> <span style=\"background-color:rgba(216, 30, 91, 0.0);\">quatre </span> <span style=\"background-color:rgba(216, 30, 91, 0.0);\">services </span> <span style=\"background-color:rgba(216, 30, 91, 0.0);\">de </span> <span style=\"background-color:rgba(216, 30, 91, 0.0);\">production </span> <span style=\"background-color:rgba(216, 30, 91, 0.0);\">fondamentaux </span> <span style=\"background-color:rgba(216, 30, 91, 0.0);\">qui </span> <span style=\"background-color:rgba(216, 30, 91, 0.0);\">sont </span> <span style=\"background-color:rgba(216, 30, 91, 0.0);\">décisifs </span> <span style=\"background-color:rgba(216, 30, 91, 0.0);\">au </span> <span style=\"background-color:rgba(216, 30, 91, 0.0);\">point </span> <span style=\"background-color:rgba(216, 30, 91, 0.0);\">de </span> <span style=\"background-color:rgba(216, 30, 91, 0.0);\">vue </span> <span style=\"background-color:rgba(216, 30, 91, 0.0);\">des </span> <span style=\"background-color:rgba(216, 30, 91, 0.0);\">succès </span> <span style=\"background-color:rgba(216, 30, 91, 0.0);\">économiques </span> <span style=\"background-color:rgba(216, 30, 91, 0.0);\">de </span> <span style=\"background-color:rgba(216, 30, 91, 0.0);\">l'</span> <span style=\"background-color:rgba(216, 30, 91, 0.0);\">usine</span> <span style=\"background-color:rgba(216, 30, 91, 0.0);\">. </span></td><td>0.835</td></tr></tbody></table>"
      ],
      "text/plain": [
       "<IPython.core.display.HTML object>"
      ]
     },
     "metadata": {},
     "output_type": "display_data"
    }
   ],
   "source": [
    "inference = aggregate_attention_new(inference, aggregation='weighted_average')\n",
    "block_attentions = {'source': inference['blocks.attention']['source'], 'target': inference['blocks.attention']['target']}\n",
    "block_attentions = {side: [a for sent in attention for a in sent] for side, attention in block_attentions.items()}\n",
    "\n",
    "def article_identity(df_article, article_id):\n",
    "    \"\"\"Reformat identity for article\"\"\"\n",
    "    authors = df_article.loc[article_id,'authors']\n",
    "    if len(authors) == 1:\n",
    "        authors = authors[0]\n",
    "    else:\n",
    "        authors = ', '.join(authors)\n",
    "    year = df_article.loc[article_id,'publicationYear'].astype(str)\n",
    "    title = df_article.loc[article_id,'title']\n",
    "    return authors + '. ' + year + '. \"' +  title + '\"'\n",
    "\n",
    "html = '<table>'\n",
    "html += f'<caption><strong>Explanation between the 2 textblocks</strong></caption>'\n",
    "\n",
    "source_article_id = link['source.article.id']\n",
    "target_article_id = link['target.article.id']\n",
    "source_identity = article_identity(df_article, source_article_id)\n",
    "target_identity = article_identity(df_article, target_article_id)\n",
    "\n",
    "html += '<thead><tr><th>Source : '+source_identity+'</th> <th>Target : '+target_identity+'</th> <th>Score</th> </tr></thead>'\n",
    "\n",
    "html += '<tbody>'\n",
    "\n",
    "# Prepare the tokens\n",
    "flat_block_words = {\n",
    "    side : [token for sentence in block_words[side] for token in sentence] for side in block_words\n",
    "}\n",
    "\n",
    "# treat attention:\n",
    "for side, attention in block_attentions.items():\n",
    "    attention = torch.tensor(attention)\n",
    "    attention = attention/sum(attention)\n",
    "    attention = binarize_attention(attention, mass=0.5)\n",
    "    block_attentions[side] = attention\n",
    "\n",
    "# First line : block text + score + type\n",
    "html += '<tr>'\n",
    "\n",
    "html += '<td>'+ highlight(flat_block_words['source'], block_attentions['source'], color='#D81E5B')+ '</td>'\n",
    "html += '<td>'+ highlight(flat_block_words['target'], block_attentions['target'], color='#D81E5B')+ '</td>'\n",
    "\n",
    "# score\n",
    "html += '<td>'+ str(round(inference['blocks.score'],3)) +'</td>'\n",
    "\n",
    "# type\n",
    "html += '</tr>'\n",
    "\n",
    "html += '</tbody>'\n",
    "html += '</table>'\n",
    "display(HTML(html))"
   ]
  },
  {
   "cell_type": "markdown",
   "id": "90baed92-df8a-4466-a962-ec2129cef683",
   "metadata": {},
   "source": [
    "## Meta study"
   ]
  },
  {
   "cell_type": "markdown",
   "id": "e96573ec-c5d4-402d-86c9-212636306c7f",
   "metadata": {},
   "source": [
    "Predition score between sentence pairs from the same block"
   ]
  },
  {
   "cell_type": "code",
   "execution_count": 35,
   "id": "ec28607a-28cf-4367-a520-9ab976baea9f",
   "metadata": {
    "ExecuteTime": {
     "end_time": "2023-07-18T17:54:57.255438Z",
     "start_time": "2023-07-18T17:54:56.299384Z"
    }
   },
   "outputs": [],
   "source": [
    "df_same_block_links = df_std_block_links[df_std_block_links['source.block.uid'] == df_std_block_links['target.block.uid']].copy()"
   ]
  },
  {
   "cell_type": "code",
   "execution_count": 114,
   "id": "f617d61e-8ff1-4ffd-8a84-a9b25193b7a4",
   "metadata": {
    "ExecuteTime": {
     "end_time": "2023-07-18T18:36:21.590268Z",
     "start_time": "2023-07-18T18:36:20.600246Z"
    }
   },
   "outputs": [
    {
     "data": {
      "application/vnd.jupyter.widget-view+json": {
       "model_id": "7b12707bf9f44f13984569e2987f47b0",
       "version_major": 2,
       "version_minor": 0
      },
      "text/plain": [
       "inference_score:   0%|          | 0/106 [00:00<?, ?it/s]"
      ]
     },
     "metadata": {},
     "output_type": "display_data"
    }
   ],
   "source": [
    "from tqdm.auto import tqdm\n",
    "\n",
    "def inference_score(row):\n",
    "    # get uid\n",
    "    block_uid = { side: row[f'{side}.block.uid'] for side in ['source', 'target']}\n",
    "    #log.debug(f'uid={block_uid}')\n",
    "\n",
    "    block_source = df_block.loc[block_uid['source']].to_dict()\n",
    "    block_target = df_block.loc[block_uid['target']].to_dict()\n",
    "\n",
    "    # batched inference from gpu model\n",
    "    inference = inference_block_with_mask(block_source, block_target, dm, model, temperature_y=15)\n",
    "    row['y_score_matrix'] = inference['sentences.y_score'].tolist()\n",
    "\n",
    "    #block_norm = { side : get_block(df_block, block_uid[side]) for side in ['source', 'target'] }\n",
    "    #inference = inference_block(block_norm['source'], block_norm['target'], dm, model)\n",
    "\n",
    "    # row['y_score_matrix'] = inference['y_score_matrix'].tolist()\n",
    "\n",
    "    return row\n",
    "    \n",
    "tqdm.pandas(desc='inference_score')\n",
    "df_same_block_links = df_same_block_links.progress_apply(inference_score,axis=1)"
   ]
  },
  {
   "cell_type": "code",
   "execution_count": 110,
   "id": "5734a0f8",
   "metadata": {
    "ExecuteTime": {
     "end_time": "2023-07-18T18:35:23.734926Z",
     "start_time": "2023-07-18T18:35:23.646019Z"
    },
    "collapsed": false,
    "jupyter": {
     "outputs_hidden": false
    }
   },
   "outputs": [
    {
     "data": {
      "text/html": [
       "<div>\n",
       "<style scoped>\n",
       "    .dataframe tbody tr th:only-of-type {\n",
       "        vertical-align: middle;\n",
       "    }\n",
       "\n",
       "    .dataframe tbody tr th {\n",
       "        vertical-align: top;\n",
       "    }\n",
       "\n",
       "    .dataframe thead th {\n",
       "        text-align: right;\n",
       "    }\n",
       "</style>\n",
       "<table border=\"1\" class=\"dataframe\">\n",
       "  <thead>\n",
       "    <tr style=\"text-align: right;\">\n",
       "      <th></th>\n",
       "      <th>source.block.uid</th>\n",
       "      <th>target.block.uid</th>\n",
       "      <th>source.revue.id.persee</th>\n",
       "      <th>target.revue.id.persee</th>\n",
       "      <th>source.revue.id.fmsh</th>\n",
       "      <th>target.revue.id.fmsh</th>\n",
       "      <th>source.article.id</th>\n",
       "      <th>target.article.id</th>\n",
       "      <th>source.page.id.fmsh</th>\n",
       "      <th>target.page.id.fmsh</th>\n",
       "      <th>source.page.id.persee</th>\n",
       "      <th>target.page.id.persee</th>\n",
       "      <th>source.block.id</th>\n",
       "      <th>target.block.id</th>\n",
       "      <th>y_score_matrix</th>\n",
       "    </tr>\n",
       "  </thead>\n",
       "  <tbody>\n",
       "    <tr>\n",
       "      <th>0</th>\n",
       "      <td>FMSH_PB188a_00002_098_00</td>\n",
       "      <td>FMSH_PB188a_00002_098_00</td>\n",
       "      <td>autog_0005-0970_1967_num_2_1</td>\n",
       "      <td>autog_0005-0970_1967_num_2_1</td>\n",
       "      <td>FMSH_PB188a_00002</td>\n",
       "      <td>FMSH_PB188a_00002</td>\n",
       "      <td>autog_0005-0970_1967_num_2_1_902</td>\n",
       "      <td>autog_0005-0970_1967_num_2_1_902</td>\n",
       "      <td>FMSH_PB188a_00002_098</td>\n",
       "      <td>FMSH_PB188a_00002_098</td>\n",
       "      <td>autog_0005-0970_1967_num_2_1_T1_0096_0000_710</td>\n",
       "      <td>autog_0005-0970_1967_num_2_1_T1_0096_0000_710</td>\n",
       "      <td>0</td>\n",
       "      <td>0</td>\n",
       "      <td>[[0.0]]</td>\n",
       "    </tr>\n",
       "    <tr>\n",
       "      <th>107</th>\n",
       "      <td>FMSH_PB188a_00002_102_00</td>\n",
       "      <td>FMSH_PB188a_00002_102_00</td>\n",
       "      <td>autog_0005-0970_1967_num_2_1</td>\n",
       "      <td>autog_0005-0970_1967_num_2_1</td>\n",
       "      <td>FMSH_PB188a_00002</td>\n",
       "      <td>FMSH_PB188a_00002</td>\n",
       "      <td>autog_0005-0970_1967_num_2_1_902</td>\n",
       "      <td>autog_0005-0970_1967_num_2_1_902</td>\n",
       "      <td>FMSH_PB188a_00002_102</td>\n",
       "      <td>FMSH_PB188a_00002_102</td>\n",
       "      <td>autog_0005-0970_1967_num_2_1_T1_0100_0000_710</td>\n",
       "      <td>autog_0005-0970_1967_num_2_1_T1_0100_0000_710</td>\n",
       "      <td>0</td>\n",
       "      <td>0</td>\n",
       "      <td>[[0.0]]</td>\n",
       "    </tr>\n",
       "    <tr>\n",
       "      <th>214</th>\n",
       "      <td>FMSH_PB188a_00002_099_01</td>\n",
       "      <td>FMSH_PB188a_00002_099_01</td>\n",
       "      <td>autog_0005-0970_1967_num_2_1</td>\n",
       "      <td>autog_0005-0970_1967_num_2_1</td>\n",
       "      <td>FMSH_PB188a_00002</td>\n",
       "      <td>FMSH_PB188a_00002</td>\n",
       "      <td>autog_0005-0970_1967_num_2_1_902</td>\n",
       "      <td>autog_0005-0970_1967_num_2_1_902</td>\n",
       "      <td>FMSH_PB188a_00002_099</td>\n",
       "      <td>FMSH_PB188a_00002_099</td>\n",
       "      <td>autog_0005-0970_1967_num_2_1_T1_0097_0000_710</td>\n",
       "      <td>autog_0005-0970_1967_num_2_1_T1_0097_0000_710</td>\n",
       "      <td>1</td>\n",
       "      <td>1</td>\n",
       "      <td>[[0.7644302845001221, 0.40149053931236267], [0...</td>\n",
       "    </tr>\n",
       "    <tr>\n",
       "      <th>321</th>\n",
       "      <td>FMSH_PB188a_00002_102_01</td>\n",
       "      <td>FMSH_PB188a_00002_102_01</td>\n",
       "      <td>autog_0005-0970_1967_num_2_1</td>\n",
       "      <td>autog_0005-0970_1967_num_2_1</td>\n",
       "      <td>FMSH_PB188a_00002</td>\n",
       "      <td>FMSH_PB188a_00002</td>\n",
       "      <td>autog_0005-0970_1967_num_2_1_902</td>\n",
       "      <td>autog_0005-0970_1967_num_2_1_902</td>\n",
       "      <td>FMSH_PB188a_00002_102</td>\n",
       "      <td>FMSH_PB188a_00002_102</td>\n",
       "      <td>autog_0005-0970_1967_num_2_1_T1_0100_0000_710</td>\n",
       "      <td>autog_0005-0970_1967_num_2_1_T1_0100_0000_710</td>\n",
       "      <td>1</td>\n",
       "      <td>1</td>\n",
       "      <td>[[0.0, 0.0], [0.0, 0.9775698184967041]]</td>\n",
       "    </tr>\n",
       "    <tr>\n",
       "      <th>428</th>\n",
       "      <td>FMSH_PB188a_00002_097_07</td>\n",
       "      <td>FMSH_PB188a_00002_097_07</td>\n",
       "      <td>autog_0005-0970_1967_num_2_1</td>\n",
       "      <td>autog_0005-0970_1967_num_2_1</td>\n",
       "      <td>FMSH_PB188a_00002</td>\n",
       "      <td>FMSH_PB188a_00002</td>\n",
       "      <td>autog_0005-0970_1967_num_2_1_902</td>\n",
       "      <td>autog_0005-0970_1967_num_2_1_902</td>\n",
       "      <td>FMSH_PB188a_00002_097</td>\n",
       "      <td>FMSH_PB188a_00002_097</td>\n",
       "      <td>autog_0005-0970_1967_num_2_1_T1_0095_0000_710</td>\n",
       "      <td>autog_0005-0970_1967_num_2_1_T1_0095_0000_710</td>\n",
       "      <td>7</td>\n",
       "      <td>7</td>\n",
       "      <td>[[0.9999310970306396, 0.8357645273208618, 0.99...</td>\n",
       "    </tr>\n",
       "    <tr>\n",
       "      <th>...</th>\n",
       "      <td>...</td>\n",
       "      <td>...</td>\n",
       "      <td>...</td>\n",
       "      <td>...</td>\n",
       "      <td>...</td>\n",
       "      <td>...</td>\n",
       "      <td>...</td>\n",
       "      <td>...</td>\n",
       "      <td>...</td>\n",
       "      <td>...</td>\n",
       "      <td>...</td>\n",
       "      <td>...</td>\n",
       "      <td>...</td>\n",
       "      <td>...</td>\n",
       "      <td>...</td>\n",
       "    </tr>\n",
       "    <tr>\n",
       "      <th>10807</th>\n",
       "      <td>FMSH_PB188a_00040_076_03</td>\n",
       "      <td>FMSH_PB188a_00040_076_03</td>\n",
       "      <td>autog_0338-7259_1978_num_40_1</td>\n",
       "      <td>autog_0338-7259_1978_num_40_1</td>\n",
       "      <td>FMSH_PB188a_00040</td>\n",
       "      <td>FMSH_PB188a_00040</td>\n",
       "      <td>autog_0338-7259_1978_num_40_1_1277</td>\n",
       "      <td>autog_0338-7259_1978_num_40_1_1277</td>\n",
       "      <td>FMSH_PB188a_00040_076</td>\n",
       "      <td>FMSH_PB188a_00040_076</td>\n",
       "      <td>autog_0338-7259_1978_num_40_1_T1_0075_0000_710</td>\n",
       "      <td>autog_0338-7259_1978_num_40_1_T1_0075_0000_710</td>\n",
       "      <td>3</td>\n",
       "      <td>3</td>\n",
       "      <td>[[0.9044336080551147, 0.8424763679504395, 0.84...</td>\n",
       "    </tr>\n",
       "    <tr>\n",
       "      <th>10914</th>\n",
       "      <td>FMSH_PB188a_00040_072_04</td>\n",
       "      <td>FMSH_PB188a_00040_072_04</td>\n",
       "      <td>autog_0338-7259_1978_num_40_1</td>\n",
       "      <td>autog_0338-7259_1978_num_40_1</td>\n",
       "      <td>FMSH_PB188a_00040</td>\n",
       "      <td>FMSH_PB188a_00040</td>\n",
       "      <td>autog_0338-7259_1978_num_40_1_1277</td>\n",
       "      <td>autog_0338-7259_1978_num_40_1_1277</td>\n",
       "      <td>FMSH_PB188a_00040_072</td>\n",
       "      <td>FMSH_PB188a_00040_072</td>\n",
       "      <td>autog_0338-7259_1978_num_40_1_T1_0071_0000_710</td>\n",
       "      <td>autog_0338-7259_1978_num_40_1_T1_0071_0000_710</td>\n",
       "      <td>4</td>\n",
       "      <td>4</td>\n",
       "      <td>[[0.7338900566101074, 0.822120189666748, 0.706...</td>\n",
       "    </tr>\n",
       "    <tr>\n",
       "      <th>11021</th>\n",
       "      <td>FMSH_PB188a_00040_068_03</td>\n",
       "      <td>FMSH_PB188a_00040_068_03</td>\n",
       "      <td>autog_0338-7259_1978_num_40_1</td>\n",
       "      <td>autog_0338-7259_1978_num_40_1</td>\n",
       "      <td>FMSH_PB188a_00040</td>\n",
       "      <td>FMSH_PB188a_00040</td>\n",
       "      <td>autog_0338-7259_1978_num_40_1_1277</td>\n",
       "      <td>autog_0338-7259_1978_num_40_1_1277</td>\n",
       "      <td>FMSH_PB188a_00040_068</td>\n",
       "      <td>FMSH_PB188a_00040_068</td>\n",
       "      <td>autog_0338-7259_1978_num_40_1_T1_0067_0000_710</td>\n",
       "      <td>autog_0338-7259_1978_num_40_1_T1_0067_0000_710</td>\n",
       "      <td>3</td>\n",
       "      <td>3</td>\n",
       "      <td>[[0.7463675737380981, 0.8999608755111694, 0.74...</td>\n",
       "    </tr>\n",
       "    <tr>\n",
       "      <th>11128</th>\n",
       "      <td>FMSH_PB188a_00040_077_02</td>\n",
       "      <td>FMSH_PB188a_00040_077_02</td>\n",
       "      <td>autog_0338-7259_1978_num_40_1</td>\n",
       "      <td>autog_0338-7259_1978_num_40_1</td>\n",
       "      <td>FMSH_PB188a_00040</td>\n",
       "      <td>FMSH_PB188a_00040</td>\n",
       "      <td>autog_0338-7259_1978_num_40_1_1277</td>\n",
       "      <td>autog_0338-7259_1978_num_40_1_1277</td>\n",
       "      <td>FMSH_PB188a_00040_077</td>\n",
       "      <td>FMSH_PB188a_00040_077</td>\n",
       "      <td>autog_0338-7259_1978_num_40_1_T1_0076_0000_710</td>\n",
       "      <td>autog_0338-7259_1978_num_40_1_T1_0076_0000_710</td>\n",
       "      <td>2</td>\n",
       "      <td>2</td>\n",
       "      <td>[[0.499401718378067, 0.65865159034729, 0.59001...</td>\n",
       "    </tr>\n",
       "    <tr>\n",
       "      <th>11235</th>\n",
       "      <td>FMSH_PB188a_00040_070_02</td>\n",
       "      <td>FMSH_PB188a_00040_070_02</td>\n",
       "      <td>autog_0338-7259_1978_num_40_1</td>\n",
       "      <td>autog_0338-7259_1978_num_40_1</td>\n",
       "      <td>FMSH_PB188a_00040</td>\n",
       "      <td>FMSH_PB188a_00040</td>\n",
       "      <td>autog_0338-7259_1978_num_40_1_1277</td>\n",
       "      <td>autog_0338-7259_1978_num_40_1_1277</td>\n",
       "      <td>FMSH_PB188a_00040_070</td>\n",
       "      <td>FMSH_PB188a_00040_070</td>\n",
       "      <td>autog_0338-7259_1978_num_40_1_T1_0069_0000_710</td>\n",
       "      <td>autog_0338-7259_1978_num_40_1_T1_0069_0000_710</td>\n",
       "      <td>2</td>\n",
       "      <td>2</td>\n",
       "      <td>[[0.43913355469703674, 0.6030029654502869, 0.7...</td>\n",
       "    </tr>\n",
       "  </tbody>\n",
       "</table>\n",
       "<p>106 rows × 15 columns</p>\n",
       "</div>"
      ],
      "text/plain": [
       "               source.block.uid          target.block.uid  \\\n",
       "0      FMSH_PB188a_00002_098_00  FMSH_PB188a_00002_098_00   \n",
       "107    FMSH_PB188a_00002_102_00  FMSH_PB188a_00002_102_00   \n",
       "214    FMSH_PB188a_00002_099_01  FMSH_PB188a_00002_099_01   \n",
       "321    FMSH_PB188a_00002_102_01  FMSH_PB188a_00002_102_01   \n",
       "428    FMSH_PB188a_00002_097_07  FMSH_PB188a_00002_097_07   \n",
       "...                         ...                       ...   \n",
       "10807  FMSH_PB188a_00040_076_03  FMSH_PB188a_00040_076_03   \n",
       "10914  FMSH_PB188a_00040_072_04  FMSH_PB188a_00040_072_04   \n",
       "11021  FMSH_PB188a_00040_068_03  FMSH_PB188a_00040_068_03   \n",
       "11128  FMSH_PB188a_00040_077_02  FMSH_PB188a_00040_077_02   \n",
       "11235  FMSH_PB188a_00040_070_02  FMSH_PB188a_00040_070_02   \n",
       "\n",
       "              source.revue.id.persee         target.revue.id.persee  \\\n",
       "0       autog_0005-0970_1967_num_2_1   autog_0005-0970_1967_num_2_1   \n",
       "107     autog_0005-0970_1967_num_2_1   autog_0005-0970_1967_num_2_1   \n",
       "214     autog_0005-0970_1967_num_2_1   autog_0005-0970_1967_num_2_1   \n",
       "321     autog_0005-0970_1967_num_2_1   autog_0005-0970_1967_num_2_1   \n",
       "428     autog_0005-0970_1967_num_2_1   autog_0005-0970_1967_num_2_1   \n",
       "...                              ...                            ...   \n",
       "10807  autog_0338-7259_1978_num_40_1  autog_0338-7259_1978_num_40_1   \n",
       "10914  autog_0338-7259_1978_num_40_1  autog_0338-7259_1978_num_40_1   \n",
       "11021  autog_0338-7259_1978_num_40_1  autog_0338-7259_1978_num_40_1   \n",
       "11128  autog_0338-7259_1978_num_40_1  autog_0338-7259_1978_num_40_1   \n",
       "11235  autog_0338-7259_1978_num_40_1  autog_0338-7259_1978_num_40_1   \n",
       "\n",
       "      source.revue.id.fmsh target.revue.id.fmsh  \\\n",
       "0        FMSH_PB188a_00002    FMSH_PB188a_00002   \n",
       "107      FMSH_PB188a_00002    FMSH_PB188a_00002   \n",
       "214      FMSH_PB188a_00002    FMSH_PB188a_00002   \n",
       "321      FMSH_PB188a_00002    FMSH_PB188a_00002   \n",
       "428      FMSH_PB188a_00002    FMSH_PB188a_00002   \n",
       "...                    ...                  ...   \n",
       "10807    FMSH_PB188a_00040    FMSH_PB188a_00040   \n",
       "10914    FMSH_PB188a_00040    FMSH_PB188a_00040   \n",
       "11021    FMSH_PB188a_00040    FMSH_PB188a_00040   \n",
       "11128    FMSH_PB188a_00040    FMSH_PB188a_00040   \n",
       "11235    FMSH_PB188a_00040    FMSH_PB188a_00040   \n",
       "\n",
       "                        source.article.id                   target.article.id  \\\n",
       "0        autog_0005-0970_1967_num_2_1_902    autog_0005-0970_1967_num_2_1_902   \n",
       "107      autog_0005-0970_1967_num_2_1_902    autog_0005-0970_1967_num_2_1_902   \n",
       "214      autog_0005-0970_1967_num_2_1_902    autog_0005-0970_1967_num_2_1_902   \n",
       "321      autog_0005-0970_1967_num_2_1_902    autog_0005-0970_1967_num_2_1_902   \n",
       "428      autog_0005-0970_1967_num_2_1_902    autog_0005-0970_1967_num_2_1_902   \n",
       "...                                   ...                                 ...   \n",
       "10807  autog_0338-7259_1978_num_40_1_1277  autog_0338-7259_1978_num_40_1_1277   \n",
       "10914  autog_0338-7259_1978_num_40_1_1277  autog_0338-7259_1978_num_40_1_1277   \n",
       "11021  autog_0338-7259_1978_num_40_1_1277  autog_0338-7259_1978_num_40_1_1277   \n",
       "11128  autog_0338-7259_1978_num_40_1_1277  autog_0338-7259_1978_num_40_1_1277   \n",
       "11235  autog_0338-7259_1978_num_40_1_1277  autog_0338-7259_1978_num_40_1_1277   \n",
       "\n",
       "         source.page.id.fmsh    target.page.id.fmsh  \\\n",
       "0      FMSH_PB188a_00002_098  FMSH_PB188a_00002_098   \n",
       "107    FMSH_PB188a_00002_102  FMSH_PB188a_00002_102   \n",
       "214    FMSH_PB188a_00002_099  FMSH_PB188a_00002_099   \n",
       "321    FMSH_PB188a_00002_102  FMSH_PB188a_00002_102   \n",
       "428    FMSH_PB188a_00002_097  FMSH_PB188a_00002_097   \n",
       "...                      ...                    ...   \n",
       "10807  FMSH_PB188a_00040_076  FMSH_PB188a_00040_076   \n",
       "10914  FMSH_PB188a_00040_072  FMSH_PB188a_00040_072   \n",
       "11021  FMSH_PB188a_00040_068  FMSH_PB188a_00040_068   \n",
       "11128  FMSH_PB188a_00040_077  FMSH_PB188a_00040_077   \n",
       "11235  FMSH_PB188a_00040_070  FMSH_PB188a_00040_070   \n",
       "\n",
       "                                source.page.id.persee  \\\n",
       "0       autog_0005-0970_1967_num_2_1_T1_0096_0000_710   \n",
       "107     autog_0005-0970_1967_num_2_1_T1_0100_0000_710   \n",
       "214     autog_0005-0970_1967_num_2_1_T1_0097_0000_710   \n",
       "321     autog_0005-0970_1967_num_2_1_T1_0100_0000_710   \n",
       "428     autog_0005-0970_1967_num_2_1_T1_0095_0000_710   \n",
       "...                                               ...   \n",
       "10807  autog_0338-7259_1978_num_40_1_T1_0075_0000_710   \n",
       "10914  autog_0338-7259_1978_num_40_1_T1_0071_0000_710   \n",
       "11021  autog_0338-7259_1978_num_40_1_T1_0067_0000_710   \n",
       "11128  autog_0338-7259_1978_num_40_1_T1_0076_0000_710   \n",
       "11235  autog_0338-7259_1978_num_40_1_T1_0069_0000_710   \n",
       "\n",
       "                                target.page.id.persee  source.block.id  \\\n",
       "0       autog_0005-0970_1967_num_2_1_T1_0096_0000_710                0   \n",
       "107     autog_0005-0970_1967_num_2_1_T1_0100_0000_710                0   \n",
       "214     autog_0005-0970_1967_num_2_1_T1_0097_0000_710                1   \n",
       "321     autog_0005-0970_1967_num_2_1_T1_0100_0000_710                1   \n",
       "428     autog_0005-0970_1967_num_2_1_T1_0095_0000_710                7   \n",
       "...                                               ...              ...   \n",
       "10807  autog_0338-7259_1978_num_40_1_T1_0075_0000_710                3   \n",
       "10914  autog_0338-7259_1978_num_40_1_T1_0071_0000_710                4   \n",
       "11021  autog_0338-7259_1978_num_40_1_T1_0067_0000_710                3   \n",
       "11128  autog_0338-7259_1978_num_40_1_T1_0076_0000_710                2   \n",
       "11235  autog_0338-7259_1978_num_40_1_T1_0069_0000_710                2   \n",
       "\n",
       "       target.block.id                                     y_score_matrix  \n",
       "0                    0                                            [[0.0]]  \n",
       "107                  0                                            [[0.0]]  \n",
       "214                  1  [[0.7644302845001221, 0.40149053931236267], [0...  \n",
       "321                  1            [[0.0, 0.0], [0.0, 0.9775698184967041]]  \n",
       "428                  7  [[0.9999310970306396, 0.8357645273208618, 0.99...  \n",
       "...                ...                                                ...  \n",
       "10807                3  [[0.9044336080551147, 0.8424763679504395, 0.84...  \n",
       "10914                4  [[0.7338900566101074, 0.822120189666748, 0.706...  \n",
       "11021                3  [[0.7463675737380981, 0.8999608755111694, 0.74...  \n",
       "11128                2  [[0.499401718378067, 0.65865159034729, 0.59001...  \n",
       "11235                2  [[0.43913355469703674, 0.6030029654502869, 0.7...  \n",
       "\n",
       "[106 rows x 15 columns]"
      ]
     },
     "execution_count": 110,
     "metadata": {},
     "output_type": "execute_result"
    }
   ],
   "source": [
    "df_same_block_links"
   ]
  },
  {
   "cell_type": "code",
   "execution_count": 104,
   "id": "c62480db",
   "metadata": {
    "ExecuteTime": {
     "end_time": "2023-07-18T18:33:58.045697Z",
     "start_time": "2023-07-18T18:33:57.724206Z"
    },
    "collapsed": false,
    "jupyter": {
     "outputs_hidden": false
    }
   },
   "outputs": [
    {
     "data": {
      "image/png": "[encoded data removed]",
      "text/plain": [
       "<Figure size 432x288 with 1 Axes>"
      ]
     },
     "metadata": {},
     "output_type": "display_data"
    }
   ],
   "source": [
    "# without sentence mask\n",
    "y_score = [y for y_score_matrix in df_same_block_links['y_score_matrix'] for y_line in y_score_matrix for y in y_line]\n",
    "\n",
    "plt.hist(y_score, bins=30)\n",
    "plt.title(\"Distribution of y_score\")\n",
    "plt.show()"
   ]
  },
  {
   "cell_type": "code",
   "execution_count": 107,
   "id": "b537fdf5",
   "metadata": {
    "ExecuteTime": {
     "end_time": "2023-07-18T18:35:02.433184Z",
     "start_time": "2023-07-18T18:35:02.128522Z"
    },
    "collapsed": false,
    "jupyter": {
     "outputs_hidden": false
    }
   },
   "outputs": [
    {
     "data": {
      "image/png": "[encoded data removed]",
      "text/plain": [
       "<Figure size 432x288 with 1 Axes>"
      ]
     },
     "metadata": {},
     "output_type": "display_data"
    }
   ],
   "source": [
    "# with sentence mask\n",
    "y_score = [y for y_score_matrix in df_same_block_links['y_score_matrix'] for y_line in y_score_matrix for y in y_line]\n",
    "\n",
    "plt.hist(y_score, bins=30)\n",
    "plt.title(\"Distribution of y_score\")\n",
    "plt.show()"
   ]
  },
  {
   "cell_type": "code",
   "execution_count": 115,
   "id": "9e6711dd-cf33-421f-b07a-eda4f06e0929",
   "metadata": {
    "ExecuteTime": {
     "end_time": "2023-07-18T18:36:25.139465Z",
     "start_time": "2023-07-18T18:36:24.847696Z"
    },
    "tags": []
   },
   "outputs": [
    {
     "data": {
      "image/png": "[encoded data removed]",
      "text/plain": [
       "<Figure size 432x288 with 1 Axes>"
      ]
     },
     "metadata": {},
     "output_type": "display_data"
    }
   ],
   "source": [
    "# with sentence mask + temperature\n",
    "y_score = [y for y_score_matrix in df_same_block_links['y_score_matrix'] for y_line in y_score_matrix for y in y_line]\n",
    "\n",
    "plt.hist(y_score, bins=30) \n",
    "plt.title(\"Distribution of y_score\") \n",
    "plt.show()"
   ]
  },
  {
   "cell_type": "code",
   "execution_count": 90,
   "id": "18f873b8",
   "metadata": {
    "ExecuteTime": {
     "end_time": "2023-07-18T18:25:54.003327Z",
     "start_time": "2023-07-18T18:25:53.881664Z"
    },
    "collapsed": false,
    "jupyter": {
     "outputs_hidden": false
    }
   },
   "outputs": [
    {
     "data": {
      "text/plain": [
       "0.7209653131873505"
      ]
     },
     "execution_count": 90,
     "metadata": {},
     "output_type": "execute_result"
    }
   ],
   "source": [
    "sum(y_score)/len(y_score)"
   ]
  },
  {
   "cell_type": "markdown",
   "id": "271dce29-55a3-42c2-ad5e-d4e256ce7198",
   "metadata": {},
   "source": [
    "Predition score between sentence pairs from different blocks"
   ]
  },
  {
   "cell_type": "code",
   "execution_count": 91,
   "id": "8424b3f6-601e-4798-86e4-173c01ce8988",
   "metadata": {
    "ExecuteTime": {
     "end_time": "2023-07-18T18:26:04.653973Z",
     "start_time": "2023-07-18T18:26:04.561143Z"
    }
   },
   "outputs": [],
   "source": [
    "df_diff_block_links = df_std_block_links[df_std_block_links['source.block.uid'] != df_std_block_links['target.block.uid']].copy()\n"
   ]
  },
  {
   "cell_type": "code",
   "execution_count": 92,
   "id": "810a9fd5-98d7-4659-9bc3-2ee32adef8ac",
   "metadata": {
    "ExecuteTime": {
     "end_time": "2023-07-18T18:27:32.700113Z",
     "start_time": "2023-07-18T18:26:05.406148Z"
    }
   },
   "outputs": [
    {
     "data": {
      "application/vnd.jupyter.widget-view+json": {
       "model_id": "bb1f9b0061564e6c979046823fdd4cc1",
       "version_major": 2,
       "version_minor": 0
      },
      "text/plain": [
       "inference_score:   0%|          | 0/11130 [00:00<?, ?it/s]"
      ]
     },
     "metadata": {},
     "output_type": "display_data"
    }
   ],
   "source": [
    "tqdm.pandas(desc='inference_score')\n",
    "df_diff_block_links = df_diff_block_links.progress_apply(inference_score,axis=1)"
   ]
  },
  {
   "cell_type": "code",
   "execution_count": 93,
   "id": "44b2e5da-272f-4039-a264-ac0a4e4f881d",
   "metadata": {
    "ExecuteTime": {
     "end_time": "2023-07-18T18:27:34.422711Z",
     "start_time": "2023-07-18T18:27:32.701829Z"
    }
   },
   "outputs": [
    {
     "data": {
      "image/png": "[encoded data removed]",
      "text/plain": [
       "<Figure size 432x288 with 1 Axes>"
      ]
     },
     "metadata": {},
     "output_type": "display_data"
    }
   ],
   "source": [
    "y_score = [y for y_score_matrix in df_diff_block_links['y_score_matrix'] for y_line in y_score_matrix for y in y_line]\n",
    "\n",
    "plt.hist(y_score, bins=30)\n",
    "plt.title(\"Distribution of y_score\") \n",
    "plt.show()"
   ]
  },
  {
   "cell_type": "code",
   "execution_count": 94,
   "id": "15508394",
   "metadata": {
    "ExecuteTime": {
     "end_time": "2023-07-18T18:27:34.423221Z",
     "start_time": "2023-07-18T18:27:34.383389Z"
    },
    "collapsed": false,
    "jupyter": {
     "outputs_hidden": false
    }
   },
   "outputs": [
    {
     "data": {
      "text/plain": [
       "0.7120362891987566"
      ]
     },
     "execution_count": 94,
     "metadata": {},
     "output_type": "execute_result"
    }
   ],
   "source": [
    "sum(y_score)/len(y_score)"
   ]
  },
  {
   "cell_type": "markdown",
   "id": "d06334fa-ead0-4b50-95e0-4a4645329505",
   "metadata": {},
   "source": [
    "Link between blocks from different articles"
   ]
  },
  {
   "cell_type": "code",
   "execution_count": 82,
   "id": "5785049f-0864-438a-8b11-652d1ad4e69d",
   "metadata": {
    "ExecuteTime": {
     "end_time": "2023-07-18T18:22:44.379550Z",
     "start_time": "2023-07-18T18:22:43.525260Z"
    }
   },
   "outputs": [],
   "source": [
    "df_diff_article_links = df_std_block_links[df_std_block_links['source.article.id'] != df_std_block_links['target.article.id']].copy() \n"
   ]
  },
  {
   "cell_type": "code",
   "execution_count": 85,
   "id": "7658a65f-0ce0-4d7d-b11a-3e127fc4885d",
   "metadata": {
    "ExecuteTime": {
     "end_time": "2023-07-18T18:25:03.456678Z",
     "start_time": "2023-07-18T18:23:47.385178Z"
    }
   },
   "outputs": [
    {
     "data": {
      "application/vnd.jupyter.widget-view+json": {
       "model_id": "cb7fbf78562c47dfb553b8b32b198966",
       "version_major": 2,
       "version_minor": 0
      },
      "text/plain": [
       "inference_score:   0%|          | 0/9574 [00:00<?, ?it/s]"
      ]
     },
     "metadata": {},
     "output_type": "display_data"
    },
    {
     "data": {
      "image/png": "[encoded data removed]",
      "text/plain": [
       "<Figure size 432x288 with 1 Axes>"
      ]
     },
     "metadata": {},
     "output_type": "display_data"
    }
   ],
   "source": [
    "tqdm.pandas(desc='inference_score')\n",
    "df_diff_article_links = df_diff_article_links.progress_apply(inference_score,axis=1)\n",
    "\n",
    "y_score = [y for y_score_matrix in df_diff_article_links['y_score_matrix'] for y_line in y_score_matrix for y in y_line]\n",
    "\n",
    "plt.hist(y_score, bins=30) \n",
    "plt.title(\"Distribution of y_score\") \n",
    "plt.show()           \n"
   ]
  },
  {
   "cell_type": "code",
   "execution_count": 87,
   "id": "b14f2f1a",
   "metadata": {
    "ExecuteTime": {
     "end_time": "2023-07-18T18:25:34.980123Z",
     "start_time": "2023-07-18T18:25:34.929981Z"
    },
    "collapsed": false,
    "jupyter": {
     "outputs_hidden": false
    }
   },
   "outputs": [
    {
     "data": {
      "text/plain": [
       "0.7114405744857105"
      ]
     },
     "execution_count": 87,
     "metadata": {},
     "output_type": "execute_result"
    }
   ],
   "source": [
    "sum(y_score)/len(y_score)"
   ]
  },
  {
   "cell_type": "code",
   "execution_count": 79,
   "id": "fb8e70a6",
   "metadata": {
    "ExecuteTime": {
     "end_time": "2023-07-18T18:20:33.965292Z",
     "start_time": "2023-07-18T18:20:33.846136Z"
    },
    "collapsed": false,
    "jupyter": {
     "outputs_hidden": false
    }
   },
   "outputs": [
    {
     "data": {
      "text/html": [
       "<div>\n",
       "<style scoped>\n",
       "    .dataframe tbody tr th:only-of-type {\n",
       "        vertical-align: middle;\n",
       "    }\n",
       "\n",
       "    .dataframe tbody tr th {\n",
       "        vertical-align: top;\n",
       "    }\n",
       "\n",
       "    .dataframe thead th {\n",
       "        text-align: right;\n",
       "    }\n",
       "</style>\n",
       "<table border=\"1\" class=\"dataframe\">\n",
       "  <thead>\n",
       "    <tr style=\"text-align: right;\">\n",
       "      <th></th>\n",
       "      <th>source.block.uid</th>\n",
       "      <th>target.block.uid</th>\n",
       "      <th>source.revue.id.persee</th>\n",
       "      <th>target.revue.id.persee</th>\n",
       "      <th>source.revue.id.fmsh</th>\n",
       "      <th>target.revue.id.fmsh</th>\n",
       "      <th>source.article.id</th>\n",
       "      <th>target.article.id</th>\n",
       "      <th>source.page.id.fmsh</th>\n",
       "      <th>target.page.id.fmsh</th>\n",
       "      <th>source.page.id.persee</th>\n",
       "      <th>target.page.id.persee</th>\n",
       "      <th>source.block.id</th>\n",
       "      <th>target.block.id</th>\n",
       "      <th>y_score_matrix</th>\n",
       "    </tr>\n",
       "  </thead>\n",
       "  <tbody>\n",
       "    <tr>\n",
       "      <th>11</th>\n",
       "      <td>FMSH_PB188a_00002_098_00</td>\n",
       "      <td>FMSH_PB188a_00004_029_05</td>\n",
       "      <td>autog_0005-0970_1967_num_2_1</td>\n",
       "      <td>autog_0005-0970_1967_num_4_1</td>\n",
       "      <td>FMSH_PB188a_00002</td>\n",
       "      <td>FMSH_PB188a_00004</td>\n",
       "      <td>autog_0005-0970_1967_num_2_1_902</td>\n",
       "      <td>autog_0005-0970_1967_num_4_1_909</td>\n",
       "      <td>FMSH_PB188a_00002_098</td>\n",
       "      <td>FMSH_PB188a_00004_029</td>\n",
       "      <td>autog_0005-0970_1967_num_2_1_T1_0096_0000_710</td>\n",
       "      <td>autog_0005-0970_1967_num_4_1_T1_0027_0000_710</td>\n",
       "      <td>0</td>\n",
       "      <td>5</td>\n",
       "      <td>[[0.0]]</td>\n",
       "    </tr>\n",
       "    <tr>\n",
       "      <th>12</th>\n",
       "      <td>FMSH_PB188a_00002_098_00</td>\n",
       "      <td>FMSH_PB188a_00004_015_07</td>\n",
       "      <td>autog_0005-0970_1967_num_2_1</td>\n",
       "      <td>autog_0005-0970_1967_num_4_1</td>\n",
       "      <td>FMSH_PB188a_00002</td>\n",
       "      <td>FMSH_PB188a_00004</td>\n",
       "      <td>autog_0005-0970_1967_num_2_1_902</td>\n",
       "      <td>autog_0005-0970_1967_num_4_1_909</td>\n",
       "      <td>FMSH_PB188a_00002_098</td>\n",
       "      <td>FMSH_PB188a_00004_015</td>\n",
       "      <td>autog_0005-0970_1967_num_2_1_T1_0096_0000_710</td>\n",
       "      <td>autog_0005-0970_1967_num_4_1_T1_0013_0000_710</td>\n",
       "      <td>0</td>\n",
       "      <td>7</td>\n",
       "      <td>[[0.0]]</td>\n",
       "    </tr>\n",
       "    <tr>\n",
       "      <th>13</th>\n",
       "      <td>FMSH_PB188a_00002_098_00</td>\n",
       "      <td>FMSH_PB188a_00004_061_02</td>\n",
       "      <td>autog_0005-0970_1967_num_2_1</td>\n",
       "      <td>autog_0005-0970_1967_num_4_1</td>\n",
       "      <td>FMSH_PB188a_00002</td>\n",
       "      <td>FMSH_PB188a_00004</td>\n",
       "      <td>autog_0005-0970_1967_num_2_1_902</td>\n",
       "      <td>autog_0005-0970_1967_num_4_1_909</td>\n",
       "      <td>FMSH_PB188a_00002_098</td>\n",
       "      <td>FMSH_PB188a_00004_061</td>\n",
       "      <td>autog_0005-0970_1967_num_2_1_T1_0096_0000_710</td>\n",
       "      <td>autog_0005-0970_1967_num_4_1_T1_0059_0000_710</td>\n",
       "      <td>0</td>\n",
       "      <td>2</td>\n",
       "      <td>[[0.0, 0.0, 0.0, 0.0, 0.0, 0.0, 0.0, 0.0, 0.0,...</td>\n",
       "    </tr>\n",
       "    <tr>\n",
       "      <th>14</th>\n",
       "      <td>FMSH_PB188a_00002_098_00</td>\n",
       "      <td>FMSH_PB188a_00004_041_02</td>\n",
       "      <td>autog_0005-0970_1967_num_2_1</td>\n",
       "      <td>autog_0005-0970_1967_num_4_1</td>\n",
       "      <td>FMSH_PB188a_00002</td>\n",
       "      <td>FMSH_PB188a_00004</td>\n",
       "      <td>autog_0005-0970_1967_num_2_1_902</td>\n",
       "      <td>autog_0005-0970_1967_num_4_1_909</td>\n",
       "      <td>FMSH_PB188a_00002_098</td>\n",
       "      <td>FMSH_PB188a_00004_041</td>\n",
       "      <td>autog_0005-0970_1967_num_2_1_T1_0096_0000_710</td>\n",
       "      <td>autog_0005-0970_1967_num_4_1_T1_0039_0000_710</td>\n",
       "      <td>0</td>\n",
       "      <td>2</td>\n",
       "      <td>[[0.0, 0.0, 0.0, 0.0, 0.0, 0.0, 0.0, 0.0, 0.0,...</td>\n",
       "    </tr>\n",
       "    <tr>\n",
       "      <th>15</th>\n",
       "      <td>FMSH_PB188a_00002_098_00</td>\n",
       "      <td>FMSH_PB188a_00004_022_04</td>\n",
       "      <td>autog_0005-0970_1967_num_2_1</td>\n",
       "      <td>autog_0005-0970_1967_num_4_1</td>\n",
       "      <td>FMSH_PB188a_00002</td>\n",
       "      <td>FMSH_PB188a_00004</td>\n",
       "      <td>autog_0005-0970_1967_num_2_1_902</td>\n",
       "      <td>autog_0005-0970_1967_num_4_1_909</td>\n",
       "      <td>FMSH_PB188a_00002_098</td>\n",
       "      <td>FMSH_PB188a_00004_022</td>\n",
       "      <td>autog_0005-0970_1967_num_2_1_T1_0096_0000_710</td>\n",
       "      <td>autog_0005-0970_1967_num_4_1_T1_0020_0000_710</td>\n",
       "      <td>0</td>\n",
       "      <td>4</td>\n",
       "      <td>[[0.0, 0.0]]</td>\n",
       "    </tr>\n",
       "    <tr>\n",
       "      <th>...</th>\n",
       "      <td>...</td>\n",
       "      <td>...</td>\n",
       "      <td>...</td>\n",
       "      <td>...</td>\n",
       "      <td>...</td>\n",
       "      <td>...</td>\n",
       "      <td>...</td>\n",
       "      <td>...</td>\n",
       "      <td>...</td>\n",
       "      <td>...</td>\n",
       "      <td>...</td>\n",
       "      <td>...</td>\n",
       "      <td>...</td>\n",
       "      <td>...</td>\n",
       "      <td>...</td>\n",
       "    </tr>\n",
       "    <tr>\n",
       "      <th>11219</th>\n",
       "      <td>FMSH_PB188a_00040_070_02</td>\n",
       "      <td>FMSH_PB188a_00039_069_04</td>\n",
       "      <td>autog_0338-7259_1978_num_40_1</td>\n",
       "      <td>autog_0338-7259_1977_num_39_1</td>\n",
       "      <td>FMSH_PB188a_00040</td>\n",
       "      <td>FMSH_PB188a_00039</td>\n",
       "      <td>autog_0338-7259_1978_num_40_1_1277</td>\n",
       "      <td>autog_0338-7259_1977_num_39_1_1254</td>\n",
       "      <td>FMSH_PB188a_00040_070</td>\n",
       "      <td>FMSH_PB188a_00039_069</td>\n",
       "      <td>autog_0338-7259_1978_num_40_1_T1_0069_0000_710</td>\n",
       "      <td>autog_0338-7259_1977_num_39_1_T1_0067_0000_710</td>\n",
       "      <td>2</td>\n",
       "      <td>4</td>\n",
       "      <td>[[0.7648015022277832, 0.7590770721435547, 0.48...</td>\n",
       "    </tr>\n",
       "    <tr>\n",
       "      <th>11220</th>\n",
       "      <td>FMSH_PB188a_00040_070_02</td>\n",
       "      <td>FMSH_PB188a_00039_075_03</td>\n",
       "      <td>autog_0338-7259_1978_num_40_1</td>\n",
       "      <td>autog_0338-7259_1977_num_39_1</td>\n",
       "      <td>FMSH_PB188a_00040</td>\n",
       "      <td>FMSH_PB188a_00039</td>\n",
       "      <td>autog_0338-7259_1978_num_40_1_1277</td>\n",
       "      <td>autog_0338-7259_1977_num_39_1_1254</td>\n",
       "      <td>FMSH_PB188a_00040_070</td>\n",
       "      <td>FMSH_PB188a_00039_075</td>\n",
       "      <td>autog_0338-7259_1978_num_40_1_T1_0069_0000_710</td>\n",
       "      <td>autog_0338-7259_1977_num_39_1_T1_0073_0000_710</td>\n",
       "      <td>2</td>\n",
       "      <td>3</td>\n",
       "      <td>[[0.7977740168571472, 0.7794880270957947, 0.53...</td>\n",
       "    </tr>\n",
       "    <tr>\n",
       "      <th>11221</th>\n",
       "      <td>FMSH_PB188a_00040_070_02</td>\n",
       "      <td>FMSH_PB188a_00039_083_04</td>\n",
       "      <td>autog_0338-7259_1978_num_40_1</td>\n",
       "      <td>autog_0338-7259_1977_num_39_1</td>\n",
       "      <td>FMSH_PB188a_00040</td>\n",
       "      <td>FMSH_PB188a_00039</td>\n",
       "      <td>autog_0338-7259_1978_num_40_1_1277</td>\n",
       "      <td>autog_0338-7259_1977_num_39_1_1254</td>\n",
       "      <td>FMSH_PB188a_00040_070</td>\n",
       "      <td>FMSH_PB188a_00039_083</td>\n",
       "      <td>autog_0338-7259_1978_num_40_1_T1_0069_0000_710</td>\n",
       "      <td>autog_0338-7259_1977_num_39_1_T1_0081_0000_710</td>\n",
       "      <td>2</td>\n",
       "      <td>4</td>\n",
       "      <td>[[0.5618450045585632, 0.5374157428741455, 0.86...</td>\n",
       "    </tr>\n",
       "    <tr>\n",
       "      <th>11222</th>\n",
       "      <td>FMSH_PB188a_00040_070_02</td>\n",
       "      <td>FMSH_PB188a_00039_081_02</td>\n",
       "      <td>autog_0338-7259_1978_num_40_1</td>\n",
       "      <td>autog_0338-7259_1977_num_39_1</td>\n",
       "      <td>FMSH_PB188a_00040</td>\n",
       "      <td>FMSH_PB188a_00039</td>\n",
       "      <td>autog_0338-7259_1978_num_40_1_1277</td>\n",
       "      <td>autog_0338-7259_1977_num_39_1_1254</td>\n",
       "      <td>FMSH_PB188a_00040_070</td>\n",
       "      <td>FMSH_PB188a_00039_081</td>\n",
       "      <td>autog_0338-7259_1978_num_40_1_T1_0069_0000_710</td>\n",
       "      <td>autog_0338-7259_1977_num_39_1_T1_0079_0000_710</td>\n",
       "      <td>2</td>\n",
       "      <td>2</td>\n",
       "      <td>[[0.9966855645179749, 0.6458973288536072, 0.58...</td>\n",
       "    </tr>\n",
       "    <tr>\n",
       "      <th>11223</th>\n",
       "      <td>FMSH_PB188a_00040_070_02</td>\n",
       "      <td>FMSH_PB188a_00039_082_02</td>\n",
       "      <td>autog_0338-7259_1978_num_40_1</td>\n",
       "      <td>autog_0338-7259_1977_num_39_1</td>\n",
       "      <td>FMSH_PB188a_00040</td>\n",
       "      <td>FMSH_PB188a_00039</td>\n",
       "      <td>autog_0338-7259_1978_num_40_1_1277</td>\n",
       "      <td>autog_0338-7259_1977_num_39_1_1254</td>\n",
       "      <td>FMSH_PB188a_00040_070</td>\n",
       "      <td>FMSH_PB188a_00039_082</td>\n",
       "      <td>autog_0338-7259_1978_num_40_1_T1_0069_0000_710</td>\n",
       "      <td>autog_0338-7259_1977_num_39_1_T1_0080_0000_710</td>\n",
       "      <td>2</td>\n",
       "      <td>2</td>\n",
       "      <td>[[0.6006062030792236, 0.7044265270233154, 0.47...</td>\n",
       "    </tr>\n",
       "  </tbody>\n",
       "</table>\n",
       "<p>9574 rows × 15 columns</p>\n",
       "</div>"
      ],
      "text/plain": [
       "               source.block.uid          target.block.uid  \\\n",
       "11     FMSH_PB188a_00002_098_00  FMSH_PB188a_00004_029_05   \n",
       "12     FMSH_PB188a_00002_098_00  FMSH_PB188a_00004_015_07   \n",
       "13     FMSH_PB188a_00002_098_00  FMSH_PB188a_00004_061_02   \n",
       "14     FMSH_PB188a_00002_098_00  FMSH_PB188a_00004_041_02   \n",
       "15     FMSH_PB188a_00002_098_00  FMSH_PB188a_00004_022_04   \n",
       "...                         ...                       ...   \n",
       "11219  FMSH_PB188a_00040_070_02  FMSH_PB188a_00039_069_04   \n",
       "11220  FMSH_PB188a_00040_070_02  FMSH_PB188a_00039_075_03   \n",
       "11221  FMSH_PB188a_00040_070_02  FMSH_PB188a_00039_083_04   \n",
       "11222  FMSH_PB188a_00040_070_02  FMSH_PB188a_00039_081_02   \n",
       "11223  FMSH_PB188a_00040_070_02  FMSH_PB188a_00039_082_02   \n",
       "\n",
       "              source.revue.id.persee         target.revue.id.persee  \\\n",
       "11      autog_0005-0970_1967_num_2_1   autog_0005-0970_1967_num_4_1   \n",
       "12      autog_0005-0970_1967_num_2_1   autog_0005-0970_1967_num_4_1   \n",
       "13      autog_0005-0970_1967_num_2_1   autog_0005-0970_1967_num_4_1   \n",
       "14      autog_0005-0970_1967_num_2_1   autog_0005-0970_1967_num_4_1   \n",
       "15      autog_0005-0970_1967_num_2_1   autog_0005-0970_1967_num_4_1   \n",
       "...                              ...                            ...   \n",
       "11219  autog_0338-7259_1978_num_40_1  autog_0338-7259_1977_num_39_1   \n",
       "11220  autog_0338-7259_1978_num_40_1  autog_0338-7259_1977_num_39_1   \n",
       "11221  autog_0338-7259_1978_num_40_1  autog_0338-7259_1977_num_39_1   \n",
       "11222  autog_0338-7259_1978_num_40_1  autog_0338-7259_1977_num_39_1   \n",
       "11223  autog_0338-7259_1978_num_40_1  autog_0338-7259_1977_num_39_1   \n",
       "\n",
       "      source.revue.id.fmsh target.revue.id.fmsh  \\\n",
       "11       FMSH_PB188a_00002    FMSH_PB188a_00004   \n",
       "12       FMSH_PB188a_00002    FMSH_PB188a_00004   \n",
       "13       FMSH_PB188a_00002    FMSH_PB188a_00004   \n",
       "14       FMSH_PB188a_00002    FMSH_PB188a_00004   \n",
       "15       FMSH_PB188a_00002    FMSH_PB188a_00004   \n",
       "...                    ...                  ...   \n",
       "11219    FMSH_PB188a_00040    FMSH_PB188a_00039   \n",
       "11220    FMSH_PB188a_00040    FMSH_PB188a_00039   \n",
       "11221    FMSH_PB188a_00040    FMSH_PB188a_00039   \n",
       "11222    FMSH_PB188a_00040    FMSH_PB188a_00039   \n",
       "11223    FMSH_PB188a_00040    FMSH_PB188a_00039   \n",
       "\n",
       "                        source.article.id                   target.article.id  \\\n",
       "11       autog_0005-0970_1967_num_2_1_902    autog_0005-0970_1967_num_4_1_909   \n",
       "12       autog_0005-0970_1967_num_2_1_902    autog_0005-0970_1967_num_4_1_909   \n",
       "13       autog_0005-0970_1967_num_2_1_902    autog_0005-0970_1967_num_4_1_909   \n",
       "14       autog_0005-0970_1967_num_2_1_902    autog_0005-0970_1967_num_4_1_909   \n",
       "15       autog_0005-0970_1967_num_2_1_902    autog_0005-0970_1967_num_4_1_909   \n",
       "...                                   ...                                 ...   \n",
       "11219  autog_0338-7259_1978_num_40_1_1277  autog_0338-7259_1977_num_39_1_1254   \n",
       "11220  autog_0338-7259_1978_num_40_1_1277  autog_0338-7259_1977_num_39_1_1254   \n",
       "11221  autog_0338-7259_1978_num_40_1_1277  autog_0338-7259_1977_num_39_1_1254   \n",
       "11222  autog_0338-7259_1978_num_40_1_1277  autog_0338-7259_1977_num_39_1_1254   \n",
       "11223  autog_0338-7259_1978_num_40_1_1277  autog_0338-7259_1977_num_39_1_1254   \n",
       "\n",
       "         source.page.id.fmsh    target.page.id.fmsh  \\\n",
       "11     FMSH_PB188a_00002_098  FMSH_PB188a_00004_029   \n",
       "12     FMSH_PB188a_00002_098  FMSH_PB188a_00004_015   \n",
       "13     FMSH_PB188a_00002_098  FMSH_PB188a_00004_061   \n",
       "14     FMSH_PB188a_00002_098  FMSH_PB188a_00004_041   \n",
       "15     FMSH_PB188a_00002_098  FMSH_PB188a_00004_022   \n",
       "...                      ...                    ...   \n",
       "11219  FMSH_PB188a_00040_070  FMSH_PB188a_00039_069   \n",
       "11220  FMSH_PB188a_00040_070  FMSH_PB188a_00039_075   \n",
       "11221  FMSH_PB188a_00040_070  FMSH_PB188a_00039_083   \n",
       "11222  FMSH_PB188a_00040_070  FMSH_PB188a_00039_081   \n",
       "11223  FMSH_PB188a_00040_070  FMSH_PB188a_00039_082   \n",
       "\n",
       "                                source.page.id.persee  \\\n",
       "11      autog_0005-0970_1967_num_2_1_T1_0096_0000_710   \n",
       "12      autog_0005-0970_1967_num_2_1_T1_0096_0000_710   \n",
       "13      autog_0005-0970_1967_num_2_1_T1_0096_0000_710   \n",
       "14      autog_0005-0970_1967_num_2_1_T1_0096_0000_710   \n",
       "15      autog_0005-0970_1967_num_2_1_T1_0096_0000_710   \n",
       "...                                               ...   \n",
       "11219  autog_0338-7259_1978_num_40_1_T1_0069_0000_710   \n",
       "11220  autog_0338-7259_1978_num_40_1_T1_0069_0000_710   \n",
       "11221  autog_0338-7259_1978_num_40_1_T1_0069_0000_710   \n",
       "11222  autog_0338-7259_1978_num_40_1_T1_0069_0000_710   \n",
       "11223  autog_0338-7259_1978_num_40_1_T1_0069_0000_710   \n",
       "\n",
       "                                target.page.id.persee  source.block.id  \\\n",
       "11      autog_0005-0970_1967_num_4_1_T1_0027_0000_710                0   \n",
       "12      autog_0005-0970_1967_num_4_1_T1_0013_0000_710                0   \n",
       "13      autog_0005-0970_1967_num_4_1_T1_0059_0000_710                0   \n",
       "14      autog_0005-0970_1967_num_4_1_T1_0039_0000_710                0   \n",
       "15      autog_0005-0970_1967_num_4_1_T1_0020_0000_710                0   \n",
       "...                                               ...              ...   \n",
       "11219  autog_0338-7259_1977_num_39_1_T1_0067_0000_710                2   \n",
       "11220  autog_0338-7259_1977_num_39_1_T1_0073_0000_710                2   \n",
       "11221  autog_0338-7259_1977_num_39_1_T1_0081_0000_710                2   \n",
       "11222  autog_0338-7259_1977_num_39_1_T1_0079_0000_710                2   \n",
       "11223  autog_0338-7259_1977_num_39_1_T1_0080_0000_710                2   \n",
       "\n",
       "       target.block.id                                     y_score_matrix  \n",
       "11                   5                                            [[0.0]]  \n",
       "12                   7                                            [[0.0]]  \n",
       "13                   2  [[0.0, 0.0, 0.0, 0.0, 0.0, 0.0, 0.0, 0.0, 0.0,...  \n",
       "14                   2  [[0.0, 0.0, 0.0, 0.0, 0.0, 0.0, 0.0, 0.0, 0.0,...  \n",
       "15                   4                                       [[0.0, 0.0]]  \n",
       "...                ...                                                ...  \n",
       "11219                4  [[0.7648015022277832, 0.7590770721435547, 0.48...  \n",
       "11220                3  [[0.7977740168571472, 0.7794880270957947, 0.53...  \n",
       "11221                4  [[0.5618450045585632, 0.5374157428741455, 0.86...  \n",
       "11222                2  [[0.9966855645179749, 0.6458973288536072, 0.58...  \n",
       "11223                2  [[0.6006062030792236, 0.7044265270233154, 0.47...  \n",
       "\n",
       "[9574 rows x 15 columns]"
      ]
     },
     "execution_count": 79,
     "metadata": {},
     "output_type": "execute_result"
    }
   ],
   "source": [
    "df_diff_article_links"
   ]
  },
  {
   "cell_type": "code",
   "execution_count": 80,
   "id": "0966f557",
   "metadata": {
    "ExecuteTime": {
     "end_time": "2023-07-18T18:21:43.757396Z",
     "start_time": "2023-07-18T18:21:42.987771Z"
    },
    "collapsed": false,
    "jupyter": {
     "outputs_hidden": false
    }
   },
   "outputs": [
    {
     "data": {
      "text/plain": [
       "[[{'form': '96',\n",
       "   'lemma': '96',\n",
       "   'upos': 'NUM',\n",
       "   'deprel': 'root',\n",
       "   'space_after': True,\n",
       "   '_space_after': ' ',\n",
       "   'head': '0',\n",
       "   'semantic': None,\n",
       "   'named_entity': 'O',\n",
       "   'alto_id': 'string_0',\n",
       "   'conll_id': 'FMSH_PB188a_00002_098',\n",
       "   'NumType': 'Card',\n",
       "   'page.id.persee': 'autog_0005-0970_1967_num_2_1_T1_0096_0000_710',\n",
       "   'block.id': 0,\n",
       "   'norm': '96'},\n",
       "  {'form': 'JOZE',\n",
       "   'lemma': 'JOZE',\n",
       "   'upos': 'PROPN',\n",
       "   'deprel': 'root',\n",
       "   'space_after': True,\n",
       "   '_space_after': ' ',\n",
       "   'head': '0',\n",
       "   'semantic': None,\n",
       "   'named_entity': 'B-MISC',\n",
       "   'alto_id': 'string_1',\n",
       "   'conll_id': 'FMSH_PB188a_00002_098',\n",
       "   'page.id.persee': 'autog_0005-0970_1967_num_2_1_T1_0096_0000_710',\n",
       "   'block.id': 0,\n",
       "   'norm': '<misc>'},\n",
       "  {'form': 'GORICAR',\n",
       "   'lemma': 'GORICAR',\n",
       "   'upos': 'PROPN',\n",
       "   'deprel': 'flat:name',\n",
       "   'space_after': True,\n",
       "   '_space_after': ' ',\n",
       "   'head': '2',\n",
       "   'semantic': None,\n",
       "   'named_entity': 'B-MISC',\n",
       "   'alto_id': 'string_2',\n",
       "   'conll_id': 'FMSH_PB188a_00002_098',\n",
       "   'page.id.persee': 'autog_0005-0970_1967_num_2_1_T1_0096_0000_710',\n",
       "   'block.id': 0,\n",
       "   'norm': '<misc>'}]]"
      ]
     },
     "execution_count": 80,
     "metadata": {},
     "output_type": "execute_result"
    }
   ],
   "source": [
    "df_block.loc['FMSH_PB188a_00002_098_00','sents']"
   ]
  },
  {
   "cell_type": "code",
   "execution_count": null,
   "id": "41b746fe",
   "metadata": {
    "collapsed": false,
    "jupyter": {
     "outputs_hidden": false
    }
   },
   "outputs": [],
   "source": []
  }
 ],
 "metadata": {
  "kernelspec": {
   "display_name": "Python 3 (ipykernel)",
   "language": "python",
   "name": "python3"
  },
  "language_info": {
   "codemirror_mode": {
    "name": "ipython",
    "version": 3
   },
   "file_extension": ".py",
   "mimetype": "text/x-python",
   "name": "python",
   "nbconvert_exporter": "python",
   "pygments_lexer": "ipython3",
   "version": "3.8.16"
  }
 },
 "nbformat": 4,
 "nbformat_minor": 5
}
