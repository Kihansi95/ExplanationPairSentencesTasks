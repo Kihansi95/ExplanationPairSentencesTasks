{
 "cells": [
  {
   "cell_type": "code",
   "execution_count": 1,
   "id": "186d0297-bd65-4c08-815e-775668724f3e",
   "metadata": {},
   "outputs": [],
   "source": [
    "%load_ext autoreload\n",
    "%autoreload 2\n",
    "\n",
    "from IPython.display import display, HTML\n",
    "import sys\n",
    "import os\n",
    "from os import path\n",
    "\n",
    "sys.path.append(\"./../src\")\n",
    "tmp_path = path.join('.cache', '2022-10-13')\n",
    "os.makedirs(tmp_path,exist_ok=True)"
   ]
  },
  {
   "cell_type": "code",
   "execution_count": 2,
   "id": "3491f6f2-9d12-4fd8-bc6f-e3eae2cbc879",
   "metadata": {},
   "outputs": [],
   "source": [
    "summary_path = '/users/dunguyen/Projects/IGRIDA/RUNS/summary'\n",
    "experiments = list(os.listdir(summary_path))\n",
    "experiments = [e for e in experiments if '.DS_Store' not in e]"
   ]
  },
  {
   "cell_type": "code",
   "execution_count": 3,
   "id": "fa73b0b6-6348-4f18-96ea-f39d26443860",
   "metadata": {},
   "outputs": [
    {
     "ename": "NameError",
     "evalue": "name 'e' is not defined",
     "output_type": "error",
     "traceback": [
      "\u001b[0;31m---------------------------------------------------------------------------\u001b[0m",
      "\u001b[0;31mNameError\u001b[0m                                 Traceback (most recent call last)",
      "Input \u001b[0;32mIn [3]\u001b[0m, in \u001b[0;36m<cell line: 2>\u001b[0;34m()\u001b[0m\n\u001b[1;32m      1\u001b[0m summary \u001b[38;5;241m=\u001b[39m {\n\u001b[0;32m----> 2\u001b[0m     \u001b[43me\u001b[49m: pd\u001b[38;5;241m.\u001b[39mread_parquet(path\u001b[38;5;241m.\u001b[39mjoin())\n\u001b[1;32m      3\u001b[0m }\n",
      "\u001b[0;31mNameError\u001b[0m: name 'e' is not defined"
     ]
    }
   ],
   "source": [
    "summary = {\n",
    "    e: pd.read_parquet(path.join())\n",
    "}"
   ]
  },
  {
   "cell_type": "code",
   "execution_count": null,
   "id": "39756cdf-7709-4687-8161-a33f1dd86c9d",
   "metadata": {},
   "outputs": [],
   "source": []
  }
 ],
 "metadata": {
  "kernelspec": {
   "display_name": "Python 3 (ipykernel)",
   "language": "python",
   "name": "python3"
  },
  "language_info": {
   "codemirror_mode": {
    "name": "ipython",
    "version": 3
   },
   "file_extension": ".py",
   "mimetype": "text/x-python",
   "name": "python",
   "nbconvert_exporter": "python",
   "pygments_lexer": "ipython3",
   "version": "3.8.16"
  }
 },
 "nbformat": 4,
 "nbformat_minor": 5
}
