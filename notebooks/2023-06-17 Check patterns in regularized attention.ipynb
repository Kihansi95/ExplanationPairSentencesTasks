{
 "cells": [
  {
   "cell_type": "markdown",
   "id": "859916ba-d867-474e-9b72-9b26771c4302",
   "metadata": {},
   "source": [
    "# Test util functions"
   ]
  },
  {
   "cell_type": "code",
   "execution_count": 1,
   "id": "c8135f73-f3f9-4d54-b888-ad08edf3cb7a",
   "metadata": {},
   "outputs": [],
   "source": [
    "%load_ext autoreload\n",
    "%autoreload 2\n",
    "\n",
    "from IPython.display import display, HTML\n",
    "import sys\n",
    "import os\n",
    "from os import path\n",
    "\n",
    "sys.path.append(\"./../src\")"
   ]
  },
  {
   "cell_type": "code",
   "execution_count": null,
   "id": "e8ec72dc-9802-4944-a927-ed6fa371899a",
   "metadata": {},
   "outputs": [],
   "source": [
    "LOG_PATH = '/Users/dunguyen/Developer/server_backup/historic/2023-06-05'\n",
    "\n",
    "original_model = path.join(LOG_PATH, )"
   ]
  }
 ],
 "metadata": {
  "kernelspec": {
   "display_name": "Python 3 (ipykernel)",
   "language": "python",
   "name": "python3"
  },
  "language_info": {
   "codemirror_mode": {
    "name": "ipython",
    "version": 3
   },
   "file_extension": ".py",
   "mimetype": "text/x-python",
   "name": "python",
   "nbconvert_exporter": "python",
   "pygments_lexer": "ipython3",
   "version": "3.8.16"
  }
 },
 "nbformat": 4,
 "nbformat_minor": 5
}
