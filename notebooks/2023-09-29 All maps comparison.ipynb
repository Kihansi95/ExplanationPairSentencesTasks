{
 "cells": [
  {
   "cell_type": "markdown",
   "source": [
    "# All map comparison\n",
    "\n",
    "In this notebook, we make a script that generate HTML comparing the attention map for each data instance, given a folder.\n",
    "\n",
    "## Folder setup\n",
    "\n",
    "We define the folder set as following:\n",
    "\n",
    "```\n",
    "<root>\n",
    "├── ProjectA\n",
    "│   ├── A_map.json\n",
    "│   ├── B_map.json\n",
    "│   ├── C_map.json\n",
    "│   └── ...\n",
    "├── ProjectB\n",
    "└── ...\n",
    "```\n",
    "\n",
    "We want to sample different heatmaps in ProjectA into ProjectA/html. Each output html file will have the file name **<instance_id>.html**\n",
    "\n",
    "We assume that annotation map is found inside of attention_map from models\n"
   ],
   "metadata": {
    "collapsed": false
   },
   "id": "21e16826685c6df3"
  },
  {
   "cell_type": "markdown",
   "source": [
    "## Setting up"
   ],
   "metadata": {
    "collapsed": false
   },
   "id": "ea506cc1c1867fe6"
  },
  {
   "cell_type": "code",
   "execution_count": 1,
   "id": "c8135f73-f3f9-4d54-b888-ad08edf3cb7a",
   "metadata": {
    "ExecuteTime": {
     "end_time": "2023-10-05T17:08:28.844866Z",
     "start_time": "2023-10-05T17:08:28.820653Z"
    }
   },
   "outputs": [],
   "source": [
    "%load_ext autoreload\n",
    "%autoreload 2\n",
    "\n",
    "from IPython.display import display, HTML\n",
    "import sys\n",
    "import os\n",
    "from os import path\n",
    "\n",
    "sys.path.append(\"./../src\")"
   ]
  },
  {
   "cell_type": "code",
   "execution_count": 2,
   "outputs": [],
   "source": [
    "from modules.logger import init_logging\n",
    "from modules.logger import log\n",
    "\n",
    "init_logging(color=True)"
   ],
   "metadata": {
    "collapsed": false,
    "ExecuteTime": {
     "end_time": "2023-10-05T17:08:30.724338Z",
     "start_time": "2023-10-05T17:08:28.842672Z"
    }
   },
   "id": "7be72d7a281b26a1"
  },
  {
   "cell_type": "code",
   "execution_count": 3,
   "id": "f350fd13-a37b-41e2-9514-9a0c0e84e0d6",
   "metadata": {
    "ExecuteTime": {
     "end_time": "2023-10-05T17:08:30.925588Z",
     "start_time": "2023-10-05T17:08:30.727287Z"
    }
   },
   "outputs": [
    {
     "name": "stdout",
     "output_type": "stream",
     "text": [
      "Thu Oct  5 19:08:30 2023       \r\n",
      "+-----------------------------------------------------------------------------+\r\n",
      "| NVIDIA-SMI 460.91.03    Driver Version: 460.91.03    CUDA Version: 11.2     |\r\n",
      "|-------------------------------+----------------------+----------------------+\r\n",
      "| GPU  Name        Persistence-M| Bus-Id        Disp.A | Volatile Uncorr. ECC |\r\n",
      "| Fan  Temp  Perf  Pwr:Usage/Cap|         Memory-Usage | GPU-Util  Compute M. |\r\n",
      "|                               |                      |               MIG M. |\r\n",
      "|===============================+======================+======================|\r\n",
      "|   0  GeForce GTX 108...  On   | 00000000:04:00.0 Off |                  N/A |\r\n",
      "| 23%   22C    P8     8W / 250W |      1MiB / 11178MiB |      0%      Default |\r\n",
      "|                               |                      |                  N/A |\r\n",
      "+-------------------------------+----------------------+----------------------+\r\n",
      "                                                                               \r\n",
      "+-----------------------------------------------------------------------------+\r\n",
      "| Processes:                                                                  |\r\n",
      "|  GPU   GI   CI        PID   Type   Process name                  GPU Memory |\r\n",
      "|        ID   ID                                                   Usage      |\r\n",
      "|=============================================================================|\r\n",
      "|  No running processes found                                                 |\r\n",
      "+-----------------------------------------------------------------------------+\r\n"
     ]
    }
   ],
   "source": [
    "!nvidia-smi"
   ]
  },
  {
   "cell_type": "markdown",
   "source": [
    "## Parameters"
   ],
   "metadata": {
    "collapsed": false
   },
   "id": "e9c1ab664bf18052"
  },
  {
   "cell_type": "code",
   "execution_count": 4,
   "outputs": [
    {
     "name": "stdout",
     "output_type": "stream",
     "text": [
      "05-10-2023 19:08:31 | \u001B[34m    INFO\u001B[0m \u001B[1m \u001B[4m 426039642.py:<cell line: 5>:5 \u001B[0m \u001B[34mCurrent node: grele-3.nancy.grid5000.fr\u001B[0m\n"
     ]
    }
   ],
   "source": [
    "import platform\n",
    "\n",
    "# Define root folder based on current node (local or server)\n",
    "node = platform.node()\n",
    "log.info(f'Current node: {node}')\n",
    "if node == 'MAC-C02D80HRMD6':\n",
    "    ROOT = '/Users/dunguyen/Developer/server_backup/historic/2023-06-05'\n",
    "else:\n",
    "    ROOT = '/home/dunguyen/RUNS'\n",
    "    \n",
    "# ==== Choose dataset ====    \n",
    "DATASET = 'esnli'\n",
    "# ========================\n",
    "ROOT = ROOT + '/qualitative_result'\n",
    "PROJECT = f'benchmark_explainers_{DATASET}'\n",
    "MODEL_NAME = 'lstm_attention.run=0_lstm=1'\n",
    "\n",
    "# Define all paths\n",
    "MAPS = [\n",
    "    { 'file_suffix': 'attention_map', 'display': 'Annotation Maps', 'column': 'a_true'},\n",
    "    { 'file_suffix': 'attention_map', 'display': 'Attention Maps', 'column': 'a_hat'},\n",
    "    { 'file_suffix': 'lime_map', 'display': 'LIME Maps', 'column': 'a_lime'},\n",
    "    { 'file_suffix': 'grad_map', 'display': 'Gradient-based Maps', 'column': 'a_grad'},\n",
    "    { 'file_suffix': 'shap_map', 'display': 'SHAP Maps', 'column': 'a_shap'},\n",
    "]\n",
    "\n",
    "# update file path\n",
    "for m in MAPS:\n",
    "    m['fpath'] = path.join(ROOT, PROJECT, MODEL_NAME + '.' + m['file_suffix'] + '.json')"
   ],
   "metadata": {
    "collapsed": false,
    "ExecuteTime": {
     "end_time": "2023-10-05T17:08:30.966124Z",
     "start_time": "2023-10-05T17:08:30.925412Z"
    }
   },
   "id": "2f8d5563976b6d72"
  },
  {
   "cell_type": "code",
   "execution_count": 5,
   "outputs": [],
   "source": [
    "import pandas as pd\n",
    "import numpy as np"
   ],
   "metadata": {
    "collapsed": false,
    "ExecuteTime": {
     "end_time": "2023-10-05T17:08:30.969048Z",
     "start_time": "2023-10-05T17:08:30.964016Z"
    }
   },
   "id": "401b2180130fc057"
  },
  {
   "cell_type": "code",
   "execution_count": 6,
   "outputs": [],
   "source": [
    "# Clean padding tokens in attention map files\n",
    "df_attention = pd.read_json(MAPS[1]['fpath'])\n",
    "\n",
    "def clean_padding(row):\n",
    "    a_hat = np.array(row['a_hat'])\n",
    "    padding_mask = np.array(row['padding_mask'])\n",
    "    a_true = np.array(row['a_true'])\n",
    "    a_heu = np.array(row['heuristic'])\n",
    "    tokens = np.array(row['tokens.form'])\n",
    "    a_hat_clean = a_hat[~padding_mask]\n",
    "    a_true_clean = a_true[~padding_mask]\n",
    "    row['a_hat'] = a_hat_clean.tolist()\n",
    "    row['a_true'] = a_true_clean.tolist()\n",
    "    row['heuristic'] = a_heu[~padding_mask].tolist()\n",
    "    # row['tokens.form'] = tokens[~padding_mask].tolist()\n",
    "    return row\n",
    "\n",
    "if 'padding_mask' in df_attention.columns:\n",
    "    df_attention = df_attention.apply(clean_padding, axis=1)\n",
    "    df_attention = df_attention.drop(columns=['padding_mask'])\n",
    "    df_attention.to_json(MAPS[1]['fpath'])\n",
    "    \n",
    "# Replace label \n",
    "if 'label_hat' not in df_attention.columns:\n",
    "    label_itos = dict()\n",
    "    if DATASET == 'hatexplain': \n",
    "        from data.hatexplain.dataset import HateXPlain\n",
    "        label_itos = HateXPlain.LABEL_ITOS\n",
    "    elif DATASET == 'yelphat':\n",
    "        from data.yelp_hat.dataset import YelpHat\n",
    "        label_itos = YelpHat.LABEL_ITOS\n",
    "    elif DATASET == 'esnli':\n",
    "        from data.esnli.dataset import ESNLI\n",
    "        label_itos = ESNLI.LABEL_ITOS\n",
    "    else:\n",
    "        raise ValueError('Dataset not supported')\n",
    "    \n",
    "    #df_attention['label_hat'] = df_attention['y_hat'].apply(lambda x: label_itos[x])\n",
    "    #df_attention['label_true'] = df_attention['y_true'].apply(lambda x: label_itos[x])\n",
    "    df_attention['label_hat'] = df_attention['y_hat']\n",
    "    df_attention['label_true'] = df_attention['y_hat']\n",
    "    df_attention.to_json(MAPS[1]['fpath'])"
   ],
   "metadata": {
    "collapsed": false,
    "ExecuteTime": {
     "end_time": "2023-10-05T17:08:32.636898Z",
     "start_time": "2023-10-05T17:08:32.086429Z"
    }
   },
   "id": "50994c0415733843"
  },
  {
   "cell_type": "code",
   "execution_count": 7,
   "outputs": [
    {
     "data": {
      "text/plain": "              y_hat                                      a_hat.premise  \\\n0        entailment  [0.061332613200000004, 0.6565563679, 0.3939329...   \n1           neutral  [0.0472730212, 0.0794806406, 0.0, 0.5041347146...   \n2        entailment  [0.4208866358, 1.0, 0.0369730406, 0.1549697667...   \n3     contradiction  [0.1599319279, 0.7968158722, 0.0015835182, 0.0...   \n4     contradiction  [0.057741958600000004, 0.7411455512, 0.1925581...   \n...             ...                                                ...   \n9819        neutral  [0.0412852503, 0.2441798896, 0.0, 0.0141727552...   \n9820     entailment  [0.0928477421, 0.6092538834, 0.0267547872, 0.0...   \n9821        neutral  [0.1597015411, 0.1067305058, 0.0543378256, 0.1...   \n9822     entailment  [0.4249371886, 0.3039977551, 0.102009601900000...   \n9823  contradiction  [0.294446826, 0.1757603586, 0.0491338, 0.19849...   \n\n                                       a_hat.hypothesis                   id  \\\n0     [0.0, 0.0916936249, 0.2854360044, 0.0629455, 0...  4563544127.jpg#1r1e   \n1     [0.0443991721, 0.3893270493, 0.6401420832, 1.0...  4755772625.jpg#4r1n   \n2     [0.2146061957, 0.3105322421, 1.0, 0.0, 0.94315...  4755772625.jpg#4r1e   \n3     [0.0609926395, 0.0, 0.4840745032, 0.4886478782...  4755772625.jpg#4r1c   \n4     [0.052095841600000005, 0.6763522029, 0.3455749...  3005123298.jpg#0r1c   \n...                                                 ...                  ...   \n9819  [0.18250405790000002, 1.0, 0.0057042758, 0.0, ...  6126962700.jpg#4r1c   \n9820  [0.062568672, 0.5261303782, 0.0, 0.0137268817,...  6126962700.jpg#4r1e   \n9821  [0.0122721102, 1.0, 0.0264848694, 0.0, 0.02731...  3502897880.jpg#0r1n   \n9822  [0.051058452600000005, 0.1729544103, 0.0847867...  3502897880.jpg#0r1e   \n9823             [1.0, 0.0, 0.0019024322, 0.0572687499]  3502897880.jpg#0r1c   \n\n                                                premise  \\\n0     An older man holding a sign for tattoos solici...   \n1            People looking at tall oriental art piece.   \n2            People looking at tall oriental art piece.   \n3            People looking at tall oriental art piece.   \n4     An Obama Biden supporter cheers for the Presid...   \n...                                                 ...   \n9819                    A rally in a different country.   \n9820                    A rally in a different country.   \n9821  A man in a blue shirt is performing a skateboa...   \n9822  A man in a blue shirt is performing a skateboa...   \n9823  A man in a blue shirt is performing a skateboa...   \n\n                                             hypothesis          label  \\\n0                 The man works with a tattoo business.     entailment   \n1     The new Chinese history exhibit is open at the...        neutral   \n2                             People are looking at art     entailment   \n3                         People are running a marathon  contradiction   \n4     An Obama supporter is upset that the President...  contradiction   \n...                                                 ...            ...   \n9819                 A carnival in a different country.  contradiction   \n9820                     A rally in a seperate country.     entailment   \n9821                             A tall person in shirt        neutral   \n9822                                A person in a shirt     entailment   \n9823                                 Nobody has a shirt  contradiction   \n\n                                            explanation  \\\n0     An older man is a man and he being holding a s...   \n1     Oriental art pieces can be found in so many pl...   \n2     the art that the people are looking is a tall ...   \n3     People cannot be running a marathon and lookin...   \n4     One is either an Obama supporter or one is an ...   \n...                                                 ...   \n9819  Sentence 1 says the location is at a rally, wh...   \n9820               Different is a synonym for seperate.   \n9821                  Some men aren’t necessarily tall.   \n9822      The man is wearing a shirt in both sentences.   \n9823  Two men watch a man in a shirt that is perform...   \n\n                                      highlight_premise  \\\n0     An *older* *man* holding a sign for tattoos so...   \n1            People looking at tall oriental art piece.   \n2     *People* *looking* at *tall* *oriental* *art* ...   \n3          People *looking* at tall oriental art piece.   \n4     An Obama Biden supporter *cheers* for the Pres...   \n...                                                 ...   \n9819                  A *rally* in a different country.   \n9820                  A rally in a *different* country.   \n9821  A man in a blue shirt is performing a skateboa...   \n9822  A *man* in a *blue* *shirt* is performing a sk...   \n9823  A *man* *in* *a* blue *shirt* *is* *performing...   \n\n                                   highlight_hypothesis  ...  \\\n0               The *man* works with a tattoo business.  ...   \n1     The new Chinese history exhibit is open at the...  ...   \n2                           People are looking at *art*  ...   \n3                       People are *running* a marathon  ...   \n4     An Obama supporter is *upset* that the Preside...  ...   \n...                                                 ...  ...   \n9819               A *carnival* in a different country.  ...   \n9820                   A rally in a *seperate* country.  ...   \n9821                           A *tall* person in shirt  ...   \n9822                            A *person* in a *shirt*  ...   \n9823                             *Nobody* has a *shirt*  ...   \n\n                                      heuristic.premise  \\\n0     [-1.000000015e+30, -2.0663328171, -1.421733498...   \n1     [-1.4176145792, -1.1878677607, -1.000000015e+3...   \n2     [-1.2582182884, -1.1879684925, -1.000000015e+3...   \n3     [-0.9945734143, -1.4236390591, -1.000000015e+3...   \n4     [-1.000000015e+30, -1.000000015e+30, -1.000000...   \n...                                                 ...   \n9819  [-1.000000015e+30, -2.4112033844000003, -1.000...   \n9820  [-1.000000015e+30, -1.5680634975, -1.000000015...   \n9821  [-1.000000015e+30, -1.6318250895, -1.000000015...   \n9822  [-1.000000015e+30, -1.6260750294, -1.000000015...   \n9823  [-1.000000015e+30, -1.8024699688, -1.000000015...   \n\n                                   heuristic.hypothesis  \\\n0     [-1.000000015e+30, -1.0027236938, -1.072178840...   \n1     [-1.000000015e+30, -1.7927821875, -1.954220891...   \n2     [-1.2146189213, -1.000000015e+30, -0.839180231...   \n3     [-0.35116553310000004, -1.000000015e+30, -1.56...   \n4     [-1.000000015e+30, -1.000000015e+30, -1.546857...   \n...                                                 ...   \n9819  [-1.000000015e+30, -2.6194021702, -1.000000015...   \n9820  [-1.000000015e+30, -1.4119501114, -1.000000015...   \n9821  [-1.000000015e+30, -2.1690359116, -0.360219568...   \n9822  [-1.000000015e+30, -0.2388564497, -1.000000015...   \n9823  [-1.000000015e+30, -1.000000015e+30, -1.000000...   \n\n                                     tokens.ids.premise  \\\n0     [20, 68, 7, 35, 2, 177, 39, 630, 11844, 564, 8...   \n1     [14, 36, 17, 319, 1044, 309, 308, 3, 0, 0, 0, ...   \n2     [14, 36, 17, 319, 1044, 309, 308, 3, 0, 0, 0, ...   \n3     [14, 36, 17, 319, 1044, 309, 308, 3, 0, 0, 0, ...   \n4     [20, 3334, 1, 4105, 743, 39, 5, 7760, 7350, 9,...   \n...                                                 ...   \n9819  [2, 1491, 6, 2, 550, 656, 3, 0, 0, 0, 0, 0, 0,...   \n9820  [2, 1491, 6, 2, 550, 656, 3, 0, 0, 0, 0, 0, 0,...   \n9821  [2, 7, 6, 2, 34, 27, 4, 117, 2, 198, 263, 84, ...   \n9822  [2, 7, 6, 2, 34, 27, 4, 117, 2, 198, 263, 84, ...   \n9823  [2, 7, 6, 2, 34, 27, 4, 117, 2, 198, 263, 84, ...   \n\n                                  tokens.ids.hypothesis         y_true  \\\n0     [5, 7, 64, 12, 2, 630, 564, 3, 0, 0, 0, 0, 0, ...     entailment   \n1     [5, 355, 680, 3740, 1607, 4, 258, 17, 5, 856, ...        neutral   \n2     [14, 4, 36, 17, 309, 0, 0, 0, 0, 0, 0, 0, 0, 0...     entailment   \n3     [14, 4, 54, 2, 604, 0, 0, 0, 0, 0, 0, 0, 0, 0,...  contradiction   \n4     [20, 3334, 4105, 4, 1766, 107, 5, 2991, 951, 2...  contradiction   \n...                                                 ...            ...   \n9819  [2, 884, 6, 2, 550, 656, 3, 0, 0, 0, 0, 0, 0, ...  contradiction   \n9820  [2, 1491, 6, 2, 6485, 656, 3, 0, 0, 0, 0, 0, 0...     entailment   \n9821  [2, 319, 45, 6, 27, 0, 0, 0, 0, 0, 0, 0, 0, 0,...        neutral   \n9822  [2, 45, 6, 2, 27, 0, 0, 0, 0, 0, 0, 0, 0, 0, 0...     entailment   \n9823  [463, 47, 2, 27, 0, 0, 0, 0, 0, 0, 0, 0, 0, 0,...  contradiction   \n\n                                         a_true.premise  \\\n0     [0.0, 1.0, 1.0, 0.0, 0.0, 0.0, 0.0, 0.0, 0.0, ...   \n1              [0.0, 0.0, 0.0, 0.0, 0.0, 0.0, 0.0, 0.0]   \n2              [1.0, 1.0, 0.0, 1.0, 1.0, 1.0, 1.0, 0.0]   \n3              [0.0, 1.0, 0.0, 0.0, 0.0, 0.0, 0.0, 0.0]   \n4     [0.0, 0.0, 0.0, 0.0, 1.0, 0.0, 0.0, 0.0, 0.0, ...   \n...                                                 ...   \n9819                [0.0, 1.0, 0.0, 0.0, 0.0, 0.0, 0.0]   \n9820                [0.0, 0.0, 0.0, 0.0, 1.0, 0.0, 0.0]   \n9821  [0.0, 0.0, 0.0, 0.0, 0.0, 0.0, 0.0, 0.0, 0.0, ...   \n9822  [0.0, 1.0, 0.0, 0.0, 1.0, 1.0, 0.0, 0.0, 0.0, ...   \n9823  [0.0, 1.0, 1.0, 1.0, 0.0, 1.0, 1.0, 1.0, 0.0, ...   \n\n                                      a_true.hypothesis      label_hat  \\\n0              [0.0, 1.0, 0.0, 0.0, 0.0, 0.0, 0.0, 0.0]     entailment   \n1     [0.0, 0.0, 0.0, 0.0, 0.0, 0.0, 0.0, 0.0, 0.0, ...        neutral   \n2                             [0.0, 0.0, 0.0, 0.0, 1.0]     entailment   \n3                             [0.0, 0.0, 1.0, 0.0, 0.0]  contradiction   \n4     [0.0, 0.0, 0.0, 0.0, 1.0, 0.0, 0.0, 0.0, 0.0, ...  contradiction   \n...                                                 ...            ...   \n9819                [0.0, 1.0, 0.0, 0.0, 0.0, 0.0, 0.0]        neutral   \n9820                [0.0, 0.0, 0.0, 0.0, 1.0, 0.0, 0.0]     entailment   \n9821                          [0.0, 1.0, 0.0, 0.0, 0.0]        neutral   \n9822                          [0.0, 1.0, 0.0, 0.0, 1.0]     entailment   \n9823                               [1.0, 0.0, 0.0, 1.0]  contradiction   \n\n         label_true                                        tokens.form  \n0        entailment  [<b>Premise</b>:, an, old, man, hold, a, sign,...  \n1           neutral  [<b>Premise</b>:, people, look, at, tall, orie...  \n2        entailment  [<b>Premise</b>:, people, look, at, tall, orie...  \n3     contradiction  [<b>Premise</b>:, people, look, at, tall, orie...  \n4     contradiction  [<b>Premise</b>:, an, obama, biden, supporter,...  \n...             ...                                                ...  \n9819        neutral  [<b>Premise</b>:, a, rally, in, a, different, ...  \n9820     entailment  [<b>Premise</b>:, a, rally, in, a, different, ...  \n9821        neutral  [<b>Premise</b>:, a, man, in, a, blue, shirt, ...  \n9822     entailment  [<b>Premise</b>:, a, man, in, a, blue, shirt, ...  \n9823  contradiction  [<b>Premise</b>:, a, man, in, a, blue, shirt, ...  \n\n[9824 rows x 22 columns]",
      "text/html": "<div>\n<style scoped>\n    .dataframe tbody tr th:only-of-type {\n        vertical-align: middle;\n    }\n\n    .dataframe tbody tr th {\n        vertical-align: top;\n    }\n\n    .dataframe thead th {\n        text-align: right;\n    }\n</style>\n<table border=\"1\" class=\"dataframe\">\n  <thead>\n    <tr style=\"text-align: right;\">\n      <th></th>\n      <th>y_hat</th>\n      <th>a_hat.premise</th>\n      <th>a_hat.hypothesis</th>\n      <th>id</th>\n      <th>premise</th>\n      <th>hypothesis</th>\n      <th>label</th>\n      <th>explanation</th>\n      <th>highlight_premise</th>\n      <th>highlight_hypothesis</th>\n      <th>...</th>\n      <th>heuristic.premise</th>\n      <th>heuristic.hypothesis</th>\n      <th>tokens.ids.premise</th>\n      <th>tokens.ids.hypothesis</th>\n      <th>y_true</th>\n      <th>a_true.premise</th>\n      <th>a_true.hypothesis</th>\n      <th>label_hat</th>\n      <th>label_true</th>\n      <th>tokens.form</th>\n    </tr>\n  </thead>\n  <tbody>\n    <tr>\n      <th>0</th>\n      <td>entailment</td>\n      <td>[0.061332613200000004, 0.6565563679, 0.3939329...</td>\n      <td>[0.0, 0.0916936249, 0.2854360044, 0.0629455, 0...</td>\n      <td>4563544127.jpg#1r1e</td>\n      <td>An older man holding a sign for tattoos solici...</td>\n      <td>The man works with a tattoo business.</td>\n      <td>entailment</td>\n      <td>An older man is a man and he being holding a s...</td>\n      <td>An *older* *man* holding a sign for tattoos so...</td>\n      <td>The *man* works with a tattoo business.</td>\n      <td>...</td>\n      <td>[-1.000000015e+30, -2.0663328171, -1.421733498...</td>\n      <td>[-1.000000015e+30, -1.0027236938, -1.072178840...</td>\n      <td>[20, 68, 7, 35, 2, 177, 39, 630, 11844, 564, 8...</td>\n      <td>[5, 7, 64, 12, 2, 630, 564, 3, 0, 0, 0, 0, 0, ...</td>\n      <td>entailment</td>\n      <td>[0.0, 1.0, 1.0, 0.0, 0.0, 0.0, 0.0, 0.0, 0.0, ...</td>\n      <td>[0.0, 1.0, 0.0, 0.0, 0.0, 0.0, 0.0, 0.0]</td>\n      <td>entailment</td>\n      <td>entailment</td>\n      <td>[&lt;b&gt;Premise&lt;/b&gt;:, an, old, man, hold, a, sign,...</td>\n    </tr>\n    <tr>\n      <th>1</th>\n      <td>neutral</td>\n      <td>[0.0472730212, 0.0794806406, 0.0, 0.5041347146...</td>\n      <td>[0.0443991721, 0.3893270493, 0.6401420832, 1.0...</td>\n      <td>4755772625.jpg#4r1n</td>\n      <td>People looking at tall oriental art piece.</td>\n      <td>The new Chinese history exhibit is open at the...</td>\n      <td>neutral</td>\n      <td>Oriental art pieces can be found in so many pl...</td>\n      <td>People looking at tall oriental art piece.</td>\n      <td>The new Chinese history exhibit is open at the...</td>\n      <td>...</td>\n      <td>[-1.4176145792, -1.1878677607, -1.000000015e+3...</td>\n      <td>[-1.000000015e+30, -1.7927821875, -1.954220891...</td>\n      <td>[14, 36, 17, 319, 1044, 309, 308, 3, 0, 0, 0, ...</td>\n      <td>[5, 355, 680, 3740, 1607, 4, 258, 17, 5, 856, ...</td>\n      <td>neutral</td>\n      <td>[0.0, 0.0, 0.0, 0.0, 0.0, 0.0, 0.0, 0.0]</td>\n      <td>[0.0, 0.0, 0.0, 0.0, 0.0, 0.0, 0.0, 0.0, 0.0, ...</td>\n      <td>neutral</td>\n      <td>neutral</td>\n      <td>[&lt;b&gt;Premise&lt;/b&gt;:, people, look, at, tall, orie...</td>\n    </tr>\n    <tr>\n      <th>2</th>\n      <td>entailment</td>\n      <td>[0.4208866358, 1.0, 0.0369730406, 0.1549697667...</td>\n      <td>[0.2146061957, 0.3105322421, 1.0, 0.0, 0.94315...</td>\n      <td>4755772625.jpg#4r1e</td>\n      <td>People looking at tall oriental art piece.</td>\n      <td>People are looking at art</td>\n      <td>entailment</td>\n      <td>the art that the people are looking is a tall ...</td>\n      <td>*People* *looking* at *tall* *oriental* *art* ...</td>\n      <td>People are looking at *art*</td>\n      <td>...</td>\n      <td>[-1.2582182884, -1.1879684925, -1.000000015e+3...</td>\n      <td>[-1.2146189213, -1.000000015e+30, -0.839180231...</td>\n      <td>[14, 36, 17, 319, 1044, 309, 308, 3, 0, 0, 0, ...</td>\n      <td>[14, 4, 36, 17, 309, 0, 0, 0, 0, 0, 0, 0, 0, 0...</td>\n      <td>entailment</td>\n      <td>[1.0, 1.0, 0.0, 1.0, 1.0, 1.0, 1.0, 0.0]</td>\n      <td>[0.0, 0.0, 0.0, 0.0, 1.0]</td>\n      <td>entailment</td>\n      <td>entailment</td>\n      <td>[&lt;b&gt;Premise&lt;/b&gt;:, people, look, at, tall, orie...</td>\n    </tr>\n    <tr>\n      <th>3</th>\n      <td>contradiction</td>\n      <td>[0.1599319279, 0.7968158722, 0.0015835182, 0.0...</td>\n      <td>[0.0609926395, 0.0, 0.4840745032, 0.4886478782...</td>\n      <td>4755772625.jpg#4r1c</td>\n      <td>People looking at tall oriental art piece.</td>\n      <td>People are running a marathon</td>\n      <td>contradiction</td>\n      <td>People cannot be running a marathon and lookin...</td>\n      <td>People *looking* at tall oriental art piece.</td>\n      <td>People are *running* a marathon</td>\n      <td>...</td>\n      <td>[-0.9945734143, -1.4236390591, -1.000000015e+3...</td>\n      <td>[-0.35116553310000004, -1.000000015e+30, -1.56...</td>\n      <td>[14, 36, 17, 319, 1044, 309, 308, 3, 0, 0, 0, ...</td>\n      <td>[14, 4, 54, 2, 604, 0, 0, 0, 0, 0, 0, 0, 0, 0,...</td>\n      <td>contradiction</td>\n      <td>[0.0, 1.0, 0.0, 0.0, 0.0, 0.0, 0.0, 0.0]</td>\n      <td>[0.0, 0.0, 1.0, 0.0, 0.0]</td>\n      <td>contradiction</td>\n      <td>contradiction</td>\n      <td>[&lt;b&gt;Premise&lt;/b&gt;:, people, look, at, tall, orie...</td>\n    </tr>\n    <tr>\n      <th>4</th>\n      <td>contradiction</td>\n      <td>[0.057741958600000004, 0.7411455512, 0.1925581...</td>\n      <td>[0.052095841600000005, 0.6763522029, 0.3455749...</td>\n      <td>3005123298.jpg#0r1c</td>\n      <td>An Obama Biden supporter cheers for the Presid...</td>\n      <td>An Obama supporter is upset that the President...</td>\n      <td>contradiction</td>\n      <td>One is either an Obama supporter or one is an ...</td>\n      <td>An Obama Biden supporter *cheers* for the Pres...</td>\n      <td>An Obama supporter is *upset* that the Preside...</td>\n      <td>...</td>\n      <td>[-1.000000015e+30, -1.000000015e+30, -1.000000...</td>\n      <td>[-1.000000015e+30, -1.000000015e+30, -1.546857...</td>\n      <td>[20, 3334, 1, 4105, 743, 39, 5, 7760, 7350, 9,...</td>\n      <td>[20, 3334, 4105, 4, 1766, 107, 5, 2991, 951, 2...</td>\n      <td>contradiction</td>\n      <td>[0.0, 0.0, 0.0, 0.0, 1.0, 0.0, 0.0, 0.0, 0.0, ...</td>\n      <td>[0.0, 0.0, 0.0, 0.0, 1.0, 0.0, 0.0, 0.0, 0.0, ...</td>\n      <td>contradiction</td>\n      <td>contradiction</td>\n      <td>[&lt;b&gt;Premise&lt;/b&gt;:, an, obama, biden, supporter,...</td>\n    </tr>\n    <tr>\n      <th>...</th>\n      <td>...</td>\n      <td>...</td>\n      <td>...</td>\n      <td>...</td>\n      <td>...</td>\n      <td>...</td>\n      <td>...</td>\n      <td>...</td>\n      <td>...</td>\n      <td>...</td>\n      <td>...</td>\n      <td>...</td>\n      <td>...</td>\n      <td>...</td>\n      <td>...</td>\n      <td>...</td>\n      <td>...</td>\n      <td>...</td>\n      <td>...</td>\n      <td>...</td>\n      <td>...</td>\n    </tr>\n    <tr>\n      <th>9819</th>\n      <td>neutral</td>\n      <td>[0.0412852503, 0.2441798896, 0.0, 0.0141727552...</td>\n      <td>[0.18250405790000002, 1.0, 0.0057042758, 0.0, ...</td>\n      <td>6126962700.jpg#4r1c</td>\n      <td>A rally in a different country.</td>\n      <td>A carnival in a different country.</td>\n      <td>contradiction</td>\n      <td>Sentence 1 says the location is at a rally, wh...</td>\n      <td>A *rally* in a different country.</td>\n      <td>A *carnival* in a different country.</td>\n      <td>...</td>\n      <td>[-1.000000015e+30, -2.4112033844000003, -1.000...</td>\n      <td>[-1.000000015e+30, -2.6194021702, -1.000000015...</td>\n      <td>[2, 1491, 6, 2, 550, 656, 3, 0, 0, 0, 0, 0, 0,...</td>\n      <td>[2, 884, 6, 2, 550, 656, 3, 0, 0, 0, 0, 0, 0, ...</td>\n      <td>contradiction</td>\n      <td>[0.0, 1.0, 0.0, 0.0, 0.0, 0.0, 0.0]</td>\n      <td>[0.0, 1.0, 0.0, 0.0, 0.0, 0.0, 0.0]</td>\n      <td>neutral</td>\n      <td>neutral</td>\n      <td>[&lt;b&gt;Premise&lt;/b&gt;:, a, rally, in, a, different, ...</td>\n    </tr>\n    <tr>\n      <th>9820</th>\n      <td>entailment</td>\n      <td>[0.0928477421, 0.6092538834, 0.0267547872, 0.0...</td>\n      <td>[0.062568672, 0.5261303782, 0.0, 0.0137268817,...</td>\n      <td>6126962700.jpg#4r1e</td>\n      <td>A rally in a different country.</td>\n      <td>A rally in a seperate country.</td>\n      <td>entailment</td>\n      <td>Different is a synonym for seperate.</td>\n      <td>A rally in a *different* country.</td>\n      <td>A rally in a *seperate* country.</td>\n      <td>...</td>\n      <td>[-1.000000015e+30, -1.5680634975, -1.000000015...</td>\n      <td>[-1.000000015e+30, -1.4119501114, -1.000000015...</td>\n      <td>[2, 1491, 6, 2, 550, 656, 3, 0, 0, 0, 0, 0, 0,...</td>\n      <td>[2, 1491, 6, 2, 6485, 656, 3, 0, 0, 0, 0, 0, 0...</td>\n      <td>entailment</td>\n      <td>[0.0, 0.0, 0.0, 0.0, 1.0, 0.0, 0.0]</td>\n      <td>[0.0, 0.0, 0.0, 0.0, 1.0, 0.0, 0.0]</td>\n      <td>entailment</td>\n      <td>entailment</td>\n      <td>[&lt;b&gt;Premise&lt;/b&gt;:, a, rally, in, a, different, ...</td>\n    </tr>\n    <tr>\n      <th>9821</th>\n      <td>neutral</td>\n      <td>[0.1597015411, 0.1067305058, 0.0543378256, 0.1...</td>\n      <td>[0.0122721102, 1.0, 0.0264848694, 0.0, 0.02731...</td>\n      <td>3502897880.jpg#0r1n</td>\n      <td>A man in a blue shirt is performing a skateboa...</td>\n      <td>A tall person in shirt</td>\n      <td>neutral</td>\n      <td>Some men aren’t necessarily tall.</td>\n      <td>A man in a blue shirt is performing a skateboa...</td>\n      <td>A *tall* person in shirt</td>\n      <td>...</td>\n      <td>[-1.000000015e+30, -1.6318250895, -1.000000015...</td>\n      <td>[-1.000000015e+30, -2.1690359116, -0.360219568...</td>\n      <td>[2, 7, 6, 2, 34, 27, 4, 117, 2, 198, 263, 84, ...</td>\n      <td>[2, 319, 45, 6, 27, 0, 0, 0, 0, 0, 0, 0, 0, 0,...</td>\n      <td>neutral</td>\n      <td>[0.0, 0.0, 0.0, 0.0, 0.0, 0.0, 0.0, 0.0, 0.0, ...</td>\n      <td>[0.0, 1.0, 0.0, 0.0, 0.0]</td>\n      <td>neutral</td>\n      <td>neutral</td>\n      <td>[&lt;b&gt;Premise&lt;/b&gt;:, a, man, in, a, blue, shirt, ...</td>\n    </tr>\n    <tr>\n      <th>9822</th>\n      <td>entailment</td>\n      <td>[0.4249371886, 0.3039977551, 0.102009601900000...</td>\n      <td>[0.051058452600000005, 0.1729544103, 0.0847867...</td>\n      <td>3502897880.jpg#0r1e</td>\n      <td>A man in a blue shirt is performing a skateboa...</td>\n      <td>A person in a shirt</td>\n      <td>entailment</td>\n      <td>The man is wearing a shirt in both sentences.</td>\n      <td>A *man* in a *blue* *shirt* is performing a sk...</td>\n      <td>A *person* in a *shirt*</td>\n      <td>...</td>\n      <td>[-1.000000015e+30, -1.6260750294, -1.000000015...</td>\n      <td>[-1.000000015e+30, -0.2388564497, -1.000000015...</td>\n      <td>[2, 7, 6, 2, 34, 27, 4, 117, 2, 198, 263, 84, ...</td>\n      <td>[2, 45, 6, 2, 27, 0, 0, 0, 0, 0, 0, 0, 0, 0, 0...</td>\n      <td>entailment</td>\n      <td>[0.0, 1.0, 0.0, 0.0, 1.0, 1.0, 0.0, 0.0, 0.0, ...</td>\n      <td>[0.0, 1.0, 0.0, 0.0, 1.0]</td>\n      <td>entailment</td>\n      <td>entailment</td>\n      <td>[&lt;b&gt;Premise&lt;/b&gt;:, a, man, in, a, blue, shirt, ...</td>\n    </tr>\n    <tr>\n      <th>9823</th>\n      <td>contradiction</td>\n      <td>[0.294446826, 0.1757603586, 0.0491338, 0.19849...</td>\n      <td>[1.0, 0.0, 0.0019024322, 0.0572687499]</td>\n      <td>3502897880.jpg#0r1c</td>\n      <td>A man in a blue shirt is performing a skateboa...</td>\n      <td>Nobody has a shirt</td>\n      <td>contradiction</td>\n      <td>Two men watch a man in a shirt that is perform...</td>\n      <td>A *man* *in* *a* blue *shirt* *is* *performing...</td>\n      <td>*Nobody* has a *shirt*</td>\n      <td>...</td>\n      <td>[-1.000000015e+30, -1.8024699688, -1.000000015...</td>\n      <td>[-1.000000015e+30, -1.000000015e+30, -1.000000...</td>\n      <td>[2, 7, 6, 2, 34, 27, 4, 117, 2, 198, 263, 84, ...</td>\n      <td>[463, 47, 2, 27, 0, 0, 0, 0, 0, 0, 0, 0, 0, 0,...</td>\n      <td>contradiction</td>\n      <td>[0.0, 1.0, 1.0, 1.0, 0.0, 1.0, 1.0, 1.0, 0.0, ...</td>\n      <td>[1.0, 0.0, 0.0, 1.0]</td>\n      <td>contradiction</td>\n      <td>contradiction</td>\n      <td>[&lt;b&gt;Premise&lt;/b&gt;:, a, man, in, a, blue, shirt, ...</td>\n    </tr>\n  </tbody>\n</table>\n<p>9824 rows × 22 columns</p>\n</div>"
     },
     "execution_count": 7,
     "metadata": {},
     "output_type": "execute_result"
    }
   ],
   "source": [
    "# Treating eSNLI: fusion all together\n",
    "def clean_padding_nli(row):\n",
    "    \"\"\"Clean padding tokens in attention map files\"\"\"\n",
    "    for side in ['premise', 'hypothesis']:\n",
    "        padding_mask = np.array(row['padding_mask.'+side])\n",
    "        a_true = np.array(row['a_true.'+side])\n",
    "        a_hat = np.array(row['a_hat.'+side])\n",
    "        row['a_true.'+side] = a_true[~padding_mask].tolist()\n",
    "        row['a_hat.'+side] = a_hat[~padding_mask].tolist()\n",
    "    return row\n",
    "\n",
    "if DATASET == 'esnli':\n",
    "    \n",
    "    # Clean padding mask in premise and hypothesis\n",
    "    if 'padding_mask.premise' in df_attention.columns:\n",
    "        log.debug(f'Cleaning padding tokens for eSNLI')\n",
    "        df_attention = df_attention.apply(clean_padding_nli, axis=1)\n",
    "        df_attention = df_attention.drop(columns=['padding_mask.premise', 'padding_mask.hypothesis'])\n",
    "        df_attention.to_json(MAPS[1]['fpath'])\n",
    "    \n",
    "    # Normalize weights if this is not done in attention map\n",
    "    max_vector = df_attention['a_hat.premise'].apply(lambda x: max(x))\n",
    "    if (max_vector < 1).any():\n",
    "        from modules.utils import rescale\n",
    "        log.debug(f'Normalize attention map for eSNLI')\n",
    "        df_attention['a_hat.premise'] = df_attention['a_hat.premise'].apply(lambda x: rescale(x).tolist())\n",
    "        df_attention['a_hat.hypothesis'] = df_attention['a_hat.hypothesis'].apply(lambda x: rescale(x).tolist())\n",
    "        df_attention.to_json(MAPS[1]['fpath'])\n",
    "        \n",
    "    # concatenate tokens\n",
    "    if 'tokens.form' not in df_attention.columns:  \n",
    "        log.debug(f'Concat tokens for eSNLI')\n",
    "        # TODO: change back to tokens.form once this is fixed\n",
    "        df_attention['tokens.form'] = df_attention.apply(lambda row: ['<b>Premise</b>:'] + row['tokens.norm.premise'] + ['<br/><b>Hypothesis</b>:'] + row['tokens.norm.hypothesis'], axis=1)\n",
    "        df_attention = df_attention.drop(columns=['tokens.norm.premise', 'tokens.norm.hypothesis'])\n",
    "        df_attention.to_json(MAPS[1]['fpath'])    \n",
    "    \n",
    "df_attention"
   ],
   "metadata": {
    "collapsed": false,
    "ExecuteTime": {
     "end_time": "2023-10-05T17:08:33.445840Z",
     "start_time": "2023-10-05T17:08:33.290159Z"
    }
   },
   "id": "36b2796ae1fe7f64"
  },
  {
   "cell_type": "code",
   "execution_count": 8,
   "outputs": [
    {
     "data": {
      "text/plain": "                                                           tokens.form  \\\nid                                                                       \n4563544127.jpg#1r1e  [<b>Premise</b>:, an, old, man, hold, a, sign,...   \n4755772625.jpg#4r1n  [<b>Premise</b>:, people, look, at, tall, orie...   \n4755772625.jpg#4r1e  [<b>Premise</b>:, people, look, at, tall, orie...   \n4755772625.jpg#4r1c  [<b>Premise</b>:, people, look, at, tall, orie...   \n3005123298.jpg#0r1c  [<b>Premise</b>:, an, obama, biden, supporter,...   \n...                                                                ...   \n6126962700.jpg#4r1n  [<b>Premise</b>:, a, rally, in, a, different, ...   \n6126962700.jpg#4r1e  [<b>Premise</b>:, a, rally, in, a, different, ...   \n3502897880.jpg#0r1n  [<b>Premise</b>:, a, man, in, a, blue, shirt, ...   \n3502897880.jpg#0r1e  [<b>Premise</b>:, a, man, in, a, blue, shirt, ...   \n3502897880.jpg#0r1c  [<b>Premise</b>:, a, man, in, a, blue, shirt, ...   \n\n                         label_hat     label_true          y_hat  \\\nid                                                                 \n4563544127.jpg#1r1e     entailment     entailment     entailment   \n4755772625.jpg#4r1n        neutral        neutral        neutral   \n4755772625.jpg#4r1e     entailment     entailment     entailment   \n4755772625.jpg#4r1c  contradiction  contradiction  contradiction   \n3005123298.jpg#0r1c  contradiction  contradiction  contradiction   \n...                            ...            ...            ...   \n6126962700.jpg#4r1n        neutral        neutral        neutral   \n6126962700.jpg#4r1e     entailment     entailment     entailment   \n3502897880.jpg#0r1n        neutral        neutral        neutral   \n3502897880.jpg#0r1e     entailment     entailment     entailment   \n3502897880.jpg#0r1c  contradiction  contradiction  contradiction   \n\n                            y_true  \\\nid                                   \n4563544127.jpg#1r1e     entailment   \n4755772625.jpg#4r1n        neutral   \n4755772625.jpg#4r1e     entailment   \n4755772625.jpg#4r1c  contradiction   \n3005123298.jpg#0r1c  contradiction   \n...                            ...   \n6126962700.jpg#4r1n        neutral   \n6126962700.jpg#4r1e     entailment   \n3502897880.jpg#0r1n        neutral   \n3502897880.jpg#0r1e     entailment   \n3502897880.jpg#0r1c  contradiction   \n\n                                                                a_true  \\\nid                                                                       \n4563544127.jpg#1r1e  [0, 0.0, 1.0, 1.0, 0.0, 0.0, 0.0, 0.0, 0.0, 0....   \n4755772625.jpg#4r1n  [0, 0.0, 0.0, 0.0, 0.0, 0.0, 0.0, 0.0, 0.0, 0,...   \n4755772625.jpg#4r1e  [0, 1.0, 1.0, 0.0, 1.0, 1.0, 1.0, 1.0, 0.0, 0,...   \n4755772625.jpg#4r1c  [0, 0.0, 1.0, 0.0, 0.0, 0.0, 0.0, 0.0, 0.0, 0,...   \n3005123298.jpg#0r1c  [0, 0.0, 0.0, 0.0, 0.0, 1.0, 0.0, 0.0, 0.0, 0....   \n...                                                                ...   \n6126962700.jpg#4r1n  [0, 0.0, 0.0, 0.0, 0.0, 0.0, 0.0, 0.0, 0, 0.0,...   \n6126962700.jpg#4r1e  [0, 0.0, 0.0, 0.0, 0.0, 1.0, 0.0, 0.0, 0, 0.0,...   \n3502897880.jpg#0r1n  [0, 0.0, 0.0, 0.0, 0.0, 0.0, 0.0, 0.0, 0.0, 0....   \n3502897880.jpg#0r1e  [0, 0.0, 1.0, 0.0, 0.0, 1.0, 1.0, 0.0, 0.0, 0....   \n3502897880.jpg#0r1c  [0, 0.0, 1.0, 1.0, 1.0, 0.0, 1.0, 1.0, 1.0, 0....   \n\n                                                                 a_hat  \\\nid                                                                       \n4563544127.jpg#1r1e  [0, 0.061332613200000004, 0.6565563679, 0.3939...   \n4755772625.jpg#4r1n  [0, 0.0472730212, 0.0794806406, 0.0, 0.5041347...   \n4755772625.jpg#4r1e  [0, 0.4208866358, 1.0, 0.0369730406, 0.1549697...   \n4755772625.jpg#4r1c  [0, 0.1599319279, 0.7968158722, 0.0015835182, ...   \n3005123298.jpg#0r1c  [0, 0.057741958600000004, 0.7411455512, 0.1925...   \n...                                                                ...   \n6126962700.jpg#4r1n  [0, 0.0681448057, 0.4375804961, 0.0, 0.0032877...   \n6126962700.jpg#4r1e  [0, 0.0928477421, 0.6092538834, 0.0267547872, ...   \n3502897880.jpg#0r1n  [0, 0.1597015411, 0.1067305058, 0.0543378256, ...   \n3502897880.jpg#0r1e  [0, 0.4249371886, 0.3039977551, 0.102009601900...   \n3502897880.jpg#0r1c  [0, 0.294446826, 0.1757603586, 0.0491338, 0.19...   \n\n                                                                a_lime  \\\nid                                                                       \n4563544127.jpg#1r1e  [0, 0.25276488065719604, 1.0, 0.0, 0.133986830...   \n4755772625.jpg#4r1n                                                NaN   \n4755772625.jpg#4r1e  [0, 0.0, 0.0, 0.0, 1.0, 0.0, 0.0, 0.7777280807...   \n4755772625.jpg#4r1c  [0, 0.5615438222885132, 1.0, 0.0, 0.0, 0.33970...   \n3005123298.jpg#0r1c  [0, 0.5260864496231079, 1.0, 0.210010454058647...   \n...                                                                ...   \n6126962700.jpg#4r1n                                                NaN   \n6126962700.jpg#4r1e  [0, 0.0, 0.0, 0.0, 1.0, 0.0, 0.0, 0.0, 0, 0.0,...   \n3502897880.jpg#0r1n                                                NaN   \n3502897880.jpg#0r1e  [0, 0.0, 1.0, 0.0, 0.9952212572097778, 0.0, 0....   \n3502897880.jpg#0r1c  [0, 0.00793272815644741, 0.0, 0.0, 0.0, 0.0142...   \n\n                                                                a_grad  \\\nid                                                                       \n4563544127.jpg#1r1e                                                NaN   \n4755772625.jpg#4r1n                                                NaN   \n4755772625.jpg#4r1e  [0, 0.4363981783, 1.0, 0.1477371007, 0.7395327...   \n4755772625.jpg#4r1c  [0, 0.2257496864, 1.0, 0.035255041, 0.09796419...   \n3005123298.jpg#0r1c  [0, 0.0874609947, 1.0, 0.31299108270000003, 0....   \n...                                                                ...   \n6126962700.jpg#4r1n                                                NaN   \n6126962700.jpg#4r1e                                                NaN   \n3502897880.jpg#0r1n                                                NaN   \n3502897880.jpg#0r1e  [0, 0.1239211038, 0.24865697320000002, 0.13355...   \n3502897880.jpg#0r1c  [0, 0.0975604504, 0.2132060975, 0.080066435, 0...   \n\n                                                                a_shap  \nid                                                                      \n4563544127.jpg#1r1e  [0, 0.5209540724754333, 0.7705860137939453, 0....  \n4755772625.jpg#4r1n  [0, 0.21172809600830078, 0.582747220993042, 0....  \n4755772625.jpg#4r1e  [0, 0.2937150001525879, 0.2991650104522705, 0....  \n4755772625.jpg#4r1c  [0, 0.6391984820365906, 1.0, 0.684261739253997...  \n3005123298.jpg#0r1c  [0, 0.4279344379901886, 0.0, 0.433184742927551...  \n...                                                                ...  \n6126962700.jpg#4r1n  [0, 0.3147812485694885, 0.6295944452285767, 0....  \n6126962700.jpg#4r1e  [0, 0.0, 0.5554646849632263, 0.495340675115585...  \n3502897880.jpg#0r1n  [0, 0.5308428406715393, 1.0, 0.071584269404411...  \n3502897880.jpg#0r1e  [0, 0.18451674282550812, 0.8170640468597412, 0...  \n3502897880.jpg#0r1c  [0, 0.39983683824539185, 0.29935628175735474, ...  \n\n[7970 rows x 10 columns]",
      "text/html": "<div>\n<style scoped>\n    .dataframe tbody tr th:only-of-type {\n        vertical-align: middle;\n    }\n\n    .dataframe tbody tr th {\n        vertical-align: top;\n    }\n\n    .dataframe thead th {\n        text-align: right;\n    }\n</style>\n<table border=\"1\" class=\"dataframe\">\n  <thead>\n    <tr style=\"text-align: right;\">\n      <th></th>\n      <th>tokens.form</th>\n      <th>label_hat</th>\n      <th>label_true</th>\n      <th>y_hat</th>\n      <th>y_true</th>\n      <th>a_true</th>\n      <th>a_hat</th>\n      <th>a_lime</th>\n      <th>a_grad</th>\n      <th>a_shap</th>\n    </tr>\n    <tr>\n      <th>id</th>\n      <th></th>\n      <th></th>\n      <th></th>\n      <th></th>\n      <th></th>\n      <th></th>\n      <th></th>\n      <th></th>\n      <th></th>\n      <th></th>\n    </tr>\n  </thead>\n  <tbody>\n    <tr>\n      <th>4563544127.jpg#1r1e</th>\n      <td>[&lt;b&gt;Premise&lt;/b&gt;:, an, old, man, hold, a, sign,...</td>\n      <td>entailment</td>\n      <td>entailment</td>\n      <td>entailment</td>\n      <td>entailment</td>\n      <td>[0, 0.0, 1.0, 1.0, 0.0, 0.0, 0.0, 0.0, 0.0, 0....</td>\n      <td>[0, 0.061332613200000004, 0.6565563679, 0.3939...</td>\n      <td>[0, 0.25276488065719604, 1.0, 0.0, 0.133986830...</td>\n      <td>NaN</td>\n      <td>[0, 0.5209540724754333, 0.7705860137939453, 0....</td>\n    </tr>\n    <tr>\n      <th>4755772625.jpg#4r1n</th>\n      <td>[&lt;b&gt;Premise&lt;/b&gt;:, people, look, at, tall, orie...</td>\n      <td>neutral</td>\n      <td>neutral</td>\n      <td>neutral</td>\n      <td>neutral</td>\n      <td>[0, 0.0, 0.0, 0.0, 0.0, 0.0, 0.0, 0.0, 0.0, 0,...</td>\n      <td>[0, 0.0472730212, 0.0794806406, 0.0, 0.5041347...</td>\n      <td>NaN</td>\n      <td>NaN</td>\n      <td>[0, 0.21172809600830078, 0.582747220993042, 0....</td>\n    </tr>\n    <tr>\n      <th>4755772625.jpg#4r1e</th>\n      <td>[&lt;b&gt;Premise&lt;/b&gt;:, people, look, at, tall, orie...</td>\n      <td>entailment</td>\n      <td>entailment</td>\n      <td>entailment</td>\n      <td>entailment</td>\n      <td>[0, 1.0, 1.0, 0.0, 1.0, 1.0, 1.0, 1.0, 0.0, 0,...</td>\n      <td>[0, 0.4208866358, 1.0, 0.0369730406, 0.1549697...</td>\n      <td>[0, 0.0, 0.0, 0.0, 1.0, 0.0, 0.0, 0.7777280807...</td>\n      <td>[0, 0.4363981783, 1.0, 0.1477371007, 0.7395327...</td>\n      <td>[0, 0.2937150001525879, 0.2991650104522705, 0....</td>\n    </tr>\n    <tr>\n      <th>4755772625.jpg#4r1c</th>\n      <td>[&lt;b&gt;Premise&lt;/b&gt;:, people, look, at, tall, orie...</td>\n      <td>contradiction</td>\n      <td>contradiction</td>\n      <td>contradiction</td>\n      <td>contradiction</td>\n      <td>[0, 0.0, 1.0, 0.0, 0.0, 0.0, 0.0, 0.0, 0.0, 0,...</td>\n      <td>[0, 0.1599319279, 0.7968158722, 0.0015835182, ...</td>\n      <td>[0, 0.5615438222885132, 1.0, 0.0, 0.0, 0.33970...</td>\n      <td>[0, 0.2257496864, 1.0, 0.035255041, 0.09796419...</td>\n      <td>[0, 0.6391984820365906, 1.0, 0.684261739253997...</td>\n    </tr>\n    <tr>\n      <th>3005123298.jpg#0r1c</th>\n      <td>[&lt;b&gt;Premise&lt;/b&gt;:, an, obama, biden, supporter,...</td>\n      <td>contradiction</td>\n      <td>contradiction</td>\n      <td>contradiction</td>\n      <td>contradiction</td>\n      <td>[0, 0.0, 0.0, 0.0, 0.0, 1.0, 0.0, 0.0, 0.0, 0....</td>\n      <td>[0, 0.057741958600000004, 0.7411455512, 0.1925...</td>\n      <td>[0, 0.5260864496231079, 1.0, 0.210010454058647...</td>\n      <td>[0, 0.0874609947, 1.0, 0.31299108270000003, 0....</td>\n      <td>[0, 0.4279344379901886, 0.0, 0.433184742927551...</td>\n    </tr>\n    <tr>\n      <th>...</th>\n      <td>...</td>\n      <td>...</td>\n      <td>...</td>\n      <td>...</td>\n      <td>...</td>\n      <td>...</td>\n      <td>...</td>\n      <td>...</td>\n      <td>...</td>\n      <td>...</td>\n    </tr>\n    <tr>\n      <th>6126962700.jpg#4r1n</th>\n      <td>[&lt;b&gt;Premise&lt;/b&gt;:, a, rally, in, a, different, ...</td>\n      <td>neutral</td>\n      <td>neutral</td>\n      <td>neutral</td>\n      <td>neutral</td>\n      <td>[0, 0.0, 0.0, 0.0, 0.0, 0.0, 0.0, 0.0, 0, 0.0,...</td>\n      <td>[0, 0.0681448057, 0.4375804961, 0.0, 0.0032877...</td>\n      <td>NaN</td>\n      <td>NaN</td>\n      <td>[0, 0.3147812485694885, 0.6295944452285767, 0....</td>\n    </tr>\n    <tr>\n      <th>6126962700.jpg#4r1e</th>\n      <td>[&lt;b&gt;Premise&lt;/b&gt;:, a, rally, in, a, different, ...</td>\n      <td>entailment</td>\n      <td>entailment</td>\n      <td>entailment</td>\n      <td>entailment</td>\n      <td>[0, 0.0, 0.0, 0.0, 0.0, 1.0, 0.0, 0.0, 0, 0.0,...</td>\n      <td>[0, 0.0928477421, 0.6092538834, 0.0267547872, ...</td>\n      <td>[0, 0.0, 0.0, 0.0, 1.0, 0.0, 0.0, 0.0, 0, 0.0,...</td>\n      <td>NaN</td>\n      <td>[0, 0.0, 0.5554646849632263, 0.495340675115585...</td>\n    </tr>\n    <tr>\n      <th>3502897880.jpg#0r1n</th>\n      <td>[&lt;b&gt;Premise&lt;/b&gt;:, a, man, in, a, blue, shirt, ...</td>\n      <td>neutral</td>\n      <td>neutral</td>\n      <td>neutral</td>\n      <td>neutral</td>\n      <td>[0, 0.0, 0.0, 0.0, 0.0, 0.0, 0.0, 0.0, 0.0, 0....</td>\n      <td>[0, 0.1597015411, 0.1067305058, 0.0543378256, ...</td>\n      <td>NaN</td>\n      <td>NaN</td>\n      <td>[0, 0.5308428406715393, 1.0, 0.071584269404411...</td>\n    </tr>\n    <tr>\n      <th>3502897880.jpg#0r1e</th>\n      <td>[&lt;b&gt;Premise&lt;/b&gt;:, a, man, in, a, blue, shirt, ...</td>\n      <td>entailment</td>\n      <td>entailment</td>\n      <td>entailment</td>\n      <td>entailment</td>\n      <td>[0, 0.0, 1.0, 0.0, 0.0, 1.0, 1.0, 0.0, 0.0, 0....</td>\n      <td>[0, 0.4249371886, 0.3039977551, 0.102009601900...</td>\n      <td>[0, 0.0, 1.0, 0.0, 0.9952212572097778, 0.0, 0....</td>\n      <td>[0, 0.1239211038, 0.24865697320000002, 0.13355...</td>\n      <td>[0, 0.18451674282550812, 0.8170640468597412, 0...</td>\n    </tr>\n    <tr>\n      <th>3502897880.jpg#0r1c</th>\n      <td>[&lt;b&gt;Premise&lt;/b&gt;:, a, man, in, a, blue, shirt, ...</td>\n      <td>contradiction</td>\n      <td>contradiction</td>\n      <td>contradiction</td>\n      <td>contradiction</td>\n      <td>[0, 0.0, 1.0, 1.0, 1.0, 0.0, 1.0, 1.0, 1.0, 0....</td>\n      <td>[0, 0.294446826, 0.1757603586, 0.0491338, 0.19...</td>\n      <td>[0, 0.00793272815644741, 0.0, 0.0, 0.0, 0.0142...</td>\n      <td>[0, 0.0975604504, 0.2132060975, 0.080066435, 0...</td>\n      <td>[0, 0.39983683824539185, 0.29935628175735474, ...</td>\n    </tr>\n  </tbody>\n</table>\n<p>7970 rows × 10 columns</p>\n</div>"
     },
     "execution_count": 8,
     "metadata": {},
     "output_type": "execute_result"
    }
   ],
   "source": [
    "# import and fusion into a single dataframe\n",
    "map_data = None\n",
    "for m in MAPS:\n",
    "    # load data from json file\n",
    "    df = pd.read_json(m['fpath'])\n",
    "    df.set_index('id', inplace=True)\n",
    "    \n",
    "    column = m['column']\n",
    "    \n",
    "    # concat if this is esnli\n",
    "    if DATASET == 'esnli':\n",
    "        from modules.utils import rescale\n",
    "        if (column != 'a_true') and (df[column+'.premise'].apply(lambda x: max(x)) != 1).any():\n",
    "            df[column+'.premise'] = df[column+'.premise'].apply(lambda x: rescale(x).tolist())\n",
    "            df[column+'.hypothesis'] = df[column+'.hypothesis'].apply(lambda x: rescale(x).tolist())\n",
    "        df[column] = df.apply(lambda row: [0] + row[column +'.premise'] + [0] + row[column+'.hypothesis'], axis=1)\n",
    "        df.drop(columns=[column +'.premise', column+'.hypothesis'], inplace=True)\n",
    "\n",
    "    # the first dataframe will query the id and the tokens\n",
    "    if map_data is None:\n",
    "        map_data = df[['tokens.form', 'label_hat', 'label_true', 'y_hat', 'y_true']].copy()\n",
    "\n",
    "    map_data = map_data.join(df[column])\n",
    "\n",
    "map_data = map_data[(map_data['y_hat'] == map_data['y_true']) & (map_data['y_hat'] != 0)]\n",
    "map_data"
   ],
   "metadata": {
    "collapsed": false,
    "ExecuteTime": {
     "end_time": "2023-10-05T17:09:05.276222Z",
     "start_time": "2023-10-05T17:08:59.123223Z"
    }
   },
   "id": "dd1b125b20f59dae"
  },
  {
   "cell_type": "code",
   "execution_count": 15,
   "outputs": [],
   "source": [
    "def steep_sigmoid(x, s=10, p=2):\n",
    "    x = np.array(x)\n",
    "    x_normalized = 1 / (1 + np.exp(-s * (x - 0.5)))**p\n",
    "    return x_normalized.tolist()"
   ],
   "metadata": {
    "collapsed": false,
    "ExecuteTime": {
     "end_time": "2023-10-05T16:49:35.064492Z",
     "start_time": "2023-10-05T16:49:35.037457Z"
    }
   },
   "id": "bc202aacf9da1f4f"
  },
  {
   "cell_type": "code",
   "execution_count": 9,
   "outputs": [
    {
     "name": "stdout",
     "output_type": "stream",
     "text": [
      "05-10-2023 19:09:17 | \u001B[34m    INFO\u001B[0m \u001B[1m \u001B[4m 3277692043.py:<cell line: 7>:8 \u001B[0m \u001B[34mRemoving existing folder /home/dunguyen/RUNS/qualitative_result/benchmark_explainers_esnli/.html\u001B[0m\n"
     ]
    },
    {
     "data": {
      "text/plain": "  0%|          | 0/7970 [00:00<?, ?it/s]",
      "application/vnd.jupyter.widget-view+json": {
       "version_major": 2,
       "version_minor": 0,
       "model_id": "0da09b064998449ca52c796be4026762"
      }
     },
     "metadata": {},
     "output_type": "display_data"
    }
   ],
   "source": [
    "from tqdm.notebook import tqdm\n",
    "from modules.utils import highlight\n",
    "import shutil\n",
    "\n",
    "# Remove the previous existing folder\n",
    "html_dir = path.join(ROOT, PROJECT, '.html')\n",
    "if os.path.exists(html_dir) and os.path.isdir(html_dir):\n",
    "    log.info(f'Removing existing folder {html_dir}')\n",
    "    shutil.rmtree(html_dir)\n",
    "\n",
    "# Generate each comparison into a file:\n",
    "for idx, row in tqdm(map_data.iterrows(), total=len(map_data)):\n",
    "    \n",
    "    # ignore if label is 0\n",
    "    if row['y_true'] == 0: continue\n",
    "    \n",
    "    # ignore if row contains any NaN\n",
    "    if row.isnull().sum() > 0: continue\n",
    "    \n",
    "    html = \"\"\"\n",
    "    <html>\n",
    "    <head><style>\n",
    "    table, th, td {\n",
    "      border:solid black;\n",
    "      border-collapse: collapse;\n",
    "      padding: 0px 5px 0px 5px;\n",
    "    }</style></head>\n",
    "    <body>\n",
    "    \"\"\"\n",
    "    html += '<table style=\"font-size:120%;\" cellspacing=0>'\n",
    "    html += f'<caption>Dataset: {DATASET} - Instance ID: {idx}</caption>'\n",
    "    html += '<tr><th style=\"100px;\">Explainer</th> <th style=\"500px;\">Explanation</th> <th style=\"100px;\">Predicted Label</th> <th style=\"100px;\">True Label</th></tr>'\n",
    "    \n",
    "    # Display a row for each map\n",
    "    for m in MAPS:\n",
    "        html += '<tr>'\n",
    "        \n",
    "        # Display the explainer and its explanation\n",
    "        c = m['column']\n",
    "        map_name = m['display']\n",
    "        # TODO check what if we change the value in gradient map:\n",
    "        #if c == 'a_grad':\n",
    "        #    row[c] = steep_sigmoid(row[c], s=5, p=2)\n",
    "        map_viz = highlight(row['tokens.form'], row[c], normalize_weight=False)\n",
    "        html+= f'<td style=\"text-align:right;\"> {map_name} </td><td> {map_viz} </td>'\n",
    "        \n",
    "        # For the first row, display the spanning the label\n",
    "        if c == 'a_true':\n",
    "            row_span = len(MAPS)\n",
    "            html +=f'<td rowspan=\"{row_span}\" style=\"text-align:center\"> {row[\"label_hat\"]} </td>'\n",
    "            html +=f'<td rowspan=\"{row_span}\" style=\"text-align:center\"> {row[\"label_true\"]} </td>'\n",
    "            \n",
    "        html += '</tr>\\n'\n",
    "        \n",
    "    html += '</table>'\n",
    "    html += '</body></html>'\n",
    "\n",
    "    fpath_html = path.join(html_dir, f'{idx}.html')\n",
    "    os.makedirs(html_dir, exist_ok=True)\n",
    "    with open(fpath_html, 'w') as f:\n",
    "        f.write(html)"
   ],
   "metadata": {
    "collapsed": false,
    "ExecuteTime": {
     "end_time": "2023-10-05T17:09:27.452078Z",
     "start_time": "2023-10-05T17:09:17.726521Z"
    }
   },
   "id": "c7cfd6cf85424f96"
  },
  {
   "cell_type": "code",
   "execution_count": null,
   "outputs": [],
   "source": [],
   "metadata": {
    "collapsed": false
   },
   "id": "363a2b82f3f66c59"
  },
  {
   "cell_type": "markdown",
   "source": [
    "# Modify dataset columns"
   ],
   "metadata": {
    "collapsed": false
   },
   "id": "44de778dfcb7f658"
  },
  {
   "cell_type": "code",
   "execution_count": 7,
   "outputs": [
    {
     "data": {
      "text/plain": "                    id                                            premise  \\\n0  2677109430.jpg#1r1n  This church choir sings to the masses as they ...   \n1  2677109430.jpg#1r1e  This church choir sings to the masses as they ...   \n2  2677109430.jpg#1r1c  This church choir sings to the masses as they ...   \n3  6160193920.jpg#4r1n  A woman with a green headscarf, blue shirt and...   \n4  6160193920.jpg#4r1e  A woman with a green headscarf, blue shirt and...   \n5  6160193920.jpg#4r1c  A woman with a green headscarf, blue shirt and...   \n6  4791890474.jpg#3r1e  An old man with a package poses in front of an...   \n7  4791890474.jpg#3r1n  An old man with a package poses in front of an...   \n8  4791890474.jpg#3r1c  An old man with a package poses in front of an...   \n9  6526219567.jpg#4r1n  A statue at a museum that no seems to be looki...   \n\n                                          hypothesis          label  \\\n0              The church has cracks in the ceiling.        neutral   \n1                    The church is filled with song.     entailment   \n2                A choir singing at a baseball game.  contradiction   \n3                                The woman is young.        neutral   \n4                           The woman is very happy.     entailment   \n5                           The woman has been shot.  contradiction   \n6                     A man poses in front of an ad.     entailment   \n7            A man poses in front of an ad for beer.        neutral   \n8                              A man walks by an ad.  contradiction   \n9  The statue is offensive and people are mad tha...        neutral   \n\n                                         explanation  \\\n0        Not all churches have cracks in the ceiling   \n1  \"Filled with song\" is a rephrasing of the \"cho...   \n2  A choir sing some other songs other than book ...   \n3      the woman could've been old rather than young   \n4                          a grin suggests hapiness.   \n5  There can be either a woman with a very big gr...   \n6  The word \" ad \" is short for the word \" advert...   \n7            Not all advertisements are ad for beer.   \n8  The man poses in front of the advertisement th...   \n9  Not all statues are ignored because they are o...   \n\n                                   highlight_premise  \\\n0  This church choir sings to the masses as they ...   \n1  This church *choir* *sings* *to* *the* *masses...   \n2  This church choir sings to the *masses* as the...   \n3  A woman with a green headscarf, blue shirt and...   \n4  A woman with a green headscarf, blue shirt and...   \n5  A woman with a *green* headscarf, blue shirt a...   \n6  An old man with a package poses in front of an...   \n7  An old man with a package poses in front of an...   \n8  An old *man* with a package *poses* *in* *fron...   \n9  A statue at a museum that no seems to be looki...   \n\n                                highlight_hypothesis  \\\n0      The church has *cracks* *in* *the* *ceiling.*   \n1              The church is *filled* *with* *song.*   \n2          A choir *singing* at a *baseball* *game.*   \n3                              The woman is *young.*   \n4                         The woman is very *happy.*   \n5                         The woman has been *shot.*   \n6                   A man poses in front of an *ad.*   \n7          A man poses in front of an ad for *beer.*   \n8                        A man *walks* *by* an *ad.*   \n9  The statue is *offensive* and people are mad t...   \n\n                                 tokens.norm.premise  \\\n0  [this, church, choir, sing, to, the, masse, as...   \n1  [this, church, choir, sing, to, the, masse, as...   \n2  [this, church, choir, sing, to, the, masse, as...   \n3  [a, woman, with, a, green, headscarf, ,, blue,...   \n4  [a, woman, with, a, green, headscarf, ,, blue,...   \n5  [a, woman, with, a, green, headscarf, ,, blue,...   \n6  [an, old, man, with, a, package, pose, in, fro...   \n7  [an, old, man, with, a, package, pose, in, fro...   \n8  [an, old, man, with, a, package, pose, in, fro...   \n9  [a, statue, at, a, museum, that, no, seem, to,...   \n\n                              tokens.norm.hypothesis  \\\n0    [the, church, have, crack, in, the, ceiling, .]   \n1             [the, church, be, fill, with, song, .]   \n2      [a, choir, singing, at, a, baseball, game, .]   \n3                         [the, woman, be, young, .]   \n4                   [the, woman, be, very, happy, .]   \n5                   [the, woman, have, be, shoot, .]   \n6           [a, man, pose, in, front, of, an, ad, .]   \n7  [a, man, pose, in, front, of, an, ad, for, bee...   \n8                      [a, man, walk, by, an, ad, .]   \n9  [the, statue, be, offensive, and, people, be, ...   \n\n                                   rationale.premise  \\\n0  [False, False, False, False, False, False, Fal...   \n1  [False, False, True, True, True, True, True, F...   \n2  [False, False, False, False, False, False, Tru...   \n3  [False, False, False, False, False, False, Fal...   \n4  [False, False, False, False, False, False, Fal...   \n5  [False, False, False, False, True, False, Fals...   \n6  [False, False, False, False, False, False, Fal...   \n7  [False, False, False, False, False, False, Fal...   \n8  [False, False, True, False, False, False, True...   \n9  [False, False, False, False, False, False, Fal...   \n\n                                rationale.hypothesis  \\\n0  [False, False, False, True, True, True, True, ...   \n1     [False, False, False, True, True, True, False]   \n2  [False, False, True, False, False, True, True,...   \n3                 [False, False, False, True, False]   \n4          [False, False, False, False, True, False]   \n5          [False, False, False, False, True, False]   \n6  [False, False, False, False, False, False, Fal...   \n7  [False, False, False, False, False, False, Fal...   \n8     [False, False, True, True, False, True, False]   \n9  [False, False, False, True, False, False, Fals...   \n\n                                   heuristic.premise  \\\n0  [-1.0000000150474662e+30, 3.064525842666626, 1...   \n1  [-1.0000000150474662e+30, 2.79181170463562, 2....   \n2  [-1.0000000150474662e+30, 2.5598974227905273, ...   \n3  [-1.0000000150474662e+30, 2.597653388977051, -...   \n4  [-1.0000000150474662e+30, 2.784580707550049, -...   \n5  [-1.0000000150474662e+30, 2.6564526557922363, ...   \n6  [-1.0000000150474662e+30, 2.9205048084259033, ...   \n7  [-1.0000000150474662e+30, 3.5127861499786377, ...   \n8  [-1.0000000150474662e+30, 2.2357261180877686, ...   \n9  [-1.0000000150474662e+30, 3.6017332077026367, ...   \n\n                                heuristic.hypothesis  \n0  [-1.0000000150474662e+30, 7.628961086273193, -...  \n1  [-1.0000000150474662e+30, 7.628961086273193, -...  \n2  [-1.0000000150474662e+30, 6.388305187225342, 6...  \n3  [-1.0000000150474662e+30, 5.648240089416504, -...  \n4  [-1.0000000150474662e+30, 5.648240089416504, -...  \n5  [-1.0000000150474662e+30, 5.648240089416504, -...  \n6  [-1.0000000150474662e+30, 5.1345367431640625, ...  \n7  [-1.0000000150474662e+30, 5.1345367431640625, ...  \n8  [-1.0000000150474662e+30, 5.1345367431640625, ...  \n9  [-1.0000000150474662e+30, 3.75215744972229, -1...  ",
      "text/html": "<div>\n<style scoped>\n    .dataframe tbody tr th:only-of-type {\n        vertical-align: middle;\n    }\n\n    .dataframe tbody tr th {\n        vertical-align: top;\n    }\n\n    .dataframe thead th {\n        text-align: right;\n    }\n</style>\n<table border=\"1\" class=\"dataframe\">\n  <thead>\n    <tr style=\"text-align: right;\">\n      <th></th>\n      <th>id</th>\n      <th>premise</th>\n      <th>hypothesis</th>\n      <th>label</th>\n      <th>explanation</th>\n      <th>highlight_premise</th>\n      <th>highlight_hypothesis</th>\n      <th>tokens.norm.premise</th>\n      <th>tokens.norm.hypothesis</th>\n      <th>rationale.premise</th>\n      <th>rationale.hypothesis</th>\n      <th>heuristic.premise</th>\n      <th>heuristic.hypothesis</th>\n    </tr>\n  </thead>\n  <tbody>\n    <tr>\n      <th>0</th>\n      <td>2677109430.jpg#1r1n</td>\n      <td>This church choir sings to the masses as they ...</td>\n      <td>The church has cracks in the ceiling.</td>\n      <td>neutral</td>\n      <td>Not all churches have cracks in the ceiling</td>\n      <td>This church choir sings to the masses as they ...</td>\n      <td>The church has *cracks* *in* *the* *ceiling.*</td>\n      <td>[this, church, choir, sing, to, the, masse, as...</td>\n      <td>[the, church, have, crack, in, the, ceiling, .]</td>\n      <td>[False, False, False, False, False, False, Fal...</td>\n      <td>[False, False, False, True, True, True, True, ...</td>\n      <td>[-1.0000000150474662e+30, 3.064525842666626, 1...</td>\n      <td>[-1.0000000150474662e+30, 7.628961086273193, -...</td>\n    </tr>\n    <tr>\n      <th>1</th>\n      <td>2677109430.jpg#1r1e</td>\n      <td>This church choir sings to the masses as they ...</td>\n      <td>The church is filled with song.</td>\n      <td>entailment</td>\n      <td>\"Filled with song\" is a rephrasing of the \"cho...</td>\n      <td>This church *choir* *sings* *to* *the* *masses...</td>\n      <td>The church is *filled* *with* *song.*</td>\n      <td>[this, church, choir, sing, to, the, masse, as...</td>\n      <td>[the, church, be, fill, with, song, .]</td>\n      <td>[False, False, True, True, True, True, True, F...</td>\n      <td>[False, False, False, True, True, True, False]</td>\n      <td>[-1.0000000150474662e+30, 2.79181170463562, 2....</td>\n      <td>[-1.0000000150474662e+30, 7.628961086273193, -...</td>\n    </tr>\n    <tr>\n      <th>2</th>\n      <td>2677109430.jpg#1r1c</td>\n      <td>This church choir sings to the masses as they ...</td>\n      <td>A choir singing at a baseball game.</td>\n      <td>contradiction</td>\n      <td>A choir sing some other songs other than book ...</td>\n      <td>This church choir sings to the *masses* as the...</td>\n      <td>A choir *singing* at a *baseball* *game.*</td>\n      <td>[this, church, choir, sing, to, the, masse, as...</td>\n      <td>[a, choir, singing, at, a, baseball, game, .]</td>\n      <td>[False, False, False, False, False, False, Tru...</td>\n      <td>[False, False, True, False, False, True, True,...</td>\n      <td>[-1.0000000150474662e+30, 2.5598974227905273, ...</td>\n      <td>[-1.0000000150474662e+30, 6.388305187225342, 6...</td>\n    </tr>\n    <tr>\n      <th>3</th>\n      <td>6160193920.jpg#4r1n</td>\n      <td>A woman with a green headscarf, blue shirt and...</td>\n      <td>The woman is young.</td>\n      <td>neutral</td>\n      <td>the woman could've been old rather than young</td>\n      <td>A woman with a green headscarf, blue shirt and...</td>\n      <td>The woman is *young.*</td>\n      <td>[a, woman, with, a, green, headscarf, ,, blue,...</td>\n      <td>[the, woman, be, young, .]</td>\n      <td>[False, False, False, False, False, False, Fal...</td>\n      <td>[False, False, False, True, False]</td>\n      <td>[-1.0000000150474662e+30, 2.597653388977051, -...</td>\n      <td>[-1.0000000150474662e+30, 5.648240089416504, -...</td>\n    </tr>\n    <tr>\n      <th>4</th>\n      <td>6160193920.jpg#4r1e</td>\n      <td>A woman with a green headscarf, blue shirt and...</td>\n      <td>The woman is very happy.</td>\n      <td>entailment</td>\n      <td>a grin suggests hapiness.</td>\n      <td>A woman with a green headscarf, blue shirt and...</td>\n      <td>The woman is very *happy.*</td>\n      <td>[a, woman, with, a, green, headscarf, ,, blue,...</td>\n      <td>[the, woman, be, very, happy, .]</td>\n      <td>[False, False, False, False, False, False, Fal...</td>\n      <td>[False, False, False, False, True, False]</td>\n      <td>[-1.0000000150474662e+30, 2.784580707550049, -...</td>\n      <td>[-1.0000000150474662e+30, 5.648240089416504, -...</td>\n    </tr>\n    <tr>\n      <th>5</th>\n      <td>6160193920.jpg#4r1c</td>\n      <td>A woman with a green headscarf, blue shirt and...</td>\n      <td>The woman has been shot.</td>\n      <td>contradiction</td>\n      <td>There can be either a woman with a very big gr...</td>\n      <td>A woman with a *green* headscarf, blue shirt a...</td>\n      <td>The woman has been *shot.*</td>\n      <td>[a, woman, with, a, green, headscarf, ,, blue,...</td>\n      <td>[the, woman, have, be, shoot, .]</td>\n      <td>[False, False, False, False, True, False, Fals...</td>\n      <td>[False, False, False, False, True, False]</td>\n      <td>[-1.0000000150474662e+30, 2.6564526557922363, ...</td>\n      <td>[-1.0000000150474662e+30, 5.648240089416504, -...</td>\n    </tr>\n    <tr>\n      <th>6</th>\n      <td>4791890474.jpg#3r1e</td>\n      <td>An old man with a package poses in front of an...</td>\n      <td>A man poses in front of an ad.</td>\n      <td>entailment</td>\n      <td>The word \" ad \" is short for the word \" advert...</td>\n      <td>An old man with a package poses in front of an...</td>\n      <td>A man poses in front of an *ad.*</td>\n      <td>[an, old, man, with, a, package, pose, in, fro...</td>\n      <td>[a, man, pose, in, front, of, an, ad, .]</td>\n      <td>[False, False, False, False, False, False, Fal...</td>\n      <td>[False, False, False, False, False, False, Fal...</td>\n      <td>[-1.0000000150474662e+30, 2.9205048084259033, ...</td>\n      <td>[-1.0000000150474662e+30, 5.1345367431640625, ...</td>\n    </tr>\n    <tr>\n      <th>7</th>\n      <td>4791890474.jpg#3r1n</td>\n      <td>An old man with a package poses in front of an...</td>\n      <td>A man poses in front of an ad for beer.</td>\n      <td>neutral</td>\n      <td>Not all advertisements are ad for beer.</td>\n      <td>An old man with a package poses in front of an...</td>\n      <td>A man poses in front of an ad for *beer.*</td>\n      <td>[an, old, man, with, a, package, pose, in, fro...</td>\n      <td>[a, man, pose, in, front, of, an, ad, for, bee...</td>\n      <td>[False, False, False, False, False, False, Fal...</td>\n      <td>[False, False, False, False, False, False, Fal...</td>\n      <td>[-1.0000000150474662e+30, 3.5127861499786377, ...</td>\n      <td>[-1.0000000150474662e+30, 5.1345367431640625, ...</td>\n    </tr>\n    <tr>\n      <th>8</th>\n      <td>4791890474.jpg#3r1c</td>\n      <td>An old man with a package poses in front of an...</td>\n      <td>A man walks by an ad.</td>\n      <td>contradiction</td>\n      <td>The man poses in front of the advertisement th...</td>\n      <td>An old *man* with a package *poses* *in* *fron...</td>\n      <td>A man *walks* *by* an *ad.*</td>\n      <td>[an, old, man, with, a, package, pose, in, fro...</td>\n      <td>[a, man, walk, by, an, ad, .]</td>\n      <td>[False, False, True, False, False, False, True...</td>\n      <td>[False, False, True, True, False, True, False]</td>\n      <td>[-1.0000000150474662e+30, 2.2357261180877686, ...</td>\n      <td>[-1.0000000150474662e+30, 5.1345367431640625, ...</td>\n    </tr>\n    <tr>\n      <th>9</th>\n      <td>6526219567.jpg#4r1n</td>\n      <td>A statue at a museum that no seems to be looki...</td>\n      <td>The statue is offensive and people are mad tha...</td>\n      <td>neutral</td>\n      <td>Not all statues are ignored because they are o...</td>\n      <td>A statue at a museum that no seems to be looki...</td>\n      <td>The statue is *offensive* and people are mad t...</td>\n      <td>[a, statue, at, a, museum, that, no, seem, to,...</td>\n      <td>[the, statue, be, offensive, and, people, be, ...</td>\n      <td>[False, False, False, False, False, False, Fal...</td>\n      <td>[False, False, False, True, False, False, Fals...</td>\n      <td>[-1.0000000150474662e+30, 3.6017332077026367, ...</td>\n      <td>[-1.0000000150474662e+30, 3.75215744972229, -1...</td>\n    </tr>\n  </tbody>\n</table>\n</div>"
     },
     "execution_count": 7,
     "metadata": {},
     "output_type": "execute_result"
    }
   ],
   "source": [
    "import pandas as pd\n",
    "\n",
    "# fname = './../.cache/dataset/esnli/test.pretransformed.parquet'\n",
    "\n",
    "fname = './../../RUNS/dataset/esnli/test.pretransformed.parquet'\n",
    "df = pd.read_parquet(fname)\n",
    "df.head(10)"
   ],
   "metadata": {
    "collapsed": false,
    "ExecuteTime": {
     "end_time": "2023-10-04T21:23:55.090917Z",
     "start_time": "2023-10-04T21:23:54.859605Z"
    }
   },
   "id": "c48a1aa4befb13fb"
  },
  {
   "cell_type": "code",
   "execution_count": 8,
   "outputs": [
    {
     "data": {
      "text/plain": "Index(['id', 'premise', 'hypothesis', 'label', 'explanation',\n       'highlight_premise', 'highlight_hypothesis', 'tokens.norm.premise',\n       'tokens.norm.hypothesis', 'rationale.premise', 'rationale.hypothesis',\n       'heuristic.premise', 'heuristic.hypothesis'],\n      dtype='object')"
     },
     "execution_count": 8,
     "metadata": {},
     "output_type": "execute_result"
    }
   ],
   "source": [
    "df.columns"
   ],
   "metadata": {
    "collapsed": false,
    "ExecuteTime": {
     "end_time": "2023-10-04T21:23:55.918869Z",
     "start_time": "2023-10-04T21:23:55.855390Z"
    }
   },
   "id": "339f2f38eb910f6d"
  },
  {
   "cell_type": "code",
   "execution_count": 9,
   "outputs": [],
   "source": [
    "from data.transforms import SpacyTokenizerTransform\n",
    "\n",
    "import spacy\n",
    "spacy_model = spacy.load('en_core_web_sm')\n",
    "transform = SpacyTokenizerTransform(spacy_model)\n",
    "\n",
    "df['tokens.form.premise'] = transform(df['premise'])"
   ],
   "metadata": {
    "collapsed": false,
    "ExecuteTime": {
     "end_time": "2023-10-04T21:24:58.961160Z",
     "start_time": "2023-10-04T21:24:40.084351Z"
    }
   },
   "id": "86cd09af8101c6bf"
  },
  {
   "cell_type": "code",
   "execution_count": 10,
   "outputs": [],
   "source": [
    "df['tokens.form.hypothesis'] = transform(df['hypothesis'])"
   ],
   "metadata": {
    "collapsed": false,
    "ExecuteTime": {
     "end_time": "2023-10-04T21:25:08.233773Z",
     "start_time": "2023-10-04T21:24:58.977052Z"
    }
   },
   "id": "f50c483fe5257e30"
  },
  {
   "cell_type": "code",
   "execution_count": 11,
   "outputs": [],
   "source": [
    "df.to_parquet(fname, index=False)"
   ],
   "metadata": {
    "collapsed": false,
    "ExecuteTime": {
     "end_time": "2023-10-04T21:25:08.510145Z",
     "start_time": "2023-10-04T21:25:08.252275Z"
    }
   },
   "id": "59884fa787ba44ce"
  },
  {
   "cell_type": "code",
   "execution_count": 53,
   "outputs": [],
   "source": [
    "from data.transforms import SpacyTokenizerTransform\n",
    "\n",
    "import spacy\n",
    "spacy_model = spacy.load('en_core_web_sm')\n",
    "transform = SpacyTokenizerTransform(spacy_model)"
   ],
   "metadata": {
    "collapsed": false,
    "ExecuteTime": {
     "end_time": "2023-10-03T12:11:00.620151Z",
     "start_time": "2023-10-03T12:10:56.053695Z"
    }
   },
   "id": "5685d51e4cbb43d4"
  },
  {
   "cell_type": "code",
   "execution_count": 54,
   "outputs": [],
   "source": [
    "df['tokens.form'] = transform(df['text'].tolist())"
   ],
   "metadata": {
    "collapsed": false,
    "ExecuteTime": {
     "end_time": "2023-10-03T12:11:19.470721Z",
     "start_time": "2023-10-03T12:11:15.290878Z"
    }
   },
   "id": "6185a88ff8c66d6"
  },
  {
   "cell_type": "code",
   "execution_count": 72,
   "outputs": [],
   "source": [
    "premise = df['premise'].tolist()\n",
    "hypothesis = df['hypothesis'].tolist()\n",
    "premise_toks = transform(premise)\n",
    "hypothesis_toks = transform(hypothesis)\n",
    "\n",
    "df['tokens.form.premise'] = premise_toks\n",
    "df['tokens.form.hypothesis'] = hypothesis_toks"
   ],
   "metadata": {
    "collapsed": false,
    "ExecuteTime": {
     "end_time": "2023-10-02T21:25:35.953810Z",
     "start_time": "2023-10-02T21:24:56.670600Z"
    }
   },
   "id": "d7b87337aaebce4d"
  },
  {
   "cell_type": "code",
   "execution_count": 74,
   "outputs": [
    {
     "data": {
      "text/plain": "'./../.cache/dataset/esnli/test.pretransformed.parquet'"
     },
     "execution_count": 74,
     "metadata": {},
     "output_type": "execute_result"
    }
   ],
   "source": [
    "fname"
   ],
   "metadata": {
    "collapsed": false,
    "ExecuteTime": {
     "end_time": "2023-10-02T21:26:08.217606Z",
     "start_time": "2023-10-02T21:26:08.161880Z"
    }
   },
   "id": "2921be86b4d3bb24"
  },
  {
   "cell_type": "code",
   "execution_count": 7,
   "outputs": [
    {
     "data": {
      "text/plain": "                                                  text  label  \\\n0    Out in Twinsburg for work and wasn't expecting...      1   \n1    Very slow. Never been in the drive at any othe...      0   \n2    Food is good, but service terrible. They have ...      0   \n3    Stopped by on a Sunday around 11am after a tri...      1   \n4    This place is horrible. They are very stingy w...      0   \n..                                                 ...    ...   \n295  Service and staff were very good. Topping sele...      1   \n296  Love it! Eaten here over 300 times in the last...      1   \n297  According to my friend, this local bar type pl...      1   \n298  I went here to get a snack before I went on th...      0   \n299  Always packed for lunch.  Probably because Pit...      0   \n\n                                            ham_html_0 human_label_0  \\\n0    <span>Out</span> <span>in</span> <span>Twinsbu...           yes   \n1    <span class=\"active\">Very</span> <span class=\"...            no   \n2    <span>Food</span> <span>is</span> <span class=...           idk   \n3    <span>Stopped</span> <span>by</span> <span>on<...           yes   \n4    <span>This</span> <span>place</span> <span>is<...            no   \n..                                                 ...           ...   \n295  <span class=\"active\">Service</span> <span>and<...           yes   \n296  <span class=\"active\">Love</span> <span>it!</sp...           yes   \n297  <span>According</span> <span>to</span> <span>m...           yes   \n298  <span>I</span> <span>went</span> <span>here</s...            no   \n299  <span>Always</span> <span>packed</span> <span>...            no   \n\n                                            ham_html_1 human_label_1  \\\n0    <span>Out</span> <span>in</span> <span>Twinsbu...           yes   \n1    <span>Very</span> <span class=\"active\">slow.</...            no   \n2    <span>Food</span> <span>is</span> <span>good,<...            no   \n3    <span>Stopped</span> <span>by</span> <span>on<...           yes   \n4    <span>This</span> <span>place</span> <span>is<...            no   \n..                                                 ...           ...   \n295  <span>Service</span> <span>and</span> <span>st...           yes   \n296  <span class=\"active\">Love</span> <span class=\"...           yes   \n297  <span>According</span> <span>to</span> <span>m...           yes   \n298  <span>I</span> <span>went</span> <span>here</s...            no   \n299  <span>Always</span> <span>packed</span> <span>...            no   \n\n                                            ham_html_2 human_label_2  \\\n0    <span>Out</span> <span>in</span> <span>Twinsbu...           yes   \n1    <span>Very</span> <span class=\"active\">slow.</...            no   \n2    <span>Food</span> <span>is</span> <span>good,<...            no   \n3    <span>Stopped</span> <span>by</span> <span>on<...           yes   \n4    <span>This</span> <span>place</span> <span>is<...            no   \n..                                                 ...           ...   \n295  <span>Service</span> <span>and</span> <span>st...           yes   \n296  <span class=\"active\">Love</span> <span class=\"...           yes   \n297  <span>According</span> <span>to</span> <span>m...           yes   \n298  <span>I</span> <span>went</span> <span>here</s...            no   \n299  <span class=\"active\">Always</span> <span class...            no   \n\n                         id  \\\n0      ham_part1(50words)_1   \n1      ham_part1(50words)_2   \n2      ham_part1(50words)_3   \n3      ham_part1(50words)_4   \n4      ham_part1(50words)_5   \n..                      ...   \n295  ham_part1(50words)_296   \n296  ham_part1(50words)_297   \n297  ham_part1(50words)_298   \n298  ham_part1(50words)_299   \n299  ham_part1(50words)_300   \n\n                                                 ham_0  \\\n0    [0, 0, 0, 0, 0, 0, 0, 0, 0, 0, 0, 0, 0, 0, 0, ...   \n1    [1, 1, 0, 0, 0, 0, 0, 0, 0, 0, 0, 0, 0, 0, 0, ...   \n2    [0, 0, 1, 0, 0, 0, 1, 0, 0, 0, 0, 0, 0, 0, 0, ...   \n3    [0, 0, 0, 0, 0, 0, 0, 0, 0, 0, 0, 0, 0, 0, 0, ...   \n4    [0, 0, 0, 1, 0, 0, 0, 0, 1, 0, 0, 0, 0, 0, 0, ...   \n..                                                 ...   \n295  [1, 0, 1, 0, 1, 1, 0, 0, 1, 0, 1, 0, 0, 0, 1, ...   \n296  [1, 0, 0, 0, 0, 0, 0, 0, 0, 0, 0, 1, 1, 0, 0, ...   \n297  [0, 0, 0, 0, 0, 0, 0, 0, 0, 0, 0, 0, 0, 0, 0, ...   \n298  [0, 0, 0, 0, 0, 0, 0, 0, 0, 0, 0, 0, 0, 0, 0, ...   \n299  [0, 0, 0, 0, 0, 0, 0, 0, 0, 0, 0, 0, 0, 0, 0, ...   \n\n                                                 ham_1  \\\n0    [0, 0, 0, 0, 0, 0, 0, 0, 0, 0, 0, 0, 0, 0, 0, ...   \n1    [0, 1, 0, 0, 0, 0, 0, 0, 0, 0, 0, 0, 0, 0, 0, ...   \n2    [0, 0, 0, 0, 0, 1, 1, 0, 0, 0, 0, 0, 0, 1, 1, ...   \n3    [0, 0, 0, 0, 0, 0, 0, 0, 0, 0, 0, 0, 0, 0, 0, ...   \n4    [0, 0, 0, 1, 0, 0, 0, 0, 1, 0, 0, 0, 0, 0, 0, ...   \n..                                                 ...   \n295  [0, 0, 0, 0, 0, 1, 0, 0, 0, 0, 1, 0, 0, 1, 1, ...   \n296  [1, 1, 0, 0, 0, 0, 0, 0, 0, 0, 0, 0, 0, 0, 0, ...   \n297  [0, 0, 0, 0, 0, 0, 0, 0, 0, 0, 1, 0, 0, 0, 1, ...   \n298  [0, 0, 0, 0, 0, 0, 0, 0, 0, 0, 0, 0, 0, 0, 0, ...   \n299  [0, 0, 0, 0, 0, 0, 0, 0, 0, 0, 0, 0, 0, 0, 0, ...   \n\n                                                 ham_2  \\\n0    [0, 0, 0, 0, 0, 0, 0, 0, 0, 0, 0, 0, 0, 0, 0, ...   \n1    [0, 1, 0, 0, 0, 0, 0, 0, 0, 0, 0, 0, 0, 0, 0, ...   \n2    [0, 0, 0, 0, 0, 0, 1, 0, 0, 0, 0, 0, 0, 0, 0, ...   \n3    [0, 0, 0, 0, 0, 0, 0, 0, 0, 0, 0, 0, 0, 0, 0, ...   \n4    [0, 0, 0, 1, 0, 0, 0, 1, 1, 1, 0, 1, 1, 0, 0, ...   \n..                                                 ...   \n295  [0, 0, 0, 0, 1, 1, 0, 0, 0, 0, 1, 0, 0, 0, 1, ...   \n296  [1, 1, 0, 1, 0, 1, 1, 1, 0, 0, 1, 1, 1, 0, 1, ...   \n297  [0, 0, 0, 0, 0, 0, 1, 1, 1, 1, 1, 0, 1, 0, 1, ...   \n298  [0, 0, 0, 0, 0, 0, 0, 0, 0, 0, 0, 0, 0, 0, 0, ...   \n299  [1, 1, 1, 1, 0, 0, 0, 1, 1, 1, 1, 1, 0, 0, 0, ...   \n\n                                           tokens.norm  \\\n0    [out, in, twinsburg, for, work, and, be, not, ...   \n1    [very, slow, ., never, be, in, the, drive, at,...   \n2    [food, be, good, ,, but, service, terrible, .,...   \n3    [stop, by, on, a, sunday, around, 11, am, afte...   \n4    [this, place, be, horrible, ., they, be, very,...   \n..                                                 ...   \n295  [service, and, staff, be, very, good, ., toppi...   \n296  [love, it, !, eat, here, over, 300, time, in, ...   \n297  [accord, to, my, friend, ,, this, local, bar, ...   \n298  [i, go, here, to, get, a, snack, before, i, go...   \n299  [always, pack, for, lunch, ., probably, becaus...   \n\n                                           tokens.form  \\\n0    [Out, in, Twinsburg, for, work, and, was, n't,...   \n1    [Very, slow, ., Never, been, in, the, drive, a...   \n2    [Food, is, good, ,, but, service, terrible, .,...   \n3    [Stopped, by, on, a, Sunday, around, 11, am, a...   \n4    [This, place, is, horrible, ., They, are, very...   \n..                                                 ...   \n295  [Service, and, staff, were, very, good, ., Top...   \n296  [Love, it, !, Eaten, here, over, 300, times, i...   \n297  [According, to, my, friend, ,, this, local, ba...   \n298  [I, went, here, to, get, a, snack, before, I, ...   \n299  [Always, packed, for, lunch, ., Probably, beca...   \n\n                                                   ham  \\\n0    [0, 0, 0, 0, 0, 0, 0, 0, 0, 0, 0, 0, 0, 0, 0, ...   \n1    [0, 1, 0, 0, 0, 0, 0, 0, 0, 0, 0, 0, 0, 0, 0, ...   \n2    [0, 0, 0, 0, 0, 0, 1, 0, 0, 0, 0, 0, 0, 0, 0, ...   \n3    [0, 0, 0, 0, 0, 0, 0, 0, 0, 0, 0, 0, 0, 0, 0, ...   \n4    [0, 0, 0, 1, 0, 0, 0, 0, 1, 0, 0, 0, 0, 0, 0, ...   \n..                                                 ...   \n295  [0, 0, 0, 0, 1, 1, 0, 0, 0, 0, 1, 0, 0, 0, 1, ...   \n296  [1, 1, 0, 0, 0, 0, 0, 0, 0, 0, 0, 1, 1, 0, 0, ...   \n297  [0, 0, 0, 0, 0, 0, 0, 0, 0, 0, 1, 0, 0, 0, 1, ...   \n298  [0, 0, 0, 0, 0, 0, 0, 0, 0, 0, 0, 0, 0, 0, 0, ...   \n299  [0, 0, 0, 0, 0, 0, 0, 0, 0, 0, 0, 0, 0, 0, 0, ...   \n\n                                                   cam  \\\n0    [0, 0, 0, 0, 0, 0, 0, 0, 0, 0, 0, 0, 0, 0, 0, ...   \n1    [0, 1, 0, 0, 0, 0, 0, 0, 0, 0, 0, 0, 0, 0, 0, ...   \n2    [0, 0, 0, 0, 0, 0, 1, 0, 0, 0, 0, 0, 0, 0, 0, ...   \n3    [0, 0, 0, 0, 0, 0, 0, 0, 0, 0, 0, 0, 0, 0, 0, ...   \n4    [0, 0, 0, 1, 0, 0, 0, 0, 1, 0, 0, 0, 0, 0, 0, ...   \n..                                                 ...   \n295  [0, 0, 0, 0, 0, 1, 0, 0, 0, 0, 1, 0, 0, 0, 1, ...   \n296  [1, 0, 0, 0, 0, 0, 0, 0, 0, 0, 0, 0, 0, 0, 0, ...   \n297  [0, 0, 0, 0, 0, 0, 0, 0, 0, 0, 0, 0, 0, 0, 0, ...   \n298  [0, 0, 0, 0, 0, 0, 0, 0, 0, 0, 0, 0, 0, 0, 0, ...   \n299  [0, 0, 0, 0, 0, 0, 0, 0, 0, 0, 0, 0, 0, 0, 0, ...   \n\n                                                   sam  \\\n0    [0, 0, 0, 0, 0, 0, 0, 0, 0, 0, 0, 0, 0, 0, 0, ...   \n1    [1, 1, 0, 0, 0, 0, 0, 0, 0, 0, 0, 0, 0, 0, 0, ...   \n2    [0, 0, 1, 0, 0, 1, 1, 0, 0, 0, 0, 0, 0, 1, 1, ...   \n3    [0, 0, 0, 0, 0, 0, 0, 0, 0, 0, 0, 0, 0, 0, 0, ...   \n4    [0, 0, 0, 1, 0, 0, 0, 1, 1, 1, 0, 1, 1, 0, 0, ...   \n..                                                 ...   \n295  [1, 0, 1, 0, 1, 1, 0, 0, 1, 0, 1, 0, 0, 1, 1, ...   \n296  [1, 1, 0, 1, 0, 1, 1, 1, 0, 0, 1, 1, 1, 0, 1, ...   \n297  [0, 0, 0, 0, 0, 0, 1, 1, 1, 1, 1, 0, 1, 0, 1, ...   \n298  [0, 0, 0, 0, 0, 0, 0, 0, 0, 0, 0, 0, 0, 0, 0, ...   \n299  [1, 1, 1, 1, 0, 0, 0, 1, 1, 1, 1, 1, 0, 0, 0, ...   \n\n                                             heuristic  \n0    [0.0, 0.0, 0.0, 0.0, 0.00042654533821490776, 0...  \n1    [0.0, 0.0023104539153307505, 0.0, 0.0, 0.0, 0....  \n2    [0.023922084384886078, 0.0, 0.0225002665908363...  \n3    [0.00039099989336366543, 0.0, 0.0, 0.0, 0.0, 0...  \n4    [0.0, 0.012405360253083567, 0.0, 0.00312799914...  \n..                                                 ...  \n295  [0.019869903671844453, 0.0, 0.0042654533821490...  \n296  [0.008495361319446913, 0.0, 0.0, 0.00252372658...  \n297  [0.0, 0.0, 0.0, 0.0003554544485124231, 0.0, 0....  \n298  [0.0, 0.0, 0.0, 0.0, 0.0, 0.0, 3.5545444851242...  \n299  [0.0, 7.109088970248463e-05, 0.0, 0.0004265453...  \n\n[300 rows x 18 columns]",
      "text/html": "<div>\n<style scoped>\n    .dataframe tbody tr th:only-of-type {\n        vertical-align: middle;\n    }\n\n    .dataframe tbody tr th {\n        vertical-align: top;\n    }\n\n    .dataframe thead th {\n        text-align: right;\n    }\n</style>\n<table border=\"1\" class=\"dataframe\">\n  <thead>\n    <tr style=\"text-align: right;\">\n      <th></th>\n      <th>text</th>\n      <th>label</th>\n      <th>ham_html_0</th>\n      <th>human_label_0</th>\n      <th>ham_html_1</th>\n      <th>human_label_1</th>\n      <th>ham_html_2</th>\n      <th>human_label_2</th>\n      <th>id</th>\n      <th>ham_0</th>\n      <th>ham_1</th>\n      <th>ham_2</th>\n      <th>tokens.norm</th>\n      <th>tokens.form</th>\n      <th>ham</th>\n      <th>cam</th>\n      <th>sam</th>\n      <th>heuristic</th>\n    </tr>\n  </thead>\n  <tbody>\n    <tr>\n      <th>0</th>\n      <td>Out in Twinsburg for work and wasn't expecting...</td>\n      <td>1</td>\n      <td>&lt;span&gt;Out&lt;/span&gt; &lt;span&gt;in&lt;/span&gt; &lt;span&gt;Twinsbu...</td>\n      <td>yes</td>\n      <td>&lt;span&gt;Out&lt;/span&gt; &lt;span&gt;in&lt;/span&gt; &lt;span&gt;Twinsbu...</td>\n      <td>yes</td>\n      <td>&lt;span&gt;Out&lt;/span&gt; &lt;span&gt;in&lt;/span&gt; &lt;span&gt;Twinsbu...</td>\n      <td>yes</td>\n      <td>ham_part1(50words)_1</td>\n      <td>[0, 0, 0, 0, 0, 0, 0, 0, 0, 0, 0, 0, 0, 0, 0, ...</td>\n      <td>[0, 0, 0, 0, 0, 0, 0, 0, 0, 0, 0, 0, 0, 0, 0, ...</td>\n      <td>[0, 0, 0, 0, 0, 0, 0, 0, 0, 0, 0, 0, 0, 0, 0, ...</td>\n      <td>[out, in, twinsburg, for, work, and, be, not, ...</td>\n      <td>[Out, in, Twinsburg, for, work, and, was, n't,...</td>\n      <td>[0, 0, 0, 0, 0, 0, 0, 0, 0, 0, 0, 0, 0, 0, 0, ...</td>\n      <td>[0, 0, 0, 0, 0, 0, 0, 0, 0, 0, 0, 0, 0, 0, 0, ...</td>\n      <td>[0, 0, 0, 0, 0, 0, 0, 0, 0, 0, 0, 0, 0, 0, 0, ...</td>\n      <td>[0.0, 0.0, 0.0, 0.0, 0.00042654533821490776, 0...</td>\n    </tr>\n    <tr>\n      <th>1</th>\n      <td>Very slow. Never been in the drive at any othe...</td>\n      <td>0</td>\n      <td>&lt;span class=\"active\"&gt;Very&lt;/span&gt; &lt;span class=\"...</td>\n      <td>no</td>\n      <td>&lt;span&gt;Very&lt;/span&gt; &lt;span class=\"active\"&gt;slow.&lt;/...</td>\n      <td>no</td>\n      <td>&lt;span&gt;Very&lt;/span&gt; &lt;span class=\"active\"&gt;slow.&lt;/...</td>\n      <td>no</td>\n      <td>ham_part1(50words)_2</td>\n      <td>[1, 1, 0, 0, 0, 0, 0, 0, 0, 0, 0, 0, 0, 0, 0, ...</td>\n      <td>[0, 1, 0, 0, 0, 0, 0, 0, 0, 0, 0, 0, 0, 0, 0, ...</td>\n      <td>[0, 1, 0, 0, 0, 0, 0, 0, 0, 0, 0, 0, 0, 0, 0, ...</td>\n      <td>[very, slow, ., never, be, in, the, drive, at,...</td>\n      <td>[Very, slow, ., Never, been, in, the, drive, a...</td>\n      <td>[0, 1, 0, 0, 0, 0, 0, 0, 0, 0, 0, 0, 0, 0, 0, ...</td>\n      <td>[0, 1, 0, 0, 0, 0, 0, 0, 0, 0, 0, 0, 0, 0, 0, ...</td>\n      <td>[1, 1, 0, 0, 0, 0, 0, 0, 0, 0, 0, 0, 0, 0, 0, ...</td>\n      <td>[0.0, 0.0023104539153307505, 0.0, 0.0, 0.0, 0....</td>\n    </tr>\n    <tr>\n      <th>2</th>\n      <td>Food is good, but service terrible. They have ...</td>\n      <td>0</td>\n      <td>&lt;span&gt;Food&lt;/span&gt; &lt;span&gt;is&lt;/span&gt; &lt;span class=...</td>\n      <td>idk</td>\n      <td>&lt;span&gt;Food&lt;/span&gt; &lt;span&gt;is&lt;/span&gt; &lt;span&gt;good,&lt;...</td>\n      <td>no</td>\n      <td>&lt;span&gt;Food&lt;/span&gt; &lt;span&gt;is&lt;/span&gt; &lt;span&gt;good,&lt;...</td>\n      <td>no</td>\n      <td>ham_part1(50words)_3</td>\n      <td>[0, 0, 1, 0, 0, 0, 1, 0, 0, 0, 0, 0, 0, 0, 0, ...</td>\n      <td>[0, 0, 0, 0, 0, 1, 1, 0, 0, 0, 0, 0, 0, 1, 1, ...</td>\n      <td>[0, 0, 0, 0, 0, 0, 1, 0, 0, 0, 0, 0, 0, 0, 0, ...</td>\n      <td>[food, be, good, ,, but, service, terrible, .,...</td>\n      <td>[Food, is, good, ,, but, service, terrible, .,...</td>\n      <td>[0, 0, 0, 0, 0, 0, 1, 0, 0, 0, 0, 0, 0, 0, 0, ...</td>\n      <td>[0, 0, 0, 0, 0, 0, 1, 0, 0, 0, 0, 0, 0, 0, 0, ...</td>\n      <td>[0, 0, 1, 0, 0, 1, 1, 0, 0, 0, 0, 0, 0, 1, 1, ...</td>\n      <td>[0.023922084384886078, 0.0, 0.0225002665908363...</td>\n    </tr>\n    <tr>\n      <th>3</th>\n      <td>Stopped by on a Sunday around 11am after a tri...</td>\n      <td>1</td>\n      <td>&lt;span&gt;Stopped&lt;/span&gt; &lt;span&gt;by&lt;/span&gt; &lt;span&gt;on&lt;...</td>\n      <td>yes</td>\n      <td>&lt;span&gt;Stopped&lt;/span&gt; &lt;span&gt;by&lt;/span&gt; &lt;span&gt;on&lt;...</td>\n      <td>yes</td>\n      <td>&lt;span&gt;Stopped&lt;/span&gt; &lt;span&gt;by&lt;/span&gt; &lt;span&gt;on&lt;...</td>\n      <td>yes</td>\n      <td>ham_part1(50words)_4</td>\n      <td>[0, 0, 0, 0, 0, 0, 0, 0, 0, 0, 0, 0, 0, 0, 0, ...</td>\n      <td>[0, 0, 0, 0, 0, 0, 0, 0, 0, 0, 0, 0, 0, 0, 0, ...</td>\n      <td>[0, 0, 0, 0, 0, 0, 0, 0, 0, 0, 0, 0, 0, 0, 0, ...</td>\n      <td>[stop, by, on, a, sunday, around, 11, am, afte...</td>\n      <td>[Stopped, by, on, a, Sunday, around, 11, am, a...</td>\n      <td>[0, 0, 0, 0, 0, 0, 0, 0, 0, 0, 0, 0, 0, 0, 0, ...</td>\n      <td>[0, 0, 0, 0, 0, 0, 0, 0, 0, 0, 0, 0, 0, 0, 0, ...</td>\n      <td>[0, 0, 0, 0, 0, 0, 0, 0, 0, 0, 0, 0, 0, 0, 0, ...</td>\n      <td>[0.00039099989336366543, 0.0, 0.0, 0.0, 0.0, 0...</td>\n    </tr>\n    <tr>\n      <th>4</th>\n      <td>This place is horrible. They are very stingy w...</td>\n      <td>0</td>\n      <td>&lt;span&gt;This&lt;/span&gt; &lt;span&gt;place&lt;/span&gt; &lt;span&gt;is&lt;...</td>\n      <td>no</td>\n      <td>&lt;span&gt;This&lt;/span&gt; &lt;span&gt;place&lt;/span&gt; &lt;span&gt;is&lt;...</td>\n      <td>no</td>\n      <td>&lt;span&gt;This&lt;/span&gt; &lt;span&gt;place&lt;/span&gt; &lt;span&gt;is&lt;...</td>\n      <td>no</td>\n      <td>ham_part1(50words)_5</td>\n      <td>[0, 0, 0, 1, 0, 0, 0, 0, 1, 0, 0, 0, 0, 0, 0, ...</td>\n      <td>[0, 0, 0, 1, 0, 0, 0, 0, 1, 0, 0, 0, 0, 0, 0, ...</td>\n      <td>[0, 0, 0, 1, 0, 0, 0, 1, 1, 1, 0, 1, 1, 0, 0, ...</td>\n      <td>[this, place, be, horrible, ., they, be, very,...</td>\n      <td>[This, place, is, horrible, ., They, are, very...</td>\n      <td>[0, 0, 0, 1, 0, 0, 0, 0, 1, 0, 0, 0, 0, 0, 0, ...</td>\n      <td>[0, 0, 0, 1, 0, 0, 0, 0, 1, 0, 0, 0, 0, 0, 0, ...</td>\n      <td>[0, 0, 0, 1, 0, 0, 0, 1, 1, 1, 0, 1, 1, 0, 0, ...</td>\n      <td>[0.0, 0.012405360253083567, 0.0, 0.00312799914...</td>\n    </tr>\n    <tr>\n      <th>...</th>\n      <td>...</td>\n      <td>...</td>\n      <td>...</td>\n      <td>...</td>\n      <td>...</td>\n      <td>...</td>\n      <td>...</td>\n      <td>...</td>\n      <td>...</td>\n      <td>...</td>\n      <td>...</td>\n      <td>...</td>\n      <td>...</td>\n      <td>...</td>\n      <td>...</td>\n      <td>...</td>\n      <td>...</td>\n      <td>...</td>\n    </tr>\n    <tr>\n      <th>295</th>\n      <td>Service and staff were very good. Topping sele...</td>\n      <td>1</td>\n      <td>&lt;span class=\"active\"&gt;Service&lt;/span&gt; &lt;span&gt;and&lt;...</td>\n      <td>yes</td>\n      <td>&lt;span&gt;Service&lt;/span&gt; &lt;span&gt;and&lt;/span&gt; &lt;span&gt;st...</td>\n      <td>yes</td>\n      <td>&lt;span&gt;Service&lt;/span&gt; &lt;span&gt;and&lt;/span&gt; &lt;span&gt;st...</td>\n      <td>yes</td>\n      <td>ham_part1(50words)_296</td>\n      <td>[1, 0, 1, 0, 1, 1, 0, 0, 1, 0, 1, 0, 0, 0, 1, ...</td>\n      <td>[0, 0, 0, 0, 0, 1, 0, 0, 0, 0, 1, 0, 0, 1, 1, ...</td>\n      <td>[0, 0, 0, 0, 1, 1, 0, 0, 0, 0, 1, 0, 0, 0, 1, ...</td>\n      <td>[service, and, staff, be, very, good, ., toppi...</td>\n      <td>[Service, and, staff, were, very, good, ., Top...</td>\n      <td>[0, 0, 0, 0, 1, 1, 0, 0, 0, 0, 1, 0, 0, 0, 1, ...</td>\n      <td>[0, 0, 0, 0, 0, 1, 0, 0, 0, 0, 1, 0, 0, 0, 1, ...</td>\n      <td>[1, 0, 1, 0, 1, 1, 0, 0, 1, 0, 1, 0, 0, 1, 1, ...</td>\n      <td>[0.019869903671844453, 0.0, 0.0042654533821490...</td>\n    </tr>\n    <tr>\n      <th>296</th>\n      <td>Love it! Eaten here over 300 times in the last...</td>\n      <td>1</td>\n      <td>&lt;span class=\"active\"&gt;Love&lt;/span&gt; &lt;span&gt;it!&lt;/sp...</td>\n      <td>yes</td>\n      <td>&lt;span class=\"active\"&gt;Love&lt;/span&gt; &lt;span class=\"...</td>\n      <td>yes</td>\n      <td>&lt;span class=\"active\"&gt;Love&lt;/span&gt; &lt;span class=\"...</td>\n      <td>yes</td>\n      <td>ham_part1(50words)_297</td>\n      <td>[1, 0, 0, 0, 0, 0, 0, 0, 0, 0, 0, 1, 1, 0, 0, ...</td>\n      <td>[1, 1, 0, 0, 0, 0, 0, 0, 0, 0, 0, 0, 0, 0, 0, ...</td>\n      <td>[1, 1, 0, 1, 0, 1, 1, 1, 0, 0, 1, 1, 1, 0, 1, ...</td>\n      <td>[love, it, !, eat, here, over, 300, time, in, ...</td>\n      <td>[Love, it, !, Eaten, here, over, 300, times, i...</td>\n      <td>[1, 1, 0, 0, 0, 0, 0, 0, 0, 0, 0, 1, 1, 0, 0, ...</td>\n      <td>[1, 0, 0, 0, 0, 0, 0, 0, 0, 0, 0, 0, 0, 0, 0, ...</td>\n      <td>[1, 1, 0, 1, 0, 1, 1, 1, 0, 0, 1, 1, 1, 0, 1, ...</td>\n      <td>[0.008495361319446913, 0.0, 0.0, 0.00252372658...</td>\n    </tr>\n    <tr>\n      <th>297</th>\n      <td>According to my friend, this local bar type pl...</td>\n      <td>1</td>\n      <td>&lt;span&gt;According&lt;/span&gt; &lt;span&gt;to&lt;/span&gt; &lt;span&gt;m...</td>\n      <td>yes</td>\n      <td>&lt;span&gt;According&lt;/span&gt; &lt;span&gt;to&lt;/span&gt; &lt;span&gt;m...</td>\n      <td>yes</td>\n      <td>&lt;span&gt;According&lt;/span&gt; &lt;span&gt;to&lt;/span&gt; &lt;span&gt;m...</td>\n      <td>yes</td>\n      <td>ham_part1(50words)_298</td>\n      <td>[0, 0, 0, 0, 0, 0, 0, 0, 0, 0, 0, 0, 0, 0, 0, ...</td>\n      <td>[0, 0, 0, 0, 0, 0, 0, 0, 0, 0, 1, 0, 0, 0, 1, ...</td>\n      <td>[0, 0, 0, 0, 0, 0, 1, 1, 1, 1, 1, 0, 1, 0, 1, ...</td>\n      <td>[accord, to, my, friend, ,, this, local, bar, ...</td>\n      <td>[According, to, my, friend, ,, this, local, ba...</td>\n      <td>[0, 0, 0, 0, 0, 0, 0, 0, 0, 0, 1, 0, 0, 0, 1, ...</td>\n      <td>[0, 0, 0, 0, 0, 0, 0, 0, 0, 0, 0, 0, 0, 0, 0, ...</td>\n      <td>[0, 0, 0, 0, 0, 0, 1, 1, 1, 1, 1, 0, 1, 0, 1, ...</td>\n      <td>[0.0, 0.0, 0.0, 0.0003554544485124231, 0.0, 0....</td>\n    </tr>\n    <tr>\n      <th>298</th>\n      <td>I went here to get a snack before I went on th...</td>\n      <td>0</td>\n      <td>&lt;span&gt;I&lt;/span&gt; &lt;span&gt;went&lt;/span&gt; &lt;span&gt;here&lt;/s...</td>\n      <td>no</td>\n      <td>&lt;span&gt;I&lt;/span&gt; &lt;span&gt;went&lt;/span&gt; &lt;span&gt;here&lt;/s...</td>\n      <td>no</td>\n      <td>&lt;span&gt;I&lt;/span&gt; &lt;span&gt;went&lt;/span&gt; &lt;span&gt;here&lt;/s...</td>\n      <td>no</td>\n      <td>ham_part1(50words)_299</td>\n      <td>[0, 0, 0, 0, 0, 0, 0, 0, 0, 0, 0, 0, 0, 0, 0, ...</td>\n      <td>[0, 0, 0, 0, 0, 0, 0, 0, 0, 0, 0, 0, 0, 0, 0, ...</td>\n      <td>[0, 0, 0, 0, 0, 0, 0, 0, 0, 0, 0, 0, 0, 0, 0, ...</td>\n      <td>[i, go, here, to, get, a, snack, before, i, go...</td>\n      <td>[I, went, here, to, get, a, snack, before, I, ...</td>\n      <td>[0, 0, 0, 0, 0, 0, 0, 0, 0, 0, 0, 0, 0, 0, 0, ...</td>\n      <td>[0, 0, 0, 0, 0, 0, 0, 0, 0, 0, 0, 0, 0, 0, 0, ...</td>\n      <td>[0, 0, 0, 0, 0, 0, 0, 0, 0, 0, 0, 0, 0, 0, 0, ...</td>\n      <td>[0.0, 0.0, 0.0, 0.0, 0.0, 0.0, 3.5545444851242...</td>\n    </tr>\n    <tr>\n      <th>299</th>\n      <td>Always packed for lunch.  Probably because Pit...</td>\n      <td>0</td>\n      <td>&lt;span&gt;Always&lt;/span&gt; &lt;span&gt;packed&lt;/span&gt; &lt;span&gt;...</td>\n      <td>no</td>\n      <td>&lt;span&gt;Always&lt;/span&gt; &lt;span&gt;packed&lt;/span&gt; &lt;span&gt;...</td>\n      <td>no</td>\n      <td>&lt;span class=\"active\"&gt;Always&lt;/span&gt; &lt;span class...</td>\n      <td>no</td>\n      <td>ham_part1(50words)_300</td>\n      <td>[0, 0, 0, 0, 0, 0, 0, 0, 0, 0, 0, 0, 0, 0, 0, ...</td>\n      <td>[0, 0, 0, 0, 0, 0, 0, 0, 0, 0, 0, 0, 0, 0, 0, ...</td>\n      <td>[1, 1, 1, 1, 0, 0, 0, 1, 1, 1, 1, 1, 0, 0, 0, ...</td>\n      <td>[always, pack, for, lunch, ., probably, becaus...</td>\n      <td>[Always, packed, for, lunch, ., Probably, beca...</td>\n      <td>[0, 0, 0, 0, 0, 0, 0, 0, 0, 0, 0, 0, 0, 0, 0, ...</td>\n      <td>[0, 0, 0, 0, 0, 0, 0, 0, 0, 0, 0, 0, 0, 0, 0, ...</td>\n      <td>[1, 1, 1, 1, 0, 0, 0, 1, 1, 1, 1, 1, 0, 0, 0, ...</td>\n      <td>[0.0, 7.109088970248463e-05, 0.0, 0.0004265453...</td>\n    </tr>\n  </tbody>\n</table>\n<p>300 rows × 18 columns</p>\n</div>"
     },
     "execution_count": 7,
     "metadata": {},
     "output_type": "execute_result"
    }
   ],
   "source": [
    "import pandas as pd\n",
    "\n",
    "# fname = './../.cache/dataset/esnli/test.pretransformed.parquet'\n",
    "\n",
    "fname = './../../RUNS/dataset_/yelp-hat/yelp50.pretokenized_lower_lemma.parquet'\n",
    "df = pd.read_parquet(fname)\n",
    "df"
   ],
   "metadata": {
    "collapsed": false,
    "ExecuteTime": {
     "end_time": "2023-10-04T14:57:25.914626Z",
     "start_time": "2023-10-04T14:57:25.083970Z"
    }
   },
   "id": "48276442ca61f7e1"
  },
  {
   "cell_type": "code",
   "execution_count": null,
   "outputs": [],
   "source": [
    "DATA_CACHE = '/home/dunguyen/RUNS/dataset_'"
   ],
   "metadata": {
    "collapsed": false
   },
   "id": "1f15f9c075d0f71f"
  },
  {
   "cell_type": "code",
   "execution_count": 28,
   "outputs": [
    {
     "name": "stdout",
     "output_type": "stream",
     "text": [
      "04-10-2023 15:52:07 | \u001B[32;1m   DEBUG\u001B[0m \u001B[1m \u001B[4m dataset.py:download_format_dataset:82 \u001B[0m \u001B[32;1mCorrectly handle part7.csv\u001B[0m\n",
      "04-10-2023 15:52:08 | \u001B[34m    INFO\u001B[0m \u001B[1m \u001B[4m dataset.py:download_format_dataset:110 \u001B[0m \u001B[34mSave yelp subset at: /home/dunguyen/RUNS/dataset_/yelp-hat/yelp200.parquet\u001B[0m\n",
      "04-10-2023 15:52:08 | \u001B[34m    INFO\u001B[0m \u001B[1m \u001B[4m dataset.py:download_format_dataset:110 \u001B[0m \u001B[34mSave yelp subset at: /home/dunguyen/RUNS/dataset_/yelp-hat/yelp50.parquet\u001B[0m\n",
      "04-10-2023 15:52:08 | \u001B[34m    INFO\u001B[0m \u001B[1m \u001B[4m dataset.py:download_format_dataset:110 \u001B[0m \u001B[34mSave yelp subset at: /home/dunguyen/RUNS/dataset_/yelp-hat/yelp100.parquet\u001B[0m\n",
      "04-10-2023 15:52:08 | \u001B[34m    INFO\u001B[0m \u001B[1m \u001B[4m dataset.py:download_format_dataset:116 \u001B[0m \u001B[34mSave clean dataset at /home/dunguyen/RUNS/dataset_/yelp-hat/yelp.parquet\u001B[0m\n",
      "04-10-2023 15:52:08 | \u001B[34m    INFO\u001B[0m \u001B[1m \u001B[4m dataset.py:download_format_dataset:123 \u001B[0m \u001B[34mSave training set at /home/dunguyen/RUNS/dataset_/yelp-hat/train.parquet\u001B[0m\n",
      "04-10-2023 15:52:08 | \u001B[34m    INFO\u001B[0m \u001B[1m \u001B[4m dataset.py:download_format_dataset:125 \u001B[0m \u001B[34mSave validation dataset at /home/dunguyen/RUNS/dataset_/yelp-hat/val.parquet\u001B[0m\n",
      "04-10-2023 15:52:08 | \u001B[34m    INFO\u001B[0m \u001B[1m \u001B[4m yelp_hat_module.py:prepare_data:89 \u001B[0m \u001B[34mLoaded vocab at /home/dunguyen/RUNS/dataset_/yelp-hat/vocab_lemma_lower.pt\u001B[0m\n",
      "04-10-2023 15:52:08 | \u001B[34m    INFO\u001B[0m \u001B[1m \u001B[4m yelp_hat_module.py:prepare_data:91 \u001B[0m \u001B[34mVocab size: 7465\u001B[0m\n",
      "04-10-2023 15:52:08 | \u001B[34m    INFO\u001B[0m \u001B[1m \u001B[4m dataset.py:__init__:186 \u001B[0m \u001B[34mLoad dataset from /home/dunguyen/RUNS/dataset_/yelp-hat/train.parquet\u001B[0m\n",
      "04-10-2023 15:55:15 | \u001B[33m WARNING\u001B[0m \u001B[1m \u001B[4m spacy_pretok_dataset.py:_reformat_dataframe:34 \u001B[0m \u001B[33mDrop 8 samples because HAMs are not compatibles\u001B[0m\n",
      "04-10-2023 15:55:15 | \u001B[34m    INFO\u001B[0m \u001B[1m \u001B[4m transforms.py:_token_frequency:65 \u001B[0m \u001B[34mLoad annotation frequency from /home/dunguyen/RUNS/dataset_/yelp-hat/annotation_lexical_frequency.json\u001B[0m\n",
      "04-10-2023 15:55:30 | \u001B[34m    INFO\u001B[0m \u001B[1m \u001B[4m spacy_pretok_dataset.py:__init__:79 \u001B[0m \u001B[34mSave yelp subset train at: /home/dunguyen/RUNS/dataset_/yelp-hat/train.pretokenized_lower_lemma.parquet\u001B[0m\n",
      "04-10-2023 15:55:30 | \u001B[34m    INFO\u001B[0m \u001B[1m \u001B[4m dataset.py:__init__:186 \u001B[0m \u001B[34mLoad dataset from /home/dunguyen/RUNS/dataset_/yelp-hat/val.parquet\u001B[0m\n",
      "04-10-2023 15:56:51 | \u001B[33m WARNING\u001B[0m \u001B[1m \u001B[4m spacy_pretok_dataset.py:_reformat_dataframe:34 \u001B[0m \u001B[33mDrop 4 samples because HAMs are not compatibles\u001B[0m\n",
      "04-10-2023 15:56:52 | \u001B[34m    INFO\u001B[0m \u001B[1m \u001B[4m transforms.py:_token_frequency:65 \u001B[0m \u001B[34mLoad annotation frequency from /home/dunguyen/RUNS/dataset_/yelp-hat/annotation_lexical_frequency.json\u001B[0m\n",
      "04-10-2023 15:56:58 | \u001B[34m    INFO\u001B[0m \u001B[1m \u001B[4m spacy_pretok_dataset.py:__init__:79 \u001B[0m \u001B[34mSave yelp subset val at: /home/dunguyen/RUNS/dataset_/yelp-hat/val.pretokenized_lower_lemma.parquet\u001B[0m\n",
      "04-10-2023 15:56:58 | \u001B[34m    INFO\u001B[0m \u001B[1m \u001B[4m dataset.py:__init__:186 \u001B[0m \u001B[34mLoad dataset from /home/dunguyen/RUNS/dataset_/yelp-hat/yelp50.parquet\u001B[0m\n",
      "04-10-2023 15:57:18 | \u001B[34m    INFO\u001B[0m \u001B[1m \u001B[4m transforms.py:_token_frequency:65 \u001B[0m \u001B[34mLoad annotation frequency from /home/dunguyen/RUNS/dataset_/yelp-hat/annotation_lexical_frequency.json\u001B[0m\n",
      "04-10-2023 15:57:19 | \u001B[34m    INFO\u001B[0m \u001B[1m \u001B[4m spacy_pretok_dataset.py:__init__:79 \u001B[0m \u001B[34mSave yelp subset yelp50 at: /home/dunguyen/RUNS/dataset_/yelp-hat/yelp50.pretokenized_lower_lemma.parquet\u001B[0m\n"
     ]
    }
   ],
   "source": [
    "from data_module.yelp_hat_module import YelpHat50DM\n",
    "yelphat_dm = YelpHat50DM(cache_path=DATA_CACHE, batch_size=16)\n",
    "yelphat_dm.prepare_data()\n",
    "yelphat_dm.setup()"
   ],
   "metadata": {
    "collapsed": false,
    "ExecuteTime": {
     "end_time": "2023-10-04T13:57:19.960492Z",
     "start_time": "2023-10-04T13:52:04.968600Z"
    }
   },
   "id": "6d2ecdb65bbe8ed4"
  },
  {
   "cell_type": "code",
   "execution_count": null,
   "outputs": [],
   "source": [],
   "metadata": {
    "collapsed": false
   },
   "id": "d93e39fd3a210cf0"
  }
 ],
 "metadata": {
  "kernelspec": {
   "display_name": "Python 3 (ipykernel)",
   "language": "python",
   "name": "python3"
  },
  "language_info": {
   "codemirror_mode": {
    "name": "ipython",
    "version": 3
   },
   "file_extension": ".py",
   "mimetype": "text/x-python",
   "name": "python",
   "nbconvert_exporter": "python",
   "pygments_lexer": "ipython3",
   "version": "3.8.5"
  }
 },
 "nbformat": 4,
 "nbformat_minor": 5
}
