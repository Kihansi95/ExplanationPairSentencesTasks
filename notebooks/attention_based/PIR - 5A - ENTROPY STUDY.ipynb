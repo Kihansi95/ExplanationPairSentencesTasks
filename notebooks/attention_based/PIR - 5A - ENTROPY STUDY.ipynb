{
 "cells": [
  {
   "cell_type": "markdown",
   "id": "d3f35a12-47db-447f-9dd7-9bcd40fbb835",
   "metadata": {
    "pycharm": {
     "name": "#%% md\n"
    }
   },
   "source": [
    "# Etude de l'entropie\n",
    "\n",
    "---\n",
    "\n",
    "Ce notebook fait partie du cadre du projet [PiR] réalisé dans le cadre de l'INSA de Rennes et du laboratoire de l'IRISA"
   ]
  },
  {
   "cell_type": "code",
   "execution_count": 19,
   "id": "297a47db-5ef4-4d29-a100-279b6dea1a80",
   "metadata": {
    "pycharm": {
     "name": "#%%\n"
    }
   },
   "outputs": [
    {
     "name": "stdout",
     "output_type": "stream",
     "text": [
      "The autoreload extension is already loaded. To reload it, use:\n",
      "  %reload_ext autoreload\n",
      ">> current directory : C:\\Users\\loicf\\Documents\\IRISA\\ExplanationPairSentencesTasks\n",
      ">> cache path : C:\\Users\\loicf\\Documents\\IRISA\\ExplanationPairSentencesTasks\\.cache\n",
      ">> model path : C:\\Users\\loicf\\Documents\\IRISA\\ExplanationPairSentencesTasks\\.cache\\models\n",
      ">> dataset path : C:\\Users\\loicf\\Documents\\IRISA\\ExplanationPairSentencesTasks\\.cache\\dataset\n",
      ">> logs path : C:\\Users\\loicf\\Documents\\IRISA\\ExplanationPairSentencesTasks\\.cache\\logs\n",
      ">> device : cuda\n"
     ]
    }
   ],
   "source": [
    "%load_ext autoreload\n",
    "%autoreload 2\n",
    "\n",
    "from IPython.display import display, HTML\n",
    "import os\n",
    "from os import path\n",
    "import sys\n",
    "cwd = os.getcwd().split(os.path.sep)\n",
    "\n",
    "# point to the git repository\n",
    "while cwd[-1] != \"ExplanationPairSentencesTasks\":\n",
    "    os.chdir(\"..\")\n",
    "    cwd = os.getcwd().split(os.path.sep)\n",
    "print(f\">> current directory : {os.getcwd()}\")\n",
    "\n",
    "# add the root directory\n",
    "sys.path.append(os.path.join(os.getcwd(), \"src\"))\n",
    "\n",
    "# cache and data cache\n",
    "cache_path = path.join(os.getcwd() ,'.cache')\n",
    "dataset_path = path.join(cache_path, 'dataset')\n",
    "log_path = path.join(cache_path, 'logs')\n",
    "model_path = path.join(cache_path, 'models')\n",
    "print(f\">> cache path : {cache_path}\")\n",
    "print(f\">> model path : {model_path}\")\n",
    "print(f\">> dataset path : {dataset_path}\")\n",
    "print(f\">> logs path : {log_path}\")\n",
    "\n",
    "# import the different modules\n",
    "from src.data_module.hatexplain import HateXPlainDM\n",
    "from pur_attention import AttitModel\n",
    "from modules import metrics\n",
    "from notebooks.attention_based.utils.ckp_config import *\n",
    "\n",
    "# external librairies\n",
    "import numpy as np\n",
    "import torch\n",
    "import matplotlib.pyplot as plt\n",
    "import seaborn as sns\n",
    "sns.set_theme()\n",
    "from tqdm.notebook import tqdm\n",
    "\n",
    "DEVICE = torch.device('cuda' if torch.cuda.is_available() else 'cpu')\n",
    "print(f\">> device : {DEVICE}\")"
   ]
  },
  {
   "cell_type": "markdown",
   "source": [
    "## Etude sur les réseaux d'attention pur entrainés pour une tête et plusieurs couches"
   ],
   "metadata": {
    "collapsed": false,
    "pycharm": {
     "name": "#%% md\n"
    }
   }
  },
  {
   "cell_type": "markdown",
   "source": [
    "### Travail sur le jeu de données *HateXPlain*"
   ],
   "metadata": {
    "collapsed": false,
    "pycharm": {
     "name": "#%% md\n"
    }
   }
  },
  {
   "cell_type": "code",
   "execution_count": 20,
   "outputs": [],
   "source": [
    "# the hatexplain dataset\n",
    "dm_kwargs = dict(cache_path=dataset_path,\n",
    "                 batch_size=32,\n",
    "                 num_workers=0,\n",
    "                 n_data=999,\n",
    "                 pur_attention=True)\n",
    "dm = HateXPlainDM(**dm_kwargs)\n",
    "dm.prepare_data()\n",
    "dm.setup(stage=\"test\")\n",
    "\n",
    "test_dataloader = dm.test_dataloader() # load the test dataset"
   ],
   "metadata": {
    "collapsed": false,
    "pycharm": {
     "name": "#%%\n"
    }
   }
  },
  {
   "cell_type": "code",
   "execution_count": 21,
   "outputs": [],
   "source": [
    "model_args = dict(\n",
    "        cache_path=model_path,\n",
    "        mode=\"exp\",\n",
    "        vocab=dm.vocab,\n",
    "        lambda_entrop=0,\n",
    "        lambda_supervise=0,\n",
    "        lambda_lagrange=0,\n",
    "        pretrained_vectors=\"glove.840B.300d\",\n",
    "        num_layers=1,\n",
    "        num_heads=1,\n",
    "        d_embedding=300,\n",
    "        data=\"hatexplain\",\n",
    "        num_class=dm.num_class,\n",
    "        opt=\"adadelta\"\n",
    "    )"
   ],
   "metadata": {
    "collapsed": false,
    "pycharm": {
     "name": "#%%\n"
    }
   }
  },
  {
   "cell_type": "code",
   "execution_count": 22,
   "outputs": [],
   "source": [
    "# dictionnary where we will store the value of the entropy\n",
    "# TODO : travailler pour aussi faire apparaître la variance de l'entropie.\n",
    "entropy_dict = {\n",
    "    f\"n_layer={i+1}\" : np.zeros((i+1,)) for i in range(10)\n",
    "}"
   ],
   "metadata": {
    "collapsed": false,
    "pycharm": {
     "name": "#%%\n"
    }
   }
  },
  {
   "cell_type": "code",
   "execution_count": 23,
   "id": "a73f6535-e1b8-422d-8cc3-74230baff9d1",
   "metadata": {
    "pycharm": {
     "name": "#%%\n"
    }
   },
   "outputs": [],
   "source": [
    "%%capture\n",
    "for l in range(1) :\n",
    "    # for each iteration update the model args\n",
    "    model_args[\"num_layers\"] = l+1\n",
    "    ckp, hparams = gen_ckp(name=\"PurAttention\",num_layers=l+1, num_heads=1, log_path=log_path, dataset=\"hatexplain\")\n",
    "    model = AttitModel.load_from_checkpoint(ckp, hparams_file=hparams, **model_args)\n",
    "    model = model.eval()\n",
    "\n",
    "    with torch.no_grad():\n",
    "        model = model.to(DEVICE)\n",
    "        pbar = tqdm(enumerate(test_dataloader), total = int(999/32))\n",
    "        for id_batch, batch in pbar:\n",
    "            pbar.set_description(\"proceed the entropy maps\")\n",
    "            ids = batch[\"token_ids\"].to(DEVICE)\n",
    "            padding_mask = batch[\"padding_mask\"].bool().to(DEVICE)\n",
    "            output = model(ids=ids, mask=padding_mask)\n",
    "\n",
    "            cl = output[\"logits\"].argmax(dim=-1) # search for the class\n",
    "            # process the attention tensor\n",
    "            attention_tensor = torch.stack(output[\"attn_weights\"], dim=1) # shape [b, l, T, T]\n",
    "            agreg_mask = ((~padding_mask).float()).clone().detach().to(DEVICE) \\\n",
    "                .unsqueeze(1).unsqueeze(1) \\\n",
    "                .repeat(1, 1, batch['token_ids'].shape[1], 1)\n",
    "            pad_mask = torch.transpose(agreg_mask, dim0=2, dim1=3)\n",
    "            attention_tensor = torch.mul(attention_tensor, pad_mask)\n",
    "            a_hat = attention_tensor.sum(dim=2)\n",
    "\n",
    "            # ENTROPY : calculation of the entropy on each layer\n",
    "            for i in range(l+1):\n",
    "                print(\"\")\n",
    "                entropy_mask = padding_mask.float().clone().detach().to(DEVICE)\n",
    "                entropy_mask[:, 0] = 1.  # we don't take into account the CLS token\n",
    "                # we only look at the layer i\n",
    "                a_hat_entropy = metrics.entropy(a_hat[:, i, :], entropy_mask.bool(), normalize=True)\n",
    "                entropy_dict[f\"n_layer={l+1}\"][i] += a_hat_entropy.sum().item()\n",
    "\n",
    "    model = model.cpu()\n",
    "    del model\n",
    "    torch.cuda.empty_cache()\n",
    "\n",
    "# mean the dict\n",
    "for k in entropy_dict:\n",
    "    entropy_dict[k] = entropy_dict[k] / 999\n",
    ";"
   ]
  },
  {
   "cell_type": "code",
   "execution_count": 24,
   "outputs": [
    {
     "data": {
      "text/plain": "<Figure size 720x720 with 1 Axes>",
      "image/png": "[encoded data removed]"
     },
     "metadata": {},
     "output_type": "display_data"
    }
   ],
   "source": [
    "fig = plt.figure(figsize=(10,10))\n",
    "txt = plt.title(\"Entropy through layers (1 head model - hatexplain)\")\n",
    "for i in range(1):\n",
    "    plt.scatter(list(range(i+1)) ,entropy_dict[f\"n_layer={i+1}\"], label=f\"n_layer={i+1}\")\n",
    "plt.ylim((0, 1.1))\n",
    "\n",
    "plt.ylabel(\"Entropy\")\n",
    "plt.xlabel(\"Layer\")\n",
    "\n",
    "x = list(range(0, 10))\n",
    "plt.xticks(x, [f\"layer {l+1}\" for l in x], rotation=60)\n",
    "\n",
    "txt = plt.legend()\n",
    "plt.savefig(os.path.join(os.getcwd(),\".cache\",\"fig\",\"hatexplain_h=1_l=[1,10]\", \"scatter_entropy.png\"))"
   ],
   "metadata": {
    "collapsed": false,
    "pycharm": {
     "name": "#%%\n"
    }
   }
  },
  {
   "cell_type": "code",
   "execution_count": 16,
   "outputs": [],
   "source": [
    "%%capture\n",
    "for l in range(1) :\n",
    "    # for each iteration update the model args\n",
    "    model_args[\"num_layers\"] = l+1\n",
    "    ckp, hparams = gen_ckp(name=\"PurAttention\",num_layers=l+1, num_heads=1, log_path=log_path, dataset=\"hatexplain\")\n",
    "    model = AttitModel.load_from_checkpoint(ckp, hparams_file=hparams, **model_args)\n",
    "    model = model.eval()\n",
    "\n",
    "    with torch.no_grad():\n",
    "        model = model.to(DEVICE)\n",
    "        pbar = tqdm(enumerate(test_dataloader), total = int(999/32))\n",
    "        for id_batch, batch in pbar:\n",
    "            pbar.set_description(\"proceed the entropy maps\")\n",
    "            ids = batch[\"token_ids\"].to(DEVICE)\n",
    "            padding_mask = batch[\"padding_mask\"].bool().to(DEVICE)\n",
    "            output = model(ids=ids, mask=padding_mask)\n",
    "\n",
    "            # process the attention tensor\n",
    "            attention_tensor = torch.stack(output[\"attn_weights\"], dim=1) # shape [b, l, T, T]\n",
    "            a_hat = attention_tensor[:,:,0,:] # only choose the CLS line\n",
    "\n",
    "            # ENTROPY : calculation of the entropy on each layer\n",
    "            for i in range(l+1):\n",
    "                print(\"\")\n",
    "                entropy_mask = padding_mask.float().clone().detach().to(DEVICE)\n",
    "                entropy_mask[:, 0] = 1.  # we don't take into account the CLS token\n",
    "                # we only look at the layer i\n",
    "                a_hat_entropy = metrics.entropy(a_hat[:, i, :], entropy_mask.bool(), normalize=True)\n",
    "                entropy_dict[f\"n_layer={l+1}\"][i] += a_hat_entropy.sum().item()\n",
    "\n",
    "    model = model.cpu()\n",
    "    del model\n",
    "    torch.cuda.empty_cache()\n",
    "\n",
    "# mean the dict\n",
    "for k in entropy_dict:\n",
    "    entropy_dict[k] = entropy_dict[k] / 999\n",
    ";"
   ],
   "metadata": {
    "collapsed": false,
    "pycharm": {
     "name": "#%%\n"
    }
   }
  },
  {
   "cell_type": "code",
   "execution_count": 17,
   "outputs": [
    {
     "data": {
      "text/plain": "<Figure size 720x720 with 1 Axes>",
      "image/png": "[encoded data removed]"
     },
     "metadata": {},
     "output_type": "display_data"
    }
   ],
   "source": [
    "fig = plt.figure(figsize=(10,10))\n",
    "txt = plt.title(\"CLS - Entropy through layers (1 head model - hatexplain)\")\n",
    "for i in range(1):\n",
    "    plt.scatter(list(range(i+1)) ,entropy_dict[f\"n_layer={i+1}\"], label=f\"n_layer={i+1}\")\n",
    "plt.ylim((0, 1.1))\n",
    "\n",
    "plt.ylabel(\"Entropy\")\n",
    "plt.xlabel(\"Layer\")\n",
    "\n",
    "x = list(range(0, 10))\n",
    "plt.xticks(x, [f\"layer {l+1}\" for l in x], rotation=60)\n",
    "\n",
    "txt = plt.legend()\n",
    "plt.savefig(os.path.join(os.getcwd(),\".cache\",\"fig\",\"hatexplain_h=1_l=[1,10]\", \"cls_scatter_entropy.png\"))"
   ],
   "metadata": {
    "collapsed": false,
    "pycharm": {
     "name": "#%%\n"
    }
   }
  }
 ],
 "metadata": {
  "kernelspec": {
   "display_name": "Python 3 (ipykernel)",
   "language": "python",
   "name": "python3"
  },
  "language_info": {
   "codemirror_mode": {
    "name": "ipython",
    "version": 3
   },
   "file_extension": ".py",
   "mimetype": "text/x-python",
   "name": "python",
   "nbconvert_exporter": "python",
   "pygments_lexer": "ipython3",
   "version": "3.7.13"
  }
 },
 "nbformat": 4,
 "nbformat_minor": 5
}