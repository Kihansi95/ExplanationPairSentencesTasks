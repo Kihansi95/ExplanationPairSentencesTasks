{
 "cells": [
  {
   "cell_type": "code",
   "execution_count": 1,
   "outputs": [
    {
     "name": "stdout",
     "output_type": "stream",
     "text": [
      ">> current directory : C:\\Users\\loicf\\Documents\\IRISA\\ExplanationPairSentencesTasks\n",
      ">> cache path : C:\\Users\\loicf\\Documents\\IRISA\\ExplanationPairSentencesTasks\\.cache\n",
      ">> model path : C:\\Users\\loicf\\Documents\\IRISA\\ExplanationPairSentencesTasks\\.cache\\models\n",
      ">> dataset path : C:\\Users\\loicf\\Documents\\IRISA\\ExplanationPairSentencesTasks\\.cache\\dataset\n",
      ">> logs path : C:\\Users\\loicf\\Documents\\IRISA\\ExplanationPairSentencesTasks\\.cache\\logs\n",
      ">> device : cuda\n"
     ]
    }
   ],
   "source": [
    "%load_ext autoreload\n",
    "%autoreload 2\n",
    "\n",
    "import os\n",
    "from os import path\n",
    "import sys\n",
    "cwd = os.getcwd().split(os.path.sep)\n",
    "\n",
    "# point to the git repository\n",
    "while cwd[-1] != \"ExplanationPairSentencesTasks\":\n",
    "    os.chdir(\"..\")\n",
    "    cwd = os.getcwd().split(os.path.sep)\n",
    "print(f\">> current directory : {os.getcwd()}\")\n",
    "\n",
    "# add the root directory\n",
    "sys.path.append(os.path.join(os.getcwd(), \"src\"))\n",
    "\n",
    "# cache and data cache\n",
    "cache_path = path.join(os.getcwd() ,'.cache')\n",
    "dataset_path = path.join(cache_path, 'dataset')\n",
    "log_path = path.join(cache_path, 'logs')\n",
    "model_path = path.join(cache_path, 'models')\n",
    "print(f\">> cache path : {cache_path}\")\n",
    "print(f\">> model path : {model_path}\")\n",
    "print(f\">> dataset path : {dataset_path}\")\n",
    "print(f\">> logs path : {log_path}\")\n",
    "\n",
    "# import the different modules\n",
    "from src.data_module.hatexplain import CLSTokenHateXPlainDM\n",
    "from src.data_module.esnli import CLSTokenESNLIDM\n",
    "from src.data_module.yelp_hat import CLSTokenYelpHat50DM, CLSTokenYelpHatDM\n",
    "from pur_attention_key_reg import AttitModel\n",
    "from notebooks.attention_based.utils.ckp_config import *\n",
    "\n",
    "# external librairies\n",
    "import numpy as np\n",
    "import torch\n",
    "import matplotlib.pyplot as plt\n",
    "import seaborn as sns\n",
    "sns.set_theme()\n",
    "from tqdm.notebook import tqdm\n",
    "\n",
    "from modules.metrics.geometry import cosine_sim, effective_rank\n",
    "\n",
    "DEVICE = torch.device('cuda' if torch.cuda.is_available() else 'cpu')\n",
    "print(f\">> device : {DEVICE}\")"
   ],
   "metadata": {
    "collapsed": false,
    "pycharm": {
     "name": "#%%\n"
    }
   }
  },
  {
   "cell_type": "code",
   "execution_count": 2,
   "outputs": [],
   "source": [
    "reg_params = [0, 1, 2, 4, 6]"
   ],
   "metadata": {
    "collapsed": false,
    "pycharm": {
     "name": "#%%\n"
    }
   }
  },
  {
   "cell_type": "markdown",
   "source": [
    "# HateXplain"
   ],
   "metadata": {
    "collapsed": false,
    "pycharm": {
     "name": "#%% md\n"
    }
   }
  },
  {
   "cell_type": "code",
   "execution_count": 3,
   "outputs": [],
   "source": [
    "%%capture\n",
    "sim_k_dict = {\n",
    "    f\"lambda={i}\" : 0 for i in reg_params\n",
    "}\n",
    "sim_v_dict = {\n",
    "    f\"lambda={i}\" : 0 for i in reg_params\n",
    "}\n",
    "\n",
    "dm_kwargs = dict(cache_path=dataset_path,\n",
    "                 batch_size=32,\n",
    "                 num_workers=0,\n",
    "                 n_data=999\n",
    "                 )\n",
    "\n",
    "dm = CLSTokenHateXPlainDM(**dm_kwargs)\n",
    "\n",
    "dm.prepare_data()\n",
    "dm.setup(stage=\"test\")\n",
    "test_dataloader = dm.test_dataloader() # load the test dataset\n",
    "\n",
    "spec_ids = torch.tensor(dm.vocab([\"<cls>\", \"<pad>\", \"<unk>\"]), device=DEVICE)\n",
    "\n",
    "model_args = dict(\n",
    "        cache_path=model_path,\n",
    "        mode=\"exp\",\n",
    "        vocab=dm.vocab,\n",
    "        lambda_entropy=0,\n",
    "        lambda_supervise=0,\n",
    "        lambda_lagrange=0,\n",
    "        pretrained_vectors=\"glove.840B.300d\",\n",
    "        num_layers=1,\n",
    "        num_heads=1,\n",
    "        d_embedding=300,\n",
    "        data=\"hatexplain\",\n",
    "        num_class=dm.num_class,\n",
    "        opt=\"adam\"\n",
    ")\n",
    "\n",
    "for i in reg_params :\n",
    "\n",
    "    ckp = os.path.join(log_path, \"PurAttentionReg\", f\"entropy_reg_hatexplain_lbd={i}\", \"checkpoints\", \"best.ckpt\")\n",
    "    hparams = os.path.join(log_path, \"PurAttentionReg\", f\"entropy_reg_hatexplain_lbd={i}\", \"hparams.yaml\")\n",
    "\n",
    "    # the model\n",
    "    model = AttitModel.load_from_checkpoint(ckp, hparams_file=hparams, **model_args)\n",
    "    model = model.eval()\n",
    "\n",
    "    with torch.no_grad():\n",
    "        model = model.to(DEVICE)\n",
    "        pbar = tqdm(enumerate(test_dataloader), total = int(999/32))\n",
    "        for id_batch, batch in pbar:\n",
    "\n",
    "            pbar.set_description(\"proceed the similarity metric\")\n",
    "            ids = batch[\"token_ids\"].to(DEVICE)\n",
    "\n",
    "            # PADDING\n",
    "            padding_mask = batch[\"padding_mask\"].bool().to(DEVICE)\n",
    "            buff_mask = torch.isin(ids, spec_ids)\n",
    "            embedding_padding = padding_mask.clone()\n",
    "            embedding_padding[buff_mask] = 1.\n",
    "\n",
    "            # OUTPUTS\n",
    "            output = model(ids=ids, mask=padding_mask)\n",
    "\n",
    "            k, v, emb = output[\"key_embeddings\"], output[\"value_embeddings\"], output[\"hidden_states\"]\n",
    "\n",
    "            sim_k = cosine_sim(k[0], padding_mask, normalize=\"\")\n",
    "            sim_v = cosine_sim(v[0], padding_mask, normalize=\"\")\n",
    "\n",
    "            # update dictionnaries\n",
    "            sim_k_dict[f\"lambda={i}\"] += sim_k.sum().item()\n",
    "            sim_v_dict[f\"lambda={i}\"]+= sim_v.sum().item()\n",
    "\n",
    "    model = model.cpu()\n",
    "    del model\n",
    "    torch.cuda.empty_cache()\n",
    "\n",
    "for k in sim_k_dict:\n",
    "    sim_k_dict[k] = sim_k_dict[k] / dm.n_data\n",
    "    sim_v_dict[k] = sim_v_dict[k] / dm.n_data\n",
    ";"
   ],
   "metadata": {
    "collapsed": false,
    "pycharm": {
     "name": "#%%capture\n"
    }
   }
  },
  {
   "cell_type": "code",
   "execution_count": 4,
   "outputs": [
    {
     "name": "stdout",
     "output_type": "stream",
     "text": [
      "lambda=0 : 0.745360366813652\n",
      "lambda=1 : 0.5519730266746696\n",
      "lambda=2 : 0.5592802270158036\n",
      "lambda=4 : 0.46210975188750764\n",
      "lambda=6 : 0.4592474301656087\n"
     ]
    }
   ],
   "source": [
    "for k in sim_k_dict:\n",
    "    print(k, \":\", sim_k_dict[k])"
   ],
   "metadata": {
    "collapsed": false,
    "pycharm": {
     "name": "#%%\n"
    }
   }
  },
  {
   "cell_type": "code",
   "execution_count": 5,
   "outputs": [
    {
     "name": "stdout",
     "output_type": "stream",
     "text": [
      "lambda=0 : 0.5778044064839681\n",
      "lambda=1 : 0.5200517516475063\n",
      "lambda=2 : 0.6888904905653334\n",
      "lambda=4 : 0.6777643264831604\n",
      "lambda=6 : 0.47847652769422866\n"
     ]
    }
   ],
   "source": [
    "for k in sim_v_dict:\n",
    "    print(k, \":\", sim_v_dict[k])"
   ],
   "metadata": {
    "collapsed": false,
    "pycharm": {
     "name": "#%%\n"
    }
   }
  },
  {
   "cell_type": "code",
   "execution_count": 6,
   "outputs": [
    {
     "data": {
      "text/plain": "''"
     },
     "execution_count": 6,
     "metadata": {},
     "output_type": "execute_result"
    },
    {
     "data": {
      "text/plain": "<Figure size 720x720 with 1 Axes>",
      "image/png": "[encoded data removed]"
     },
     "metadata": {},
     "output_type": "display_data"
    }
   ],
   "source": [
    "# the corresponding graphic\n",
    "figure = plt.figure(figsize=(10, 10))\n",
    "plt.plot(list(range(len(sim_k_dict))), list(sim_k_dict.values()), \"+-\", label=\"keys\")\n",
    "plt.plot(list(range(len(sim_v_dict))), list(sim_v_dict.values()), \"+-\", label=\"values\")\n",
    "plt.ylim(0, 1)\n",
    "plt.legend()\n",
    "plt.ylabel(\"cos - sim\")\n",
    "plt.title(\"Similarity evolution with $\\lambda$\")\n",
    "#plt.xlabel(\"$\\lambda$\")\n",
    "ax = plt.gca()\n",
    "ax.set_xticks(list(range(len(sim_k_dict))))\n",
    "labels = [f\"$\\lambda = {x}$\" for x in reg_params]\n",
    "ax.set_xticklabels(labels, rotation=45)\n",
    "plt.savefig(os.path.join(cache_path, \"fig\", \"reg_geometry\", \"reg_geometry_hatexplain.png\"))\n",
    ";"
   ],
   "metadata": {
    "collapsed": false,
    "pycharm": {
     "name": "#%%\n"
    }
   }
  },
  {
   "cell_type": "markdown",
   "source": [
    "# YelpHat"
   ],
   "metadata": {
    "collapsed": false,
    "pycharm": {
     "name": "#%% md\n"
    }
   }
  },
  {
   "cell_type": "code",
   "execution_count": 7,
   "outputs": [],
   "source": [
    "%%capture\n",
    "sim_k_dict = {\n",
    "    f\"lambda={i}\" : 0 for i in reg_params\n",
    "}\n",
    "sim_v_dict = {\n",
    "    f\"lambda={i}\" : 0 for i in reg_params\n",
    "}\n",
    "\n",
    "dm_kwargs = dict(cache_path=dataset_path,\n",
    "                 batch_size=32,\n",
    "                 num_workers=0,\n",
    "                 n_data=300\n",
    "                 )\n",
    "\n",
    "dm = CLSTokenYelpHat50DM(**dm_kwargs)\n",
    "\n",
    "dm.prepare_data()\n",
    "dm.setup(stage=\"test\")\n",
    "test_dataloader = dm.test_dataloader() # load the test dataset\n",
    "\n",
    "spec_ids = torch.tensor(dm.vocab([\"<cls>\", \"<pad>\", \"<unk>\"]), device=DEVICE)\n",
    "\n",
    "model_args = dict(\n",
    "        cache_path=model_path,\n",
    "        mode=\"exp\",\n",
    "        vocab=dm.vocab,\n",
    "        lambda_entropy=0,\n",
    "        lambda_supervise=0,\n",
    "        lambda_lagrange=0,\n",
    "        pretrained_vectors=\"glove.840B.300d\",\n",
    "        num_layers=1,\n",
    "        num_heads=1,\n",
    "        d_embedding=300,\n",
    "        data=\"yelphat50\",\n",
    "        num_class=dm.num_class,\n",
    "        opt=\"adam\"\n",
    ")\n",
    "\n",
    "for i in reg_params :\n",
    "\n",
    "    ckp = os.path.join(log_path, \"PurAttentionReg\", f\"entropy_reg_yelphat50_lbd={i}\", \"checkpoints\", \"best.ckpt\")\n",
    "    hparams = os.path.join(log_path, \"PurAttentionReg\", f\"entropy_reg_yelphat50_lbd={i}\", \"hparams.yaml\")\n",
    "\n",
    "    # the model\n",
    "    model = AttitModel.load_from_checkpoint(ckp, hparams_file=hparams, **model_args)\n",
    "    model = model.eval()\n",
    "\n",
    "    with torch.no_grad():\n",
    "        model = model.to(DEVICE)\n",
    "        pbar = tqdm(enumerate(test_dataloader), total = int(999/32))\n",
    "        for id_batch, batch in pbar:\n",
    "\n",
    "            pbar.set_description(\"proceed the similarity metric\")\n",
    "            ids = batch[\"token_ids\"].to(DEVICE)\n",
    "\n",
    "            # PADDING\n",
    "            padding_mask = batch[\"padding_mask\"].bool().to(DEVICE)\n",
    "            buff_mask = torch.isin(ids, spec_ids)\n",
    "            embedding_padding = padding_mask.clone()\n",
    "            embedding_padding[buff_mask] = 1.\n",
    "\n",
    "            # OUTPUTS\n",
    "            output = model(ids=ids, mask=padding_mask)\n",
    "\n",
    "            k, v, emb = output[\"key_embeddings\"], output[\"value_embeddings\"], output[\"hidden_states\"]\n",
    "\n",
    "            sim_k = cosine_sim(k[0], padding_mask, normalize=\"\")\n",
    "            sim_v = cosine_sim(v[0], padding_mask, normalize=\"\")\n",
    "\n",
    "            # update dictionnaries\n",
    "            sim_k_dict[f\"lambda={i}\"] += sim_k.sum().item()\n",
    "            sim_v_dict[f\"lambda={i}\"]+= sim_v.sum().item()\n",
    "\n",
    "    model = model.cpu()\n",
    "    del model\n",
    "    torch.cuda.empty_cache()\n",
    "\n",
    "for k in sim_k_dict:\n",
    "    sim_k_dict[k] = sim_k_dict[k] / dm.n_data\n",
    "    sim_v_dict[k] = sim_v_dict[k] / dm.n_data\n",
    ";"
   ],
   "metadata": {
    "collapsed": false,
    "pycharm": {
     "name": "#%%\n"
    }
   }
  },
  {
   "cell_type": "code",
   "execution_count": 8,
   "outputs": [
    {
     "data": {
      "text/plain": "{'lambda=0': 0.5976478163401285,\n 'lambda=1': 0.509263919989268,\n 'lambda=2': 0.5096314263343811,\n 'lambda=4': 0.4310096271832784,\n 'lambda=6': 0.4527462871869405}"
     },
     "execution_count": 8,
     "metadata": {},
     "output_type": "execute_result"
    }
   ],
   "source": [
    "sim_k_dict"
   ],
   "metadata": {
    "collapsed": false,
    "pycharm": {
     "name": "#%%\n"
    }
   }
  },
  {
   "cell_type": "code",
   "execution_count": 9,
   "outputs": [
    {
     "data": {
      "text/plain": "{'lambda=0': 0.42626859188079835,\n 'lambda=1': 0.5858618179957072,\n 'lambda=2': 0.6262212642033895,\n 'lambda=4': 0.605236177444458,\n 'lambda=6': 0.5403413303693135}"
     },
     "execution_count": 9,
     "metadata": {},
     "output_type": "execute_result"
    }
   ],
   "source": [
    "sim_v_dict"
   ],
   "metadata": {
    "collapsed": false,
    "pycharm": {
     "name": "#%%\n"
    }
   }
  },
  {
   "cell_type": "code",
   "execution_count": 10,
   "outputs": [
    {
     "data": {
      "text/plain": "''"
     },
     "execution_count": 10,
     "metadata": {},
     "output_type": "execute_result"
    },
    {
     "data": {
      "text/plain": "<Figure size 720x720 with 1 Axes>",
      "image/png": "[encoded data removed]"
     },
     "metadata": {},
     "output_type": "display_data"
    }
   ],
   "source": [
    "# the corresponding graphic\n",
    "figure = plt.figure(figsize=(10, 10))\n",
    "plt.plot(list(range(len(sim_k_dict))), list(sim_k_dict.values()), \"+-\", label=\"keys\")\n",
    "plt.plot(list(range(len(sim_v_dict))), list(sim_v_dict.values()), \"+-\", label=\"values\")\n",
    "plt.ylim(0, 1)\n",
    "plt.legend()\n",
    "plt.ylabel(\"cos - sim\")\n",
    "plt.title(\"Similarity evolution with $\\lambda$\")\n",
    "#plt.xlabel(\"$\\lambda$\")\n",
    "ax = plt.gca()\n",
    "ax.set_xticks(list(range(len(sim_k_dict))))\n",
    "labels = [f\"$\\lambda = {x}$\" for x in reg_params]\n",
    "ax.set_xticklabels(labels, rotation=45)\n",
    "plt.savefig(os.path.join(cache_path, \"fig\", \"reg_geometry\", \"reg_geometry_yelphat.png\"))\n",
    ";"
   ],
   "metadata": {
    "collapsed": false,
    "pycharm": {
     "name": "#%%\n"
    }
   }
  },
  {
   "cell_type": "markdown",
   "source": [
    "# E-SNLI"
   ],
   "metadata": {
    "collapsed": false,
    "pycharm": {
     "name": "#%% md\n"
    }
   }
  },
  {
   "cell_type": "code",
   "execution_count": 11,
   "outputs": [],
   "source": [
    "%%capture\n",
    "sim_k_dict = {\n",
    "    f\"lambda={i}\" : 0 for i in reg_params\n",
    "}\n",
    "sim_v_dict = {\n",
    "    f\"lambda={i}\" : 0 for i in reg_params\n",
    "}\n",
    "\n",
    "dm_kwargs = dict(cache_path=dataset_path,\n",
    "                 batch_size=32,\n",
    "                 num_workers=0,\n",
    "                 n_data=999\n",
    "                 )\n",
    "\n",
    "dm = CLSTokenESNLIDM(**dm_kwargs)\n",
    "\n",
    "dm.prepare_data()\n",
    "dm.setup(stage=\"test\")\n",
    "test_dataloader = dm.test_dataloader() # load the test dataset\n",
    "\n",
    "spec_ids = torch.tensor(dm.vocab([\"<cls>\", \"<pad>\", \"<unk>\"]), device=DEVICE)\n",
    "\n",
    "model_args = dict(\n",
    "        cache_path=model_path,\n",
    "        mode=\"exp\",\n",
    "        vocab=dm.vocab,\n",
    "        lambda_entropy=0,\n",
    "        lambda_supervise=0,\n",
    "        lambda_lagrange=0,\n",
    "        pretrained_vectors=\"glove.840B.300d\",\n",
    "        num_layers=1,\n",
    "        num_heads=1,\n",
    "        d_embedding=300,\n",
    "        data=\"esnli\",\n",
    "        num_class=dm.num_class,\n",
    "        opt=\"adam\"\n",
    ")\n",
    "\n",
    "for i in reg_params :\n",
    "\n",
    "    ckp = os.path.join(log_path, \"PurAttentionReg\", f\"entropy_reg_esnli_lbd={i}\", \"checkpoints\", \"best.ckpt\")\n",
    "    hparams = os.path.join(log_path, \"PurAttentionReg\", f\"entropy_reg_esnli_lbd={i}\", \"hparams.yaml\")\n",
    "\n",
    "    # the model\n",
    "    model = AttitModel.load_from_checkpoint(ckp, hparams_file=hparams, **model_args)\n",
    "    model = model.eval()\n",
    "\n",
    "    with torch.no_grad():\n",
    "        model = model.to(DEVICE)\n",
    "        pbar = tqdm(enumerate(test_dataloader), total = int(999/32))\n",
    "        for id_batch, batch in pbar:\n",
    "\n",
    "            pbar.set_description(\"proceed the similarity metric\")\n",
    "            ids = batch[\"token_ids\"].to(DEVICE)\n",
    "\n",
    "            # PADDING\n",
    "            padding_mask = batch[\"padding_mask\"].bool().to(DEVICE)\n",
    "            buff_mask = torch.isin(ids, spec_ids)\n",
    "            embedding_padding = padding_mask.clone()\n",
    "            embedding_padding[buff_mask] = 1.\n",
    "\n",
    "            # OUTPUTS\n",
    "            output = model(ids=ids, mask=padding_mask)\n",
    "\n",
    "            k, v, emb = output[\"key_embeddings\"], output[\"value_embeddings\"], output[\"hidden_states\"]\n",
    "\n",
    "            sim_k = cosine_sim(k[0], padding_mask, normalize=\"\")\n",
    "            sim_v = cosine_sim(v[0], padding_mask, normalize=\"\")\n",
    "\n",
    "            # update dictionnaries\n",
    "            sim_k_dict[f\"lambda={i}\"] += sim_k.sum().item()\n",
    "            sim_v_dict[f\"lambda={i}\"]+= sim_v.sum().item()\n",
    "\n",
    "    model = model.cpu()\n",
    "    del model\n",
    "    torch.cuda.empty_cache()\n",
    "\n",
    "for k in sim_k_dict:\n",
    "    sim_k_dict[k] = sim_k_dict[k] / dm.n_data\n",
    "    sim_v_dict[k] = sim_v_dict[k] / dm.n_data\n",
    ";"
   ],
   "metadata": {
    "collapsed": false,
    "pycharm": {
     "name": "#%%\n"
    }
   }
  },
  {
   "cell_type": "code",
   "execution_count": 12,
   "outputs": [
    {
     "data": {
      "text/plain": "{'lambda=0': 0.6735863766751371,\n 'lambda=1': 0.11375479034714035,\n 'lambda=2': 0.08114713830155534,\n 'lambda=4': 0.10523046900679518,\n 'lambda=6': 0.18206116518339477}"
     },
     "execution_count": 12,
     "metadata": {},
     "output_type": "execute_result"
    }
   ],
   "source": [
    "sim_k_dict"
   ],
   "metadata": {
    "collapsed": false,
    "pycharm": {
     "name": "#%%\n"
    }
   }
  },
  {
   "cell_type": "code",
   "execution_count": 13,
   "outputs": [
    {
     "data": {
      "text/plain": "''"
     },
     "execution_count": 13,
     "metadata": {},
     "output_type": "execute_result"
    },
    {
     "data": {
      "text/plain": "<Figure size 720x720 with 1 Axes>",
      "image/png": "[encoded data removed]"
     },
     "metadata": {},
     "output_type": "display_data"
    }
   ],
   "source": [
    "# the corresponding graphic\n",
    "figure = plt.figure(figsize=(10, 10))\n",
    "plt.plot(list(range(len(sim_k_dict))), list(sim_k_dict.values()), \"+-\", label=\"keys\")\n",
    "plt.plot(list(range(len(sim_v_dict))), list(sim_v_dict.values()), \"+-\", label=\"values\")\n",
    "plt.ylim(.0, 1)\n",
    "plt.legend()\n",
    "plt.ylabel(\"cos - sim\")\n",
    "plt.title(\"Similarity evolution with $\\lambda$\")\n",
    "#plt.xlabel(\"$\\lambda$\")\n",
    "ax = plt.gca()\n",
    "ax.set_xticks(list(range(len(sim_k_dict))))\n",
    "labels = [f\"$\\lambda = {x}$\" for x in reg_params]\n",
    "ax.set_xticklabels(labels, rotation=45)\n",
    "plt.savefig(os.path.join(cache_path, \"fig\", \"reg_geometry\", \"reg_geometry_esnli.png\"))\n",
    ";"
   ],
   "metadata": {
    "collapsed": false,
    "pycharm": {
     "name": "#%%\n"
    }
   }
  }
 ],
 "metadata": {
  "kernelspec": {
   "display_name": "Python 3",
   "language": "python",
   "name": "python3"
  },
  "language_info": {
   "codemirror_mode": {
    "name": "ipython",
    "version": 2
   },
   "file_extension": ".py",
   "mimetype": "text/x-python",
   "name": "python",
   "nbconvert_exporter": "python",
   "pygments_lexer": "ipython2",
   "version": "2.7.6"
  }
 },
 "nbformat": 4,
 "nbformat_minor": 0
}