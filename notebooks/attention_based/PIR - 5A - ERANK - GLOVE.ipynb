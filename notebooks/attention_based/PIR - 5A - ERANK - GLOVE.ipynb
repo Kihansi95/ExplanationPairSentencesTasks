{
 "cells": [
  {
   "cell_type": "markdown",
   "source": [
    "# Calcul du rang effectiffe et géométrie"
   ],
   "metadata": {
    "collapsed": false,
    "pycharm": {
     "name": "#%% md\n"
    }
   }
  },
  {
   "cell_type": "code",
   "execution_count": 1,
   "outputs": [
    {
     "name": "stdout",
     "output_type": "stream",
     "text": [
      ">> current directory : C:\\Users\\loicf\\Documents\\IRISA\\ExplanationPairSentencesTasks\n",
      ">> cache path : C:\\Users\\loicf\\Documents\\IRISA\\ExplanationPairSentencesTasks\\.cache\n",
      ">> model path : C:\\Users\\loicf\\Documents\\IRISA\\ExplanationPairSentencesTasks\\.cache\\models\n",
      ">> dataset path : C:\\Users\\loicf\\Documents\\IRISA\\ExplanationPairSentencesTasks\\.cache\\dataset\n",
      ">> logs path : C:\\Users\\loicf\\Documents\\IRISA\\ExplanationPairSentencesTasks\\.cache\\logs\n",
      ">> device : cuda\n"
     ]
    }
   ],
   "source": [
    "%load_ext autoreload\n",
    "%autoreload 2\n",
    "\n",
    "from IPython.display import display, HTML\n",
    "import os\n",
    "from os import path\n",
    "import sys\n",
    "cwd = os.getcwd().split(os.path.sep)\n",
    "\n",
    "# point to the git repository\n",
    "while cwd[-1] != \"ExplanationPairSentencesTasks\":\n",
    "    os.chdir(\"..\")\n",
    "    cwd = os.getcwd().split(os.path.sep)\n",
    "print(f\">> current directory : {os.getcwd()}\")\n",
    "\n",
    "# add the root directory\n",
    "sys.path.append(os.path.join(os.getcwd(), \"src\"))\n",
    "\n",
    "# cache and data cache\n",
    "cache_path = path.join(os.getcwd() ,'.cache')\n",
    "dataset_path = path.join(cache_path, 'dataset')\n",
    "log_path = path.join(cache_path, 'logs')\n",
    "model_path = path.join(cache_path, 'models')\n",
    "print(f\">> cache path : {cache_path}\")\n",
    "print(f\">> model path : {model_path}\")\n",
    "print(f\">> dataset path : {dataset_path}\")\n",
    "print(f\">> logs path : {log_path}\")\n",
    "\n",
    "# import the different modules\n",
    "from src.data_module.hatexplain import HateXPlainDM\n",
    "from pur_attention import AttitModel\n",
    "from modules import metrics\n",
    "from notebooks.attention_based.utils.ckp_config import *\n",
    "\n",
    "# external librairies\n",
    "import numpy as np\n",
    "import torch\n",
    "import matplotlib.pyplot as plt\n",
    "import seaborn as sns\n",
    "sns.set_theme()\n",
    "from tqdm.notebook import tqdm\n",
    "\n",
    "DEVICE = torch.device('cuda' if torch.cuda.is_available() else 'cpu')\n",
    "print(f\">> device : {DEVICE}\")"
   ],
   "metadata": {
    "collapsed": false,
    "pycharm": {
     "name": "#%%\n"
    }
   }
  },
  {
   "cell_type": "code",
   "execution_count": 2,
   "outputs": [],
   "source": [
    "# the hatexplain dataset\n",
    "dm_kwargs = dict(cache_path=dataset_path,\n",
    "                 batch_size=32,\n",
    "                 num_workers=0,\n",
    "                 n_data=999,\n",
    "                 pur_attention=True)\n",
    "\n",
    "dm = HateXPlainDM(**dm_kwargs)\n",
    "dm.prepare_data()\n",
    "dm.setup(stage=\"test\")\n",
    "\n",
    "test_dataloader = dm.test_dataloader() # load the test dataset"
   ],
   "metadata": {
    "collapsed": false,
    "pycharm": {
     "name": "#%%\n"
    }
   }
  },
  {
   "cell_type": "code",
   "execution_count": 49,
   "outputs": [],
   "source": [
    "%%capture\n",
    "# erank on the raw part\n",
    "def erank_calculus(s : torch.tensor):\n",
    "    sum_s = s.sum()\n",
    "    return torch.exp(-((s /sum_s) * torch.log(s/sum_s)).sum())\n",
    "\n",
    "erank_train = []\n",
    "erank_raw = []\n",
    "\n",
    "for l in range(6):\n",
    "    model_args = dict(\n",
    "            cache_path=model_path,\n",
    "            mode=\"exp\",\n",
    "            vocab=dm.vocab,\n",
    "            lambda_entrop=0,\n",
    "            lambda_supervise=0,\n",
    "            lambda_lagrange=0,\n",
    "            pretrained_vectors=\"glove.840B.300d\",\n",
    "            num_layers=l+1,\n",
    "            num_heads=1,\n",
    "            d_embedding=300,\n",
    "            data=\"hatexplain\",\n",
    "            num_class=dm.num_class,\n",
    "            opt=\"adadelta\"\n",
    "        )\n",
    "    # load the raw model\n",
    "    raw_model = AttitModel(**model_args)\n",
    "    raw_model = raw_model.eval()\n",
    "\n",
    "    # load the trained model\n",
    "    ckp = os.path.join(log_path, \"PurAttention\", f\"run=0_l=0{l+1}_h=1\", \"checkpoints\", \"best.ckpt\")\n",
    "    hparams = os.path.join(log_path, \"PurAttention\", f\"run=0_l=0{l+1}_h=1\", \"hparams.yaml\")\n",
    "    train_model = AttitModel.load_from_checkpoint(ckp, hparams_file=hparams, **model_args)\n",
    "    train_model = train_model.eval()\n",
    "\n",
    "    trained_vectors = train_model.model.embedding.state_dict()[\"weight\"]\n",
    "    raw_vectors = raw_model.model.embedding.state_dict()[\"weight\"]\n",
    "\n",
    "\n",
    "    S_raw = torch.linalg.svdvals(raw_vectors)\n",
    "    S_train = torch.linalg.svdvals(trained_vectors)\n",
    "\n",
    "    erank_train.append(erank_calculus(S_train))\n",
    "    erank_raw.append(erank_calculus(S_raw))"
   ],
   "metadata": {
    "collapsed": false,
    "pycharm": {
     "name": "#%%\n"
    }
   }
  },
  {
   "cell_type": "code",
   "execution_count": 56,
   "outputs": [
    {
     "data": {
      "text/plain": "<Figure size 720x720 with 1 Axes>",
      "image/png": "[encoded data removed]"
     },
     "metadata": {},
     "output_type": "display_data"
    }
   ],
   "source": [
    "fig = plt.figure(figsize=(10,10))\n",
    "txt = plt.title(\"Erank metric of the embeddings\")\n",
    "plt.scatter(list(range(6)), erank_train, label=\"trained embeddings\")\n",
    "plt.plot(list(range(6)), erank_raw, label=\"raw embeddings\")\n",
    "plt.yscale(\"log\")\n",
    "plt.ylabel(\"Entropy\")\n",
    "#plt.xlabel(\"Layer\")\n",
    "plt.legend()\n",
    "x = list(range(0, 6))\n",
    "plt.xticks(x, [f\"layer {l+1}\" for l in x], rotation=60)\n",
    "plt.savefig(os.path.join(os.getcwd(),\".cache\",\"fig\",\"hatexplain_h=1_l=[1,10]\", \"erank_embeddings.png\"))"
   ],
   "metadata": {
    "collapsed": false,
    "pycharm": {
     "name": "#%%\n"
    }
   }
  }
 ],
 "metadata": {
  "kernelspec": {
   "display_name": "Python 3",
   "language": "python",
   "name": "python3"
  },
  "language_info": {
   "codemirror_mode": {
    "name": "ipython",
    "version": 2
   },
   "file_extension": ".py",
   "mimetype": "text/x-python",
   "name": "python",
   "nbconvert_exporter": "python",
   "pygments_lexer": "ipython2",
   "version": "2.7.6"
  }
 },
 "nbformat": 4,
 "nbformat_minor": 0
}