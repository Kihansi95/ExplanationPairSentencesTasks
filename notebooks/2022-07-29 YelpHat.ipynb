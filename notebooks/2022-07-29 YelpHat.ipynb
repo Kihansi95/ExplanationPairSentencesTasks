{
 "cells": [
  {
   "cell_type": "markdown",
   "id": "42291469-df9d-43bc-8e04-550994f2f37b",
   "metadata": {},
   "source": [
    "# Study on Yelp-Hat"
   ]
  },
  {
   "cell_type": "markdown",
   "id": "8f7496c4-0dd9-4d9c-9d39-fce827df3bee",
   "metadata": {},
   "source": [
    "Paper: https://davis.wpi.edu/dsrg/PROJECTS/YELPHAT/2020_ACL_Human_vs_Machine-2.pdf\n",
    "\n",
    "Summary:\n",
    "* __Do annotators carefully choose relevant words?__ Yes, as the collecting time and number of chosen words increase accross the sentence length.\n",
    "\n",
    "Sigles:\n",
    "* __HAM__ (Human Attention Map): what annotators denote\n",
    "* __CAM__ (Consensus Attention Map): bitwise __AND__ operation of the HAMs\n",
    "* __SAM__ (Super Attention Map): bitwise __OR__ operation of the HAMs. \n"
   ]
  },
  {
   "cell_type": "code",
   "execution_count": 1,
   "id": "8e5a77f3-37ef-489d-bbb7-73be05cfc3ad",
   "metadata": {},
   "outputs": [],
   "source": [
    "%load_ext autoreload\n",
    "%autoreload 2\n",
    "\n",
    "from IPython.display import display, HTML\n",
    "import os\n",
    "from os import path\n",
    "\n",
    "import sys\n",
    "sys.path.append(\"./../src\")\n",
    "\n",
    "cache_path = path.join(os.getcwd(), '..', '.cache')\n",
    "\n",
    "DATASET_NAME='yelp-hat'\n",
    "\n",
    "dataset_path = path.join(cache_path, 'dataset', DATASET_NAME)\n",
    "\n",
    "tmp_path = path.join('.cache', '2022-07-29')\n",
    "os.makedirs(tmp_path,exist_ok=True)"
   ]
  },
  {
   "cell_type": "code",
   "execution_count": 2,
   "id": "8b21b898-c66b-4f5a-8705-e2929c2d8a04",
   "metadata": {},
   "outputs": [],
   "source": [
    "# Download dataset zip\n",
    "URL='https://github.com/cansusen/Human-Attention-for-Text-Classification/archive/205c1552bc7be7ec48623d79d85d4c6fbfe62362.zip'"
   ]
  },
  {
   "cell_type": "markdown",
   "id": "4a02a562-b02d-4bec-aee5-1951162e0789",
   "metadata": {},
   "source": [
    "Download and extract dataset"
   ]
  },
  {
   "cell_type": "code",
   "execution_count": 3,
   "id": "2c006c64-6808-42d4-9ae0-394cc633df0d",
   "metadata": {},
   "outputs": [
    {
     "name": "stderr",
     "output_type": "stream",
     "text": [
      "2.56MB [00:00, 5.04MB/s]\n"
     ]
    }
   ],
   "source": [
    "from torchtext.utils import download_from_url, extract_archive\n",
    "import shutil\n",
    "\n",
    "zip_path = download_from_url(URL, root=dataset_path, path=path.join(dataset_path, f'{DATASET_NAME}.zip'))\n",
    "files = extract_archive(from_path=zip_path, to_path=dataset_path)\n",
    "\n",
    "for f in files:\n",
    "    if f.endswith('.csv'):\n",
    "        shutil.copy2(f, dataset_path)"
   ]
  },
  {
   "cell_type": "markdown",
   "id": "27e15a9b-8e9b-45cf-bde9-81cd12eabafa",
   "metadata": {},
   "source": [
    "A quoi ressemble la dataset?"
   ]
  },
  {
   "cell_type": "code",
   "execution_count": 4,
   "id": "57ef225d-0bbb-4172-8037-55416133d072",
   "metadata": {},
   "outputs": [
    {
     "data": {
      "text/html": [
       "<div>\n",
       "<style scoped>\n",
       "    .dataframe tbody tr th:only-of-type {\n",
       "        vertical-align: middle;\n",
       "    }\n",
       "\n",
       "    .dataframe tbody tr th {\n",
       "        vertical-align: top;\n",
       "    }\n",
       "\n",
       "    .dataframe thead th {\n",
       "        text-align: right;\n",
       "    }\n",
       "</style>\n",
       "<table border=\"1\" class=\"dataframe\">\n",
       "  <thead>\n",
       "    <tr style=\"text-align: right;\">\n",
       "      <th></th>\n",
       "      <th>Input.label</th>\n",
       "      <th>Input.text</th>\n",
       "      <th>Answer.Q1Answer</th>\n",
       "      <th>Answer.html_output</th>\n",
       "    </tr>\n",
       "  </thead>\n",
       "  <tbody>\n",
       "    <tr>\n",
       "      <th>0</th>\n",
       "      <td>1</td>\n",
       "      <td>Out in Twinsburg for work and wasn't expecting...</td>\n",
       "      <td>yes</td>\n",
       "      <td>&lt;span&gt;Out&lt;/span&gt; &lt;span&gt;in&lt;/span&gt; &lt;span&gt;Twinsbu...</td>\n",
       "    </tr>\n",
       "    <tr>\n",
       "      <th>1</th>\n",
       "      <td>1</td>\n",
       "      <td>Out in Twinsburg for work and wasn't expecting...</td>\n",
       "      <td>yes</td>\n",
       "      <td>&lt;span&gt;Out&lt;/span&gt; &lt;span&gt;in&lt;/span&gt; &lt;span&gt;Twinsbu...</td>\n",
       "    </tr>\n",
       "    <tr>\n",
       "      <th>2</th>\n",
       "      <td>1</td>\n",
       "      <td>Out in Twinsburg for work and wasn't expecting...</td>\n",
       "      <td>yes</td>\n",
       "      <td>&lt;span&gt;Out&lt;/span&gt; &lt;span&gt;in&lt;/span&gt; &lt;span&gt;Twinsbu...</td>\n",
       "    </tr>\n",
       "    <tr>\n",
       "      <th>3</th>\n",
       "      <td>0</td>\n",
       "      <td>Very slow. Never been in the drive at any othe...</td>\n",
       "      <td>no</td>\n",
       "      <td>&lt;span class=\"active\"&gt;Very&lt;/span&gt; &lt;span class=\"...</td>\n",
       "    </tr>\n",
       "    <tr>\n",
       "      <th>4</th>\n",
       "      <td>0</td>\n",
       "      <td>Very slow. Never been in the drive at any othe...</td>\n",
       "      <td>no</td>\n",
       "      <td>&lt;span&gt;Very&lt;/span&gt; &lt;span class=\"active\"&gt;slow.&lt;/...</td>\n",
       "    </tr>\n",
       "    <tr>\n",
       "      <th>...</th>\n",
       "      <td>...</td>\n",
       "      <td>...</td>\n",
       "      <td>...</td>\n",
       "      <td>...</td>\n",
       "    </tr>\n",
       "    <tr>\n",
       "      <th>895</th>\n",
       "      <td>0</td>\n",
       "      <td>I went here to get a snack before I went on th...</td>\n",
       "      <td>no</td>\n",
       "      <td>&lt;span&gt;I&lt;/span&gt; &lt;span&gt;went&lt;/span&gt; &lt;span&gt;here&lt;/s...</td>\n",
       "    </tr>\n",
       "    <tr>\n",
       "      <th>896</th>\n",
       "      <td>0</td>\n",
       "      <td>I went here to get a snack before I went on th...</td>\n",
       "      <td>no</td>\n",
       "      <td>&lt;span&gt;I&lt;/span&gt; &lt;span&gt;went&lt;/span&gt; &lt;span&gt;here&lt;/s...</td>\n",
       "    </tr>\n",
       "    <tr>\n",
       "      <th>897</th>\n",
       "      <td>0</td>\n",
       "      <td>Always packed for lunch.  Probably because Pit...</td>\n",
       "      <td>no</td>\n",
       "      <td>&lt;span&gt;Always&lt;/span&gt; &lt;span&gt;packed&lt;/span&gt; &lt;span&gt;...</td>\n",
       "    </tr>\n",
       "    <tr>\n",
       "      <th>898</th>\n",
       "      <td>0</td>\n",
       "      <td>Always packed for lunch.  Probably because Pit...</td>\n",
       "      <td>no</td>\n",
       "      <td>&lt;span&gt;Always&lt;/span&gt; &lt;span&gt;packed&lt;/span&gt; &lt;span&gt;...</td>\n",
       "    </tr>\n",
       "    <tr>\n",
       "      <th>899</th>\n",
       "      <td>0</td>\n",
       "      <td>Always packed for lunch.  Probably because Pit...</td>\n",
       "      <td>no</td>\n",
       "      <td>&lt;span class=\"active\"&gt;Always&lt;/span&gt; &lt;span class...</td>\n",
       "    </tr>\n",
       "  </tbody>\n",
       "</table>\n",
       "<p>900 rows × 4 columns</p>\n",
       "</div>"
      ],
      "text/plain": [
       "     Input.label                                         Input.text  \\\n",
       "0              1  Out in Twinsburg for work and wasn't expecting...   \n",
       "1              1  Out in Twinsburg for work and wasn't expecting...   \n",
       "2              1  Out in Twinsburg for work and wasn't expecting...   \n",
       "3              0  Very slow. Never been in the drive at any othe...   \n",
       "4              0  Very slow. Never been in the drive at any othe...   \n",
       "..           ...                                                ...   \n",
       "895            0  I went here to get a snack before I went on th...   \n",
       "896            0  I went here to get a snack before I went on th...   \n",
       "897            0  Always packed for lunch.  Probably because Pit...   \n",
       "898            0  Always packed for lunch.  Probably because Pit...   \n",
       "899            0  Always packed for lunch.  Probably because Pit...   \n",
       "\n",
       "    Answer.Q1Answer                                 Answer.html_output  \n",
       "0               yes  <span>Out</span> <span>in</span> <span>Twinsbu...  \n",
       "1               yes  <span>Out</span> <span>in</span> <span>Twinsbu...  \n",
       "2               yes  <span>Out</span> <span>in</span> <span>Twinsbu...  \n",
       "3                no  <span class=\"active\">Very</span> <span class=\"...  \n",
       "4                no  <span>Very</span> <span class=\"active\">slow.</...  \n",
       "..              ...                                                ...  \n",
       "895              no  <span>I</span> <span>went</span> <span>here</s...  \n",
       "896              no  <span>I</span> <span>went</span> <span>here</s...  \n",
       "897              no  <span>Always</span> <span>packed</span> <span>...  \n",
       "898              no  <span>Always</span> <span>packed</span> <span>...  \n",
       "899              no  <span class=\"active\">Always</span> <span class...  \n",
       "\n",
       "[900 rows x 4 columns]"
      ]
     },
     "execution_count": 4,
     "metadata": {},
     "output_type": "execute_result"
    }
   ],
   "source": [
    "import pandas as pd\n",
    "\n",
    "df = pd.read_csv(path.join(dataset_path, 'ham_part1(50words).csv'))\n",
    "df"
   ]
  },
  {
   "cell_type": "code",
   "execution_count": 5,
   "id": "14f7a0ed-c9fa-424e-9473-db6c85dce7ba",
   "metadata": {},
   "outputs": [
    {
     "name": "stdout",
     "output_type": "stream",
     "text": [
      "Number of words highlighted in this review: 6\n",
      "Original annotation: <span>Out</span> <span>in</span> <span>Twinsburg</span> <span>for</span> <span>work</span> <span>and</span> <span>wasn't</span> <span>expecting</span> <span>to</span> <span>find</span> <span>a</span> <span>well</span> <span>reviewed</span> <span>sushi</span> <span>restaurant</span> <span>but</span> <span class=\"active\">glad</span> <span>I</span> <span>did.</span> <span>It</span> <span>was</span> <span>quite</span> <span>busy</span> <span>for</span> <span>a</span> <span>Monday</span> <span>and</span> <span>the</span> <span>poor</span> <span>waitress</span> <span>was</span> <span>slammed</span> <span>but</span> <span>the</span> <span>sushi</span> <span>chef</span> <span>stepped</span> <span>in</span> <span>to</span> <span>help</span> <span>and</span> <span>was</span> <span class=\"active\">very</span> <span class=\"active\">friendly.</span> <span>The</span> <span class=\"active\">presentation</span> <span>and</span> <span class=\"active\">flavors</span> <span>were</span> <span class=\"active\">great.</span> <span></span>\n",
      "Binarized attention map: [0, 0, 0, 0, 0, 0, 0, 0, 0, 0, 0, 0, 0, 0, 0, 0, 1, 0, 0, 0, 0, 0, 0, 0, 0, 0, 0, 0, 0, 0, 0, 0, 0, 0, 0, 0, 0, 0, 0, 0, 0, 0, 1, 1, 0, 1, 0, 1, 0, 1, 0, 0, 0, 0, 0, 0, 0, 0, 0, 0, 0, 0, 0, 0, 0, 0, 0, 0, 0, 0, 0, 0, 0, 0, 0, 0, 0, 0, 0, 0, 0, 0, 0, 0, 0, 0, 0, 0, 0, 0, 0, 0, 0, 0, 0, 0, 0, 0, 0, 0]\n"
     ]
    }
   ],
   "source": [
    "import re\n",
    "def generate_binary_human_attention_vector(html, num_words_in_review, max_words):\n",
    "    # Function provided by the dataset :\n",
    "    # https://github.com/cansusen/Human-Attention-for-Text-Classification/blob/master/generate_ham/sample_generate.ipynb\n",
    "\n",
    "    p = re.compile('<span(.*?)/span>')\n",
    "    all_span_items = p.findall(html)\n",
    "\n",
    "    if html == '{}':\n",
    "        print('Empty human annotation - This should never print')\n",
    "        return [0] * max_words\n",
    "\n",
    "    if len(all_span_items) == num_words_in_review + 1:\n",
    "        if (all_span_items[num_words_in_review] == '><') or (all_span_items[num_words_in_review] == ' data-vivaldi-spatnav-clickable=\"1\"><'):\n",
    "\n",
    "            binarized_human_attention = [0] * max_words\n",
    "            for i in range(0, len(all_span_items) - 1):\n",
    "                if 'class=\"active\"' in all_span_items[i]:\n",
    "                    binarized_human_attention[i] = 1\n",
    "\n",
    "        else:\n",
    "            print('This should never print.')\n",
    "    else:\n",
    "        print('This should never print.')\n",
    "\n",
    "    return binarized_human_attention\n",
    "\n",
    "MAX_WORDS = 100\n",
    "i = 0\n",
    "html = df['Answer.html_output'][i]\n",
    "num_highlighted = html.count('class=\"active\"')\n",
    "num_words_in_review = len(df['Input.text'][i].split())\n",
    "\n",
    "binarized_human_attention = generate_binary_human_attention_vector(html, num_words_in_review, MAX_WORDS)\n",
    "\n",
    "\n",
    "print(\"Number of words highlighted in this review:\",num_highlighted)\n",
    "print(\"Original annotation:\", html)\n",
    "print(\"Binarized attention map:\",binarized_human_attention)"
   ]
  },
  {
   "cell_type": "code",
   "execution_count": 6,
   "id": "dfc5ee17-0c54-4cdd-a0b1-93fccaffe5f3",
   "metadata": {},
   "outputs": [
    {
     "name": "stdout",
     "output_type": "stream",
     "text": [
      "[False, False, False, False, False, False, False, False, False, False, False, False, False, False, False, False, True, False, False, False, False, False, False, False, False, False, False, False, False, False, False, False, False, False, False, False, False, False, False, False, False, False, True, True, False, True, False, True, False, True]\n",
      "Check ham_part7.csv\n",
      "2096\n",
      "Check ham_part5.csv\n",
      "2999\n",
      "Check ham_part8(200words).csv\n",
      "543\n",
      "Check ham_part6(100words).csv\n",
      "1314\n",
      "Check ham_part4.csv\n",
      "3000\n",
      "Check ham_part3.csv\n",
      "3000\n",
      "Check ham_part1(50words).csv\n",
      "900\n"
     ]
    }
   ],
   "source": [
    "def tokenize(html):\n",
    "    p = re.compile(r'<span[^>]*>(.+?)</span>')\n",
    "    return p.findall(html)\n",
    "\n",
    "def human_attention(html):\n",
    "\n",
    "    p = re.compile('<span(.*?)/span>')\n",
    "    all_span_items = p.findall(html)\n",
    "    if all_span_items[-1] == '><': all_span_items = all_span_items[:-1]\n",
    "\n",
    "    return ['class=\"active\"' in span_item for span_item in all_span_items]\n",
    "\n",
    "v_hat = human_attention(html)\n",
    "print(v_hat)\n",
    "\n",
    "# Check if we tokenize html, can our function \"human_attention\" reproduce the exact same length\n",
    "\n",
    "for fpath in os.listdir(dataset_path):\n",
    "    \n",
    "    if fpath.endswith('.csv'):\n",
    "        print('Check',fpath)\n",
    "        df = pd.read_csv(path.join(dataset_path, fpath))\n",
    "        print(len(df['Answer.html_output']))\n",
    "        for html in df['Answer.html_output']:\n",
    "            tokens = tokenize(html)\n",
    "            v_hat = human_attention(html)\n",
    "            if len(tokens) != len(v_hat):\n",
    "                print(len(tokens), len(v_hat))\n",
    "                print(' '.tokens)\n",
    "                display(HTML(html))"
   ]
  },
  {
   "cell_type": "markdown",
   "id": "a294fbb9-118e-4076-a792-9bfd59f1415c",
   "metadata": {},
   "source": [
    "Proceed dataset step by step"
   ]
  },
  {
   "cell_type": "code",
   "execution_count": null,
   "id": "dee452b6-82b2-4ff6-8c51-c08c502992a3",
   "metadata": {},
   "outputs": [
    {
     "data": {
      "text/plain": [
       "array([ True,  True, False, False])"
      ]
     },
     "execution_count": 20,
     "metadata": {},
     "output_type": "execute_result"
    }
   ],
   "source": []
  },
  {
   "cell_type": "code",
   "execution_count": 17,
   "id": "0e5b006f-5323-450e-bafa-30de9521dec9",
   "metadata": {},
   "outputs": [
    {
     "ename": "ValueError",
     "evalue": "The truth value of an array with more than one element is ambiguous. Use a.any() or a.all()",
     "output_type": "error",
     "traceback": [
      "\u001b[0;31m---------------------------------------------------------------------------\u001b[0m",
      "\u001b[0;31mValueError\u001b[0m                                Traceback (most recent call last)",
      "Input \u001b[0;32mIn [17]\u001b[0m, in \u001b[0;36m<cell line: 1>\u001b[0;34m()\u001b[0m\n\u001b[0;32m----> 1\u001b[0m df\u001b[38;5;241m.\u001b[39mcolumns \u001b[38;5;241m!=\u001b[39m \u001b[38;5;124m'\u001b[39m\u001b[38;5;124mAnswer.html_output\u001b[39m\u001b[38;5;124m'\u001b[39m \u001b[38;5;129;01mand\u001b[39;00m df\u001b[38;5;241m.\u001b[39mcolumns \u001b[38;5;241m!=\u001b[39m \u001b[38;5;124m'\u001b[39m\u001b[38;5;124mAnswer.Q1Answer\u001b[39m\u001b[38;5;124m'\u001b[39m\n",
      "\u001b[0;31mValueError\u001b[0m: The truth value of an array with more than one element is ambiguous. Use a.any() or a.all()"
     ]
    }
   ],
   "source": [
    "df.columns != 'Answer.html_output' and df.columns != 'Answer.Q1Answer'"
   ]
  },
  {
   "cell_type": "code",
   "execution_count": 25,
   "id": "2299c93e-1bd5-4b00-9c67-15344a47201f",
   "metadata": {},
   "outputs": [
    {
     "data": {
      "text/html": [
       "<h3>Raw dataset</h3>"
      ],
      "text/plain": [
       "<IPython.core.display.HTML object>"
      ]
     },
     "metadata": {},
     "output_type": "display_data"
    },
    {
     "data": {
      "text/html": [
       "<div>\n",
       "<style scoped>\n",
       "    .dataframe tbody tr th:only-of-type {\n",
       "        vertical-align: middle;\n",
       "    }\n",
       "\n",
       "    .dataframe tbody tr th {\n",
       "        vertical-align: top;\n",
       "    }\n",
       "\n",
       "    .dataframe thead th {\n",
       "        text-align: right;\n",
       "    }\n",
       "</style>\n",
       "<table border=\"1\" class=\"dataframe\">\n",
       "  <thead>\n",
       "    <tr style=\"text-align: right;\">\n",
       "      <th></th>\n",
       "      <th>Input.label</th>\n",
       "      <th>Input.text</th>\n",
       "      <th>Answer.Q1Answer</th>\n",
       "      <th>Answer.html_output</th>\n",
       "    </tr>\n",
       "  </thead>\n",
       "  <tbody>\n",
       "    <tr>\n",
       "      <th>0</th>\n",
       "      <td>1</td>\n",
       "      <td>The food quality and portion size was awesome....</td>\n",
       "      <td>yes</td>\n",
       "      <td>&lt;span&gt;The&lt;/span&gt; &lt;span class=\"active\"&gt;food&lt;/sp...</td>\n",
       "    </tr>\n",
       "    <tr>\n",
       "      <th>1</th>\n",
       "      <td>1</td>\n",
       "      <td>The food quality and portion size was awesome....</td>\n",
       "      <td>yes</td>\n",
       "      <td>&lt;span&gt;The&lt;/span&gt; &lt;span&gt;food&lt;/span&gt; &lt;span class...</td>\n",
       "    </tr>\n",
       "    <tr>\n",
       "      <th>2</th>\n",
       "      <td>1</td>\n",
       "      <td>The food quality and portion size was awesome....</td>\n",
       "      <td>yes</td>\n",
       "      <td>&lt;span&gt;The&lt;/span&gt; &lt;span&gt;food&lt;/span&gt; &lt;span&gt;quali...</td>\n",
       "    </tr>\n",
       "    <tr>\n",
       "      <th>3</th>\n",
       "      <td>1</td>\n",
       "      <td>Found these guys at taste of calgary and had t...</td>\n",
       "      <td>yes</td>\n",
       "      <td>&lt;span&gt;Found&lt;/span&gt; &lt;span&gt;these&lt;/span&gt; &lt;span&gt;gu...</td>\n",
       "    </tr>\n",
       "    <tr>\n",
       "      <th>4</th>\n",
       "      <td>1</td>\n",
       "      <td>Found these guys at taste of calgary and had t...</td>\n",
       "      <td>yes</td>\n",
       "      <td>&lt;span&gt;Found&lt;/span&gt; &lt;span&gt;these&lt;/span&gt; &lt;span&gt;gu...</td>\n",
       "    </tr>\n",
       "  </tbody>\n",
       "</table>\n",
       "</div>"
      ],
      "text/plain": [
       "   Input.label                                         Input.text  \\\n",
       "0            1  The food quality and portion size was awesome....   \n",
       "1            1  The food quality and portion size was awesome....   \n",
       "2            1  The food quality and portion size was awesome....   \n",
       "3            1  Found these guys at taste of calgary and had t...   \n",
       "4            1  Found these guys at taste of calgary and had t...   \n",
       "\n",
       "  Answer.Q1Answer                                 Answer.html_output  \n",
       "0             yes  <span>The</span> <span class=\"active\">food</sp...  \n",
       "1             yes  <span>The</span> <span>food</span> <span class...  \n",
       "2             yes  <span>The</span> <span>food</span> <span>quali...  \n",
       "3             yes  <span>Found</span> <span>these</span> <span>gu...  \n",
       "4             yes  <span>Found</span> <span>these</span> <span>gu...  "
      ]
     },
     "metadata": {},
     "output_type": "display_data"
    },
    {
     "data": {
      "text/html": [
       "<h3>Clean up dataset</h3>"
      ],
      "text/plain": [
       "<IPython.core.display.HTML object>"
      ]
     },
     "metadata": {},
     "output_type": "display_data"
    },
    {
     "data": {
      "text/html": [
       "<div>\n",
       "<style scoped>\n",
       "    .dataframe tbody tr th:only-of-type {\n",
       "        vertical-align: middle;\n",
       "    }\n",
       "\n",
       "    .dataframe tbody tr th {\n",
       "        vertical-align: top;\n",
       "    }\n",
       "\n",
       "    .dataframe thead th {\n",
       "        text-align: right;\n",
       "    }\n",
       "</style>\n",
       "<table border=\"1\" class=\"dataframe\">\n",
       "  <thead>\n",
       "    <tr style=\"text-align: right;\">\n",
       "      <th></th>\n",
       "      <th>text</th>\n",
       "      <th>ham_html_0</th>\n",
       "      <th>human_label_0</th>\n",
       "      <th>ham_html_1</th>\n",
       "      <th>human_label_1</th>\n",
       "      <th>ham_html_2</th>\n",
       "      <th>human_label_2</th>\n",
       "      <th>label</th>\n",
       "    </tr>\n",
       "  </thead>\n",
       "  <tbody>\n",
       "    <tr>\n",
       "      <th>0</th>\n",
       "      <td>The food quality and portion size was awesome....</td>\n",
       "      <td>&lt;span&gt;The&lt;/span&gt; &lt;span class=\"active\"&gt;food&lt;/sp...</td>\n",
       "      <td>yes</td>\n",
       "      <td>&lt;span&gt;The&lt;/span&gt; &lt;span&gt;food&lt;/span&gt; &lt;span class...</td>\n",
       "      <td>yes</td>\n",
       "      <td>&lt;span&gt;The&lt;/span&gt; &lt;span&gt;food&lt;/span&gt; &lt;span&gt;quali...</td>\n",
       "      <td>yes</td>\n",
       "      <td>1</td>\n",
       "    </tr>\n",
       "    <tr>\n",
       "      <th>1</th>\n",
       "      <td>Found these guys at taste of calgary and had t...</td>\n",
       "      <td>&lt;span&gt;Found&lt;/span&gt; &lt;span&gt;these&lt;/span&gt; &lt;span&gt;gu...</td>\n",
       "      <td>yes</td>\n",
       "      <td>&lt;span&gt;Found&lt;/span&gt; &lt;span&gt;these&lt;/span&gt; &lt;span&gt;gu...</td>\n",
       "      <td>yes</td>\n",
       "      <td>&lt;span&gt;Found&lt;/span&gt; &lt;span&gt;these&lt;/span&gt; &lt;span&gt;gu...</td>\n",
       "      <td>yes</td>\n",
       "      <td>1</td>\n",
       "    </tr>\n",
       "    <tr>\n",
       "      <th>2</th>\n",
       "      <td>Love the bar on the roof.  Nice and relaxing f...</td>\n",
       "      <td>&lt;span class=\"active\"&gt;Love&lt;/span&gt; &lt;span&gt;the&lt;/sp...</td>\n",
       "      <td>yes</td>\n",
       "      <td>&lt;span class=\"active\"&gt;Love&lt;/span&gt; &lt;span class=\"...</td>\n",
       "      <td>yes</td>\n",
       "      <td>&lt;span class=\"active\"&gt;Love&lt;/span&gt; &lt;span class=\"...</td>\n",
       "      <td>yes</td>\n",
       "      <td>1</td>\n",
       "    </tr>\n",
       "    <tr>\n",
       "      <th>3</th>\n",
       "      <td>Food is awesome. Service is great. What a team...</td>\n",
       "      <td>&lt;span&gt;Food&lt;/span&gt; &lt;span&gt;is&lt;/span&gt; &lt;span class=...</td>\n",
       "      <td>yes</td>\n",
       "      <td>&lt;span class=\"active\"&gt;Food&lt;/span&gt; &lt;span&gt;is&lt;/spa...</td>\n",
       "      <td>yes</td>\n",
       "      <td>&lt;span&gt;Food&lt;/span&gt; &lt;span&gt;is&lt;/span&gt; &lt;span class=...</td>\n",
       "      <td>yes</td>\n",
       "      <td>1</td>\n",
       "    </tr>\n",
       "    <tr>\n",
       "      <th>4</th>\n",
       "      <td>I had eaten here in 2014 and it was an experie...</td>\n",
       "      <td>&lt;span&gt;I&lt;/span&gt; &lt;span&gt;had&lt;/span&gt; &lt;span&gt;eaten&lt;/s...</td>\n",
       "      <td>no</td>\n",
       "      <td>&lt;span&gt;I&lt;/span&gt; &lt;span&gt;had&lt;/span&gt; &lt;span&gt;eaten&lt;/s...</td>\n",
       "      <td>no</td>\n",
       "      <td>&lt;span&gt;I&lt;/span&gt; &lt;span class=\"active\"&gt;had&lt;/span&gt;...</td>\n",
       "      <td>no</td>\n",
       "      <td>0</td>\n",
       "    </tr>\n",
       "  </tbody>\n",
       "</table>\n",
       "</div>"
      ],
      "text/plain": [
       "                                                text  \\\n",
       "0  The food quality and portion size was awesome....   \n",
       "1  Found these guys at taste of calgary and had t...   \n",
       "2  Love the bar on the roof.  Nice and relaxing f...   \n",
       "3  Food is awesome. Service is great. What a team...   \n",
       "4  I had eaten here in 2014 and it was an experie...   \n",
       "\n",
       "                                          ham_html_0 human_label_0  \\\n",
       "0  <span>The</span> <span class=\"active\">food</sp...           yes   \n",
       "1  <span>Found</span> <span>these</span> <span>gu...           yes   \n",
       "2  <span class=\"active\">Love</span> <span>the</sp...           yes   \n",
       "3  <span>Food</span> <span>is</span> <span class=...           yes   \n",
       "4  <span>I</span> <span>had</span> <span>eaten</s...            no   \n",
       "\n",
       "                                          ham_html_1 human_label_1  \\\n",
       "0  <span>The</span> <span>food</span> <span class...           yes   \n",
       "1  <span>Found</span> <span>these</span> <span>gu...           yes   \n",
       "2  <span class=\"active\">Love</span> <span class=\"...           yes   \n",
       "3  <span class=\"active\">Food</span> <span>is</spa...           yes   \n",
       "4  <span>I</span> <span>had</span> <span>eaten</s...            no   \n",
       "\n",
       "                                          ham_html_2 human_label_2  label  \n",
       "0  <span>The</span> <span>food</span> <span>quali...           yes      1  \n",
       "1  <span>Found</span> <span>these</span> <span>gu...           yes      1  \n",
       "2  <span class=\"active\">Love</span> <span class=\"...           yes      1  \n",
       "3  <span>Food</span> <span>is</span> <span class=...           yes      1  \n",
       "4  <span>I</span> <span class=\"active\">had</span>...            no      0  "
      ]
     },
     "metadata": {},
     "output_type": "display_data"
    },
    {
     "data": {
      "text/html": [
       "<h3>Binarize annotation</h3>"
      ],
      "text/plain": [
       "<IPython.core.display.HTML object>"
      ]
     },
     "metadata": {},
     "output_type": "display_data"
    },
    {
     "data": {
      "text/html": [
       "<div>\n",
       "<style scoped>\n",
       "    .dataframe tbody tr th:only-of-type {\n",
       "        vertical-align: middle;\n",
       "    }\n",
       "\n",
       "    .dataframe tbody tr th {\n",
       "        vertical-align: top;\n",
       "    }\n",
       "\n",
       "    .dataframe thead th {\n",
       "        text-align: right;\n",
       "    }\n",
       "</style>\n",
       "<table border=\"1\" class=\"dataframe\">\n",
       "  <thead>\n",
       "    <tr style=\"text-align: right;\">\n",
       "      <th></th>\n",
       "      <th>text</th>\n",
       "      <th>ham_html_0</th>\n",
       "      <th>human_label_0</th>\n",
       "      <th>ham_html_1</th>\n",
       "      <th>human_label_1</th>\n",
       "      <th>ham_html_2</th>\n",
       "      <th>human_label_2</th>\n",
       "      <th>label</th>\n",
       "      <th>text_tokens</th>\n",
       "      <th>ham_0</th>\n",
       "      <th>ham_1</th>\n",
       "      <th>ham_2</th>\n",
       "    </tr>\n",
       "  </thead>\n",
       "  <tbody>\n",
       "    <tr>\n",
       "      <th>0</th>\n",
       "      <td>The food quality and portion size was awesome....</td>\n",
       "      <td>&lt;span&gt;The&lt;/span&gt; &lt;span class=\"active\"&gt;food&lt;/sp...</td>\n",
       "      <td>yes</td>\n",
       "      <td>&lt;span&gt;The&lt;/span&gt; &lt;span&gt;food&lt;/span&gt; &lt;span class...</td>\n",
       "      <td>yes</td>\n",
       "      <td>&lt;span&gt;The&lt;/span&gt; &lt;span&gt;food&lt;/span&gt; &lt;span&gt;quali...</td>\n",
       "      <td>yes</td>\n",
       "      <td>1</td>\n",
       "      <td>[The, food, quality, and, portion, size, was, ...</td>\n",
       "      <td>[0, 1, 1, 0, 1, 1, 0, 1, 0, 0, 0, 0, 0, 0, 0, ...</td>\n",
       "      <td>[0, 0, 1, 0, 1, 0, 0, 1, 0, 0, 0, 0, 0, 0, 0, ...</td>\n",
       "      <td>[0, 0, 0, 0, 1, 1, 1, 1, 0, 0, 0, 0, 0, 0, 0, ...</td>\n",
       "    </tr>\n",
       "    <tr>\n",
       "      <th>1</th>\n",
       "      <td>Found these guys at taste of calgary and had t...</td>\n",
       "      <td>&lt;span&gt;Found&lt;/span&gt; &lt;span&gt;these&lt;/span&gt; &lt;span&gt;gu...</td>\n",
       "      <td>yes</td>\n",
       "      <td>&lt;span&gt;Found&lt;/span&gt; &lt;span&gt;these&lt;/span&gt; &lt;span&gt;gu...</td>\n",
       "      <td>yes</td>\n",
       "      <td>&lt;span&gt;Found&lt;/span&gt; &lt;span&gt;these&lt;/span&gt; &lt;span&gt;gu...</td>\n",
       "      <td>yes</td>\n",
       "      <td>1</td>\n",
       "      <td>[Found, these, guys, at, taste, of, calgary, a...</td>\n",
       "      <td>[0, 0, 0, 0, 0, 0, 0, 0, 0, 0, 0, 0, 0, 0, 0, ...</td>\n",
       "      <td>[0, 0, 0, 0, 0, 0, 0, 0, 0, 0, 0, 0, 0, 0, 0, ...</td>\n",
       "      <td>[0, 0, 0, 0, 0, 0, 0, 0, 0, 0, 0, 0, 0, 0, 0, ...</td>\n",
       "    </tr>\n",
       "    <tr>\n",
       "      <th>2</th>\n",
       "      <td>Love the bar on the roof.  Nice and relaxing f...</td>\n",
       "      <td>&lt;span class=\"active\"&gt;Love&lt;/span&gt; &lt;span&gt;the&lt;/sp...</td>\n",
       "      <td>yes</td>\n",
       "      <td>&lt;span class=\"active\"&gt;Love&lt;/span&gt; &lt;span class=\"...</td>\n",
       "      <td>yes</td>\n",
       "      <td>&lt;span class=\"active\"&gt;Love&lt;/span&gt; &lt;span class=\"...</td>\n",
       "      <td>yes</td>\n",
       "      <td>1</td>\n",
       "      <td>[Love, the, bar, on, the, roof., Nice, and, re...</td>\n",
       "      <td>[1, 0, 1, 1, 0, 1, 1, 0, 1, 0, 0, 0, 0, 1, 0, ...</td>\n",
       "      <td>[1, 1, 1, 0, 0, 0, 1, 1, 1, 0, 0, 0, 0, 1, 1, ...</td>\n",
       "      <td>[1, 1, 1, 1, 1, 1, 1, 0, 1, 1, 1, 1, 0, 1, 1, ...</td>\n",
       "    </tr>\n",
       "    <tr>\n",
       "      <th>3</th>\n",
       "      <td>Food is awesome. Service is great. What a team...</td>\n",
       "      <td>&lt;span&gt;Food&lt;/span&gt; &lt;span&gt;is&lt;/span&gt; &lt;span class=...</td>\n",
       "      <td>yes</td>\n",
       "      <td>&lt;span class=\"active\"&gt;Food&lt;/span&gt; &lt;span&gt;is&lt;/spa...</td>\n",
       "      <td>yes</td>\n",
       "      <td>&lt;span&gt;Food&lt;/span&gt; &lt;span&gt;is&lt;/span&gt; &lt;span class=...</td>\n",
       "      <td>yes</td>\n",
       "      <td>1</td>\n",
       "      <td>[Food, is, awesome., Service, is, great., What...</td>\n",
       "      <td>[0, 0, 1, 0, 0, 1, 0, 0, 0, 0, 0, 0, 0, 0, 0, ...</td>\n",
       "      <td>[1, 0, 1, 1, 0, 1, 1, 1, 1, 0, 1, 0, 1, 1, 1, ...</td>\n",
       "      <td>[0, 0, 1, 1, 1, 1, 0, 0, 1, 0, 0, 0, 0, 0, 0, ...</td>\n",
       "    </tr>\n",
       "    <tr>\n",
       "      <th>4</th>\n",
       "      <td>I had eaten here in 2014 and it was an experie...</td>\n",
       "      <td>&lt;span&gt;I&lt;/span&gt; &lt;span&gt;had&lt;/span&gt; &lt;span&gt;eaten&lt;/s...</td>\n",
       "      <td>no</td>\n",
       "      <td>&lt;span&gt;I&lt;/span&gt; &lt;span&gt;had&lt;/span&gt; &lt;span&gt;eaten&lt;/s...</td>\n",
       "      <td>no</td>\n",
       "      <td>&lt;span&gt;I&lt;/span&gt; &lt;span class=\"active\"&gt;had&lt;/span&gt;...</td>\n",
       "      <td>no</td>\n",
       "      <td>0</td>\n",
       "      <td>[I, had, eaten, here, in, 2014, and, it, was, ...</td>\n",
       "      <td>[0, 0, 0, 0, 0, 0, 0, 0, 0, 0, 0, 0, 0, 0, 0, ...</td>\n",
       "      <td>[0, 0, 0, 0, 0, 0, 0, 0, 0, 0, 0, 0, 0, 0, 0, ...</td>\n",
       "      <td>[0, 1, 1, 0, 0, 0, 0, 0, 1, 0, 1, 1, 1, 0, 0, ...</td>\n",
       "    </tr>\n",
       "  </tbody>\n",
       "</table>\n",
       "</div>"
      ],
      "text/plain": [
       "                                                text  \\\n",
       "0  The food quality and portion size was awesome....   \n",
       "1  Found these guys at taste of calgary and had t...   \n",
       "2  Love the bar on the roof.  Nice and relaxing f...   \n",
       "3  Food is awesome. Service is great. What a team...   \n",
       "4  I had eaten here in 2014 and it was an experie...   \n",
       "\n",
       "                                          ham_html_0 human_label_0  \\\n",
       "0  <span>The</span> <span class=\"active\">food</sp...           yes   \n",
       "1  <span>Found</span> <span>these</span> <span>gu...           yes   \n",
       "2  <span class=\"active\">Love</span> <span>the</sp...           yes   \n",
       "3  <span>Food</span> <span>is</span> <span class=...           yes   \n",
       "4  <span>I</span> <span>had</span> <span>eaten</s...            no   \n",
       "\n",
       "                                          ham_html_1 human_label_1  \\\n",
       "0  <span>The</span> <span>food</span> <span class...           yes   \n",
       "1  <span>Found</span> <span>these</span> <span>gu...           yes   \n",
       "2  <span class=\"active\">Love</span> <span class=\"...           yes   \n",
       "3  <span class=\"active\">Food</span> <span>is</spa...           yes   \n",
       "4  <span>I</span> <span>had</span> <span>eaten</s...            no   \n",
       "\n",
       "                                          ham_html_2 human_label_2  label  \\\n",
       "0  <span>The</span> <span>food</span> <span>quali...           yes      1   \n",
       "1  <span>Found</span> <span>these</span> <span>gu...           yes      1   \n",
       "2  <span class=\"active\">Love</span> <span class=\"...           yes      1   \n",
       "3  <span>Food</span> <span>is</span> <span class=...           yes      1   \n",
       "4  <span>I</span> <span class=\"active\">had</span>...            no      0   \n",
       "\n",
       "                                         text_tokens  \\\n",
       "0  [The, food, quality, and, portion, size, was, ...   \n",
       "1  [Found, these, guys, at, taste, of, calgary, a...   \n",
       "2  [Love, the, bar, on, the, roof., Nice, and, re...   \n",
       "3  [Food, is, awesome., Service, is, great., What...   \n",
       "4  [I, had, eaten, here, in, 2014, and, it, was, ...   \n",
       "\n",
       "                                               ham_0  \\\n",
       "0  [0, 1, 1, 0, 1, 1, 0, 1, 0, 0, 0, 0, 0, 0, 0, ...   \n",
       "1  [0, 0, 0, 0, 0, 0, 0, 0, 0, 0, 0, 0, 0, 0, 0, ...   \n",
       "2  [1, 0, 1, 1, 0, 1, 1, 0, 1, 0, 0, 0, 0, 1, 0, ...   \n",
       "3  [0, 0, 1, 0, 0, 1, 0, 0, 0, 0, 0, 0, 0, 0, 0, ...   \n",
       "4  [0, 0, 0, 0, 0, 0, 0, 0, 0, 0, 0, 0, 0, 0, 0, ...   \n",
       "\n",
       "                                               ham_1  \\\n",
       "0  [0, 0, 1, 0, 1, 0, 0, 1, 0, 0, 0, 0, 0, 0, 0, ...   \n",
       "1  [0, 0, 0, 0, 0, 0, 0, 0, 0, 0, 0, 0, 0, 0, 0, ...   \n",
       "2  [1, 1, 1, 0, 0, 0, 1, 1, 1, 0, 0, 0, 0, 1, 1, ...   \n",
       "3  [1, 0, 1, 1, 0, 1, 1, 1, 1, 0, 1, 0, 1, 1, 1, ...   \n",
       "4  [0, 0, 0, 0, 0, 0, 0, 0, 0, 0, 0, 0, 0, 0, 0, ...   \n",
       "\n",
       "                                               ham_2  \n",
       "0  [0, 0, 0, 0, 1, 1, 1, 1, 0, 0, 0, 0, 0, 0, 0, ...  \n",
       "1  [0, 0, 0, 0, 0, 0, 0, 0, 0, 0, 0, 0, 0, 0, 0, ...  \n",
       "2  [1, 1, 1, 1, 1, 1, 1, 0, 1, 1, 1, 1, 0, 1, 1, ...  \n",
       "3  [0, 0, 1, 1, 1, 1, 0, 0, 1, 0, 0, 0, 0, 0, 0, ...  \n",
       "4  [0, 1, 1, 0, 0, 0, 0, 0, 1, 0, 1, 1, 1, 0, 0, ...  "
      ]
     },
     "metadata": {},
     "output_type": "display_data"
    }
   ],
   "source": [
    "df = pd.read_csv(path.join(dataset_path, 'ham_part3.csv'))\n",
    "display(HTML('<h3>Raw dataset</h3>'))\n",
    "display(df.head())\n",
    "\n",
    "for idx in range(3):\n",
    "    clean_df[f'ham_{idx}'] = clean_df[f'ham_html_{idx}'].apply(yelp_hat_ham)\n",
    "\n",
    "dfs = [df.loc[0::3, (df.columns != 'Answer.html_output') & (df.columns != 'Answer.Q1Answer')].reset_index(drop=True)]\n",
    "dfs += [df.loc[idx::3, ['Answer.html_output','Answer.Q1Answer']].reset_index(drop=True).rename(columns={'Answer.html_output':'ham_html_', 'Answer.Q1Answer': 'human_label_'}).add_suffix(str(idx)) for idx in range(3) ]\n",
    "clean_df = pd.concat(dfs,axis=1).rename(columns={'Input.label': 'label', 'Input.text': 'text'})\n",
    "clean_df = clean_df[['text', 'ham_html_0', 'human_label_0', 'ham_html_1', 'human_label_1', 'ham_html_2', 'human_label_2', 'label']]\n",
    "display(HTML('<h3>Clean up dataset</h3>'))\n",
    "display(clean_df.head())\n",
    "\n",
    "from data.yelp_hat.utils import yelp_hat_ham, yelp_hat_token\n",
    "clean_df['text_tokens'] = clean_df['ham_html_0'].apply(yelp_hat_token)\n",
    "\n",
    "display(HTML('<h3>Binarize annotation</h3>'))\n",
    "display(clean_df.head())"
   ]
  },
  {
   "cell_type": "markdown",
   "id": "cb68cd16-6e28-45fd-b86a-6cba7f3819f1",
   "metadata": {},
   "source": [
    "<div class=\"alert alert-block alert-info\">\n",
    "    <b>Note:</b> By reconcatenating for spacy and re tokenize, do we obtain the coherent length?\n",
    "</div>    "
   ]
  },
  {
   "cell_type": "code",
   "execution_count": 26,
   "id": "8fca69a6-c3f6-4d57-afa9-07eef4f35481",
   "metadata": {},
   "outputs": [
    {
     "data": {
      "application/vnd.jupyter.widget-view+json": {
       "model_id": "25f8430694e4472a8b03019fb352d474",
       "version_major": 2,
       "version_minor": 0
      },
      "text/plain": [
       "  0%|          | 0/6 [00:00<?, ?it/s]"
      ]
     },
     "metadata": {},
     "output_type": "display_data"
    },
    {
     "name": "stdout",
     "output_type": "stream",
     "text": [
      "ham_part5.csv : Same tokens between text and ham > True\n",
      "ham_part8(200words).csv : Same tokens between text and ham > True\n",
      "ham_part6(100words).csv : Same tokens between text and ham > True\n",
      "ham_part4.csv : Same tokens between text and ham > True\n",
      "ham_part3.csv : Same tokens between text and ham > True\n",
      "ham_part1(50words).csv : Same tokens between text and ham > True\n"
     ]
    }
   ],
   "source": [
    "from tqdm.notebook import tqdm\n",
    "from bs4 import BeautifulSoup\n",
    "import spacy \n",
    "\n",
    "nlp = spacy.load('en_core_web_sm')\n",
    "soup = BeautifulSoup(html, 'html.parser')\n",
    "\n",
    "\n",
    "def tokenize_ham(html):\n",
    "    soup = BeautifulSoup(html, 'html.parser')\n",
    "    tags = [str(tag.string) for tag in soup.find_all('span') if tag.string is not None]\n",
    "    tokens = [str(tk.text) for doc in nlp.pipe(tags) for tk in doc]\n",
    "    return tokens\n",
    "\n",
    "files = [fpath for fpath in os.listdir(dataset_path) if fpath.endswith('.csv') and 'part7' not in fpath]\n",
    "\n",
    "for fpath in tqdm(files, total=len(files)):\n",
    "        \n",
    "    df = pd.read_csv(path.join(dataset_path, fpath))\n",
    "\n",
    "    dfs = [df.loc[0::3, df.columns != 'Answer.html_output'].reset_index(drop=True)]\n",
    "    dfs += [df.loc[idx::3, ['Answer.html_output']].reset_index(drop=True).rename(columns={'Answer.html_output':'ham_html_'}).add_suffix(str(idx)) for idx in range(3) ]\n",
    "    clean_df = pd.concat(dfs,axis=1).rename(columns={'Input.label': 'label', 'Input.text': 'text', 'Answer.Q1Answer':'human_label'})\n",
    "    clean_df = clean_df[['text', 'ham_html_0', 'ham_html_1', 'ham_html_2', 'label', 'human_label']]\n",
    "\n",
    "    clean_df['ham_tokens'] = clean_df['ham_html_0'].apply(tokenize_ham)\n",
    "    clean_df['count_ham_tokens'] = clean_df['ham_tokens'].apply(lambda row: len(row))\n",
    "\n",
    "    clean_df['text_tokens'] = [[tk.text for tk in doc if not tk.is_space] for doc in nlp.pipe(clean_df['text'].tolist())]\n",
    "    clean_df['count_text_tokens'] = clean_df['text_tokens'].apply(lambda row: len(row))\n",
    "\n",
    "    is_every_row_ok = (clean_df['count_text_tokens'] == clean_df['count_ham_tokens']).all()\n",
    "    print(fpath, ': Same tokens between text and ham >', is_every_row_ok)"
   ]
  },
  {
   "cell_type": "markdown",
   "id": "b50d68d5-ab3f-40fd-9260-02610908f91c",
   "metadata": {},
   "source": [
    "###### Split tokens in human attention maps by spacy, verify if `len(token) == len(annotation)`"
   ]
  },
  {
   "cell_type": "code",
   "execution_count": 27,
   "id": "7efc1689-a576-427d-a481-e67541fb0329",
   "metadata": {},
   "outputs": [
    {
     "name": "stdout",
     "output_type": "stream",
     "text": [
      "<span>Out</span> <span>in</span> <span>Twinsburg</span> <span>for</span> <span>work</span> <span>and</span> <span>wasn't</span> <span>expecting</span> <span>to</span> <span>find</span> <span>a</span> <span>well</span> <span>reviewed</span> <span>sushi</span> <span>restaurant</span> <span>but</span> <span class=\"active\">glad</span> <span>I</span> <span>did.</span> <span>It</span> <span>was</span> <span>quite</span> <span>busy</span> <span>for</span> <span>a</span> <span>Monday</span> <span>and</span> <span>the</span> <span>poor</span> <span>waitress</span> <span>was</span> <span>slammed</span> <span>but</span> <span>the</span> <span>sushi</span> <span>chef</span> <span>stepped</span> <span>in</span> <span>to</span> <span>help</span> <span>and</span> <span>was</span> <span class=\"active\">very</span> <span class=\"active\">friendly.</span> <span>The</span> <span class=\"active\">presentation</span> <span>and</span> <span class=\"active\">flavors</span> <span>were</span> <span class=\"active\">great.</span> <span></span>\n",
      "['Out', 'in', 'Twinsburg', 'for', 'work', 'and', 'was', \"n't\", 'expecting', 'to', 'find', 'a', 'well', 'reviewed', 'sushi', 'restaurant', 'but', 'glad', 'I', 'did', '.', 'It', 'was', 'quite', 'busy', 'for', 'a', 'Monday', 'and', 'the', 'poor', 'waitress', 'was', 'slammed', 'but', 'the', 'sushi', 'chef', 'stepped', 'in', 'to', 'help', 'and', 'was', 'very', 'friendly', '.', 'The', 'presentation', 'and', 'flavors', 'were', 'great', '.']\n"
     ]
    }
   ],
   "source": [
    "def binarize_ham(html):\n",
    "    soup = BeautifulSoup(html, 'html.parser')\n",
    "    tags = [tag for tag in soup.find_all('span') if tag.string is not None]\n",
    "    \n",
    "    tag_annot = [int('active' in t.get('class', [])) for t in tags]\n",
    "    tag_str = [str(t.string) for t in tags]\n",
    "    \n",
    "    ham = []\n",
    "    \n",
    "    for annot, splitted_tokens in zip(tag_annot, nlp.pipe(tag_str)):\n",
    "        annotation = [annot * int(not tk.is_punct) for tk in splitted_tokens]\n",
    "        ham += annotation\n",
    "    \n",
    "    return ham\n",
    "\n",
    "html = clean_df['ham_html_0']\n",
    "print(html[0])\n",
    "print(tokenize_ham(html[0]))"
   ]
  },
  {
   "cell_type": "code",
   "execution_count": 28,
   "id": "6a068205-9890-40c3-892e-16fd77d2c554",
   "metadata": {},
   "outputs": [
    {
     "data": {
      "application/vnd.jupyter.widget-view+json": {
       "model_id": "ab826bc3baea47f48923af71a5c862fc",
       "version_major": 2,
       "version_minor": 0
      },
      "text/plain": [
       "  0%|          | 0/6 [00:00<?, ?it/s]"
      ]
     },
     "metadata": {},
     "output_type": "display_data"
    },
    {
     "ename": "KeyError",
     "evalue": "\"['ham_html_0', 'ham_html_1', 'ham_html_2'] not in index\"",
     "output_type": "error",
     "traceback": [
      "\u001b[0;31m---------------------------------------------------------------------------\u001b[0m",
      "\u001b[0;31mKeyError\u001b[0m                                  Traceback (most recent call last)",
      "Input \u001b[0;32mIn [28]\u001b[0m, in \u001b[0;36m<cell line: 3>\u001b[0;34m()\u001b[0m\n\u001b[1;32m      8\u001b[0m dfs \u001b[38;5;241m+\u001b[39m\u001b[38;5;241m=\u001b[39m [df\u001b[38;5;241m.\u001b[39mloc[idx::\u001b[38;5;241m3\u001b[39m, [\u001b[38;5;124m'\u001b[39m\u001b[38;5;124mAnswer.html_output\u001b[39m\u001b[38;5;124m'\u001b[39m]]\u001b[38;5;241m.\u001b[39mreset_index(drop\u001b[38;5;241m=\u001b[39m\u001b[38;5;28;01mTrue\u001b[39;00m)\u001b[38;5;241m.\u001b[39mrename(columns\u001b[38;5;241m=\u001b[39m{\u001b[38;5;124m'\u001b[39m\u001b[38;5;124mAnswer.html_output\u001b[39m\u001b[38;5;124m'\u001b[39m:\u001b[38;5;124m'\u001b[39m\u001b[38;5;124mannotation_html_\u001b[39m\u001b[38;5;124m'\u001b[39m})\u001b[38;5;241m.\u001b[39madd_suffix(\u001b[38;5;28mstr\u001b[39m(idx)) \u001b[38;5;28;01mfor\u001b[39;00m idx \u001b[38;5;129;01min\u001b[39;00m \u001b[38;5;28mrange\u001b[39m(\u001b[38;5;241m3\u001b[39m) ]\n\u001b[1;32m      9\u001b[0m clean_df \u001b[38;5;241m=\u001b[39m pd\u001b[38;5;241m.\u001b[39mconcat(dfs,axis\u001b[38;5;241m=\u001b[39m\u001b[38;5;241m1\u001b[39m)\u001b[38;5;241m.\u001b[39mrename(columns\u001b[38;5;241m=\u001b[39m{\u001b[38;5;124m'\u001b[39m\u001b[38;5;124mInput.label\u001b[39m\u001b[38;5;124m'\u001b[39m: \u001b[38;5;124m'\u001b[39m\u001b[38;5;124mlabel\u001b[39m\u001b[38;5;124m'\u001b[39m, \u001b[38;5;124m'\u001b[39m\u001b[38;5;124mInput.text\u001b[39m\u001b[38;5;124m'\u001b[39m: \u001b[38;5;124m'\u001b[39m\u001b[38;5;124mtext\u001b[39m\u001b[38;5;124m'\u001b[39m, \u001b[38;5;124m'\u001b[39m\u001b[38;5;124mAnswer.Q1Answer\u001b[39m\u001b[38;5;124m'\u001b[39m:\u001b[38;5;124m'\u001b[39m\u001b[38;5;124mhuman_label\u001b[39m\u001b[38;5;124m'\u001b[39m})\n\u001b[0;32m---> 10\u001b[0m clean_df \u001b[38;5;241m=\u001b[39m \u001b[43mclean_df\u001b[49m\u001b[43m[\u001b[49m\u001b[43m[\u001b[49m\u001b[38;5;124;43m'\u001b[39;49m\u001b[38;5;124;43mtext\u001b[39;49m\u001b[38;5;124;43m'\u001b[39;49m\u001b[43m,\u001b[49m\u001b[43m \u001b[49m\u001b[38;5;124;43m'\u001b[39;49m\u001b[38;5;124;43mham_html_0\u001b[39;49m\u001b[38;5;124;43m'\u001b[39;49m\u001b[43m,\u001b[49m\u001b[43m \u001b[49m\u001b[38;5;124;43m'\u001b[39;49m\u001b[38;5;124;43mham_html_1\u001b[39;49m\u001b[38;5;124;43m'\u001b[39;49m\u001b[43m,\u001b[49m\u001b[43m \u001b[49m\u001b[38;5;124;43m'\u001b[39;49m\u001b[38;5;124;43mham_html_2\u001b[39;49m\u001b[38;5;124;43m'\u001b[39;49m\u001b[43m,\u001b[49m\u001b[43m \u001b[49m\u001b[38;5;124;43m'\u001b[39;49m\u001b[38;5;124;43mlabel\u001b[39;49m\u001b[38;5;124;43m'\u001b[39;49m\u001b[43m,\u001b[49m\u001b[43m \u001b[49m\u001b[38;5;124;43m'\u001b[39;49m\u001b[38;5;124;43mhuman_label\u001b[39;49m\u001b[38;5;124;43m'\u001b[39;49m\u001b[43m]\u001b[49m\u001b[43m]\u001b[49m\n\u001b[1;32m     12\u001b[0m clean_df[\u001b[38;5;124m'\u001b[39m\u001b[38;5;124mham_tokens\u001b[39m\u001b[38;5;124m'\u001b[39m] \u001b[38;5;241m=\u001b[39m clean_df[\u001b[38;5;124m'\u001b[39m\u001b[38;5;124mham_html_0\u001b[39m\u001b[38;5;124m'\u001b[39m]\u001b[38;5;241m.\u001b[39mapply(binarize_ham)\n\u001b[1;32m     13\u001b[0m clean_df[\u001b[38;5;124m'\u001b[39m\u001b[38;5;124mcount_ham_tokens\u001b[39m\u001b[38;5;124m'\u001b[39m] \u001b[38;5;241m=\u001b[39m clean_df[\u001b[38;5;124m'\u001b[39m\u001b[38;5;124mham_tokens\u001b[39m\u001b[38;5;124m'\u001b[39m]\u001b[38;5;241m.\u001b[39mapply(\u001b[38;5;28;01mlambda\u001b[39;00m row: \u001b[38;5;28mlen\u001b[39m(row))\n",
      "File \u001b[0;32m~/venv/eps/lib/python3.8/site-packages/pandas/core/frame.py:3511\u001b[0m, in \u001b[0;36mDataFrame.__getitem__\u001b[0;34m(self, key)\u001b[0m\n\u001b[1;32m   3509\u001b[0m     \u001b[38;5;28;01mif\u001b[39;00m is_iterator(key):\n\u001b[1;32m   3510\u001b[0m         key \u001b[38;5;241m=\u001b[39m \u001b[38;5;28mlist\u001b[39m(key)\n\u001b[0;32m-> 3511\u001b[0m     indexer \u001b[38;5;241m=\u001b[39m \u001b[38;5;28;43mself\u001b[39;49m\u001b[38;5;241;43m.\u001b[39;49m\u001b[43mcolumns\u001b[49m\u001b[38;5;241;43m.\u001b[39;49m\u001b[43m_get_indexer_strict\u001b[49m\u001b[43m(\u001b[49m\u001b[43mkey\u001b[49m\u001b[43m,\u001b[49m\u001b[43m \u001b[49m\u001b[38;5;124;43m\"\u001b[39;49m\u001b[38;5;124;43mcolumns\u001b[39;49m\u001b[38;5;124;43m\"\u001b[39;49m\u001b[43m)\u001b[49m[\u001b[38;5;241m1\u001b[39m]\n\u001b[1;32m   3513\u001b[0m \u001b[38;5;66;03m# take() does not accept boolean indexers\u001b[39;00m\n\u001b[1;32m   3514\u001b[0m \u001b[38;5;28;01mif\u001b[39;00m \u001b[38;5;28mgetattr\u001b[39m(indexer, \u001b[38;5;124m\"\u001b[39m\u001b[38;5;124mdtype\u001b[39m\u001b[38;5;124m\"\u001b[39m, \u001b[38;5;28;01mNone\u001b[39;00m) \u001b[38;5;241m==\u001b[39m \u001b[38;5;28mbool\u001b[39m:\n",
      "File \u001b[0;32m~/venv/eps/lib/python3.8/site-packages/pandas/core/indexes/base.py:5782\u001b[0m, in \u001b[0;36mIndex._get_indexer_strict\u001b[0;34m(self, key, axis_name)\u001b[0m\n\u001b[1;32m   5779\u001b[0m \u001b[38;5;28;01melse\u001b[39;00m:\n\u001b[1;32m   5780\u001b[0m     keyarr, indexer, new_indexer \u001b[38;5;241m=\u001b[39m \u001b[38;5;28mself\u001b[39m\u001b[38;5;241m.\u001b[39m_reindex_non_unique(keyarr)\n\u001b[0;32m-> 5782\u001b[0m \u001b[38;5;28;43mself\u001b[39;49m\u001b[38;5;241;43m.\u001b[39;49m\u001b[43m_raise_if_missing\u001b[49m\u001b[43m(\u001b[49m\u001b[43mkeyarr\u001b[49m\u001b[43m,\u001b[49m\u001b[43m \u001b[49m\u001b[43mindexer\u001b[49m\u001b[43m,\u001b[49m\u001b[43m \u001b[49m\u001b[43maxis_name\u001b[49m\u001b[43m)\u001b[49m\n\u001b[1;32m   5784\u001b[0m keyarr \u001b[38;5;241m=\u001b[39m \u001b[38;5;28mself\u001b[39m\u001b[38;5;241m.\u001b[39mtake(indexer)\n\u001b[1;32m   5785\u001b[0m \u001b[38;5;28;01mif\u001b[39;00m \u001b[38;5;28misinstance\u001b[39m(key, Index):\n\u001b[1;32m   5786\u001b[0m     \u001b[38;5;66;03m# GH 42790 - Preserve name from an Index\u001b[39;00m\n",
      "File \u001b[0;32m~/venv/eps/lib/python3.8/site-packages/pandas/core/indexes/base.py:5845\u001b[0m, in \u001b[0;36mIndex._raise_if_missing\u001b[0;34m(self, key, indexer, axis_name)\u001b[0m\n\u001b[1;32m   5842\u001b[0m     \u001b[38;5;28;01mraise\u001b[39;00m \u001b[38;5;167;01mKeyError\u001b[39;00m(\u001b[38;5;124mf\u001b[39m\u001b[38;5;124m\"\u001b[39m\u001b[38;5;124mNone of [\u001b[39m\u001b[38;5;132;01m{\u001b[39;00mkey\u001b[38;5;132;01m}\u001b[39;00m\u001b[38;5;124m] are in the [\u001b[39m\u001b[38;5;132;01m{\u001b[39;00maxis_name\u001b[38;5;132;01m}\u001b[39;00m\u001b[38;5;124m]\u001b[39m\u001b[38;5;124m\"\u001b[39m)\n\u001b[1;32m   5844\u001b[0m not_found \u001b[38;5;241m=\u001b[39m \u001b[38;5;28mlist\u001b[39m(ensure_index(key)[missing_mask\u001b[38;5;241m.\u001b[39mnonzero()[\u001b[38;5;241m0\u001b[39m]]\u001b[38;5;241m.\u001b[39munique())\n\u001b[0;32m-> 5845\u001b[0m \u001b[38;5;28;01mraise\u001b[39;00m \u001b[38;5;167;01mKeyError\u001b[39;00m(\u001b[38;5;124mf\u001b[39m\u001b[38;5;124m\"\u001b[39m\u001b[38;5;132;01m{\u001b[39;00mnot_found\u001b[38;5;132;01m}\u001b[39;00m\u001b[38;5;124m not in index\u001b[39m\u001b[38;5;124m\"\u001b[39m)\n",
      "\u001b[0;31mKeyError\u001b[0m: \"['ham_html_0', 'ham_html_1', 'ham_html_2'] not in index\""
     ]
    }
   ],
   "source": [
    "files = [fpath for fpath in os.listdir(dataset_path) if fpath.endswith('.csv') and 'part7' not in fpath]\n",
    "\n",
    "for fpath in tqdm(files, total=len(files)):\n",
    "        \n",
    "    df = pd.read_csv(path.join(dataset_path, fpath))\n",
    "\n",
    "    dfs = [df.loc[0::3, df.columns != 'Answer.html_output'].reset_index(drop=True)]\n",
    "    dfs += [df.loc[idx::3, ['Answer.html_output']].reset_index(drop=True).rename(columns={'Answer.html_output':'annotation_html_'}).add_suffix(str(idx)) for idx in range(3) ]\n",
    "    clean_df = pd.concat(dfs,axis=1).rename(columns={'Input.label': 'label', 'Input.text': 'text', 'Answer.Q1Answer':'human_label'})\n",
    "    clean_df = clean_df[['text', 'ham_html_0', 'ham_html_1', 'ham_html_2', 'label', 'human_label']]\n",
    "\n",
    "    clean_df['ham_tokens'] = clean_df['ham_html_0'].apply(binarize_ham)\n",
    "    clean_df['count_ham_tokens'] = clean_df['ham_tokens'].apply(lambda row: len(row))\n",
    "\n",
    "    clean_df['text_tokens'] = [[tk.text for tk in doc if not tk.is_space] for doc in nlp.pipe(clean_df['text'].tolist())]\n",
    "    clean_df['count_text_tokens'] = clean_df['text_tokens'].apply(lambda row: len(row))\n",
    "\n",
    "    is_every_row_ok = (clean_df['count_text_tokens'] == clean_df['count_ham_tokens']).all()\n",
    "    print(fpath, ': Same tokens between text and ham >', is_every_row_ok)"
   ]
  },
  {
   "cell_type": "code",
   "execution_count": null,
   "id": "dac68ca6-bc03-40c7-bcd3-a8f378a78dd9",
   "metadata": {},
   "outputs": [],
   "source": []
  },
  {
   "cell_type": "markdown",
   "id": "f37284a6-44d4-4c46-a765-2ee421f48cfd",
   "metadata": {},
   "source": [
    "## Check sentence length"
   ]
  },
  {
   "cell_type": "code",
   "execution_count": 30,
   "id": "76b9d553-01e7-49a1-8b7f-1ed61696d345",
   "metadata": {},
   "outputs": [
    {
     "data": {
      "application/vnd.jupyter.widget-view+json": {
       "model_id": "2a18de6908874463b30b42b5825df838",
       "version_major": 2,
       "version_minor": 0
      },
      "text/plain": [
       "  0%|          | 0/6 [00:00<?, ?it/s]"
      ]
     },
     "metadata": {},
     "output_type": "display_data"
    },
    {
     "data": {
      "text/html": [
       "<h3>ham_part5.csv</h3>"
      ],
      "text/plain": [
       "<IPython.core.display.HTML object>"
      ]
     },
     "metadata": {},
     "output_type": "display_data"
    },
    {
     "data": {
      "text/html": [
       "<div>\n",
       "<style scoped>\n",
       "    .dataframe tbody tr th:only-of-type {\n",
       "        vertical-align: middle;\n",
       "    }\n",
       "\n",
       "    .dataframe tbody tr th {\n",
       "        vertical-align: top;\n",
       "    }\n",
       "\n",
       "    .dataframe thead th {\n",
       "        text-align: right;\n",
       "    }\n",
       "</style>\n",
       "<table border=\"1\" class=\"dataframe\">\n",
       "  <thead>\n",
       "    <tr style=\"text-align: right;\">\n",
       "      <th></th>\n",
       "      <th>count</th>\n",
       "      <th>mean</th>\n",
       "      <th>std</th>\n",
       "      <th>min</th>\n",
       "      <th>25%</th>\n",
       "      <th>50%</th>\n",
       "      <th>75%</th>\n",
       "      <th>max</th>\n",
       "    </tr>\n",
       "  </thead>\n",
       "  <tbody>\n",
       "    <tr>\n",
       "      <th>label</th>\n",
       "      <td>1000.0</td>\n",
       "      <td>0.516</td>\n",
       "      <td>0.499994</td>\n",
       "      <td>0.0</td>\n",
       "      <td>0.0</td>\n",
       "      <td>1.0</td>\n",
       "      <td>1.0</td>\n",
       "      <td>1.0</td>\n",
       "    </tr>\n",
       "    <tr>\n",
       "      <th>text_length</th>\n",
       "      <td>1000.0</td>\n",
       "      <td>71.694</td>\n",
       "      <td>7.983865</td>\n",
       "      <td>55.0</td>\n",
       "      <td>66.0</td>\n",
       "      <td>71.0</td>\n",
       "      <td>78.0</td>\n",
       "      <td>97.0</td>\n",
       "    </tr>\n",
       "  </tbody>\n",
       "</table>\n",
       "</div>"
      ],
      "text/plain": [
       "              count    mean       std   min   25%   50%   75%   max\n",
       "label        1000.0   0.516  0.499994   0.0   0.0   1.0   1.0   1.0\n",
       "text_length  1000.0  71.694  7.983865  55.0  66.0  71.0  78.0  97.0"
      ]
     },
     "metadata": {},
     "output_type": "display_data"
    },
    {
     "data": {
      "text/html": [
       "<h3>ham_part8(200words).csv</h3>"
      ],
      "text/plain": [
       "<IPython.core.display.HTML object>"
      ]
     },
     "metadata": {},
     "output_type": "display_data"
    },
    {
     "data": {
      "text/html": [
       "<div>\n",
       "<style scoped>\n",
       "    .dataframe tbody tr th:only-of-type {\n",
       "        vertical-align: middle;\n",
       "    }\n",
       "\n",
       "    .dataframe tbody tr th {\n",
       "        vertical-align: top;\n",
       "    }\n",
       "\n",
       "    .dataframe thead th {\n",
       "        text-align: right;\n",
       "    }\n",
       "</style>\n",
       "<table border=\"1\" class=\"dataframe\">\n",
       "  <thead>\n",
       "    <tr style=\"text-align: right;\">\n",
       "      <th></th>\n",
       "      <th>count</th>\n",
       "      <th>mean</th>\n",
       "      <th>std</th>\n",
       "      <th>min</th>\n",
       "      <th>25%</th>\n",
       "      <th>50%</th>\n",
       "      <th>75%</th>\n",
       "      <th>max</th>\n",
       "    </tr>\n",
       "  </thead>\n",
       "  <tbody>\n",
       "    <tr>\n",
       "      <th>label</th>\n",
       "      <td>181.0</td>\n",
       "      <td>0.508287</td>\n",
       "      <td>0.501318</td>\n",
       "      <td>0.0</td>\n",
       "      <td>0.0</td>\n",
       "      <td>1.0</td>\n",
       "      <td>1.0</td>\n",
       "      <td>1.0</td>\n",
       "    </tr>\n",
       "    <tr>\n",
       "      <th>text_length</th>\n",
       "      <td>181.0</td>\n",
       "      <td>230.071823</td>\n",
       "      <td>8.317340</td>\n",
       "      <td>210.0</td>\n",
       "      <td>224.0</td>\n",
       "      <td>230.0</td>\n",
       "      <td>235.0</td>\n",
       "      <td>252.0</td>\n",
       "    </tr>\n",
       "  </tbody>\n",
       "</table>\n",
       "</div>"
      ],
      "text/plain": [
       "             count        mean       std    min    25%    50%    75%    max\n",
       "label        181.0    0.508287  0.501318    0.0    0.0    1.0    1.0    1.0\n",
       "text_length  181.0  230.071823  8.317340  210.0  224.0  230.0  235.0  252.0"
      ]
     },
     "metadata": {},
     "output_type": "display_data"
    },
    {
     "data": {
      "text/html": [
       "<h3>ham_part6(100words).csv</h3>"
      ],
      "text/plain": [
       "<IPython.core.display.HTML object>"
      ]
     },
     "metadata": {},
     "output_type": "display_data"
    },
    {
     "data": {
      "text/html": [
       "<div>\n",
       "<style scoped>\n",
       "    .dataframe tbody tr th:only-of-type {\n",
       "        vertical-align: middle;\n",
       "    }\n",
       "\n",
       "    .dataframe tbody tr th {\n",
       "        vertical-align: top;\n",
       "    }\n",
       "\n",
       "    .dataframe thead th {\n",
       "        text-align: right;\n",
       "    }\n",
       "</style>\n",
       "<table border=\"1\" class=\"dataframe\">\n",
       "  <thead>\n",
       "    <tr style=\"text-align: right;\">\n",
       "      <th></th>\n",
       "      <th>count</th>\n",
       "      <th>mean</th>\n",
       "      <th>std</th>\n",
       "      <th>min</th>\n",
       "      <th>25%</th>\n",
       "      <th>50%</th>\n",
       "      <th>75%</th>\n",
       "      <th>max</th>\n",
       "    </tr>\n",
       "  </thead>\n",
       "  <tbody>\n",
       "    <tr>\n",
       "      <th>label</th>\n",
       "      <td>438.0</td>\n",
       "      <td>0.513699</td>\n",
       "      <td>0.500384</td>\n",
       "      <td>0.0</td>\n",
       "      <td>0.0</td>\n",
       "      <td>1.0</td>\n",
       "      <td>1.0</td>\n",
       "      <td>1.0</td>\n",
       "    </tr>\n",
       "    <tr>\n",
       "      <th>text_length</th>\n",
       "      <td>438.0</td>\n",
       "      <td>115.276256</td>\n",
       "      <td>5.565827</td>\n",
       "      <td>101.0</td>\n",
       "      <td>112.0</td>\n",
       "      <td>114.0</td>\n",
       "      <td>118.0</td>\n",
       "      <td>144.0</td>\n",
       "    </tr>\n",
       "  </tbody>\n",
       "</table>\n",
       "</div>"
      ],
      "text/plain": [
       "             count        mean       std    min    25%    50%    75%    max\n",
       "label        438.0    0.513699  0.500384    0.0    0.0    1.0    1.0    1.0\n",
       "text_length  438.0  115.276256  5.565827  101.0  112.0  114.0  118.0  144.0"
      ]
     },
     "metadata": {},
     "output_type": "display_data"
    },
    {
     "data": {
      "text/html": [
       "<h3>ham_part4.csv</h3>"
      ],
      "text/plain": [
       "<IPython.core.display.HTML object>"
      ]
     },
     "metadata": {},
     "output_type": "display_data"
    },
    {
     "data": {
      "text/html": [
       "<div>\n",
       "<style scoped>\n",
       "    .dataframe tbody tr th:only-of-type {\n",
       "        vertical-align: middle;\n",
       "    }\n",
       "\n",
       "    .dataframe tbody tr th {\n",
       "        vertical-align: top;\n",
       "    }\n",
       "\n",
       "    .dataframe thead th {\n",
       "        text-align: right;\n",
       "    }\n",
       "</style>\n",
       "<table border=\"1\" class=\"dataframe\">\n",
       "  <thead>\n",
       "    <tr style=\"text-align: right;\">\n",
       "      <th></th>\n",
       "      <th>count</th>\n",
       "      <th>mean</th>\n",
       "      <th>std</th>\n",
       "      <th>min</th>\n",
       "      <th>25%</th>\n",
       "      <th>50%</th>\n",
       "      <th>75%</th>\n",
       "      <th>max</th>\n",
       "    </tr>\n",
       "  </thead>\n",
       "  <tbody>\n",
       "    <tr>\n",
       "      <th>label</th>\n",
       "      <td>1000.0</td>\n",
       "      <td>0.507</td>\n",
       "      <td>0.500201</td>\n",
       "      <td>0.0</td>\n",
       "      <td>0.0</td>\n",
       "      <td>1.0</td>\n",
       "      <td>1.0</td>\n",
       "      <td>1.0</td>\n",
       "    </tr>\n",
       "    <tr>\n",
       "      <th>text_length</th>\n",
       "      <td>1000.0</td>\n",
       "      <td>71.604</td>\n",
       "      <td>7.837641</td>\n",
       "      <td>55.0</td>\n",
       "      <td>65.0</td>\n",
       "      <td>71.0</td>\n",
       "      <td>78.0</td>\n",
       "      <td>101.0</td>\n",
       "    </tr>\n",
       "  </tbody>\n",
       "</table>\n",
       "</div>"
      ],
      "text/plain": [
       "              count    mean       std   min   25%   50%   75%    max\n",
       "label        1000.0   0.507  0.500201   0.0   0.0   1.0   1.0    1.0\n",
       "text_length  1000.0  71.604  7.837641  55.0  65.0  71.0  78.0  101.0"
      ]
     },
     "metadata": {},
     "output_type": "display_data"
    },
    {
     "data": {
      "text/html": [
       "<h3>ham_part3.csv</h3>"
      ],
      "text/plain": [
       "<IPython.core.display.HTML object>"
      ]
     },
     "metadata": {},
     "output_type": "display_data"
    },
    {
     "data": {
      "text/html": [
       "<div>\n",
       "<style scoped>\n",
       "    .dataframe tbody tr th:only-of-type {\n",
       "        vertical-align: middle;\n",
       "    }\n",
       "\n",
       "    .dataframe tbody tr th {\n",
       "        vertical-align: top;\n",
       "    }\n",
       "\n",
       "    .dataframe thead th {\n",
       "        text-align: right;\n",
       "    }\n",
       "</style>\n",
       "<table border=\"1\" class=\"dataframe\">\n",
       "  <thead>\n",
       "    <tr style=\"text-align: right;\">\n",
       "      <th></th>\n",
       "      <th>count</th>\n",
       "      <th>mean</th>\n",
       "      <th>std</th>\n",
       "      <th>min</th>\n",
       "      <th>25%</th>\n",
       "      <th>50%</th>\n",
       "      <th>75%</th>\n",
       "      <th>max</th>\n",
       "    </tr>\n",
       "  </thead>\n",
       "  <tbody>\n",
       "    <tr>\n",
       "      <th>label</th>\n",
       "      <td>1000.0</td>\n",
       "      <td>0.497</td>\n",
       "      <td>0.500241</td>\n",
       "      <td>0.0</td>\n",
       "      <td>0.0</td>\n",
       "      <td>0.0</td>\n",
       "      <td>1.0</td>\n",
       "      <td>1.0</td>\n",
       "    </tr>\n",
       "    <tr>\n",
       "      <th>text_length</th>\n",
       "      <td>1000.0</td>\n",
       "      <td>71.958</td>\n",
       "      <td>8.178944</td>\n",
       "      <td>53.0</td>\n",
       "      <td>65.0</td>\n",
       "      <td>72.0</td>\n",
       "      <td>78.0</td>\n",
       "      <td>107.0</td>\n",
       "    </tr>\n",
       "  </tbody>\n",
       "</table>\n",
       "</div>"
      ],
      "text/plain": [
       "              count    mean       std   min   25%   50%   75%    max\n",
       "label        1000.0   0.497  0.500241   0.0   0.0   0.0   1.0    1.0\n",
       "text_length  1000.0  71.958  8.178944  53.0  65.0  72.0  78.0  107.0"
      ]
     },
     "metadata": {},
     "output_type": "display_data"
    },
    {
     "data": {
      "text/html": [
       "<h3>ham_part1(50words).csv</h3>"
      ],
      "text/plain": [
       "<IPython.core.display.HTML object>"
      ]
     },
     "metadata": {},
     "output_type": "display_data"
    },
    {
     "data": {
      "text/html": [
       "<div>\n",
       "<style scoped>\n",
       "    .dataframe tbody tr th:only-of-type {\n",
       "        vertical-align: middle;\n",
       "    }\n",
       "\n",
       "    .dataframe tbody tr th {\n",
       "        vertical-align: top;\n",
       "    }\n",
       "\n",
       "    .dataframe thead th {\n",
       "        text-align: right;\n",
       "    }\n",
       "</style>\n",
       "<table border=\"1\" class=\"dataframe\">\n",
       "  <thead>\n",
       "    <tr style=\"text-align: right;\">\n",
       "      <th></th>\n",
       "      <th>count</th>\n",
       "      <th>mean</th>\n",
       "      <th>std</th>\n",
       "      <th>min</th>\n",
       "      <th>25%</th>\n",
       "      <th>50%</th>\n",
       "      <th>75%</th>\n",
       "      <th>max</th>\n",
       "    </tr>\n",
       "  </thead>\n",
       "  <tbody>\n",
       "    <tr>\n",
       "      <th>label</th>\n",
       "      <td>300.0</td>\n",
       "      <td>0.483333</td>\n",
       "      <td>0.500557</td>\n",
       "      <td>0.0</td>\n",
       "      <td>0.0</td>\n",
       "      <td>0.0</td>\n",
       "      <td>1.0</td>\n",
       "      <td>1.0</td>\n",
       "    </tr>\n",
       "    <tr>\n",
       "      <th>text_length</th>\n",
       "      <td>300.0</td>\n",
       "      <td>58.006667</td>\n",
       "      <td>3.009454</td>\n",
       "      <td>50.0</td>\n",
       "      <td>56.0</td>\n",
       "      <td>57.0</td>\n",
       "      <td>60.0</td>\n",
       "      <td>72.0</td>\n",
       "    </tr>\n",
       "  </tbody>\n",
       "</table>\n",
       "</div>"
      ],
      "text/plain": [
       "             count       mean       std   min   25%   50%   75%   max\n",
       "label        300.0   0.483333  0.500557   0.0   0.0   0.0   1.0   1.0\n",
       "text_length  300.0  58.006667  3.009454  50.0  56.0  57.0  60.0  72.0"
      ]
     },
     "metadata": {},
     "output_type": "display_data"
    }
   ],
   "source": [
    "for fpath in tqdm(files, total=len(files)):\n",
    "        \n",
    "    df = pd.read_csv(path.join(dataset_path, fpath))\n",
    "    display(HTML(f'<h3>{fpath}</h3>'))\n",
    "    dfs = [df.loc[0::3, df.columns != 'Answer.html_output'].reset_index(drop=True)]\n",
    "    dfs += [df.loc[idx::3, ['Answer.html_output']].reset_index(drop=True).rename(columns={'Answer.html_output':'ham_html_'}).add_suffix(str(idx)) for idx in range(3) ]\n",
    "    clean_df = pd.concat(dfs,axis=1).rename(columns={'Input.label': 'label', 'Input.text': 'text', 'Answer.Q1Answer':'human_label'})\n",
    "    clean_df = clean_df[['text', 'ham_html_0', 'ham_html_1', 'ham_html_2', 'label', 'human_label']]\n",
    "    clean_df['text_tokens'] = [[tk.text for tk in doc if not tk.is_space] for doc in nlp.pipe(clean_df['text'].tolist())]\n",
    "    \n",
    "    clean_df['text_length'] = clean_df.text_tokens.str.len()\n",
    "    display(clean_df.describe().transpose())"
   ]
  },
  {
   "cell_type": "markdown",
   "id": "9886978c-4171-4c53-bba3-0d91c9b7c577",
   "metadata": {},
   "source": [
    "### Handle case part7.csv"
   ]
  },
  {
   "cell_type": "code",
   "execution_count": 33,
   "id": "57fe67ac-33e5-49ac-82f5-e9a03b104ae6",
   "metadata": {},
   "outputs": [
    {
     "data": {
      "text/html": [
       "<h3>Part 7</h3>"
      ],
      "text/plain": [
       "<IPython.core.display.HTML object>"
      ]
     },
     "metadata": {},
     "output_type": "display_data"
    },
    {
     "data": {
      "text/html": [
       "<div>\n",
       "<style scoped>\n",
       "    .dataframe tbody tr th:only-of-type {\n",
       "        vertical-align: middle;\n",
       "    }\n",
       "\n",
       "    .dataframe tbody tr th {\n",
       "        vertical-align: top;\n",
       "    }\n",
       "\n",
       "    .dataframe thead th {\n",
       "        text-align: right;\n",
       "    }\n",
       "</style>\n",
       "<table border=\"1\" class=\"dataframe\">\n",
       "  <thead>\n",
       "    <tr style=\"text-align: right;\">\n",
       "      <th></th>\n",
       "      <th>Input.label</th>\n",
       "      <th>Input.text</th>\n",
       "      <th>Answer.Q1Answer</th>\n",
       "      <th>Answer.html_output</th>\n",
       "      <th>ham_html_</th>\n",
       "    </tr>\n",
       "  </thead>\n",
       "  <tbody>\n",
       "    <tr>\n",
       "      <th>0</th>\n",
       "      <td>0</td>\n",
       "      <td>*knocks on door*\\n*walks into restaurant*\\n*go...</td>\n",
       "      <td>no</td>\n",
       "      <td>&lt;span&gt;*knocks&lt;/span&gt; &lt;span&gt;on&lt;/span&gt; &lt;span&gt;doo...</td>\n",
       "      <td>[0, 0, 0, 0, 0, 0, 0, 0, 0, 0, 0, 0, 0, 0, 0, ...</td>\n",
       "    </tr>\n",
       "    <tr>\n",
       "      <th>1</th>\n",
       "      <td>0</td>\n",
       "      <td>*knocks on door*\\n*walks into restaurant*\\n*go...</td>\n",
       "      <td>no</td>\n",
       "      <td>&lt;span&gt;*knocks&lt;/span&gt; &lt;span&gt;on&lt;/span&gt; &lt;span&gt;doo...</td>\n",
       "      <td>[0, 0, 0, 0, 0, 0, 0, 0, 0, 0, 0, 0, 0, 0, 0, ...</td>\n",
       "    </tr>\n",
       "    <tr>\n",
       "      <th>2</th>\n",
       "      <td>0</td>\n",
       "      <td>*knocks on door*\\n*walks into restaurant*\\n*go...</td>\n",
       "      <td>no</td>\n",
       "      <td>&lt;span&gt;*knocks&lt;/span&gt; &lt;span&gt;on&lt;/span&gt; &lt;span&gt;doo...</td>\n",
       "      <td>[0, 0, 0, 0, 0, 0, 0, 0, 0, 0, 0, 0, 0, 0, 0, ...</td>\n",
       "    </tr>\n",
       "    <tr>\n",
       "      <th>3</th>\n",
       "      <td>0</td>\n",
       "      <td>$18.95 per person....Was really hungry for lun...</td>\n",
       "      <td>no</td>\n",
       "      <td>&lt;span&gt;$18.95&lt;/span&gt; &lt;span&gt;per&lt;/span&gt; &lt;span&gt;per...</td>\n",
       "      <td>[0, 0, 0, 0, 0, 0, 0, 0, 0, 0, 0, 0, 0, 0, 0, ...</td>\n",
       "    </tr>\n",
       "    <tr>\n",
       "      <th>4</th>\n",
       "      <td>0</td>\n",
       "      <td>$18.95 per person....Was really hungry for lun...</td>\n",
       "      <td>no</td>\n",
       "      <td>&lt;span&gt;$18.95&lt;/span&gt; &lt;span&gt;per&lt;/span&gt; &lt;span&gt;per...</td>\n",
       "      <td>[0, 0, 0, 0, 0, 0, 0, 0, 0, 0, 0, 0, 0, 0, 0, ...</td>\n",
       "    </tr>\n",
       "  </tbody>\n",
       "</table>\n",
       "</div>"
      ],
      "text/plain": [
       "   Input.label                                         Input.text  \\\n",
       "0            0  *knocks on door*\\n*walks into restaurant*\\n*go...   \n",
       "1            0  *knocks on door*\\n*walks into restaurant*\\n*go...   \n",
       "2            0  *knocks on door*\\n*walks into restaurant*\\n*go...   \n",
       "3            0  $18.95 per person....Was really hungry for lun...   \n",
       "4            0  $18.95 per person....Was really hungry for lun...   \n",
       "\n",
       "  Answer.Q1Answer                                 Answer.html_output  \\\n",
       "0              no  <span>*knocks</span> <span>on</span> <span>doo...   \n",
       "1              no  <span>*knocks</span> <span>on</span> <span>doo...   \n",
       "2              no  <span>*knocks</span> <span>on</span> <span>doo...   \n",
       "3              no  <span>$18.95</span> <span>per</span> <span>per...   \n",
       "4              no  <span>$18.95</span> <span>per</span> <span>per...   \n",
       "\n",
       "                                           ham_html_  \n",
       "0  [0, 0, 0, 0, 0, 0, 0, 0, 0, 0, 0, 0, 0, 0, 0, ...  \n",
       "1  [0, 0, 0, 0, 0, 0, 0, 0, 0, 0, 0, 0, 0, 0, 0, ...  \n",
       "2  [0, 0, 0, 0, 0, 0, 0, 0, 0, 0, 0, 0, 0, 0, 0, ...  \n",
       "3  [0, 0, 0, 0, 0, 0, 0, 0, 0, 0, 0, 0, 0, 0, 0, ...  \n",
       "4  [0, 0, 0, 0, 0, 0, 0, 0, 0, 0, 0, 0, 0, 0, 0, ...  "
      ]
     },
     "metadata": {},
     "output_type": "display_data"
    },
    {
     "data": {
      "text/html": [
       "<h3>Duplication du part 7</h3>"
      ],
      "text/plain": [
       "<IPython.core.display.HTML object>"
      ]
     },
     "metadata": {},
     "output_type": "display_data"
    },
    {
     "data": {
      "text/html": [
       "<div>\n",
       "<style scoped>\n",
       "    .dataframe tbody tr th:only-of-type {\n",
       "        vertical-align: middle;\n",
       "    }\n",
       "\n",
       "    .dataframe tbody tr th {\n",
       "        vertical-align: top;\n",
       "    }\n",
       "\n",
       "    .dataframe thead th {\n",
       "        text-align: right;\n",
       "    }\n",
       "</style>\n",
       "<table border=\"1\" class=\"dataframe\">\n",
       "  <thead>\n",
       "    <tr style=\"text-align: right;\">\n",
       "      <th></th>\n",
       "      <th>index</th>\n",
       "      <th>size</th>\n",
       "    </tr>\n",
       "  </thead>\n",
       "  <tbody>\n",
       "    <tr>\n",
       "      <th>0</th>\n",
       "      <td>$18.95 per person....Was really hungry for lun...</td>\n",
       "      <td>3</td>\n",
       "    </tr>\n",
       "    <tr>\n",
       "      <th>1</th>\n",
       "      <td>*knocks on door*\\n*walks into restaurant*\\n*go...</td>\n",
       "      <td>3</td>\n",
       "    </tr>\n",
       "    <tr>\n",
       "      <th>2</th>\n",
       "      <td>1. Happy hour pricing is only available in the...</td>\n",
       "      <td>3</td>\n",
       "    </tr>\n",
       "    <tr>\n",
       "      <th>3</th>\n",
       "      <td>20 Minute wait per dish. Never coming here aga...</td>\n",
       "      <td>3</td>\n",
       "    </tr>\n",
       "    <tr>\n",
       "      <th>4</th>\n",
       "      <td>2nd time eating here, We drive 35 miles from H...</td>\n",
       "      <td>3</td>\n",
       "    </tr>\n",
       "  </tbody>\n",
       "</table>\n",
       "</div>"
      ],
      "text/plain": [
       "                                               index  size\n",
       "0  $18.95 per person....Was really hungry for lun...     3\n",
       "1  *knocks on door*\\n*walks into restaurant*\\n*go...     3\n",
       "2  1. Happy hour pricing is only available in the...     3\n",
       "3  20 Minute wait per dish. Never coming here aga...     3\n",
       "4  2nd time eating here, We drive 35 miles from H...     3"
      ]
     },
     "metadata": {},
     "output_type": "display_data"
    }
   ],
   "source": [
    "df = pd.read_csv(path.join(dataset_path, 'ham_part7.csv'))\n",
    "df['ham_html_'] = df[f'Answer.html_output'].apply(yelp_hat_ham)\n",
    "display(HTML('<h3>Part 7</h3>'))\n",
    "display(df.head())\n",
    "\n",
    "duplicates = df.groupby(df['Input.text'].tolist(),as_index=False).size()\n",
    "display(HTML('<h3>Duplication du part 7</h3>'))\n",
    "display(duplicates.head())"
   ]
  },
  {
   "cell_type": "code",
   "execution_count": 56,
   "id": "30df6df6-fee8-4bf7-b4c9-c3457f9a2319",
   "metadata": {
    "tags": []
   },
   "outputs": [
    {
     "data": {
      "application/vnd.jupyter.widget-view+json": {
       "model_id": "1583266b525f42f394ef7a35a4bedb26",
       "version_major": 2,
       "version_minor": 0
      },
      "text/plain": [
       "  0%|          | 0/3 [00:00<?, ?it/s]"
      ]
     },
     "metadata": {},
     "output_type": "display_data"
    },
    {
     "data": {
      "text/html": [
       "<div>\n",
       "<style scoped>\n",
       "    .dataframe tbody tr th:only-of-type {\n",
       "        vertical-align: middle;\n",
       "    }\n",
       "\n",
       "    .dataframe tbody tr th {\n",
       "        vertical-align: top;\n",
       "    }\n",
       "\n",
       "    .dataframe thead th {\n",
       "        text-align: right;\n",
       "    }\n",
       "</style>\n",
       "<table border=\"1\" class=\"dataframe\">\n",
       "  <thead>\n",
       "    <tr style=\"text-align: right;\">\n",
       "      <th></th>\n",
       "      <th>Input.label</th>\n",
       "      <th>Input.text</th>\n",
       "      <th>Answer.Q1Answer</th>\n",
       "      <th>Answer.html_output</th>\n",
       "      <th>ham_html_</th>\n",
       "    </tr>\n",
       "  </thead>\n",
       "  <tbody>\n",
       "    <tr>\n",
       "      <th>197</th>\n",
       "      <td>0</td>\n",
       "      <td>Cold coffee, cold donut, flies EVERYWHERE, bis...</td>\n",
       "      <td>no</td>\n",
       "      <td>&lt;span class=\"active\"&gt;Cold&lt;/span&gt; &lt;span class=\"...</td>\n",
       "      <td>[1, 1, 1, 1, 1, 0, 0, 0, 1, 0, 0, 1, 0, 0, 0, ...</td>\n",
       "    </tr>\n",
       "    <tr>\n",
       "      <th>198</th>\n",
       "      <td>0</td>\n",
       "      <td>Cold coffee, cold donut, flies EVERYWHERE, bis...</td>\n",
       "      <td>no</td>\n",
       "      <td>&lt;span&gt;Cold&lt;/span&gt; &lt;span&gt;coffee,&lt;/span&gt; &lt;span&gt;c...</td>\n",
       "      <td>[0, 0, 0, 0, 0, 0, 0, 0, 0, 0, 0, 0, 0, 0, 0, ...</td>\n",
       "    </tr>\n",
       "  </tbody>\n",
       "</table>\n",
       "</div>"
      ],
      "text/plain": [
       "     Input.label                                         Input.text  \\\n",
       "197            0  Cold coffee, cold donut, flies EVERYWHERE, bis...   \n",
       "198            0  Cold coffee, cold donut, flies EVERYWHERE, bis...   \n",
       "\n",
       "    Answer.Q1Answer                                 Answer.html_output  \\\n",
       "197              no  <span class=\"active\">Cold</span> <span class=\"...   \n",
       "198              no  <span>Cold</span> <span>coffee,</span> <span>c...   \n",
       "\n",
       "                                             ham_html_  \n",
       "197  [1, 1, 1, 1, 1, 0, 0, 0, 1, 0, 0, 1, 0, 0, 0, ...  \n",
       "198  [0, 0, 0, 0, 0, 0, 0, 0, 0, 0, 0, 0, 0, 0, 0, ...  "
      ]
     },
     "metadata": {},
     "output_type": "display_data"
    },
    {
     "data": {
      "text/html": [
       "<div>\n",
       "<style scoped>\n",
       "    .dataframe tbody tr th:only-of-type {\n",
       "        vertical-align: middle;\n",
       "    }\n",
       "\n",
       "    .dataframe tbody tr th {\n",
       "        vertical-align: top;\n",
       "    }\n",
       "\n",
       "    .dataframe thead th {\n",
       "        text-align: right;\n",
       "    }\n",
       "</style>\n",
       "<table border=\"1\" class=\"dataframe\">\n",
       "  <thead>\n",
       "    <tr style=\"text-align: right;\">\n",
       "      <th></th>\n",
       "      <th>Input.label</th>\n",
       "      <th>Input.text</th>\n",
       "      <th>Answer.Q1Answer</th>\n",
       "      <th>Answer.html_output</th>\n",
       "      <th>ham_html_</th>\n",
       "    </tr>\n",
       "  </thead>\n",
       "  <tbody>\n",
       "    <tr>\n",
       "      <th>199</th>\n",
       "      <td>1</td>\n",
       "      <td>Compared to others in the area, Scramble beats...</td>\n",
       "      <td>yes</td>\n",
       "      <td>&lt;span&gt;Compared&lt;/span&gt; &lt;span&gt;to&lt;/span&gt; &lt;span&gt;ot...</td>\n",
       "      <td>[0, 0, 0, 0, 0, 0, 0, 0, 0, 0, 0, 0, 0, 0, 0, ...</td>\n",
       "    </tr>\n",
       "    <tr>\n",
       "      <th>200</th>\n",
       "      <td>1</td>\n",
       "      <td>Compared to others in the area, Scramble beats...</td>\n",
       "      <td>yes</td>\n",
       "      <td>&lt;span&gt;Compared&lt;/span&gt; &lt;span&gt;to&lt;/span&gt; &lt;span&gt;ot...</td>\n",
       "      <td>[0, 0, 0, 0, 0, 0, 1, 1, 0, 1, 0, 1, 0, 1, 0, ...</td>\n",
       "    </tr>\n",
       "  </tbody>\n",
       "</table>\n",
       "</div>"
      ],
      "text/plain": [
       "     Input.label                                         Input.text  \\\n",
       "199            1  Compared to others in the area, Scramble beats...   \n",
       "200            1  Compared to others in the area, Scramble beats...   \n",
       "\n",
       "    Answer.Q1Answer                                 Answer.html_output  \\\n",
       "199             yes  <span>Compared</span> <span>to</span> <span>ot...   \n",
       "200             yes  <span>Compared</span> <span>to</span> <span>ot...   \n",
       "\n",
       "                                             ham_html_  \n",
       "199  [0, 0, 0, 0, 0, 0, 0, 0, 0, 0, 0, 0, 0, 0, 0, ...  \n",
       "200  [0, 0, 0, 0, 0, 0, 1, 1, 0, 1, 0, 1, 0, 1, 0, ...  "
      ]
     },
     "metadata": {},
     "output_type": "display_data"
    },
    {
     "data": {
      "text/html": [
       "<div>\n",
       "<style scoped>\n",
       "    .dataframe tbody tr th:only-of-type {\n",
       "        vertical-align: middle;\n",
       "    }\n",
       "\n",
       "    .dataframe tbody tr th {\n",
       "        vertical-align: top;\n",
       "    }\n",
       "\n",
       "    .dataframe thead th {\n",
       "        text-align: right;\n",
       "    }\n",
       "</style>\n",
       "<table border=\"1\" class=\"dataframe\">\n",
       "  <thead>\n",
       "    <tr style=\"text-align: right;\">\n",
       "      <th></th>\n",
       "      <th>Input.label</th>\n",
       "      <th>Input.text</th>\n",
       "      <th>Answer.Q1Answer</th>\n",
       "      <th>Answer.html_output</th>\n",
       "      <th>ham_html_</th>\n",
       "    </tr>\n",
       "  </thead>\n",
       "  <tbody>\n",
       "    <tr>\n",
       "      <th>261</th>\n",
       "      <td>0</td>\n",
       "      <td>DON'T waste your Time Money or Abuse your Tumm...</td>\n",
       "      <td>no</td>\n",
       "      <td>&lt;span&gt;DON'T&lt;/span&gt; &lt;span class=\"active\"&gt;waste&lt;...</td>\n",
       "      <td>[0, 1, 0, 0, 0, 0, 1, 0, 0, 1, 0, 0, 0, 0, 0, ...</td>\n",
       "    </tr>\n",
       "    <tr>\n",
       "      <th>262</th>\n",
       "      <td>0</td>\n",
       "      <td>DON'T waste your Time Money or Abuse your Tumm...</td>\n",
       "      <td>no</td>\n",
       "      <td>&lt;span&gt;DON'T&lt;/span&gt; &lt;span&gt;waste&lt;/span&gt; &lt;span&gt;yo...</td>\n",
       "      <td>[0, 0, 0, 0, 0, 0, 0, 0, 0, 0, 0, 1, 0, 0, 0, ...</td>\n",
       "    </tr>\n",
       "  </tbody>\n",
       "</table>\n",
       "</div>"
      ],
      "text/plain": [
       "     Input.label                                         Input.text  \\\n",
       "261            0  DON'T waste your Time Money or Abuse your Tumm...   \n",
       "262            0  DON'T waste your Time Money or Abuse your Tumm...   \n",
       "\n",
       "    Answer.Q1Answer                                 Answer.html_output  \\\n",
       "261              no  <span>DON'T</span> <span class=\"active\">waste<...   \n",
       "262              no  <span>DON'T</span> <span>waste</span> <span>yo...   \n",
       "\n",
       "                                             ham_html_  \n",
       "261  [0, 1, 0, 0, 0, 0, 1, 0, 0, 1, 0, 0, 0, 0, 0, ...  \n",
       "262  [0, 0, 0, 0, 0, 0, 0, 0, 0, 0, 0, 1, 0, 0, 0, ...  "
      ]
     },
     "metadata": {},
     "output_type": "display_data"
    },
    {
     "name": "stdout",
     "output_type": "stream",
     "text": [
      "Duplicate of 2 : 130\n",
      "Duplicate of 3 : 144\n",
      "Duplicate of 4 : 351\n"
     ]
    }
   ],
   "source": [
    "dupli_2 = duplicates[duplicates['size'] < 3]\n",
    "\n",
    "for d in tqdm(dupli_2['index'][:3]):\n",
    "    display(df.loc[df['Input.text'] == d])\n",
    "    \n",
    "for dup_rows in [2, 3, 4]:\n",
    "    print('Duplicate of', dup_rows, ':', sum(duplicates['size'] == dup_rows))"
   ]
  },
  {
   "cell_type": "code",
   "execution_count": 61,
   "id": "ba9e4fd8-537b-42da-a66e-fae35867b187",
   "metadata": {},
   "outputs": [
    {
     "data": {
      "text/plain": [
       "array([3, 4])"
      ]
     },
     "metadata": {},
     "output_type": "display_data"
    },
    {
     "name": "stdout",
     "output_type": "stream",
     "text": [
      ">> Expected not to have \"2\" after drop\n"
     ]
    }
   ],
   "source": [
    "# Drop all text that has only 2 reviews:\n",
    "df2 = df[~df['Input.text'].isin(dupli_2['index'])]\n",
    "\n",
    "# Verify if no more 2-row duplicate exist\n",
    "duplicates_2 = df2.groupby(df2['Input.text'].tolist(),as_index=False).size()\n",
    "display(duplicates_2['size'].unique())\n",
    "print('>> Expected not to have \"2\" after drop')"
   ]
  },
  {
   "cell_type": "code",
   "execution_count": 66,
   "id": "4ae7d706-10f3-46b4-8c6e-b052380ff033",
   "metadata": {},
   "outputs": [
    {
     "data": {
      "text/plain": [
       "array([ True, False])"
      ]
     },
     "execution_count": 66,
     "metadata": {},
     "output_type": "execute_result"
    }
   ],
   "source": [
    "duplicates_2['size'].unique() == [3]"
   ]
  },
  {
   "cell_type": "code",
   "execution_count": 58,
   "id": "4a3d87d0-ac1d-48a7-9061-5948a329b868",
   "metadata": {},
   "outputs": [
    {
     "data": {
      "text/plain": [
       "array([3])"
      ]
     },
     "metadata": {},
     "output_type": "display_data"
    },
    {
     "name": "stdout",
     "output_type": "stream",
     "text": [
      "Check correctly remove number of duplicate of 4 True\n"
     ]
    }
   ],
   "source": [
    "# Drop 4th annotation\n",
    "df3 = df2.groupby('Input.text').head(3).reset_index(drop=True)\n",
    "\n",
    "# Check if no more duplicate of 4:\n",
    "duplicates_3 = df3.groupby(df3['Input.text'].tolist(),as_index=False).size()\n",
    "display(duplicates_3['size'].unique())\n",
    "\n",
    "print('Check correctly remove number of duplicate of 4', len(df3) + len(text_4) == len(df2))"
   ]
  },
  {
   "cell_type": "code",
   "execution_count": 60,
   "id": "28105a9f-09f0-46fb-9a88-a6638648773e",
   "metadata": {},
   "outputs": [],
   "source": [
    "clean_df = df3"
   ]
  },
  {
   "cell_type": "code",
   "execution_count": 69,
   "id": "9639f395-954c-443f-9a89-a81c30516b9f",
   "metadata": {},
   "outputs": [
    {
     "data": {
      "text/plain": [
       "True"
      ]
     },
     "execution_count": 69,
     "metadata": {},
     "output_type": "execute_result"
    }
   ],
   "source": [
    "duplicates_3['size'].unique()[0] == 3"
   ]
  },
  {
   "cell_type": "code",
   "execution_count": null,
   "id": "39b8379e-adb1-41d3-8ad0-2c9b62dd4c70",
   "metadata": {},
   "outputs": [],
   "source": []
  },
  {
   "cell_type": "code",
   "execution_count": null,
   "id": "2a6a9214-a9f4-4c00-bbe1-c26563f15a09",
   "metadata": {},
   "outputs": [],
   "source": []
  },
  {
   "cell_type": "code",
   "execution_count": null,
   "id": "6c5d63af-8292-4f0a-9d56-401f097edd79",
   "metadata": {},
   "outputs": [],
   "source": []
  }
 ],
 "metadata": {
  "kernelspec": {
   "display_name": "Python 3 (ipykernel)",
   "language": "python",
   "name": "python3"
  },
  "language_info": {
   "codemirror_mode": {
    "name": "ipython",
    "version": 3
   },
   "file_extension": ".py",
   "mimetype": "text/x-python",
   "name": "python",
   "nbconvert_exporter": "python",
   "pygments_lexer": "ipython3",
   "version": "3.8.5"
  }
 },
 "nbformat": 4,
 "nbformat_minor": 5
}
