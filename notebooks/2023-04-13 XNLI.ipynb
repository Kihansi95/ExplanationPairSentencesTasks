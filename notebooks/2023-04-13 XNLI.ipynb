{
 "cells": [
  {
   "cell_type": "markdown",
   "id": "42291469-df9d-43bc-8e04-550994f2f37b",
   "metadata": {},
   "source": [
    "# Study on XNLI (french only)"
   ]
  },
  {
   "cell_type": "code",
   "execution_count": 4,
   "id": "8e5a77f3-37ef-489d-bbb7-73be05cfc3ad",
   "metadata": {
    "ExecuteTime": {
     "end_time": "2023-04-27T17:48:14.648416Z",
     "start_time": "2023-04-27T17:48:14.571826Z"
    }
   },
   "outputs": [
    {
     "name": "stdout",
     "output_type": "stream",
     "text": [
      "The autoreload extension is already loaded. To reload it, use:\n",
      "  %reload_ext autoreload\n"
     ]
    }
   ],
   "source": [
    "%load_ext autoreload\n",
    "%autoreload 2\n",
    "\n",
    "from IPython.display import display, HTML\n",
    "import os\n",
    "from os import path\n",
    "\n",
    "import sys\n",
    "sys.path.append(\"./../src\")\n",
    "\n",
    "cache_path = path.join(os.getcwd(), '..', '.cache')\n",
    "dataset_path = path.join(cache_path, 'dataset')\n",
    "tmp_path = path.join('.cache', '2023-04-13')\n",
    "os.makedirs(tmp_path,exist_ok=True)"
   ]
  },
  {
   "cell_type": "code",
   "execution_count": 5,
   "id": "4d048668-dfda-4895-b3a7-0305ecfb6b6a",
   "metadata": {
    "ExecuteTime": {
     "end_time": "2023-04-27T17:48:22.607038Z",
     "start_time": "2023-04-27T17:48:18.330538Z"
    }
   },
   "outputs": [
    {
     "name": "stderr",
     "output_type": "stream",
     "text": [
      "Reusing dataset xnli (/Users/dunguyen/Projects/explanation_on_pair_sequences_task/notebooks/../.cache/dataset/xnli/fr/1.1.0/818164464f9c9fd15776ca8a00423b074344c3e929d00a2c1a84aa5a50c928bd)\n"
     ]
    },
    {
     "data": {
      "application/vnd.jupyter.widget-view+json": {
       "model_id": "36ed73b3d09541ffb584730a2f00dbb6",
       "version_major": 2,
       "version_minor": 0
      },
      "text/plain": [
       "  0%|          | 0/3 [00:00<?, ?it/s]"
      ]
     },
     "metadata": {},
     "output_type": "display_data"
    }
   ],
   "source": [
    "from datasets import load_dataset\n",
    "import shutil\n",
    "\n",
    "dataset = load_dataset(\"xnli\", 'fr', cache_dir=dataset_path)"
   ]
  },
  {
   "cell_type": "code",
   "execution_count": 6,
   "id": "c2b1fbdf-d69e-4b36-b879-f4c991d44a14",
   "metadata": {
    "ExecuteTime": {
     "end_time": "2023-04-27T17:48:22.663702Z",
     "start_time": "2023-04-27T17:48:22.610229Z"
    }
   },
   "outputs": [],
   "source": [
    "HF_LABEL_ITOS = ['implication', 'neutre', 'contradiction']\n",
    "LABEL_ITOS = ['neutre', 'implication', 'contradiction']\n",
    "LABEL_STOI = {label: index for index, label in enumerate(LABEL_ITOS)}"
   ]
  },
  {
   "cell_type": "code",
   "execution_count": 7,
   "id": "7c92bffe-c315-4c77-8f77-f224140bafc9",
   "metadata": {
    "ExecuteTime": {
     "end_time": "2023-04-27T17:48:26.612976Z",
     "start_time": "2023-04-27T17:48:25.082533Z"
    }
   },
   "outputs": [
    {
     "data": {
      "text/html": [
       "<div>\n",
       "<style scoped>\n",
       "    .dataframe tbody tr th:only-of-type {\n",
       "        vertical-align: middle;\n",
       "    }\n",
       "\n",
       "    .dataframe tbody tr th {\n",
       "        vertical-align: top;\n",
       "    }\n",
       "\n",
       "    .dataframe thead th {\n",
       "        text-align: right;\n",
       "    }\n",
       "</style>\n",
       "<table border=\"1\" class=\"dataframe\">\n",
       "  <thead>\n",
       "    <tr style=\"text-align: right;\">\n",
       "      <th></th>\n",
       "      <th>premise.text</th>\n",
       "      <th>hypothesis.text</th>\n",
       "      <th>label</th>\n",
       "    </tr>\n",
       "  </thead>\n",
       "  <tbody>\n",
       "    <tr>\n",
       "      <th>0</th>\n",
       "      <td>L' écrémage conceptuel de la crème a deux dime...</td>\n",
       "      <td>Le produit et la géographie sont ce qui fait t...</td>\n",
       "      <td>neutre</td>\n",
       "    </tr>\n",
       "    <tr>\n",
       "      <th>1</th>\n",
       "      <td>Tu sais pendant la saison et je suppose qu' à ...</td>\n",
       "      <td>Vous perdez les choses au niveau suivant si le...</td>\n",
       "      <td>implication</td>\n",
       "    </tr>\n",
       "    <tr>\n",
       "      <th>2</th>\n",
       "      <td>Un de nos numéros vous fera suivre vos instruc...</td>\n",
       "      <td>Un membre de mon équipe exécutera vos ordres a...</td>\n",
       "      <td>implication</td>\n",
       "    </tr>\n",
       "    <tr>\n",
       "      <th>3</th>\n",
       "      <td>Qu' est-ce que tu en sais ? Tout ceci est à no...</td>\n",
       "      <td>Cette information leur appartient .</td>\n",
       "      <td>implication</td>\n",
       "    </tr>\n",
       "    <tr>\n",
       "      <th>4</th>\n",
       "      <td>Ouais je te dis ce que si tu vas prix certaine...</td>\n",
       "      <td>Les chaussures de tennis ont une gamme de prix .</td>\n",
       "      <td>neutre</td>\n",
       "    </tr>\n",
       "    <tr>\n",
       "      <th>...</th>\n",
       "      <td>...</td>\n",
       "      <td>...</td>\n",
       "      <td>...</td>\n",
       "    </tr>\n",
       "    <tr>\n",
       "      <th>392697</th>\n",
       "      <td>De toute évidence , la Californie peut - et do...</td>\n",
       "      <td>La Californie ne peut pas faire mieux .</td>\n",
       "      <td>contradiction</td>\n",
       "    </tr>\n",
       "    <tr>\n",
       "      <th>392698</th>\n",
       "      <td>Elle était autrefois considérée comme la plus ...</td>\n",
       "      <td>Beaucoup de bâtiments originaux avaient été re...</td>\n",
       "      <td>neutre</td>\n",
       "    </tr>\n",
       "    <tr>\n",
       "      <th>392699</th>\n",
       "      <td>Les péniches sont une tradition magnifiquement...</td>\n",
       "      <td>La tradition des péniches est née alors que le...</td>\n",
       "      <td>implication</td>\n",
       "    </tr>\n",
       "    <tr>\n",
       "      <th>392700</th>\n",
       "      <td>Les nécrologie ont rappelé avec tendresse ses ...</td>\n",
       "      <td>Les nécrologie étaient belles et écrites en na...</td>\n",
       "      <td>neutre</td>\n",
       "    </tr>\n",
       "    <tr>\n",
       "      <th>392701</th>\n",
       "      <td>Dans l' autre tu sais que je devrais le faire ...</td>\n",
       "      <td>Mon mari est tellement surmené ces derniers te...</td>\n",
       "      <td>neutre</td>\n",
       "    </tr>\n",
       "  </tbody>\n",
       "</table>\n",
       "<p>392702 rows × 3 columns</p>\n",
       "</div>"
      ],
      "text/plain": [
       "                                             premise.text  \\\n",
       "0       L' écrémage conceptuel de la crème a deux dime...   \n",
       "1       Tu sais pendant la saison et je suppose qu' à ...   \n",
       "2       Un de nos numéros vous fera suivre vos instruc...   \n",
       "3       Qu' est-ce que tu en sais ? Tout ceci est à no...   \n",
       "4       Ouais je te dis ce que si tu vas prix certaine...   \n",
       "...                                                   ...   \n",
       "392697  De toute évidence , la Californie peut - et do...   \n",
       "392698  Elle était autrefois considérée comme la plus ...   \n",
       "392699  Les péniches sont une tradition magnifiquement...   \n",
       "392700  Les nécrologie ont rappelé avec tendresse ses ...   \n",
       "392701  Dans l' autre tu sais que je devrais le faire ...   \n",
       "\n",
       "                                          hypothesis.text          label  \n",
       "0       Le produit et la géographie sont ce qui fait t...         neutre  \n",
       "1       Vous perdez les choses au niveau suivant si le...    implication  \n",
       "2       Un membre de mon équipe exécutera vos ordres a...    implication  \n",
       "3                     Cette information leur appartient .    implication  \n",
       "4        Les chaussures de tennis ont une gamme de prix .         neutre  \n",
       "...                                                   ...            ...  \n",
       "392697            La Californie ne peut pas faire mieux .  contradiction  \n",
       "392698  Beaucoup de bâtiments originaux avaient été re...         neutre  \n",
       "392699  La tradition des péniches est née alors que le...    implication  \n",
       "392700  Les nécrologie étaient belles et écrites en na...         neutre  \n",
       "392701  Mon mari est tellement surmené ces derniers te...         neutre  \n",
       "\n",
       "[392702 rows x 3 columns]"
      ]
     },
     "execution_count": 7,
     "metadata": {},
     "output_type": "execute_result"
    }
   ],
   "source": [
    "df_train = dataset['train'].to_pandas()\n",
    "\n",
    "# Convert numeric labels into string label to avoid confusion\n",
    "df_train = df_train.replace({'label': {index: label for index, label in enumerate(HF_LABEL_ITOS)}})\n",
    "df_train = df_train.rename(columns={'premise': 'premise.text', 'hypothesis': 'hypothesis.text'})\n",
    "df_train['label'] = df_train['label'].astype('category')\n",
    "\n",
    "df_train"
   ]
  },
  {
   "cell_type": "markdown",
   "id": "c2effd6a-948a-4f1f-87f0-8049dd8d4225",
   "metadata": {
    "tags": []
   },
   "source": [
    "## Pretokenize the text"
   ]
  },
  {
   "cell_type": "code",
   "execution_count": 3,
   "id": "7d663393-c4b8-4d6c-bed1-0d1d9c3a542a",
   "metadata": {
    "ExecuteTime": {
     "end_time": "2023-04-27T17:47:31.781617Z",
     "start_time": "2023-04-27T17:47:16.319227Z"
    }
   },
   "outputs": [],
   "source": [
    "import spacy\n",
    "import pandas as pd\n",
    "\n",
    "# Load spacy tokenizer\n",
    "sm = spacy.load('fr_core_news_sm')"
   ]
  },
  {
   "cell_type": "code",
   "execution_count": null,
   "id": "f5cbad4a-b2c0-42c3-8e85-116fb3450415",
   "metadata": {},
   "outputs": [],
   "source": [
    "%%time\n",
    "\n",
    "## WARNING : THIS GONNA TAKE A LONG TIME EXECUTION\n",
    "\n",
    "for side in ['premise', 'hypothesis']:\n",
    "    docs = sm.pipe(df_train[side+'.text'])\n",
    "    tokens = [[token.lemma_.lower() for token in sentence] for sentence in docs]\n",
    "    df_train[side+'.tokens'] = pd.Series(tokens)"
   ]
  },
  {
   "cell_type": "code",
   "execution_count": 6,
   "id": "6e51e23c-842b-456d-acae-f12f62c9363d",
   "metadata": {},
   "outputs": [],
   "source": [
    "df_train = pd.read_json(path.join(dataset_path, 'xnli','fr', 'train.json'))"
   ]
  },
  {
   "cell_type": "markdown",
   "id": "d36ad415-c280-40c6-9301-d91ff7f257d7",
   "metadata": {},
   "source": [
    "`json`\n",
    "\n",
    "* Saving time : 2.14 s\n",
    "* Loading time : 5.64 s"
   ]
  },
  {
   "cell_type": "code",
   "execution_count": 6,
   "id": "ef21b0bb-51cb-41f8-a865-06a88a472d7c",
   "metadata": {},
   "outputs": [],
   "source": [
    "json_path = path.join(dataset_path, 'xnli','fr', 'train.json')"
   ]
  },
  {
   "cell_type": "code",
   "execution_count": 8,
   "id": "926b4aa8-091a-4ed1-a02b-3fc2f54daf0d",
   "metadata": {},
   "outputs": [
    {
     "name": "stdout",
     "output_type": "stream",
     "text": [
      "CPU times: user 1.66 s, sys: 425 ms, total: 2.08 s\n",
      "Wall time: 2.14 s\n"
     ]
    }
   ],
   "source": [
    "%%time\n",
    "## SAVE TIME\n",
    "df_train.to_json(json_path)"
   ]
  },
  {
   "cell_type": "code",
   "execution_count": 7,
   "id": "466c02e6-c73c-4f5f-96bb-c9e2ec240fb9",
   "metadata": {},
   "outputs": [
    {
     "name": "stdout",
     "output_type": "stream",
     "text": [
      "CPU times: user 4.97 s, sys: 674 ms, total: 5.64 s\n",
      "Wall time: 5.64 s\n"
     ]
    }
   ],
   "source": [
    "%%time\n",
    "## LOAD TIME\n",
    "df_train = pd.read_json(json_path)"
   ]
  },
  {
   "cell_type": "markdown",
   "id": "5156c10e-4317-42d0-b2b5-9bea644e1397",
   "metadata": {},
   "source": [
    "Check UTF-8 encoding correctly loaded in french"
   ]
  },
  {
   "cell_type": "code",
   "execution_count": 10,
   "id": "138874c8-4692-4fcc-af86-dd8f7ff05a6e",
   "metadata": {
    "scrolled": true,
    "tags": []
   },
   "outputs": [
    {
     "data": {
      "text/html": [
       "<div>\n",
       "<style scoped>\n",
       "    .dataframe tbody tr th:only-of-type {\n",
       "        vertical-align: middle;\n",
       "    }\n",
       "\n",
       "    .dataframe tbody tr th {\n",
       "        vertical-align: top;\n",
       "    }\n",
       "\n",
       "    .dataframe thead th {\n",
       "        text-align: right;\n",
       "    }\n",
       "</style>\n",
       "<table border=\"1\" class=\"dataframe\">\n",
       "  <thead>\n",
       "    <tr style=\"text-align: right;\">\n",
       "      <th></th>\n",
       "      <th>premise.text</th>\n",
       "      <th>hypothesis.text</th>\n",
       "      <th>label</th>\n",
       "      <th>premise.tokens</th>\n",
       "      <th>hypothesis.tokens</th>\n",
       "    </tr>\n",
       "  </thead>\n",
       "  <tbody>\n",
       "    <tr>\n",
       "      <th>0</th>\n",
       "      <td>L' écrémage conceptuel de la crème a deux dime...</td>\n",
       "      <td>Le produit et la géographie sont ce qui fait t...</td>\n",
       "      <td>neutre</td>\n",
       "      <td>[l, ', écrémage, conceptuel, de, le, crème, av...</td>\n",
       "      <td>[le, produit, et, le, géographie, être, ce, qu...</td>\n",
       "    </tr>\n",
       "    <tr>\n",
       "      <th>1</th>\n",
       "      <td>Tu sais pendant la saison et je suppose qu' à ...</td>\n",
       "      <td>Vous perdez les choses au niveau suivant si le...</td>\n",
       "      <td>implication</td>\n",
       "      <td>[taire, savoir, pendant, le, saison, et, je, s...</td>\n",
       "      <td>[vous, perdre, le, chose, au, niveau, suivre, ...</td>\n",
       "    </tr>\n",
       "    <tr>\n",
       "      <th>2</th>\n",
       "      <td>Un de nos numéros vous fera suivre vos instruc...</td>\n",
       "      <td>Un membre de mon équipe exécutera vos ordres a...</td>\n",
       "      <td>implication</td>\n",
       "      <td>[un, de, notre, numéro, vous, faire, suivre, v...</td>\n",
       "      <td>[un, membre, de, mon, équipe, exécuter, votre,...</td>\n",
       "    </tr>\n",
       "    <tr>\n",
       "      <th>3</th>\n",
       "      <td>Qu' est-ce que tu en sais ? Tout ceci est à no...</td>\n",
       "      <td>Cette information leur appartient .</td>\n",
       "      <td>implication</td>\n",
       "      <td>[que, ', être, -ce, que, taire, en, sai, ?, to...</td>\n",
       "      <td>[ce, information, leur, appartient, .]</td>\n",
       "    </tr>\n",
       "    <tr>\n",
       "      <th>4</th>\n",
       "      <td>Ouais je te dis ce que si tu vas prix certaine...</td>\n",
       "      <td>Les chaussures de tennis ont une gamme de prix .</td>\n",
       "      <td>neutre</td>\n",
       "      <td>[ouai, je, te, dis, ce, que, si, taire, vas, p...</td>\n",
       "      <td>[le, chaussure, de, tennis, avoir, un, gamme, ...</td>\n",
       "    </tr>\n",
       "    <tr>\n",
       "      <th>...</th>\n",
       "      <td>...</td>\n",
       "      <td>...</td>\n",
       "      <td>...</td>\n",
       "      <td>...</td>\n",
       "      <td>...</td>\n",
       "    </tr>\n",
       "    <tr>\n",
       "      <th>392697</th>\n",
       "      <td>De toute évidence , la Californie peut - et do...</td>\n",
       "      <td>La Californie ne peut pas faire mieux .</td>\n",
       "      <td>contradiction</td>\n",
       "      <td>[de, tout, évidence, ,, le, californie, pouvoi...</td>\n",
       "      <td>[le, californie, ne, pouvoir, pas, faire, mieu...</td>\n",
       "    </tr>\n",
       "    <tr>\n",
       "      <th>392698</th>\n",
       "      <td>Elle était autrefois considérée comme la plus ...</td>\n",
       "      <td>Beaucoup de bâtiments originaux avaient été re...</td>\n",
       "      <td>neutre</td>\n",
       "      <td>[lui, être, autrefois, considérer, comme, le, ...</td>\n",
       "      <td>[beaucoup, de, bâtiment, original, avoir, être...</td>\n",
       "    </tr>\n",
       "    <tr>\n",
       "      <th>392699</th>\n",
       "      <td>Les péniches sont une tradition magnifiquement...</td>\n",
       "      <td>La tradition des péniches est née alors que le...</td>\n",
       "      <td>implication</td>\n",
       "      <td>[le, péniche, être, un, tradition, magnifiquem...</td>\n",
       "      <td>[le, tradition, de, péniche, être, naître, alo...</td>\n",
       "    </tr>\n",
       "    <tr>\n",
       "      <th>392700</th>\n",
       "      <td>Les nécrologie ont rappelé avec tendresse ses ...</td>\n",
       "      <td>Les nécrologie étaient belles et écrites en na...</td>\n",
       "      <td>neutre</td>\n",
       "      <td>[le, nécrologie, avoir, rappeler, avec, tendre...</td>\n",
       "      <td>[le, nécrologie, être, bel, et, écrite, en, na...</td>\n",
       "    </tr>\n",
       "    <tr>\n",
       "      <th>392701</th>\n",
       "      <td>Dans l' autre tu sais que je devrais le faire ...</td>\n",
       "      <td>Mon mari est tellement surmené ces derniers te...</td>\n",
       "      <td>neutre</td>\n",
       "      <td>[dans, l, ', autre, taire, sai, que, je, devoi...</td>\n",
       "      <td>[mon, mari, être, tellement, surmener, ce, der...</td>\n",
       "    </tr>\n",
       "  </tbody>\n",
       "</table>\n",
       "<p>392702 rows × 5 columns</p>\n",
       "</div>"
      ],
      "text/plain": [
       "                                             premise.text  \\\n",
       "0       L' écrémage conceptuel de la crème a deux dime...   \n",
       "1       Tu sais pendant la saison et je suppose qu' à ...   \n",
       "2       Un de nos numéros vous fera suivre vos instruc...   \n",
       "3       Qu' est-ce que tu en sais ? Tout ceci est à no...   \n",
       "4       Ouais je te dis ce que si tu vas prix certaine...   \n",
       "...                                                   ...   \n",
       "392697  De toute évidence , la Californie peut - et do...   \n",
       "392698  Elle était autrefois considérée comme la plus ...   \n",
       "392699  Les péniches sont une tradition magnifiquement...   \n",
       "392700  Les nécrologie ont rappelé avec tendresse ses ...   \n",
       "392701  Dans l' autre tu sais que je devrais le faire ...   \n",
       "\n",
       "                                          hypothesis.text          label  \\\n",
       "0       Le produit et la géographie sont ce qui fait t...         neutre   \n",
       "1       Vous perdez les choses au niveau suivant si le...    implication   \n",
       "2       Un membre de mon équipe exécutera vos ordres a...    implication   \n",
       "3                     Cette information leur appartient .    implication   \n",
       "4        Les chaussures de tennis ont une gamme de prix .         neutre   \n",
       "...                                                   ...            ...   \n",
       "392697            La Californie ne peut pas faire mieux .  contradiction   \n",
       "392698  Beaucoup de bâtiments originaux avaient été re...         neutre   \n",
       "392699  La tradition des péniches est née alors que le...    implication   \n",
       "392700  Les nécrologie étaient belles et écrites en na...         neutre   \n",
       "392701  Mon mari est tellement surmené ces derniers te...         neutre   \n",
       "\n",
       "                                           premise.tokens  \\\n",
       "0       [l, ', écrémage, conceptuel, de, le, crème, av...   \n",
       "1       [taire, savoir, pendant, le, saison, et, je, s...   \n",
       "2       [un, de, notre, numéro, vous, faire, suivre, v...   \n",
       "3       [que, ', être, -ce, que, taire, en, sai, ?, to...   \n",
       "4       [ouai, je, te, dis, ce, que, si, taire, vas, p...   \n",
       "...                                                   ...   \n",
       "392697  [de, tout, évidence, ,, le, californie, pouvoi...   \n",
       "392698  [lui, être, autrefois, considérer, comme, le, ...   \n",
       "392699  [le, péniche, être, un, tradition, magnifiquem...   \n",
       "392700  [le, nécrologie, avoir, rappeler, avec, tendre...   \n",
       "392701  [dans, l, ', autre, taire, sai, que, je, devoi...   \n",
       "\n",
       "                                        hypothesis.tokens  \n",
       "0       [le, produit, et, le, géographie, être, ce, qu...  \n",
       "1       [vous, perdre, le, chose, au, niveau, suivre, ...  \n",
       "2       [un, membre, de, mon, équipe, exécuter, votre,...  \n",
       "3                  [ce, information, leur, appartient, .]  \n",
       "4       [le, chaussure, de, tennis, avoir, un, gamme, ...  \n",
       "...                                                   ...  \n",
       "392697  [le, californie, ne, pouvoir, pas, faire, mieu...  \n",
       "392698  [beaucoup, de, bâtiment, original, avoir, être...  \n",
       "392699  [le, tradition, de, péniche, être, naître, alo...  \n",
       "392700  [le, nécrologie, être, bel, et, écrite, en, na...  \n",
       "392701  [mon, mari, être, tellement, surmener, ce, der...  \n",
       "\n",
       "[392702 rows x 5 columns]"
      ]
     },
     "execution_count": 10,
     "metadata": {},
     "output_type": "execute_result"
    }
   ],
   "source": [
    "df_train"
   ]
  },
  {
   "cell_type": "markdown",
   "id": "4374277b-267b-4a0f-be9b-74a9d2911992",
   "metadata": {},
   "source": [
    "`hdf-5`\n",
    "\n",
    "* Saving time : 6.57 s\n",
    "* Loading time : 7.14 s"
   ]
  },
  {
   "cell_type": "code",
   "execution_count": null,
   "id": "4420cdd8-789b-44dc-babf-47cc14169105",
   "metadata": {},
   "outputs": [],
   "source": [
    "hdf_path = path.join(dataset_path, 'xnli','fr', 'data.h5')"
   ]
  },
  {
   "cell_type": "code",
   "execution_count": null,
   "id": "dd33403b-c9d7-4309-80be-4c35d63b935d",
   "metadata": {},
   "outputs": [
    {
     "name": "stderr",
     "output_type": "stream",
     "text": [
      "<timed eval>:2: PerformanceWarning: \n",
      "your performance may suffer as PyTables will pickle object types that it cannot\n",
      "map directly to c-types [inferred_type->mixed,key->block0_values] [items->Index(['premise.text', 'hypothesis.text', 'label', 'premise.tokens',\n",
      "       'hypothesis.tokens'],\n",
      "      dtype='object')]\n",
      "\n"
     ]
    },
    {
     "name": "stdout",
     "output_type": "stream",
     "text": [
      "CPU times: user 5.08 s, sys: 1.1 s, total: 6.18 s\n",
      "Wall time: 6.57 s\n"
     ]
    }
   ],
   "source": [
    "%%time\n",
    "## SAVE TIME\n",
    "df_train.to_hdf(hdf_path, key='train', mode='w')"
   ]
  },
  {
   "cell_type": "code",
   "execution_count": null,
   "id": "0762a337-998b-4000-8899-b143dcda4c11",
   "metadata": {},
   "outputs": [
    {
     "name": "stdout",
     "output_type": "stream",
     "text": [
      "CPU times: user 5.42 s, sys: 1.32 s, total: 6.74 s\n",
      "Wall time: 7.14 s\n"
     ]
    }
   ],
   "source": [
    "%%time\n",
    "## LOAD TIME\n",
    "df_train = pd.read_hdf(hdf_path, key='train', mode='r')"
   ]
  }
 ],
 "metadata": {
  "kernelspec": {
   "display_name": "Python 3 (ipykernel)",
   "language": "python",
   "name": "python3"
  },
  "language_info": {
   "codemirror_mode": {
    "name": "ipython",
    "version": 3
   },
   "file_extension": ".py",
   "mimetype": "text/x-python",
   "name": "python",
   "nbconvert_exporter": "python",
   "pygments_lexer": "ipython3",
   "version": "3.8.5"
  }
 },
 "nbformat": 4,
 "nbformat_minor": 5
}
