{
 "cells": [
  {
   "cell_type": "markdown",
   "id": "42291469-df9d-43bc-8e04-550994f2f37b",
   "metadata": {},
   "source": [
    "# Study on eSNLI"
   ]
  },
  {
   "cell_type": "code",
   "execution_count": 1,
   "id": "8e5a77f3-37ef-489d-bbb7-73be05cfc3ad",
   "metadata": {
    "ExecuteTime": {
     "end_time": "2023-08-30T00:22:49.847413Z",
     "start_time": "2023-08-30T00:22:49.776507Z"
    }
   },
   "outputs": [],
   "source": [
    "%load_ext autoreload\n",
    "%autoreload 2\n",
    "\n",
    "from IPython.display import display, HTML\n",
    "import os\n",
    "from os import path\n",
    "\n",
    "import sys\n",
    "sys.path.append(\"./../src\")\n",
    "\n",
    "cache_path = path.join(os.getcwd(), '..', '.cache')\n",
    "\n",
    "DATASET_NAME='esnli'\n",
    "\n",
    "dataset_path = path.join(cache_path, 'dataset', DATASET_NAME)\n",
    "\n",
    "tmp_path = path.join('.cache', '2022-09-03')\n",
    "os.makedirs(tmp_path,exist_ok=True)"
   ]
  },
  {
   "cell_type": "code",
   "execution_count": 2,
   "id": "310d98cc-12e2-4f28-ad40-d34667bbc988",
   "metadata": {
    "ExecuteTime": {
     "end_time": "2023-08-30T00:23:14.536787Z",
     "start_time": "2023-08-30T00:22:49.850825Z"
    }
   },
   "outputs": [
    {
     "data": {
      "text/plain": "                                                premise  \\\n0     This church choir sings to the masses as they ...   \n1     This church choir sings to the masses as they ...   \n2     This church choir sings to the masses as they ...   \n3     A woman with a green headscarf, blue shirt and...   \n4     A woman with a green headscarf, blue shirt and...   \n...                                                 ...   \n9819        Two women are observing something together.   \n9820        Two women are observing something together.   \n9821  A man in a black leather jacket and a book in ...   \n9822  A man in a black leather jacket and a book in ...   \n9823  A man in a black leather jacket and a book in ...   \n\n                                          hypothesis          label  \\\n0              The church has cracks in the ceiling.        neutral   \n1                    The church is filled with song.     entailment   \n2                A choir singing at a baseball game.  contradiction   \n3                                The woman is young.        neutral   \n4                           The woman is very happy.     entailment   \n...                                              ...            ...   \n9819  Two women are standing with their eyes closed.  contradiction   \n9820             Two girls are looking at something.     entailment   \n9821                         A man is flying a kite.  contradiction   \n9822               A man is speaking in a classroom.     entailment   \n9823       A man is teaching science in a classroom.        neutral   \n\n                                            explanation  \\\n0           Not all churches have cracks in the ceiling   \n1     \"Filled with song\" is a rephrasing of the \"cho...   \n2     A choir sing some other songs other than book ...   \n3         the woman could've been old rather than young   \n4                             a grin suggests hapiness.   \n...                                                 ...   \n9819  Answer: The women cannot be observing with eye...   \n9820                Observing is a synonym for looking.   \n9821  A man who speaks in a classroom can not be fly...   \n9822                     speaks is the same as speaking   \n9823                  doesn't mean it's a science class   \n\n                                      highlight_premise  \\\n0     This church choir sings to the masses as they ...   \n1     This church *choir* *sings* *to* *the* *masses...   \n2     This church choir sings to the *masses* as the...   \n3     A woman with a green headscarf, blue shirt and...   \n4     A woman with a green headscarf, blue shirt and...   \n...                                                 ...   \n9819      Two women are *observing* something together.   \n9820      Two women are *observing* something together.   \n9821  A man in a black leather jacket and a book in ...   \n9822  A man in a black leather jacket and a book in ...   \n9823  A man in a black leather jacket and a book in ...   \n\n                                   highlight_hypothesis  \n0         The church has *cracks* *in* *the* *ceiling.*  \n1                 The church is *filled* *with* *song.*  \n2             A choir *singing* at a *baseball* *game.*  \n3                                 The woman is *young.*  \n4                            The woman is very *happy.*  \n...                                                 ...  \n9819  Two women are standing with their *eyes* *clos...  \n9820              Two girls are *looking* at something.  \n9821                      A man is *flying* *a* *kite.*  \n9822                A man is *speaking* in a classroom.  \n9823        A man is teaching *science* in a classroom.  \n\n[9824 rows x 6 columns]",
      "text/html": "<div>\n<style scoped>\n    .dataframe tbody tr th:only-of-type {\n        vertical-align: middle;\n    }\n\n    .dataframe tbody tr th {\n        vertical-align: top;\n    }\n\n    .dataframe thead th {\n        text-align: right;\n    }\n</style>\n<table border=\"1\" class=\"dataframe\">\n  <thead>\n    <tr style=\"text-align: right;\">\n      <th></th>\n      <th>premise</th>\n      <th>hypothesis</th>\n      <th>label</th>\n      <th>explanation</th>\n      <th>highlight_premise</th>\n      <th>highlight_hypothesis</th>\n    </tr>\n  </thead>\n  <tbody>\n    <tr>\n      <th>0</th>\n      <td>This church choir sings to the masses as they ...</td>\n      <td>The church has cracks in the ceiling.</td>\n      <td>neutral</td>\n      <td>Not all churches have cracks in the ceiling</td>\n      <td>This church choir sings to the masses as they ...</td>\n      <td>The church has *cracks* *in* *the* *ceiling.*</td>\n    </tr>\n    <tr>\n      <th>1</th>\n      <td>This church choir sings to the masses as they ...</td>\n      <td>The church is filled with song.</td>\n      <td>entailment</td>\n      <td>\"Filled with song\" is a rephrasing of the \"cho...</td>\n      <td>This church *choir* *sings* *to* *the* *masses...</td>\n      <td>The church is *filled* *with* *song.*</td>\n    </tr>\n    <tr>\n      <th>2</th>\n      <td>This church choir sings to the masses as they ...</td>\n      <td>A choir singing at a baseball game.</td>\n      <td>contradiction</td>\n      <td>A choir sing some other songs other than book ...</td>\n      <td>This church choir sings to the *masses* as the...</td>\n      <td>A choir *singing* at a *baseball* *game.*</td>\n    </tr>\n    <tr>\n      <th>3</th>\n      <td>A woman with a green headscarf, blue shirt and...</td>\n      <td>The woman is young.</td>\n      <td>neutral</td>\n      <td>the woman could've been old rather than young</td>\n      <td>A woman with a green headscarf, blue shirt and...</td>\n      <td>The woman is *young.*</td>\n    </tr>\n    <tr>\n      <th>4</th>\n      <td>A woman with a green headscarf, blue shirt and...</td>\n      <td>The woman is very happy.</td>\n      <td>entailment</td>\n      <td>a grin suggests hapiness.</td>\n      <td>A woman with a green headscarf, blue shirt and...</td>\n      <td>The woman is very *happy.*</td>\n    </tr>\n    <tr>\n      <th>...</th>\n      <td>...</td>\n      <td>...</td>\n      <td>...</td>\n      <td>...</td>\n      <td>...</td>\n      <td>...</td>\n    </tr>\n    <tr>\n      <th>9819</th>\n      <td>Two women are observing something together.</td>\n      <td>Two women are standing with their eyes closed.</td>\n      <td>contradiction</td>\n      <td>Answer: The women cannot be observing with eye...</td>\n      <td>Two women are *observing* something together.</td>\n      <td>Two women are standing with their *eyes* *clos...</td>\n    </tr>\n    <tr>\n      <th>9820</th>\n      <td>Two women are observing something together.</td>\n      <td>Two girls are looking at something.</td>\n      <td>entailment</td>\n      <td>Observing is a synonym for looking.</td>\n      <td>Two women are *observing* something together.</td>\n      <td>Two girls are *looking* at something.</td>\n    </tr>\n    <tr>\n      <th>9821</th>\n      <td>A man in a black leather jacket and a book in ...</td>\n      <td>A man is flying a kite.</td>\n      <td>contradiction</td>\n      <td>A man who speaks in a classroom can not be fly...</td>\n      <td>A man in a black leather jacket and a book in ...</td>\n      <td>A man is *flying* *a* *kite.*</td>\n    </tr>\n    <tr>\n      <th>9822</th>\n      <td>A man in a black leather jacket and a book in ...</td>\n      <td>A man is speaking in a classroom.</td>\n      <td>entailment</td>\n      <td>speaks is the same as speaking</td>\n      <td>A man in a black leather jacket and a book in ...</td>\n      <td>A man is *speaking* in a classroom.</td>\n    </tr>\n    <tr>\n      <th>9823</th>\n      <td>A man in a black leather jacket and a book in ...</td>\n      <td>A man is teaching science in a classroom.</td>\n      <td>neutral</td>\n      <td>doesn't mean it's a science class</td>\n      <td>A man in a black leather jacket and a book in ...</td>\n      <td>A man is teaching *science* in a classroom.</td>\n    </tr>\n  </tbody>\n</table>\n<p>9824 rows × 6 columns</p>\n</div>"
     },
     "execution_count": 2,
     "metadata": {},
     "output_type": "execute_result"
    }
   ],
   "source": [
    "from data.esnli.dataset import ESNLI\n",
    "\n",
    "dataset = ESNLI('test', root=cache_path+'/dataset')\n",
    "dataset.data"
   ]
  },
  {
   "cell_type": "code",
   "execution_count": 4,
   "id": "7ef56934-c369-4e30-88fd-b1e63a3998cd",
   "metadata": {
    "ExecuteTime": {
     "end_time": "2023-08-30T00:23:27.439188Z",
     "start_time": "2023-08-30T00:23:21.202593Z"
    }
   },
   "outputs": [
    {
     "data": {
      "text/plain": "                                                premise  \\\n0     This church choir sings to the masses as they ...   \n1     This church choir sings to the masses as they ...   \n2     This church choir sings to the masses as they ...   \n3     A woman with a green headscarf, blue shirt and...   \n4     A woman with a green headscarf, blue shirt and...   \n...                                                 ...   \n9819        Two women are observing something together.   \n9820        Two women are observing something together.   \n9821  A man in a black leather jacket and a book in ...   \n9822  A man in a black leather jacket and a book in ...   \n9823  A man in a black leather jacket and a book in ...   \n\n                                          hypothesis          label  \\\n0              The church has cracks in the ceiling.        neutral   \n1                    The church is filled with song.     entailment   \n2                A choir singing at a baseball game.  contradiction   \n3                                The woman is young.        neutral   \n4                           The woman is very happy.     entailment   \n...                                              ...            ...   \n9819  Two women are standing with their eyes closed.  contradiction   \n9820             Two girls are looking at something.     entailment   \n9821                         A man is flying a kite.  contradiction   \n9822               A man is speaking in a classroom.     entailment   \n9823       A man is teaching science in a classroom.        neutral   \n\n                                            explanation  \\\n0           Not all churches have cracks in the ceiling   \n1     \"Filled with song\" is a rephrasing of the \"cho...   \n2     A choir sing some other songs other than book ...   \n3         the woman could've been old rather than young   \n4                             a grin suggests hapiness.   \n...                                                 ...   \n9819  Answer: The women cannot be observing with eye...   \n9820                Observing is a synonym for looking.   \n9821  A man who speaks in a classroom can not be fly...   \n9822                     speaks is the same as speaking   \n9823                  doesn't mean it's a science class   \n\n                                      highlight_premise  \\\n0     This church choir sings to the masses as they ...   \n1     This church *choir* *sings* *to* *the* *masses...   \n2     This church choir sings to the *masses* as the...   \n3     A woman with a green headscarf, blue shirt and...   \n4     A woman with a green headscarf, blue shirt and...   \n...                                                 ...   \n9819      Two women are *observing* something together.   \n9820      Two women are *observing* something together.   \n9821  A man in a black leather jacket and a book in ...   \n9822  A man in a black leather jacket and a book in ...   \n9823  A man in a black leather jacket and a book in ...   \n\n                                   highlight_hypothesis  \\\n0         The church has *cracks* *in* *the* *ceiling.*   \n1                 The church is *filled* *with* *song.*   \n2             A choir *singing* at a *baseball* *game.*   \n3                                 The woman is *young.*   \n4                            The woman is very *happy.*   \n...                                                 ...   \n9819  Two women are standing with their *eyes* *clos...   \n9820              Two girls are *looking* at something.   \n9821                      A man is *flying* *a* *kite.*   \n9822                A man is *speaking* in a classroom.   \n9823        A man is teaching *science* in a classroom.   \n\n                                         premise_tokens  \\\n0     [this, church, choir, sing, to, the, masse, as...   \n1     [this, church, choir, sing, to, the, masse, as...   \n2     [this, church, choir, sing, to, the, masse, as...   \n3     [a, woman, with, a, green, headscarf, ,, blue,...   \n4     [a, woman, with, a, green, headscarf, ,, blue,...   \n...                                                 ...   \n9819  [two, woman, be, observe, something, together, .]   \n9820  [two, woman, be, observe, something, together, .]   \n9821  [a, man, in, a, black, leather, jacket, and, a...   \n9822  [a, man, in, a, black, leather, jacket, and, a...   \n9823  [a, man, in, a, black, leather, jacket, and, a...   \n\n                                      hypothesis_tokens  \\\n0       [the, church, have, crack, in, the, ceiling, .]   \n1                [the, church, be, fill, with, song, .]   \n2         [a, choir, singing, at, a, baseball, game, .]   \n3                            [the, woman, be, young, .]   \n4                      [the, woman, be, very, happy, .]   \n...                                                 ...   \n9819  [two, woman, be, stand, with, their, eye, clos...   \n9820            [two, girl, be, look, at, something, .]   \n9821                      [a, man, be, fly, a, kite, .]   \n9822           [a, man, be, speak, in, a, classroom, .]   \n9823  [a, man, be, teach, science, in, a, classroom, .]   \n\n                                      premise_rationale  \\\n0     [False, False, False, False, False, False, Fal...   \n1     [False, False, True, True, True, True, True, F...   \n2     [False, False, False, False, False, False, Tru...   \n3     [False, False, False, False, False, False, Fal...   \n4     [False, False, False, False, False, False, Fal...   \n...                                                 ...   \n9819   [False, False, False, True, False, False, False]   \n9820   [False, False, False, True, False, False, False]   \n9821  [False, False, False, False, False, False, Fal...   \n9822  [False, False, False, False, False, False, Fal...   \n9823  [False, False, False, False, False, False, Fal...   \n\n                                   hypothesis_rationale  \\\n0     [False, False, False, True, True, True, True, ...   \n1        [False, False, False, True, True, True, False]   \n2     [False, False, True, False, False, True, True,...   \n3                    [False, False, False, True, False]   \n4             [False, False, False, False, True, False]   \n...                                                 ...   \n9819  [False, False, False, False, False, False, Tru...   \n9820   [False, False, False, True, False, False, False]   \n9821     [False, False, False, True, True, True, False]   \n9822  [False, False, False, True, False, False, Fals...   \n9823  [False, False, False, False, True, False, Fals...   \n\n                                      premise_heuristic  \\\n0     [-1.0000000150474662e+30, 3.064525842666626, 1...   \n1     [-1.0000000150474662e+30, 2.79181170463562, 2....   \n2     [-1.0000000150474662e+30, 2.5598971843719482, ...   \n3     [-1.0000000150474662e+30, 2.597653388977051, -...   \n4     [-1.0000000150474662e+30, 2.784580707550049, -...   \n...                                                 ...   \n9819  [-1.0000000150474662e+30, 3.7125906944274902, ...   \n9820  [-1.0000000150474662e+30, 2.8260209560394287, ...   \n9821  [-1.0000000150474662e+30, 3.1240949630737305, ...   \n9822  [-1.0000000150474662e+30, 3.5768728256225586, ...   \n9823  [-1.0000000150474662e+30, 3.7047388553619385, ...   \n\n                                   hypothesis_heuristic  \n0     [-1.0000000150474662e+30, 7.628961086273193, -...  \n1     [-1.0000000150474662e+30, 7.628961086273193, -...  \n2     [-1.0000000150474662e+30, 6.388305187225342, 6...  \n3     [-1.0000000150474662e+30, 5.648240089416504, -...  \n4     [-1.0000000150474662e+30, 5.648240089416504, -...  \n...                                                 ...  \n9819  [-1.0000000150474662e+30, 2.986828327178955, -...  \n9820  [-1.0000000150474662e+30, 2.585012912750244, -...  \n9821  [-1.0000000150474662e+30, 7.3323540687561035, ...  \n9822  [-1.0000000150474662e+30, 7.3323540687561035, ...  \n9823  [-1.0000000150474662e+30, 7.3323540687561035, ...  \n\n[9824 rows x 12 columns]",
      "text/html": "<div>\n<style scoped>\n    .dataframe tbody tr th:only-of-type {\n        vertical-align: middle;\n    }\n\n    .dataframe tbody tr th {\n        vertical-align: top;\n    }\n\n    .dataframe thead th {\n        text-align: right;\n    }\n</style>\n<table border=\"1\" class=\"dataframe\">\n  <thead>\n    <tr style=\"text-align: right;\">\n      <th></th>\n      <th>premise</th>\n      <th>hypothesis</th>\n      <th>label</th>\n      <th>explanation</th>\n      <th>highlight_premise</th>\n      <th>highlight_hypothesis</th>\n      <th>premise_tokens</th>\n      <th>hypothesis_tokens</th>\n      <th>premise_rationale</th>\n      <th>hypothesis_rationale</th>\n      <th>premise_heuristic</th>\n      <th>hypothesis_heuristic</th>\n    </tr>\n  </thead>\n  <tbody>\n    <tr>\n      <th>0</th>\n      <td>This church choir sings to the masses as they ...</td>\n      <td>The church has cracks in the ceiling.</td>\n      <td>neutral</td>\n      <td>Not all churches have cracks in the ceiling</td>\n      <td>This church choir sings to the masses as they ...</td>\n      <td>The church has *cracks* *in* *the* *ceiling.*</td>\n      <td>[this, church, choir, sing, to, the, masse, as...</td>\n      <td>[the, church, have, crack, in, the, ceiling, .]</td>\n      <td>[False, False, False, False, False, False, Fal...</td>\n      <td>[False, False, False, True, True, True, True, ...</td>\n      <td>[-1.0000000150474662e+30, 3.064525842666626, 1...</td>\n      <td>[-1.0000000150474662e+30, 7.628961086273193, -...</td>\n    </tr>\n    <tr>\n      <th>1</th>\n      <td>This church choir sings to the masses as they ...</td>\n      <td>The church is filled with song.</td>\n      <td>entailment</td>\n      <td>\"Filled with song\" is a rephrasing of the \"cho...</td>\n      <td>This church *choir* *sings* *to* *the* *masses...</td>\n      <td>The church is *filled* *with* *song.*</td>\n      <td>[this, church, choir, sing, to, the, masse, as...</td>\n      <td>[the, church, be, fill, with, song, .]</td>\n      <td>[False, False, True, True, True, True, True, F...</td>\n      <td>[False, False, False, True, True, True, False]</td>\n      <td>[-1.0000000150474662e+30, 2.79181170463562, 2....</td>\n      <td>[-1.0000000150474662e+30, 7.628961086273193, -...</td>\n    </tr>\n    <tr>\n      <th>2</th>\n      <td>This church choir sings to the masses as they ...</td>\n      <td>A choir singing at a baseball game.</td>\n      <td>contradiction</td>\n      <td>A choir sing some other songs other than book ...</td>\n      <td>This church choir sings to the *masses* as the...</td>\n      <td>A choir *singing* at a *baseball* *game.*</td>\n      <td>[this, church, choir, sing, to, the, masse, as...</td>\n      <td>[a, choir, singing, at, a, baseball, game, .]</td>\n      <td>[False, False, False, False, False, False, Tru...</td>\n      <td>[False, False, True, False, False, True, True,...</td>\n      <td>[-1.0000000150474662e+30, 2.5598971843719482, ...</td>\n      <td>[-1.0000000150474662e+30, 6.388305187225342, 6...</td>\n    </tr>\n    <tr>\n      <th>3</th>\n      <td>A woman with a green headscarf, blue shirt and...</td>\n      <td>The woman is young.</td>\n      <td>neutral</td>\n      <td>the woman could've been old rather than young</td>\n      <td>A woman with a green headscarf, blue shirt and...</td>\n      <td>The woman is *young.*</td>\n      <td>[a, woman, with, a, green, headscarf, ,, blue,...</td>\n      <td>[the, woman, be, young, .]</td>\n      <td>[False, False, False, False, False, False, Fal...</td>\n      <td>[False, False, False, True, False]</td>\n      <td>[-1.0000000150474662e+30, 2.597653388977051, -...</td>\n      <td>[-1.0000000150474662e+30, 5.648240089416504, -...</td>\n    </tr>\n    <tr>\n      <th>4</th>\n      <td>A woman with a green headscarf, blue shirt and...</td>\n      <td>The woman is very happy.</td>\n      <td>entailment</td>\n      <td>a grin suggests hapiness.</td>\n      <td>A woman with a green headscarf, blue shirt and...</td>\n      <td>The woman is very *happy.*</td>\n      <td>[a, woman, with, a, green, headscarf, ,, blue,...</td>\n      <td>[the, woman, be, very, happy, .]</td>\n      <td>[False, False, False, False, False, False, Fal...</td>\n      <td>[False, False, False, False, True, False]</td>\n      <td>[-1.0000000150474662e+30, 2.784580707550049, -...</td>\n      <td>[-1.0000000150474662e+30, 5.648240089416504, -...</td>\n    </tr>\n    <tr>\n      <th>...</th>\n      <td>...</td>\n      <td>...</td>\n      <td>...</td>\n      <td>...</td>\n      <td>...</td>\n      <td>...</td>\n      <td>...</td>\n      <td>...</td>\n      <td>...</td>\n      <td>...</td>\n      <td>...</td>\n      <td>...</td>\n    </tr>\n    <tr>\n      <th>9819</th>\n      <td>Two women are observing something together.</td>\n      <td>Two women are standing with their eyes closed.</td>\n      <td>contradiction</td>\n      <td>Answer: The women cannot be observing with eye...</td>\n      <td>Two women are *observing* something together.</td>\n      <td>Two women are standing with their *eyes* *clos...</td>\n      <td>[two, woman, be, observe, something, together, .]</td>\n      <td>[two, woman, be, stand, with, their, eye, clos...</td>\n      <td>[False, False, False, True, False, False, False]</td>\n      <td>[False, False, False, False, False, False, Tru...</td>\n      <td>[-1.0000000150474662e+30, 3.7125906944274902, ...</td>\n      <td>[-1.0000000150474662e+30, 2.986828327178955, -...</td>\n    </tr>\n    <tr>\n      <th>9820</th>\n      <td>Two women are observing something together.</td>\n      <td>Two girls are looking at something.</td>\n      <td>entailment</td>\n      <td>Observing is a synonym for looking.</td>\n      <td>Two women are *observing* something together.</td>\n      <td>Two girls are *looking* at something.</td>\n      <td>[two, woman, be, observe, something, together, .]</td>\n      <td>[two, girl, be, look, at, something, .]</td>\n      <td>[False, False, False, True, False, False, False]</td>\n      <td>[False, False, False, True, False, False, False]</td>\n      <td>[-1.0000000150474662e+30, 2.8260209560394287, ...</td>\n      <td>[-1.0000000150474662e+30, 2.585012912750244, -...</td>\n    </tr>\n    <tr>\n      <th>9821</th>\n      <td>A man in a black leather jacket and a book in ...</td>\n      <td>A man is flying a kite.</td>\n      <td>contradiction</td>\n      <td>A man who speaks in a classroom can not be fly...</td>\n      <td>A man in a black leather jacket and a book in ...</td>\n      <td>A man is *flying* *a* *kite.*</td>\n      <td>[a, man, in, a, black, leather, jacket, and, a...</td>\n      <td>[a, man, be, fly, a, kite, .]</td>\n      <td>[False, False, False, False, False, False, Fal...</td>\n      <td>[False, False, False, True, True, True, False]</td>\n      <td>[-1.0000000150474662e+30, 3.1240949630737305, ...</td>\n      <td>[-1.0000000150474662e+30, 7.3323540687561035, ...</td>\n    </tr>\n    <tr>\n      <th>9822</th>\n      <td>A man in a black leather jacket and a book in ...</td>\n      <td>A man is speaking in a classroom.</td>\n      <td>entailment</td>\n      <td>speaks is the same as speaking</td>\n      <td>A man in a black leather jacket and a book in ...</td>\n      <td>A man is *speaking* in a classroom.</td>\n      <td>[a, man, in, a, black, leather, jacket, and, a...</td>\n      <td>[a, man, be, speak, in, a, classroom, .]</td>\n      <td>[False, False, False, False, False, False, Fal...</td>\n      <td>[False, False, False, True, False, False, Fals...</td>\n      <td>[-1.0000000150474662e+30, 3.5768728256225586, ...</td>\n      <td>[-1.0000000150474662e+30, 7.3323540687561035, ...</td>\n    </tr>\n    <tr>\n      <th>9823</th>\n      <td>A man in a black leather jacket and a book in ...</td>\n      <td>A man is teaching science in a classroom.</td>\n      <td>neutral</td>\n      <td>doesn't mean it's a science class</td>\n      <td>A man in a black leather jacket and a book in ...</td>\n      <td>A man is teaching *science* in a classroom.</td>\n      <td>[a, man, in, a, black, leather, jacket, and, a...</td>\n      <td>[a, man, be, teach, science, in, a, classroom, .]</td>\n      <td>[False, False, False, False, False, False, Fal...</td>\n      <td>[False, False, False, False, True, False, Fals...</td>\n      <td>[-1.0000000150474662e+30, 3.7047388553619385, ...</td>\n      <td>[-1.0000000150474662e+30, 7.3323540687561035, ...</td>\n    </tr>\n  </tbody>\n</table>\n<p>9824 rows × 12 columns</p>\n</div>"
     },
     "execution_count": 4,
     "metadata": {},
     "output_type": "execute_result"
    }
   ],
   "source": [
    "from data.esnli.pipeline import PretransformedESNLI\n",
    "from data.esnli.transforms import HighlightTransform, HeuristicTransform\n",
    "from data.transforms import LemmaLowerTokenizerTransform\n",
    "from torchtext.vocab import GloVe\n",
    "import torchtext.transforms as T\n",
    "import spacy\n",
    "\n",
    "spacy_model = spacy.load('en_core_web_sm')\n",
    "tokenizer_transform = LemmaLowerTokenizerTransform(spacy_model)\n",
    "\n",
    "hl_transform = T.Sequential(\n",
    "    tokenizer_transform,\n",
    "    HighlightTransform()\n",
    ")\n",
    "\n",
    "heuristic_transform = HeuristicTransform(\n",
    "    vectors=GloVe(cache=path.join(cache_path, 'models', '.vector_cache')),\n",
    "    spacy_model=spacy_model\n",
    ")\n",
    "\n",
    "transformations = {\n",
    "    'premise': tokenizer_transform,\n",
    "    'hypothesis': tokenizer_transform,\n",
    "    'highlight_premise': hl_transform,\n",
    "    'highlight_hypothesis': hl_transform,\n",
    "    'heuristic': heuristic_transform,\n",
    "}\n",
    "\n",
    "trans_columns = {\n",
    "    'premise': 'premise_tokens',\n",
    "    'hypothesis': 'hypothesis_tokens',\n",
    "    'highlight_premise': 'premise_rationale',\n",
    "    'highlight_hypothesis': 'hypothesis_rationale',\n",
    "    'heuristic': 'heuristic'\n",
    "}\n",
    "\n",
    "testset = PretransformedESNLI(transformations, trans_columns, split='test', root=cache_path+'/dataset')\n",
    "testset.data"
   ]
  },
  {
   "cell_type": "code",
   "execution_count": 8,
   "id": "e33c1846-c98b-40a9-a80f-f0e6d64b4a14",
   "metadata": {
    "ExecuteTime": {
     "end_time": "2023-08-30T00:24:08.556777Z",
     "start_time": "2023-08-30T00:24:08.484643Z"
    }
   },
   "outputs": [
    {
     "name": "stdout",
     "output_type": "stream",
     "text": [
      "tokens vs heuristic: True\n",
      "tokens vs rationales:  True\n",
      "tokens vs heuristic: True\n",
      "tokens vs rationales:  True\n"
     ]
    }
   ],
   "source": [
    "for side in ['premise', 'hypothesis']:\n",
    "    print('tokens vs heuristic:', (testset.data[f'{side}_tokens'].str.len() == testset.data[f'{side}_heuristic'].str.len()).all())\n",
    "    print('tokens vs rationales: ', (testset.data[f'{side}_tokens'].str.len() == testset.data[f'{side}_rationale'].str.len()).all())"
   ]
  },
  {
   "cell_type": "markdown",
   "source": [
    "## Statistic on tokens"
   ],
   "metadata": {
    "collapsed": false
   }
  },
  {
   "cell_type": "code",
   "execution_count": 9,
   "outputs": [],
   "source": [
    "trainset = PretransformedESNLI(transformations, trans_columns, split='train', root=cache_path+'/dataset')"
   ],
   "metadata": {
    "collapsed": false,
    "ExecuteTime": {
     "end_time": "2023-08-30T00:24:59.039731Z",
     "start_time": "2023-08-30T00:24:46.553850Z"
    }
   }
  },
  {
   "cell_type": "code",
   "execution_count": 10,
   "outputs": [],
   "source": [
    "valset = PretransformedESNLI(transformations, trans_columns, split='val', root=cache_path+'/dataset')"
   ],
   "metadata": {
    "collapsed": false,
    "ExecuteTime": {
     "end_time": "2023-08-30T00:25:00.562012Z",
     "start_time": "2023-08-30T00:25:00.319864Z"
    }
   }
  },
  {
   "cell_type": "code",
   "execution_count": 12,
   "outputs": [],
   "source": [
    "import pandas as pd\n",
    "fulldata = pd.concat([trainset.data, valset.data, testset.data], ignore_index=True)"
   ],
   "metadata": {
    "collapsed": false,
    "ExecuteTime": {
     "end_time": "2023-08-30T00:26:03.440322Z",
     "start_time": "2023-08-30T00:26:03.238186Z"
    }
   }
  },
  {
   "cell_type": "code",
   "execution_count": 16,
   "outputs": [
    {
     "data": {
      "text/plain": "count    569005.000000\nmean         14.184944\nstd           6.107680\nmin           2.000000\n25%          10.000000\n50%          13.000000\n75%          17.000000\nmax          82.000000\nName: premise_tokens, dtype: float64"
     },
     "execution_count": 16,
     "metadata": {},
     "output_type": "execute_result"
    }
   ],
   "source": [
    "fulldata['premise_tokens'].str.len().describe()"
   ],
   "metadata": {
    "collapsed": false,
    "ExecuteTime": {
     "end_time": "2023-08-30T00:26:45.019589Z",
     "start_time": "2023-08-30T00:26:44.796278Z"
    }
   }
  },
  {
   "cell_type": "code",
   "execution_count": 17,
   "outputs": [
    {
     "data": {
      "text/plain": "count    569005.000000\nmean          8.277609\nstd           3.232974\nmin           1.000000\n25%           6.000000\n50%           8.000000\n75%          10.000000\nmax          65.000000\nName: hypothesis_tokens, dtype: float64"
     },
     "execution_count": 17,
     "metadata": {},
     "output_type": "execute_result"
    }
   ],
   "source": [
    "fulldata['hypothesis_tokens'].str.len().describe()"
   ],
   "metadata": {
    "collapsed": false,
    "ExecuteTime": {
     "end_time": "2023-08-30T00:26:54.521834Z",
     "start_time": "2023-08-30T00:26:54.307659Z"
    }
   }
  },
  {
   "cell_type": "markdown",
   "id": "f0820363-fba3-48b0-ab36-895d91415661",
   "metadata": {},
   "source": [
    "## Statistic on POS tags"
   ]
  },
  {
   "cell_type": "code",
   "execution_count": 14,
   "id": "df7ae892-cf12-402a-8a33-03e47bd7b960",
   "metadata": {},
   "outputs": [],
   "source": [
    "trainset = PretransformedESNLI(transformations, trans_columns, split='train', root=cache_path+'/dataset')\n",
    "valset = PretransformedESNLI(transformations, trans_columns, split='val', root=cache_path+'/dataset')"
   ]
  },
  {
   "cell_type": "code",
   "execution_count": null,
   "id": "304e7813-b72b-4b2f-93ae-217958ae72b9",
   "metadata": {},
   "outputs": [],
   "source": [
    "datast = "
   ]
  },
  {
   "cell_type": "code",
   "execution_count": 13,
   "id": "dd4752f6-a37a-427b-aaf8-5f46208487d1",
   "metadata": {},
   "outputs": [
    {
     "data": {
      "text/plain": [
       "0       [this, church, choir, sing, to, the, masse, as...\n",
       "1       [this, church, choir, sing, to, the, masse, as...\n",
       "2       [this, church, choir, sing, to, the, masse, as...\n",
       "3       [a, woman, with, a, green, headscarf, ,, blue,...\n",
       "4       [a, woman, with, a, green, headscarf, ,, blue,...\n",
       "                              ...                        \n",
       "9819    [two, woman, be, observe, something, together,...\n",
       "9820    [two, woman, be, observe, something, together,...\n",
       "9821    [a, man, in, a, black, leather, jacket, and, a...\n",
       "9822    [a, man, in, a, black, leather, jacket, and, a...\n",
       "9823    [a, man, in, a, black, leather, jacket, and, a...\n",
       "Length: 9824, dtype: object"
      ]
     },
     "execution_count": 13,
     "metadata": {},
     "output_type": "execute_result"
    }
   ],
   "source": [
    "testset.data['premise_tokens'] + testset.data['hypothesis_tokens']"
   ]
  },
  {
   "cell_type": "code",
   "execution_count": null,
   "id": "4b1b8331-7ab8-4262-a3e6-fde520a6cd77",
   "metadata": {},
   "outputs": [],
   "source": [
    "# Load dataset\n",
    "\n",
    "# Add punctuation to separate sentences\n",
    "for i in range(len(tokens)):\n",
    "    tokens[i].append('.')\n",
    "    rationale[i].append(0)\n",
    "\n",
    "\n",
    "# Find postag\n",
    "from spacy.tokens import Doc\n",
    "import spacy\n",
    "\n",
    "flatten_token = [tk for sent in tokens for tk in sent]\n",
    "flatten_rationale = [r for sent in rationale for r in sent]\n",
    "\n",
    "nlp = spacy.load('en_core_web_sm')\n",
    "doc = Doc(nlp.vocab, words=flatten_token)\n",
    "pos = [tk.pos_ for tk in nlp(doc)]"
   ]
  }
 ],
 "metadata": {
  "kernelspec": {
   "display_name": "Python 3 (ipykernel)",
   "language": "python",
   "name": "python3"
  },
  "language_info": {
   "codemirror_mode": {
    "name": "ipython",
    "version": 3
   },
   "file_extension": ".py",
   "mimetype": "text/x-python",
   "name": "python",
   "nbconvert_exporter": "python",
   "pygments_lexer": "ipython3",
   "version": "3.8.16"
  }
 },
 "nbformat": 4,
 "nbformat_minor": 5
}
