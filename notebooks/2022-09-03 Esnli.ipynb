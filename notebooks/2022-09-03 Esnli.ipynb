{
 "cells": [
  {
   "cell_type": "markdown",
   "id": "42291469-df9d-43bc-8e04-550994f2f37b",
   "metadata": {},
   "source": [
    "# Study on eSNLI"
   ]
  },
  {
   "cell_type": "code",
   "execution_count": 1,
   "id": "8e5a77f3-37ef-489d-bbb7-73be05cfc3ad",
   "metadata": {
    "ExecuteTime": {
     "end_time": "2023-10-10T13:39:00.479901Z",
     "start_time": "2023-10-10T13:39:00.417997Z"
    }
   },
   "outputs": [],
   "source": [
    "%load_ext autoreload\n",
    "%autoreload 2\n",
    "\n",
    "from IPython.display import display, HTML\n",
    "import os\n",
    "from os import path\n",
    "\n",
    "import sys\n",
    "sys.path.append(\"./../src\")\n",
    "\n",
    "cache_path = path.join(os.getcwd(), '..', '.cache')\n",
    "\n",
    "DATASET_NAME='esnli'\n",
    "\n",
    "dataset_path = path.join(cache_path, 'dataset', DATASET_NAME)\n",
    "\n",
    "tmp_path = path.join('.cache', '2022-09-03')\n",
    "os.makedirs(tmp_path,exist_ok=True)"
   ]
  },
  {
   "cell_type": "code",
   "execution_count": 2,
   "id": "310d98cc-12e2-4f28-ad40-d34667bbc988",
   "metadata": {
    "ExecuteTime": {
     "end_time": "2023-10-10T13:39:04.024773Z",
     "start_time": "2023-10-10T13:39:00.439467Z"
    }
   },
   "outputs": [
    {
     "ename": "AssertionError",
     "evalue": "/home/dunguyen/explanation_on_pair_sequences_task/notebooks/../.cache/dataset/esnli/_esnli.zip",
     "output_type": "error",
     "traceback": [
      "\u001B[0;31m---------------------------------------------------------------------------\u001B[0m",
      "\u001B[0;31mAssertionError\u001B[0m                            Traceback (most recent call last)",
      "Input \u001B[0;32mIn [2]\u001B[0m, in \u001B[0;36m<cell line: 3>\u001B[0;34m()\u001B[0m\n\u001B[1;32m      1\u001B[0m \u001B[38;5;28;01mfrom\u001B[39;00m \u001B[38;5;21;01mdata\u001B[39;00m\u001B[38;5;21;01m.\u001B[39;00m\u001B[38;5;21;01mesnli\u001B[39;00m\u001B[38;5;21;01m.\u001B[39;00m\u001B[38;5;21;01mdataset\u001B[39;00m \u001B[38;5;28;01mimport\u001B[39;00m ESNLI\n\u001B[0;32m----> 3\u001B[0m dataset \u001B[38;5;241m=\u001B[39m \u001B[43mESNLI\u001B[49m\u001B[43m(\u001B[49m\u001B[38;5;124;43m'\u001B[39;49m\u001B[38;5;124;43mtest\u001B[39;49m\u001B[38;5;124;43m'\u001B[39;49m\u001B[43m,\u001B[49m\u001B[43m \u001B[49m\u001B[43mroot\u001B[49m\u001B[38;5;241;43m=\u001B[39;49m\u001B[43mcache_path\u001B[49m\u001B[38;5;241;43m+\u001B[39;49m\u001B[38;5;124;43m'\u001B[39;49m\u001B[38;5;124;43m/dataset\u001B[39;49m\u001B[38;5;124;43m'\u001B[39;49m\u001B[43m)\u001B[49m\n\u001B[1;32m      4\u001B[0m dataset\u001B[38;5;241m.\u001B[39mdata\n",
      "File \u001B[0;32m~/explanation_on_pair_sequences_task/src/data/esnli/dataset.py:184\u001B[0m, in \u001B[0;36mESNLI.__init__\u001B[0;34m(self, split, root, n_data)\u001B[0m\n\u001B[1;32m    181\u001B[0m \u001B[38;5;28mself\u001B[39m\u001B[38;5;241m.\u001B[39mzip_path \u001B[38;5;241m=\u001B[39m path\u001B[38;5;241m.\u001B[39mjoin(root, ZIP_FILEPATH)\n\u001B[1;32m    183\u001B[0m \u001B[38;5;66;03m# download and prepare csv file if not exist\u001B[39;00m\n\u001B[0;32m--> 184\u001B[0m \u001B[43mdownload_format_dataset\u001B[49m\u001B[43m(\u001B[49m\u001B[43mroot\u001B[49m\u001B[43m,\u001B[49m\u001B[43m \u001B[49m\u001B[43msplit\u001B[49m\u001B[43m)\u001B[49m\n\u001B[1;32m    186\u001B[0m \u001B[38;5;66;03m# load the csv file to data\u001B[39;00m\n\u001B[1;32m    187\u001B[0m \u001B[38;5;28mself\u001B[39m\u001B[38;5;241m.\u001B[39mdata \u001B[38;5;241m=\u001B[39m pd\u001B[38;5;241m.\u001B[39mread_parquet(\u001B[38;5;28mself\u001B[39m\u001B[38;5;241m.\u001B[39mparquet_path)\n",
      "File \u001B[0;32m~/explanation_on_pair_sequences_task/src/data/esnli/dataset.py:60\u001B[0m, in \u001B[0;36mdownload_format_dataset\u001B[0;34m(root, split)\u001B[0m\n\u001B[1;32m     57\u001B[0m download_from_url(url\u001B[38;5;241m=\u001B[39mURL, path\u001B[38;5;241m=\u001B[39mzip_path)\n\u001B[1;32m     59\u001B[0m \u001B[38;5;66;03m# decompress all files\u001B[39;00m\n\u001B[0;32m---> 60\u001B[0m \u001B[43mextract_archive\u001B[49m\u001B[43m(\u001B[49m\u001B[43mzip_path\u001B[49m\u001B[43m,\u001B[49m\u001B[43m \u001B[49m\u001B[43mroot\u001B[49m\u001B[43m)\u001B[49m\n\u001B[1;32m     62\u001B[0m \u001B[38;5;66;03m# reformat csv files\u001B[39;00m\n\u001B[1;32m     63\u001B[0m \u001B[38;5;28;01mif\u001B[39;00m \u001B[38;5;129;01mnot\u001B[39;00m path\u001B[38;5;241m.\u001B[39mexists(parquet_path):\n",
      "File \u001B[0;32m~/virtualenv/eps/lib/python3.8/site-packages/torchtext/utils.py:210\u001B[0m, in \u001B[0;36mextract_archive\u001B[0;34m(from_path, to_path, overwrite)\u001B[0m\n\u001B[1;32m    207\u001B[0m         \u001B[38;5;28;01mreturn\u001B[39;00m files\n\u001B[1;32m    209\u001B[0m \u001B[38;5;28;01melif\u001B[39;00m from_path\u001B[38;5;241m.\u001B[39mendswith(\u001B[38;5;124m'\u001B[39m\u001B[38;5;124m.zip\u001B[39m\u001B[38;5;124m'\u001B[39m):\n\u001B[0;32m--> 210\u001B[0m     \u001B[38;5;28;01massert\u001B[39;00m zipfile\u001B[38;5;241m.\u001B[39mis_zipfile(from_path), from_path\n\u001B[1;32m    211\u001B[0m     logging\u001B[38;5;241m.\u001B[39minfo(\u001B[38;5;124m'\u001B[39m\u001B[38;5;124mOpening zip file \u001B[39m\u001B[38;5;132;01m{}\u001B[39;00m\u001B[38;5;124m.\u001B[39m\u001B[38;5;124m'\u001B[39m\u001B[38;5;241m.\u001B[39mformat(from_path))\n\u001B[1;32m    212\u001B[0m     \u001B[38;5;28;01mwith\u001B[39;00m zipfile\u001B[38;5;241m.\u001B[39mZipFile(from_path, \u001B[38;5;124m'\u001B[39m\u001B[38;5;124mr\u001B[39m\u001B[38;5;124m'\u001B[39m) \u001B[38;5;28;01mas\u001B[39;00m zfile:\n",
      "\u001B[0;31mAssertionError\u001B[0m: /home/dunguyen/explanation_on_pair_sequences_task/notebooks/../.cache/dataset/esnli/_esnli.zip"
     ]
    }
   ],
   "source": [
    "from data.esnli.dataset import ESNLI\n",
    "\n",
    "dataset = ESNLI('test', root=cache_path+'/dataset')\n",
    "dataset.data"
   ]
  },
  {
   "cell_type": "code",
   "execution_count": 3,
   "id": "7ef56934-c369-4e30-88fd-b1e63a3998cd",
   "metadata": {},
   "outputs": [
    {
     "data": {
      "text/html": [
       "<div>\n",
       "<style scoped>\n",
       "    .dataframe tbody tr th:only-of-type {\n",
       "        vertical-align: middle;\n",
       "    }\n",
       "\n",
       "    .dataframe tbody tr th {\n",
       "        vertical-align: top;\n",
       "    }\n",
       "\n",
       "    .dataframe thead th {\n",
       "        text-align: right;\n",
       "    }\n",
       "</style>\n",
       "<table border=\"1\" class=\"dataframe\">\n",
       "  <thead>\n",
       "    <tr style=\"text-align: right;\">\n",
       "      <th></th>\n",
       "      <th>id</th>\n",
       "      <th>premise</th>\n",
       "      <th>hypothesis</th>\n",
       "      <th>label</th>\n",
       "      <th>explanation</th>\n",
       "      <th>highlight_premise</th>\n",
       "      <th>highlight_hypothesis</th>\n",
       "      <th>tokens.norm.premise</th>\n",
       "      <th>tokens.norm.hypothesis</th>\n",
       "      <th>rationale.premise</th>\n",
       "      <th>rationale.hypothesis</th>\n",
       "      <th>heuristic.premise</th>\n",
       "      <th>heuristic.hypothesis</th>\n",
       "      <th>tokens.form.premise</th>\n",
       "      <th>tokens.form.hypothesis</th>\n",
       "    </tr>\n",
       "  </thead>\n",
       "  <tbody>\n",
       "    <tr>\n",
       "      <th>0</th>\n",
       "      <td>2677109430.jpg#1r1n</td>\n",
       "      <td>This church choir sings to the masses as they ...</td>\n",
       "      <td>The church has cracks in the ceiling.</td>\n",
       "      <td>neutral</td>\n",
       "      <td>Not all churches have cracks in the ceiling</td>\n",
       "      <td>This church choir sings to the masses as they ...</td>\n",
       "      <td>The church has *cracks* *in* *the* *ceiling.*</td>\n",
       "      <td>[this, church, choir, sing, to, the, masse, as...</td>\n",
       "      <td>[the, church, have, crack, in, the, ceiling, .]</td>\n",
       "      <td>[False, False, False, False, False, False, Fal...</td>\n",
       "      <td>[False, False, False, True, True, True, True, ...</td>\n",
       "      <td>[-1.0000000150474662e+30, 3.064525842666626, 1...</td>\n",
       "      <td>[-1.0000000150474662e+30, 7.628961086273193, -...</td>\n",
       "      <td>[This, church, choir, sings, to, the, masses, ...</td>\n",
       "      <td>[The, church, has, cracks, in, the, ceiling, .]</td>\n",
       "    </tr>\n",
       "    <tr>\n",
       "      <th>1</th>\n",
       "      <td>2677109430.jpg#1r1e</td>\n",
       "      <td>This church choir sings to the masses as they ...</td>\n",
       "      <td>The church is filled with song.</td>\n",
       "      <td>entailment</td>\n",
       "      <td>\"Filled with song\" is a rephrasing of the \"cho...</td>\n",
       "      <td>This church *choir* *sings* *to* *the* *masses...</td>\n",
       "      <td>The church is *filled* *with* *song.*</td>\n",
       "      <td>[this, church, choir, sing, to, the, masse, as...</td>\n",
       "      <td>[the, church, be, fill, with, song, .]</td>\n",
       "      <td>[False, False, True, True, True, True, True, F...</td>\n",
       "      <td>[False, False, False, True, True, True, False]</td>\n",
       "      <td>[-1.0000000150474662e+30, 2.79181170463562, 2....</td>\n",
       "      <td>[-1.0000000150474662e+30, 7.628961086273193, -...</td>\n",
       "      <td>[This, church, choir, sings, to, the, masses, ...</td>\n",
       "      <td>[The, church, is, filled, with, song, .]</td>\n",
       "    </tr>\n",
       "    <tr>\n",
       "      <th>2</th>\n",
       "      <td>2677109430.jpg#1r1c</td>\n",
       "      <td>This church choir sings to the masses as they ...</td>\n",
       "      <td>A choir singing at a baseball game.</td>\n",
       "      <td>contradiction</td>\n",
       "      <td>A choir sing some other songs other than book ...</td>\n",
       "      <td>This church choir sings to the *masses* as the...</td>\n",
       "      <td>A choir *singing* at a *baseball* *game.*</td>\n",
       "      <td>[this, church, choir, sing, to, the, masse, as...</td>\n",
       "      <td>[a, choir, singing, at, a, baseball, game, .]</td>\n",
       "      <td>[False, False, False, False, False, False, Tru...</td>\n",
       "      <td>[False, False, True, False, False, True, True,...</td>\n",
       "      <td>[-1.0000000150474662e+30, 2.5598971843719482, ...</td>\n",
       "      <td>[-1.0000000150474662e+30, 6.388305187225342, 6...</td>\n",
       "      <td>[This, church, choir, sings, to, the, masses, ...</td>\n",
       "      <td>[A, choir, singing, at, a, baseball, game, .]</td>\n",
       "    </tr>\n",
       "    <tr>\n",
       "      <th>3</th>\n",
       "      <td>6160193920.jpg#4r1n</td>\n",
       "      <td>A woman with a green headscarf, blue shirt and...</td>\n",
       "      <td>The woman is young.</td>\n",
       "      <td>neutral</td>\n",
       "      <td>the woman could've been old rather than young</td>\n",
       "      <td>A woman with a green headscarf, blue shirt and...</td>\n",
       "      <td>The woman is *young.*</td>\n",
       "      <td>[a, woman, with, a, green, headscarf, ,, blue,...</td>\n",
       "      <td>[the, woman, be, young, .]</td>\n",
       "      <td>[False, False, False, False, False, False, Fal...</td>\n",
       "      <td>[False, False, False, True, False]</td>\n",
       "      <td>[-1.0000000150474662e+30, 2.597653388977051, -...</td>\n",
       "      <td>[-1.0000000150474662e+30, 5.648240089416504, -...</td>\n",
       "      <td>[A, woman, with, a, green, headscarf, ,, blue,...</td>\n",
       "      <td>[The, woman, is, young, .]</td>\n",
       "    </tr>\n",
       "    <tr>\n",
       "      <th>4</th>\n",
       "      <td>6160193920.jpg#4r1e</td>\n",
       "      <td>A woman with a green headscarf, blue shirt and...</td>\n",
       "      <td>The woman is very happy.</td>\n",
       "      <td>entailment</td>\n",
       "      <td>a grin suggests hapiness.</td>\n",
       "      <td>A woman with a green headscarf, blue shirt and...</td>\n",
       "      <td>The woman is very *happy.*</td>\n",
       "      <td>[a, woman, with, a, green, headscarf, ,, blue,...</td>\n",
       "      <td>[the, woman, be, very, happy, .]</td>\n",
       "      <td>[False, False, False, False, False, False, Fal...</td>\n",
       "      <td>[False, False, False, False, True, False]</td>\n",
       "      <td>[-1.0000000150474662e+30, 2.784580707550049, -...</td>\n",
       "      <td>[-1.0000000150474662e+30, 5.648240089416504, -...</td>\n",
       "      <td>[A, woman, with, a, green, headscarf, ,, blue,...</td>\n",
       "      <td>[The, woman, is, very, happy, .]</td>\n",
       "    </tr>\n",
       "    <tr>\n",
       "      <th>...</th>\n",
       "      <td>...</td>\n",
       "      <td>...</td>\n",
       "      <td>...</td>\n",
       "      <td>...</td>\n",
       "      <td>...</td>\n",
       "      <td>...</td>\n",
       "      <td>...</td>\n",
       "      <td>...</td>\n",
       "      <td>...</td>\n",
       "      <td>...</td>\n",
       "      <td>...</td>\n",
       "      <td>...</td>\n",
       "      <td>...</td>\n",
       "      <td>...</td>\n",
       "      <td>...</td>\n",
       "    </tr>\n",
       "    <tr>\n",
       "      <th>9819</th>\n",
       "      <td>4378810163.jpg#4r1c</td>\n",
       "      <td>Two women are observing something together.</td>\n",
       "      <td>Two women are standing with their eyes closed.</td>\n",
       "      <td>contradiction</td>\n",
       "      <td>Answer: The women cannot be observing with eye...</td>\n",
       "      <td>Two women are *observing* something together.</td>\n",
       "      <td>Two women are standing with their *eyes* *clos...</td>\n",
       "      <td>[two, woman, be, observe, something, together, .]</td>\n",
       "      <td>[two, woman, be, stand, with, their, eye, clos...</td>\n",
       "      <td>[False, False, False, True, False, False, False]</td>\n",
       "      <td>[False, False, False, False, False, False, Tru...</td>\n",
       "      <td>[-1.0000000150474662e+30, 3.7125906944274902, ...</td>\n",
       "      <td>[-1.0000000150474662e+30, 2.986828327178955, -...</td>\n",
       "      <td>[Two, women, are, observing, something, togeth...</td>\n",
       "      <td>[Two, women, are, standing, with, their, eyes,...</td>\n",
       "    </tr>\n",
       "    <tr>\n",
       "      <th>9820</th>\n",
       "      <td>4378810163.jpg#4r1e</td>\n",
       "      <td>Two women are observing something together.</td>\n",
       "      <td>Two girls are looking at something.</td>\n",
       "      <td>entailment</td>\n",
       "      <td>Observing is a synonym for looking.</td>\n",
       "      <td>Two women are *observing* something together.</td>\n",
       "      <td>Two girls are *looking* at something.</td>\n",
       "      <td>[two, woman, be, observe, something, together, .]</td>\n",
       "      <td>[two, girl, be, look, at, something, .]</td>\n",
       "      <td>[False, False, False, True, False, False, False]</td>\n",
       "      <td>[False, False, False, True, False, False, False]</td>\n",
       "      <td>[-1.0000000150474662e+30, 2.8260209560394287, ...</td>\n",
       "      <td>[-1.0000000150474662e+30, 2.585012912750244, -...</td>\n",
       "      <td>[Two, women, are, observing, something, togeth...</td>\n",
       "      <td>[Two, girls, are, looking, at, something, .]</td>\n",
       "    </tr>\n",
       "    <tr>\n",
       "      <th>9821</th>\n",
       "      <td>152881593.jpg#1r1c</td>\n",
       "      <td>A man in a black leather jacket and a book in ...</td>\n",
       "      <td>A man is flying a kite.</td>\n",
       "      <td>contradiction</td>\n",
       "      <td>A man who speaks in a classroom can not be fly...</td>\n",
       "      <td>A man in a black leather jacket and a book in ...</td>\n",
       "      <td>A man is *flying* *a* *kite.*</td>\n",
       "      <td>[a, man, in, a, black, leather, jacket, and, a...</td>\n",
       "      <td>[a, man, be, fly, a, kite, .]</td>\n",
       "      <td>[False, False, False, False, False, False, Fal...</td>\n",
       "      <td>[False, False, False, True, True, True, False]</td>\n",
       "      <td>[-1.0000000150474662e+30, 3.1240949630737305, ...</td>\n",
       "      <td>[-1.0000000150474662e+30, 7.3323540687561035, ...</td>\n",
       "      <td>[A, man, in, a, black, leather, jacket, and, a...</td>\n",
       "      <td>[A, man, is, flying, a, kite, .]</td>\n",
       "    </tr>\n",
       "    <tr>\n",
       "      <th>9822</th>\n",
       "      <td>152881593.jpg#1r1e</td>\n",
       "      <td>A man in a black leather jacket and a book in ...</td>\n",
       "      <td>A man is speaking in a classroom.</td>\n",
       "      <td>entailment</td>\n",
       "      <td>speaks is the same as speaking</td>\n",
       "      <td>A man in a black leather jacket and a book in ...</td>\n",
       "      <td>A man is *speaking* in a classroom.</td>\n",
       "      <td>[a, man, in, a, black, leather, jacket, and, a...</td>\n",
       "      <td>[a, man, be, speak, in, a, classroom, .]</td>\n",
       "      <td>[False, False, False, False, False, False, Fal...</td>\n",
       "      <td>[False, False, False, True, False, False, Fals...</td>\n",
       "      <td>[-1.0000000150474662e+30, 3.5768728256225586, ...</td>\n",
       "      <td>[-1.0000000150474662e+30, 7.3323540687561035, ...</td>\n",
       "      <td>[A, man, in, a, black, leather, jacket, and, a...</td>\n",
       "      <td>[A, man, is, speaking, in, a, classroom, .]</td>\n",
       "    </tr>\n",
       "    <tr>\n",
       "      <th>9823</th>\n",
       "      <td>152881593.jpg#1r1n</td>\n",
       "      <td>A man in a black leather jacket and a book in ...</td>\n",
       "      <td>A man is teaching science in a classroom.</td>\n",
       "      <td>neutral</td>\n",
       "      <td>doesn't mean it's a science class</td>\n",
       "      <td>A man in a black leather jacket and a book in ...</td>\n",
       "      <td>A man is teaching *science* in a classroom.</td>\n",
       "      <td>[a, man, in, a, black, leather, jacket, and, a...</td>\n",
       "      <td>[a, man, be, teach, science, in, a, classroom, .]</td>\n",
       "      <td>[False, False, False, False, False, False, Fal...</td>\n",
       "      <td>[False, False, False, False, True, False, Fals...</td>\n",
       "      <td>[-1.0000000150474662e+30, 3.7047388553619385, ...</td>\n",
       "      <td>[-1.0000000150474662e+30, 7.3323540687561035, ...</td>\n",
       "      <td>[A, man, in, a, black, leather, jacket, and, a...</td>\n",
       "      <td>[A, man, is, teaching, science, in, a, classro...</td>\n",
       "    </tr>\n",
       "  </tbody>\n",
       "</table>\n",
       "<p>9824 rows × 15 columns</p>\n",
       "</div>"
      ],
      "text/plain": [
       "                       id                                            premise  \\\n",
       "0     2677109430.jpg#1r1n  This church choir sings to the masses as they ...   \n",
       "1     2677109430.jpg#1r1e  This church choir sings to the masses as they ...   \n",
       "2     2677109430.jpg#1r1c  This church choir sings to the masses as they ...   \n",
       "3     6160193920.jpg#4r1n  A woman with a green headscarf, blue shirt and...   \n",
       "4     6160193920.jpg#4r1e  A woman with a green headscarf, blue shirt and...   \n",
       "...                   ...                                                ...   \n",
       "9819  4378810163.jpg#4r1c        Two women are observing something together.   \n",
       "9820  4378810163.jpg#4r1e        Two women are observing something together.   \n",
       "9821   152881593.jpg#1r1c  A man in a black leather jacket and a book in ...   \n",
       "9822   152881593.jpg#1r1e  A man in a black leather jacket and a book in ...   \n",
       "9823   152881593.jpg#1r1n  A man in a black leather jacket and a book in ...   \n",
       "\n",
       "                                          hypothesis          label  \\\n",
       "0              The church has cracks in the ceiling.        neutral   \n",
       "1                    The church is filled with song.     entailment   \n",
       "2                A choir singing at a baseball game.  contradiction   \n",
       "3                                The woman is young.        neutral   \n",
       "4                           The woman is very happy.     entailment   \n",
       "...                                              ...            ...   \n",
       "9819  Two women are standing with their eyes closed.  contradiction   \n",
       "9820             Two girls are looking at something.     entailment   \n",
       "9821                         A man is flying a kite.  contradiction   \n",
       "9822               A man is speaking in a classroom.     entailment   \n",
       "9823       A man is teaching science in a classroom.        neutral   \n",
       "\n",
       "                                            explanation  \\\n",
       "0           Not all churches have cracks in the ceiling   \n",
       "1     \"Filled with song\" is a rephrasing of the \"cho...   \n",
       "2     A choir sing some other songs other than book ...   \n",
       "3         the woman could've been old rather than young   \n",
       "4                             a grin suggests hapiness.   \n",
       "...                                                 ...   \n",
       "9819  Answer: The women cannot be observing with eye...   \n",
       "9820                Observing is a synonym for looking.   \n",
       "9821  A man who speaks in a classroom can not be fly...   \n",
       "9822                     speaks is the same as speaking   \n",
       "9823                  doesn't mean it's a science class   \n",
       "\n",
       "                                      highlight_premise  \\\n",
       "0     This church choir sings to the masses as they ...   \n",
       "1     This church *choir* *sings* *to* *the* *masses...   \n",
       "2     This church choir sings to the *masses* as the...   \n",
       "3     A woman with a green headscarf, blue shirt and...   \n",
       "4     A woman with a green headscarf, blue shirt and...   \n",
       "...                                                 ...   \n",
       "9819      Two women are *observing* something together.   \n",
       "9820      Two women are *observing* something together.   \n",
       "9821  A man in a black leather jacket and a book in ...   \n",
       "9822  A man in a black leather jacket and a book in ...   \n",
       "9823  A man in a black leather jacket and a book in ...   \n",
       "\n",
       "                                   highlight_hypothesis  \\\n",
       "0         The church has *cracks* *in* *the* *ceiling.*   \n",
       "1                 The church is *filled* *with* *song.*   \n",
       "2             A choir *singing* at a *baseball* *game.*   \n",
       "3                                 The woman is *young.*   \n",
       "4                            The woman is very *happy.*   \n",
       "...                                                 ...   \n",
       "9819  Two women are standing with their *eyes* *clos...   \n",
       "9820              Two girls are *looking* at something.   \n",
       "9821                      A man is *flying* *a* *kite.*   \n",
       "9822                A man is *speaking* in a classroom.   \n",
       "9823        A man is teaching *science* in a classroom.   \n",
       "\n",
       "                                    tokens.norm.premise  \\\n",
       "0     [this, church, choir, sing, to, the, masse, as...   \n",
       "1     [this, church, choir, sing, to, the, masse, as...   \n",
       "2     [this, church, choir, sing, to, the, masse, as...   \n",
       "3     [a, woman, with, a, green, headscarf, ,, blue,...   \n",
       "4     [a, woman, with, a, green, headscarf, ,, blue,...   \n",
       "...                                                 ...   \n",
       "9819  [two, woman, be, observe, something, together, .]   \n",
       "9820  [two, woman, be, observe, something, together, .]   \n",
       "9821  [a, man, in, a, black, leather, jacket, and, a...   \n",
       "9822  [a, man, in, a, black, leather, jacket, and, a...   \n",
       "9823  [a, man, in, a, black, leather, jacket, and, a...   \n",
       "\n",
       "                                 tokens.norm.hypothesis  \\\n",
       "0       [the, church, have, crack, in, the, ceiling, .]   \n",
       "1                [the, church, be, fill, with, song, .]   \n",
       "2         [a, choir, singing, at, a, baseball, game, .]   \n",
       "3                            [the, woman, be, young, .]   \n",
       "4                      [the, woman, be, very, happy, .]   \n",
       "...                                                 ...   \n",
       "9819  [two, woman, be, stand, with, their, eye, clos...   \n",
       "9820            [two, girl, be, look, at, something, .]   \n",
       "9821                      [a, man, be, fly, a, kite, .]   \n",
       "9822           [a, man, be, speak, in, a, classroom, .]   \n",
       "9823  [a, man, be, teach, science, in, a, classroom, .]   \n",
       "\n",
       "                                      rationale.premise  \\\n",
       "0     [False, False, False, False, False, False, Fal...   \n",
       "1     [False, False, True, True, True, True, True, F...   \n",
       "2     [False, False, False, False, False, False, Tru...   \n",
       "3     [False, False, False, False, False, False, Fal...   \n",
       "4     [False, False, False, False, False, False, Fal...   \n",
       "...                                                 ...   \n",
       "9819   [False, False, False, True, False, False, False]   \n",
       "9820   [False, False, False, True, False, False, False]   \n",
       "9821  [False, False, False, False, False, False, Fal...   \n",
       "9822  [False, False, False, False, False, False, Fal...   \n",
       "9823  [False, False, False, False, False, False, Fal...   \n",
       "\n",
       "                                   rationale.hypothesis  \\\n",
       "0     [False, False, False, True, True, True, True, ...   \n",
       "1        [False, False, False, True, True, True, False]   \n",
       "2     [False, False, True, False, False, True, True,...   \n",
       "3                    [False, False, False, True, False]   \n",
       "4             [False, False, False, False, True, False]   \n",
       "...                                                 ...   \n",
       "9819  [False, False, False, False, False, False, Tru...   \n",
       "9820   [False, False, False, True, False, False, False]   \n",
       "9821     [False, False, False, True, True, True, False]   \n",
       "9822  [False, False, False, True, False, False, Fals...   \n",
       "9823  [False, False, False, False, True, False, Fals...   \n",
       "\n",
       "                                      heuristic.premise  \\\n",
       "0     [-1.0000000150474662e+30, 3.064525842666626, 1...   \n",
       "1     [-1.0000000150474662e+30, 2.79181170463562, 2....   \n",
       "2     [-1.0000000150474662e+30, 2.5598971843719482, ...   \n",
       "3     [-1.0000000150474662e+30, 2.597653388977051, -...   \n",
       "4     [-1.0000000150474662e+30, 2.784580707550049, -...   \n",
       "...                                                 ...   \n",
       "9819  [-1.0000000150474662e+30, 3.7125906944274902, ...   \n",
       "9820  [-1.0000000150474662e+30, 2.8260209560394287, ...   \n",
       "9821  [-1.0000000150474662e+30, 3.1240949630737305, ...   \n",
       "9822  [-1.0000000150474662e+30, 3.5768728256225586, ...   \n",
       "9823  [-1.0000000150474662e+30, 3.7047388553619385, ...   \n",
       "\n",
       "                                   heuristic.hypothesis  \\\n",
       "0     [-1.0000000150474662e+30, 7.628961086273193, -...   \n",
       "1     [-1.0000000150474662e+30, 7.628961086273193, -...   \n",
       "2     [-1.0000000150474662e+30, 6.388305187225342, 6...   \n",
       "3     [-1.0000000150474662e+30, 5.648240089416504, -...   \n",
       "4     [-1.0000000150474662e+30, 5.648240089416504, -...   \n",
       "...                                                 ...   \n",
       "9819  [-1.0000000150474662e+30, 2.986828327178955, -...   \n",
       "9820  [-1.0000000150474662e+30, 2.585012912750244, -...   \n",
       "9821  [-1.0000000150474662e+30, 7.3323540687561035, ...   \n",
       "9822  [-1.0000000150474662e+30, 7.3323540687561035, ...   \n",
       "9823  [-1.0000000150474662e+30, 7.3323540687561035, ...   \n",
       "\n",
       "                                    tokens.form.premise  \\\n",
       "0     [This, church, choir, sings, to, the, masses, ...   \n",
       "1     [This, church, choir, sings, to, the, masses, ...   \n",
       "2     [This, church, choir, sings, to, the, masses, ...   \n",
       "3     [A, woman, with, a, green, headscarf, ,, blue,...   \n",
       "4     [A, woman, with, a, green, headscarf, ,, blue,...   \n",
       "...                                                 ...   \n",
       "9819  [Two, women, are, observing, something, togeth...   \n",
       "9820  [Two, women, are, observing, something, togeth...   \n",
       "9821  [A, man, in, a, black, leather, jacket, and, a...   \n",
       "9822  [A, man, in, a, black, leather, jacket, and, a...   \n",
       "9823  [A, man, in, a, black, leather, jacket, and, a...   \n",
       "\n",
       "                                 tokens.form.hypothesis  \n",
       "0       [The, church, has, cracks, in, the, ceiling, .]  \n",
       "1              [The, church, is, filled, with, song, .]  \n",
       "2         [A, choir, singing, at, a, baseball, game, .]  \n",
       "3                            [The, woman, is, young, .]  \n",
       "4                      [The, woman, is, very, happy, .]  \n",
       "...                                                 ...  \n",
       "9819  [Two, women, are, standing, with, their, eyes,...  \n",
       "9820       [Two, girls, are, looking, at, something, .]  \n",
       "9821                   [A, man, is, flying, a, kite, .]  \n",
       "9822        [A, man, is, speaking, in, a, classroom, .]  \n",
       "9823  [A, man, is, teaching, science, in, a, classro...  \n",
       "\n",
       "[9824 rows x 15 columns]"
      ]
     },
     "execution_count": 3,
     "metadata": {},
     "output_type": "execute_result"
    }
   ],
   "source": [
    "from data.esnli.pipeline import PretransformedESNLI\n",
    "from data.esnli.transforms import HighlightTransform, HeuristicTransform\n",
    "from data.transforms import LemmaLowerTokenizerTransform\n",
    "from torchtext.vocab import GloVe\n",
    "import torchtext.transforms as T\n",
    "import spacy\n",
    "\n",
    "spacy_model = spacy.load('en_core_web_sm')\n",
    "tokenizer_transform = LemmaLowerTokenizerTransform(spacy_model)\n",
    "\n",
    "hl_transform = T.Sequential(\n",
    "    tokenizer_transform,\n",
    "    HighlightTransform()\n",
    ")\n",
    "\n",
    "heuristic_transform = HeuristicTransform(\n",
    "    vectors=GloVe(cache=path.join(cache_path, 'models', '.vector_cache')),\n",
    "    spacy_model=spacy_model\n",
    ")\n",
    "\n",
    "transformations = {\n",
    "    'premise': tokenizer_transform,\n",
    "    'hypothesis': tokenizer_transform,\n",
    "    'highlight_premise': hl_transform,\n",
    "    'highlight_hypothesis': hl_transform,\n",
    "    'heuristic': heuristic_transform,\n",
    "}\n",
    "\n",
    "trans_columns = {\n",
    "    'premise': 'tokens.norm.premise',\n",
    "    'hypothesis': 'tokens.norm.hypothesis',\n",
    "    'highlight_premise': 'rationale.premise',\n",
    "    'highlight_hypothesis': 'rationale.hypothesis',\n",
    "    'heuristic': 'heuristic'\n",
    "}\n",
    "\n",
    "testset = PretransformedESNLI(transformations, trans_columns, split='test', root=cache_path+'/dataset')\n",
    "testset.data"
   ]
  },
  {
   "cell_type": "code",
   "execution_count": 5,
   "id": "e33c1846-c98b-40a9-a80f-f0e6d64b4a14",
   "metadata": {},
   "outputs": [
    {
     "name": "stdout",
     "output_type": "stream",
     "text": [
      "tokens vs heuristic: True\n",
      "tokens vs rationales:  True\n",
      "tokens vs heuristic: True\n",
      "tokens vs rationales:  True\n"
     ]
    }
   ],
   "source": [
    "for side in ['premise', 'hypothesis']:\n",
    "    print('tokens vs heuristic:', (testset.data[f'tokens.norm.{side}'].str.len() == testset.data[f'heuristic.{side}'].str.len()).all())\n",
    "    print('tokens vs rationales: ', (testset.data[f'tokens.norm.{side}'].str.len() == testset.data[f'rationale.{side}'].str.len()).all())"
   ]
  },
  {
   "cell_type": "markdown",
   "id": "67bbac3fcb5d69d9",
   "metadata": {},
   "source": [
    "## Statistic on tokens"
   ]
  },
  {
   "cell_type": "code",
   "execution_count": null,
   "id": "44a1797c987ee7f5",
   "metadata": {
    "collapsed": false
   },
   "outputs": [],
   "source": [
    "trainset = PretransformedESNLI(transformations, trans_columns, split='train', root=cache_path+'/dataset')"
   ]
  },
  {
   "cell_type": "code",
   "execution_count": null,
   "id": "dc19c4603e435232",
   "metadata": {
    "collapsed": false
   },
   "outputs": [],
   "source": [
    "valset = PretransformedESNLI(transformations, trans_columns, split='val', root=cache_path+'/dataset')"
   ]
  },
  {
   "cell_type": "code",
   "execution_count": null,
   "id": "a5c67ece54caa335",
   "metadata": {
    "collapsed": false
   },
   "outputs": [],
   "source": [
    "import pandas as pd\n",
    "fulldata = pd.concat([trainset.data, valset.data, testset.data], ignore_index=True)"
   ]
  },
  {
   "cell_type": "code",
   "execution_count": null,
   "id": "3e5de340000659f6",
   "metadata": {
    "collapsed": false
   },
   "outputs": [],
   "source": [
    "fulldata['premise_tokens'].str.len().describe()"
   ]
  },
  {
   "cell_type": "code",
   "execution_count": null,
   "id": "108c05f821cb4d36",
   "metadata": {
    "collapsed": false
   },
   "outputs": [],
   "source": [
    "fulldata['hypothesis_tokens'].str.len().describe()"
   ]
  },
  {
   "cell_type": "code",
   "execution_count": null,
   "id": "c398c45f-105a-4692-bf9d-e75f83876821",
   "metadata": {},
   "outputs": [],
   "source": []
  },
  {
   "cell_type": "markdown",
   "id": "f0820363-fba3-48b0-ab36-895d91415661",
   "metadata": {},
   "source": [
    "## Statistic on POS tags"
   ]
  },
  {
   "cell_type": "markdown",
   "id": "fe43d708-7a75-4d8a-922e-cd7fce3f5255",
   "metadata": {},
   "source": [
    "Count in test set"
   ]
  },
  {
   "cell_type": "code",
   "execution_count": 4,
   "id": "ffca9bef-eb9b-4880-9bbd-fdee9ee77b91",
   "metadata": {
    "tags": []
   },
   "outputs": [
    {
     "data": {
      "text/plain": [
       "{'annotation': {'NOUN': 20057,\n",
       "  'ADP': 3767,\n",
       "  'DET': 3390,\n",
       "  'VERB': 6634,\n",
       "  'ADJ': 4235,\n",
       "  'ADV': 876,\n",
       "  'AUX': 527,\n",
       "  'CCONJ': 270,\n",
       "  'PROPN': 611,\n",
       "  'NUM': 754,\n",
       "  'PART': 332,\n",
       "  'SCONJ': 97,\n",
       "  'PRON': 805,\n",
       "  'PUNCT': 2,\n",
       "  'X': 10,\n",
       "  'INTJ': 10},\n",
       " 'dataset': {'DET': 39607,\n",
       "  'NOUN': 70019,\n",
       "  'VERB': 21509,\n",
       "  'ADP': 29167,\n",
       "  'SCONJ': 1790,\n",
       "  'PRON': 6000,\n",
       "  'ADJ': 17922,\n",
       "  'PUNCT': 20907,\n",
       "  'AUX': 10108,\n",
       "  'CCONJ': 4367,\n",
       "  'ADV': 2938,\n",
       "  'PART': 1543,\n",
       "  'PROPN': 2272,\n",
       "  'NUM': 4023,\n",
       "  'INTJ': 44,\n",
       "  'X': 22,\n",
       "  'SPACE': 17,\n",
       "  'SYM': 3}}"
      ]
     },
     "execution_count": 4,
     "metadata": {},
     "output_type": "execute_result"
    }
   ],
   "source": [
    "from spacy.tokens import Doc\n",
    "import spacy\n",
    "\n",
    "# Load test set in dataframe\n",
    "df = testset.data\n",
    "\n",
    "# Concat both premise and hypothesis\n",
    "df['tokens.norm'] = df.apply(lambda x: x['tokens.norm.premise'] + x['tokens.norm.hypothesis'], axis=1)\n",
    "df['rationale'] = df.apply(lambda x: x['rationale.premise'] + x['rationale.hypothesis'], axis=1)\n",
    "\n",
    "# Flatten into single vector\n",
    "tokens = df['tokens.norm'].tolist()\n",
    "rationales = df['rationale'].tolist()\n",
    "flat_token = [t for sent in tokens for t in sent]\n",
    "flat_rationale = [r for sent in rationales for r in sent]\n",
    "\n",
    "# Convert into spacy to get Pos tag\n",
    "nlp = spacy.load('en_core_web_sm')\n",
    "doc = Doc(nlp.vocab, words=flat_token)\n",
    "pos = [tk.pos_ for tk in nlp(doc)]\n",
    "\n",
    "# Counting in general\n",
    "cnt = {\n",
    "    'annotation': dict(),\n",
    "    'dataset' : dict()\n",
    "}\n",
    "\n",
    "for p, r in zip(pos, flat_rationale):\n",
    "    cnt['dataset'][p] = cnt['dataset'].get(p, 0) + 1\n",
    "    if r:\n",
    "        cnt['annotation'][p] = cnt['annotation'].get(p, 0) + 1\n",
    "        \n",
    "cnt"
   ]
  },
  {
   "cell_type": "code",
   "execution_count": 37,
   "id": "d1a0ae21-8cc0-425d-9d9c-5371bf99f179",
   "metadata": {},
   "outputs": [
    {
     "ename": "AttributeError",
     "evalue": "module 'matplotlib.pyplot' has no attribute 'fontsize'",
     "output_type": "error",
     "traceback": [
      "\u001B[0;31m---------------------------------------------------------------------------\u001B[0m",
      "\u001B[0;31mAttributeError\u001B[0m                            Traceback (most recent call last)",
      "Input \u001B[0;32mIn [37]\u001B[0m, in \u001B[0;36m<cell line: 18>\u001B[0;34m()\u001B[0m\n\u001B[1;32m     16\u001B[0m plt\u001B[38;5;241m.\u001B[39mxlabel(\u001B[38;5;124m'\u001B[39m\u001B[38;5;124mFrequency\u001B[39m\u001B[38;5;124m'\u001B[39m, fontsize\u001B[38;5;241m=\u001B[39m\u001B[38;5;241m20\u001B[39m)\n\u001B[1;32m     17\u001B[0m plt\u001B[38;5;241m.\u001B[39mylabel(\u001B[38;5;124m'\u001B[39m\u001B[38;5;124mPOS tags\u001B[39m\u001B[38;5;124m'\u001B[39m, fontsize\u001B[38;5;241m=\u001B[39m\u001B[38;5;241m20\u001B[39m)\n\u001B[0;32m---> 18\u001B[0m \u001B[43mplt\u001B[49m\u001B[38;5;241;43m.\u001B[39;49m\u001B[43mfontsize\u001B[49m(\u001B[38;5;241m20\u001B[39m)\n\u001B[1;32m     19\u001B[0m plt\u001B[38;5;241m.\u001B[39mlegend()\n\u001B[1;32m     20\u001B[0m plt\u001B[38;5;241m.\u001B[39mshow()\n",
      "\u001B[0;31mAttributeError\u001B[0m: module 'matplotlib.pyplot' has no attribute 'fontsize'"
     ]
    },
    {
     "data": {
      "image/png": "[encoded data removed]",
      "text/plain": [
       "<Figure size 432x288 with 1 Axes>"
      ]
     },
     "metadata": {
      "needs_background": "light"
     },
     "output_type": "display_data"
    }
   ],
   "source": [
    "import matplotlib.pyplot as plt\n",
    "import seaborn as sns\n",
    "\n",
    "palette = sns.color_palette(\"husl\", 3)\n",
    "\n",
    "# Sort value for display\n",
    "cnt['dataset'] = {k: v for k, v in sorted(cnt['dataset'].items(), key=lambda item: item[1])}\n",
    "       \n",
    "plt.barh(list(cnt['dataset'].keys()), list(cnt['dataset'].values()), color = palette[2], label='Dataset')\n",
    "plt.barh(list(cnt['annotation'].keys()), list(cnt['annotation'].values()), color = palette[0], label='Annotated')\n",
    "#labels = list(colors.keys())\n",
    "\n",
    "plt.rc('axes', titlesize=10, labelsize=20)\n",
    "\n",
    "plt.title('Distribution of POS Tags in \\nRegular and Annotated Tokens in e-SNLI', fontsize=20)\n",
    "plt.xlabel('Frequency', fontsize=20)\n",
    "plt.ylabel('POS tags', fontsize=20)\n",
    "plt.fontsize(20)\n",
    "plt.legend()\n",
    "plt.show()"
   ]
  },
  {
   "cell_type": "code",
   "execution_count": 151,
   "id": "0bd1b3a7-5432-44d9-ba03-cbba4316b9e5",
   "metadata": {},
   "outputs": [
    {
     "data": {
      "text/plain": [
       "{'annotation': {'NOUN': 9933,\n",
       "  'VERB': 2779,\n",
       "  'ADP': 1878,\n",
       "  'DET': 1749,\n",
       "  'ADJ': 1921,\n",
       "  'AUX': 305,\n",
       "  'PROPN': 238,\n",
       "  'CCONJ': 151,\n",
       "  'ADV': 498,\n",
       "  'NUM': 467,\n",
       "  'PART': 97,\n",
       "  'PRON': 337,\n",
       "  'SCONJ': 41,\n",
       "  'X': 3,\n",
       "  'INTJ': 4,\n",
       "  'PUNCT': 1},\n",
       " 'dataset': {'DET': 13230,\n",
       "  'NOUN': 23413,\n",
       "  'VERB': 7127,\n",
       "  'ADP': 9719,\n",
       "  'SCONJ': 560,\n",
       "  'PRON': 1962,\n",
       "  'ADJ': 6019,\n",
       "  'PUNCT': 7181,\n",
       "  'AUX': 3394,\n",
       "  'CCONJ': 1506,\n",
       "  'ADV': 1117,\n",
       "  'PART': 437,\n",
       "  'PROPN': 695,\n",
       "  'NUM': 1429,\n",
       "  'INTJ': 12,\n",
       "  'X': 6,\n",
       "  'SPACE': 6,\n",
       "  'SYM': 1}}"
      ]
     },
     "execution_count": 151,
     "metadata": {},
     "output_type": "execute_result"
    }
   ],
   "source": [
    "# Concat both premise and hypothesis\n",
    "df_ent = df[df['label'] == 'entailment'].reset_index()\n",
    "df_ent['tokens.norm'] = df_ent.apply(lambda x: x['tokens.norm.premise'] + x['tokens.norm.hypothesis'], axis=1)\n",
    "df_ent['rationale'] = df_ent.apply(lambda x: x['rationale.premise'] + x['rationale.hypothesis'], axis=1)\n",
    "\n",
    "# Flatten into single vector\n",
    "tokens = df_ent['tokens.norm'].tolist()\n",
    "rationales = df_ent['rationale'].tolist()\n",
    "flat_token = [t for sent in tokens for t in sent]\n",
    "flat_rationale = [r for sent in rationales for r in sent]\n",
    "\n",
    "# Convert into spacy to get Pos tag\n",
    "nlp = spacy.load('en_core_web_sm')\n",
    "doc = Doc(nlp.vocab, words=flat_token)\n",
    "pos = [tk.pos_ for tk in nlp(doc)]\n",
    "\n",
    "# Counting in general\n",
    "cnt_ent = {\n",
    "    'annotation': dict(),\n",
    "    'dataset' : dict()\n",
    "}\n",
    "\n",
    "for p, r in zip(pos, flat_rationale):\n",
    "    cnt_ent['dataset'][p] = cnt_ent['dataset'].get(p, 0) + 1\n",
    "    if r:\n",
    "        cnt_ent['annotation'][p] = cnt_ent['annotation'].get(p, 0) + 1\n",
    "        \n",
    "cnt_ent"
   ]
  },
  {
   "cell_type": "code",
   "execution_count": 139,
   "id": "c3acaa97-ae87-4d99-bcfd-d60affe680a4",
   "metadata": {},
   "outputs": [
    {
     "data": {
      "image/png": "[encoded data removed]",
      "text/plain": [
       "<Figure size 360x432 with 1 Axes>"
      ]
     },
     "metadata": {
      "needs_background": "light"
     },
     "output_type": "display_data"
    }
   ],
   "source": [
    "# Sort value for display\n",
    "cnt_ent['dataset'] = {k: v for k, v in sorted(cnt_ent['dataset'].items(), key=lambda item: item[1])}\n",
    "\n",
    "plt.figure(figsize=(5,6)) \n",
    "plt.tick_params(axis='x', labelsize=12)\n",
    "plt.tick_params(axis='y', labelsize=12)\n",
    "\n",
    "plt.barh(list(cnt_ent['dataset'].keys()), list(cnt_ent['dataset'].values()), color = palette[2], label='Dataset')\n",
    "plt.barh(list(cnt_ent['annotation'].keys()), list(cnt_ent['annotation'].values()), color = palette[0], label='Annotated')\n",
    "\n",
    "plt.title('Entailment', fontsize=20)\n",
    "plt.xlabel('Frequency', fontsize=20)\n",
    "plt.ylabel('Part-of-Speech Tags', fontsize=20)\n",
    "plt.legend()\n",
    "plt.savefig(path.join(tmp_path, 'stats_pos_esnli_contra.png'), bbox_inches=\"tight\", dpi=300)\n",
    "plt.show()"
   ]
  },
  {
   "cell_type": "code",
   "execution_count": 73,
   "id": "4f9e33d2-cf05-4f7f-8ea7-f2c159dc8185",
   "metadata": {},
   "outputs": [
    {
     "data": {
      "image/png": "[encoded data removed]",
      "text/plain": [
       "<Figure size 360x432 with 1 Axes>"
      ]
     },
     "metadata": {
      "needs_background": "light"
     },
     "output_type": "display_data"
    }
   ],
   "source": [
    "# Sort value for display\n",
    "\n",
    "# Follow entailemnt\n",
    "cnt_con['dataset'] = {k: cnt_con['dataset'][k] for k in cnt_ent['dataset'].keys()}\n",
    "       \n",
    "plt.figure(figsize=(5,6))    \n",
    "\n",
    "plt.barh(list(cnt_con['dataset'].keys()), list(cnt_con['dataset'].values()), color = palette[2], label='Dataset')\n",
    "plt.barh(list(cnt_con['annotation'].keys()), list(cnt_con['annotation'].values()), color = palette[0], label='Annotated')\n",
    "\n",
    "plt.tick_params(axis='x', labelsize=12)\n",
    "plt.tick_params(axis='y', labelsize=12)\n",
    "\n",
    "\n",
    "plt.title('Contradiction', fontsize=20)\n",
    "plt.xlabel('Frequency', fontsize=20)\n",
    "plt.ylabel('Part-of-Speech Tags', fontsize=20)\n",
    "plt.legend()\n",
    "plt.savefig(path.join(tmp_path, 'stats_pos_esnli_contra.png'), bbox_inches=\"tight\", dpi=300)\n",
    "plt.show()"
   ]
  },
  {
   "cell_type": "code",
   "execution_count": 70,
   "id": "fe2f5181-2fca-43b1-aaac-020f43c3194a",
   "metadata": {
    "tags": []
   },
   "outputs": [
    {
     "name": "stdout",
     "output_type": "stream",
     "text": [
      "Counting entailment\n",
      "Counting contradiction\n"
     ]
    },
    {
     "data": {
      "text/plain": [
       "[{'label': 'entailment',\n",
       "  'annotation': {'NOUN': 9933,\n",
       "   'VERB': 2779,\n",
       "   'ADP': 1878,\n",
       "   'DET': 1749,\n",
       "   'ADJ': 1921,\n",
       "   'AUX': 305,\n",
       "   'PROPN': 238,\n",
       "   'CCONJ': 151,\n",
       "   'ADV': 498,\n",
       "   'NUM': 467,\n",
       "   'PART': 97,\n",
       "   'PRON': 337,\n",
       "   'SCONJ': 41,\n",
       "   'X': 3,\n",
       "   'INTJ': 4,\n",
       "   'PUNCT': 1},\n",
       "  'dataset': {'DET': 13230,\n",
       "   'NOUN': 23413,\n",
       "   'VERB': 7127,\n",
       "   'ADP': 9719,\n",
       "   'SCONJ': 560,\n",
       "   'PRON': 1962,\n",
       "   'ADJ': 6019,\n",
       "   'PUNCT': 7181,\n",
       "   'AUX': 3394,\n",
       "   'CCONJ': 1506,\n",
       "   'ADV': 1117,\n",
       "   'PART': 437,\n",
       "   'PROPN': 695,\n",
       "   'NUM': 1429,\n",
       "   'INTJ': 12,\n",
       "   'X': 6,\n",
       "   'SPACE': 6,\n",
       "   'SYM': 1}},\n",
       " {'label': 'contradiction',\n",
       "  'annotation': {'NOUN': 6907,\n",
       "   'ADJ': 1447,\n",
       "   'ADV': 196,\n",
       "   'VERB': 2734,\n",
       "   'ADP': 1329,\n",
       "   'CCONJ': 90,\n",
       "   'PROPN': 213,\n",
       "   'DET': 1178,\n",
       "   'NUM': 234,\n",
       "   'PRON': 241,\n",
       "   'AUX': 136,\n",
       "   'PUNCT': 1,\n",
       "   'PART': 97,\n",
       "   'X': 6,\n",
       "   'SCONJ': 15,\n",
       "   'INTJ': 2},\n",
       "  'dataset': {'DET': 13125,\n",
       "   'NOUN': 22929,\n",
       "   'VERB': 7005,\n",
       "   'ADP': 9536,\n",
       "   'SCONJ': 571,\n",
       "   'PRON': 1867,\n",
       "   'ADJ': 5846,\n",
       "   'PUNCT': 6893,\n",
       "   'CCONJ': 1420,\n",
       "   'ADV': 850,\n",
       "   'AUX': 3355,\n",
       "   'PART': 412,\n",
       "   'PROPN': 748,\n",
       "   'NUM': 1313,\n",
       "   'INTJ': 15,\n",
       "   'X': 10,\n",
       "   'SPACE': 8,\n",
       "   'SYM': 1}}]"
      ]
     },
     "execution_count": 70,
     "metadata": {},
     "output_type": "execute_result"
    }
   ],
   "source": [
    "# Concat both premise and hypothesis\n",
    "\n",
    "stats = []\n",
    "\n",
    "for label in ['entailment', 'contradiction']:\n",
    "    print(f'Counting {label}')\n",
    "    df_label = df[df['label'] == label].reset_index()\n",
    "    df_label['tokens.norm'] = df_label.apply(lambda x: x['tokens.norm.premise'] + x['tokens.norm.hypothesis'], axis=1)\n",
    "    df_label['rationale'] = df_label.apply(lambda x: x['rationale.premise'] + x['rationale.hypothesis'], axis=1)\n",
    "\n",
    "    # Flatten into single vector\n",
    "    tokens = df_label['tokens.norm'].tolist()\n",
    "    rationales = df_label['rationale'].tolist()\n",
    "    flat_token = [t for sent in tokens for t in sent]\n",
    "    flat_rationale = [r for sent in rationales for r in sent]\n",
    "\n",
    "    # Convert into spacy to get Pos tag\n",
    "    nlp = spacy.load('en_core_web_sm')\n",
    "    doc = Doc(nlp.vocab, words=flat_token)\n",
    "    pos = [tk.pos_ for tk in nlp(doc)]\n",
    "\n",
    "    # Counting in general\n",
    "    \n",
    "    cnt = {\n",
    "        'annotation': dict(),\n",
    "        'dataset' : dict()\n",
    "    }\n",
    "\n",
    "    for p, r in zip(pos, flat_rationale):\n",
    "        cnt['dataset'][p] = cnt['dataset'].get(p, 0) + 1\n",
    "        if r:\n",
    "            cnt['annotation'][p] = cnt['annotation'].get(p, 0) + 1\n",
    "\n",
    "    stats.append({\n",
    "        'label': label,\n",
    "        **cnt\n",
    "    })\n",
    "\n",
    "stats"
   ]
  },
  {
   "cell_type": "code",
   "execution_count": 71,
   "id": "d113e0b4-ba48-44c8-9fcc-512a56e99a09",
   "metadata": {},
   "outputs": [],
   "source": [
    "# sort by values in entailment\n",
    "stats_ent = stats[0]\n",
    "stats[0]['dataset'] = {k: v for k, v in sorted(stats_ent['dataset'].items(), key=lambda item: item[1])}"
   ]
  },
  {
   "cell_type": "code",
   "execution_count": 72,
   "id": "aaaf6b4c-f057-47e7-9656-400f3cf866b4",
   "metadata": {},
   "outputs": [
    {
     "name": "stdout",
     "output_type": "stream",
     "text": [
      "tag in stats_label.dataset :  1506\n",
      "tag in stats_label.dataset :  695\n",
      "tag in stats_label.dataset :  560\n",
      "tag in stats_label.dataset :  437\n",
      "tag in stats_label.dataset :  6\n",
      "tag in stats_label.dataset :  6\n",
      "tag in stats_label.dataset :  1\n",
      "tag in stats_label.dataset :  12\n",
      "cnt_others 151\n",
      "cnt_others 389\n",
      "cnt_others 430\n",
      "cnt_others 527\n",
      "cnt_others 530\n",
      "cnt_others 534\n",
      "tag in stats_label.dataset :  1420\n",
      "tag in stats_label.dataset :  748\n",
      "tag in stats_label.dataset :  571\n",
      "tag in stats_label.dataset :  412\n",
      "tag in stats_label.dataset :  8\n",
      "tag in stats_label.dataset :  10\n",
      "tag in stats_label.dataset :  1\n",
      "tag in stats_label.dataset :  15\n",
      "cnt_others 90\n",
      "cnt_others 303\n",
      "cnt_others 318\n",
      "cnt_others 415\n",
      "cnt_others 421\n",
      "cnt_others 423\n"
     ]
    },
    {
     "data": {
      "text/plain": [
       "[{'label': 'entailment',\n",
       "  'annotation': {'OTHERS': 534,\n",
       "   'NOUN': 9933,\n",
       "   'VERB': 2779,\n",
       "   'ADP': 1878,\n",
       "   'DET': 1749,\n",
       "   'ADJ': 1921,\n",
       "   'AUX': 305,\n",
       "   'ADV': 498,\n",
       "   'NUM': 467,\n",
       "   'PRON': 337,\n",
       "   'PUNCT': 1},\n",
       "  'dataset': {'OTHERS': 3223,\n",
       "   'ADV': 1117,\n",
       "   'NUM': 1429,\n",
       "   'PRON': 1962,\n",
       "   'AUX': 3394,\n",
       "   'ADJ': 6019,\n",
       "   'VERB': 7127,\n",
       "   'PUNCT': 7181,\n",
       "   'ADP': 9719,\n",
       "   'DET': 13230,\n",
       "   'NOUN': 23413}},\n",
       " {'label': 'contradiction',\n",
       "  'annotation': {'OTHERS': 423,\n",
       "   'NOUN': 6907,\n",
       "   'ADJ': 1447,\n",
       "   'ADV': 196,\n",
       "   'VERB': 2734,\n",
       "   'ADP': 1329,\n",
       "   'DET': 1178,\n",
       "   'NUM': 234,\n",
       "   'PRON': 241,\n",
       "   'AUX': 136,\n",
       "   'PUNCT': 1},\n",
       "  'dataset': {'OTHERS': 3185,\n",
       "   'DET': 13125,\n",
       "   'NOUN': 22929,\n",
       "   'VERB': 7005,\n",
       "   'ADP': 9536,\n",
       "   'PRON': 1867,\n",
       "   'ADJ': 5846,\n",
       "   'PUNCT': 6893,\n",
       "   'ADV': 850,\n",
       "   'AUX': 3355,\n",
       "   'NUM': 1313}}]"
      ]
     },
     "execution_count": 72,
     "metadata": {},
     "output_type": "execute_result"
    }
   ],
   "source": [
    "# Fusion the \"residuals\" into \"OTHERS\":\n",
    "stats_reduced = stats.copy()\n",
    "reduced_tags = ['CCONJ', 'PROPN', 'SCONJ', 'PART', 'SPACE', 'X', 'SYM', 'INTJ']\n",
    "tmp = []\n",
    "\n",
    "for stats_label in stats_reduced: # among ['entailment', 'contradiction]\n",
    "\n",
    "    cnt_others = 0 \n",
    "    for tag in reduced_tags:\n",
    "        if tag in stats_label['dataset']:\n",
    "            print('tag in stats_label.dataset : ', stats_label['dataset'][tag])\n",
    "            cnt_others += stats_label['dataset'][tag]\n",
    "            del stats_label['dataset'][tag]\n",
    "    stats_label['dataset'] = {'OTHERS': cnt_others, **stats_label['dataset']}\n",
    "    \n",
    "    cnt_others = 0 \n",
    "    for tag in reduced_tags:\n",
    "        if tag in stats_label['annotation']:\n",
    "            cnt_others += stats_label['annotation'][tag]\n",
    "            print('cnt_others', cnt_others)\n",
    "            del stats_label['annotation'][tag]\n",
    "    stats_label['annotation'] = {'OTHERS': cnt_others, **stats_label['annotation']}\n",
    "    \n",
    "    tmp.append(stats_label)\n",
    "    \n",
    "stats_reduced = tmp\n",
    "stats_reduced"
   ]
  },
  {
   "cell_type": "code",
   "execution_count": 79,
   "id": "875a7fb4-0115-4c11-aaea-ac2b7a0e308b",
   "metadata": {},
   "outputs": [
    {
     "data": {
      "image/png": "[encoded data removed]",
      "text/plain": [
       "<Figure size 648x288 with 2 Axes>"
      ]
     },
     "metadata": {
      "needs_background": "light"
     },
     "output_type": "display_data"
    },
    {
     "name": "stdout",
     "output_type": "stream",
     "text": [
      "Save at .cache/2022-09-03/stats_pos_esnli_subfigs.png\n"
     ]
    }
   ],
   "source": [
    "import matplotlib.pyplot as plt\n",
    "import seaborn as sns\n",
    "\n",
    "palette = sns.color_palette(\"husl\", 3)\n",
    "\n",
    "# Figure metadata\n",
    "fig, axes = plt.subplots(1,2, figsize=(9, 4), sharey='row')\n",
    "fig.subplots_adjust(hspace=0, wspace=0)\n",
    "\n",
    "for ax, cnt_ in zip(axes, stats_reduced):\n",
    "\n",
    "    ax.barh(list(cnt_['dataset'].keys()), list(cnt_['dataset'].values()), color = palette[2], label='All')\n",
    "    ax.barh(list(cnt_['annotation'].keys()), list(cnt_['annotation'].values()), color = palette[0], label='Annotated')\n",
    "    ax.set_title(cnt_['label'].capitalize(),fontsize=16)\n",
    "    ax.tick_params(axis='x', labelsize=12)\n",
    "    ax.tick_params(axis='y', labelsize=12)\n",
    "    \n",
    "lines, labels = axes[0].get_legend_handles_labels() \n",
    "fig.legend(lines, labels, loc='right', ncol=1, fontsize=14,bbox_to_anchor=(1.12, .5))#\n",
    "\n",
    "axes[0].set_ylabel('Part-of-speech Tags',fontsize=16)\n",
    "axes[0].set_xlabel('Token Frequency',fontsize=16)\n",
    "axes[1].set_xlabel('Token Frequency',fontsize=16)\n",
    "\n",
    "plt.savefig(path.join(tmp_path, 'stats_pos_esnli_subfigs.png'), bbox_inches=\"tight\", dpi=300, transparent=True)\n",
    "plt.show()\n",
    "print('Save at', path.join(tmp_path, 'stats_pos_esnli_subfigs.png'))"
   ]
  },
  {
   "cell_type": "code",
   "execution_count": null,
   "id": "0f925c6c-7bd6-4611-a325-28082c5c132c",
   "metadata": {},
   "outputs": [],
   "source": []
  },
  {
   "cell_type": "code",
   "execution_count": 28,
   "id": "66fc6ea5-261a-45c7-9711-7124d9433f19",
   "metadata": {},
   "outputs": [],
   "source": [
    "# Counting on different label\n",
    "df = testset.data"
   ]
  },
  {
   "cell_type": "code",
   "execution_count": 29,
   "id": "fc342ff4-d583-41c2-90b6-ac35ca91b898",
   "metadata": {},
   "outputs": [
    {
     "data": {
      "text/plain": [
       "{'annotation': {'NOUN': 20057,\n",
       "  'ADP': 3767,\n",
       "  'DET': 3390,\n",
       "  'VERB': 6634,\n",
       "  'ADJ': 4235,\n",
       "  'ADV': 876,\n",
       "  'AUX': 527,\n",
       "  'CCONJ': 270,\n",
       "  'PROPN': 611,\n",
       "  'NUM': 754,\n",
       "  'PART': 332,\n",
       "  'SCONJ': 97,\n",
       "  'PRON': 805,\n",
       "  'PUNCT': 2,\n",
       "  'X': 10,\n",
       "  'INTJ': 10},\n",
       " 'dataset': {'DET': 39607,\n",
       "  'NOUN': 70019,\n",
       "  'VERB': 21509,\n",
       "  'ADP': 29167,\n",
       "  'SCONJ': 1790,\n",
       "  'PRON': 6000,\n",
       "  'ADJ': 17922,\n",
       "  'PUNCT': 20907,\n",
       "  'AUX': 10108,\n",
       "  'CCONJ': 4367,\n",
       "  'ADV': 2938,\n",
       "  'PART': 1543,\n",
       "  'PROPN': 2272,\n",
       "  'NUM': 4023,\n",
       "  'INTJ': 44,\n",
       "  'X': 22,\n",
       "  'SPACE': 17,\n",
       "  'SYM': 3}}"
      ]
     },
     "execution_count": 29,
     "metadata": {},
     "output_type": "execute_result"
    }
   ],
   "source": []
  },
  {
   "cell_type": "code",
   "execution_count": null,
   "id": "4b1b8331-7ab8-4262-a3e6-fde520a6cd77",
   "metadata": {},
   "outputs": [],
   "source": [
    "# Load dataset\n",
    "\n",
    "# Add punctuation to separate sentences\n",
    "for i in range(len(tokens)):\n",
    "    tokens[i].append('.')\n",
    "    rationale[i].append(0)\n",
    "\n",
    "\n",
    "# Find postag\n",
    "from spacy.tokens import Doc\n",
    "import spacy\n",
    "\n",
    "flatten_token = [tk for sent in tokens for tk in sent]\n",
    "flatten_rationale = [r for sent in rationale for r in sent]\n",
    "\n",
    "nlp = spacy.load('en_core_web_sm')\n",
    "doc = Doc(nlp.vocab, words=flatten_token)\n",
    "pos = [tk.pos_ for tk in nlp(doc)]"
   ]
  },
  {
   "cell_type": "markdown",
   "id": "8514f038-d71c-4cc3-8606-6b3aeeae7633",
   "metadata": {},
   "source": [
    "Visualize the POS stastistics "
   ]
  },
  {
   "cell_type": "code",
   "execution_count": null,
   "id": "ae2dead673e339ce",
   "metadata": {
    "collapsed": false
   },
   "outputs": [],
   "source": [
    "#visua"
   ]
  },
  {
   "cell_type": "markdown",
   "id": "84e95caefc5a53cb",
   "metadata": {},
   "source": [
    "# Compute Plausibility Score for Heuristic"
   ]
  },
  {
   "cell_type": "code",
   "execution_count": 3,
   "id": "44a5abbd12d5b45c",
   "metadata": {
    "collapsed": false,
    "ExecuteTime": {
     "end_time": "2023-10-10T13:39:20.803578Z",
     "start_time": "2023-10-10T13:39:20.752506Z"
    }
   },
   "outputs": [
    {
     "name": "stdout",
     "output_type": "stream",
     "text": [
      "10-10-2023 15:39:20 | \u001B[34m    INFO\u001B[0m \u001B[1m \u001B[4m 427789605.py:<cell line: 7>:7 \u001B[0m \u001B[34mCurrent node: grele-5.nancy.grid5000.fr\u001B[0m\n",
      "10-10-2023 15:39:20 | \u001B[34m    INFO\u001B[0m \u001B[1m \u001B[4m 427789605.py:<cell line: 13>:13 \u001B[0m \u001B[34mRoot folder: /home/dunguyen/RUNS\u001B[0m\n"
     ]
    }
   ],
   "source": [
    "from modules.logger import init_logging\n",
    "from modules.logger import log\n",
    "init_logging(color=True)\n",
    "\n",
    "import platform\n",
    "node = platform.node()\n",
    "log.info(f'Current node: {node}')\n",
    "\n",
    "if node == 'MAC-C02D80HRMD6':\n",
    "    ROOT = '/Users/dunguyen/Developer/server_backup/historic/2023-06-05'\n",
    "else: \n",
    "    ROOT = '/home/dunguyen/RUNS'\n",
    "log.info(f'Root folder: {ROOT}')"
   ]
  },
  {
   "cell_type": "code",
   "execution_count": 4,
   "id": "46a8a85ee11deee7",
   "metadata": {
    "collapsed": false,
    "ExecuteTime": {
     "end_time": "2023-10-10T13:39:22.546912Z",
     "start_time": "2023-10-10T13:39:22.307075Z"
    }
   },
   "outputs": [],
   "source": [
    "import torchmetrics as m\n",
    "import warnings\n",
    "\n",
    "# Measure plausibility with AUPRC\n",
    "warnings.filterwarnings('ignore')\n",
    "auprc = m.AveragePrecision(average='micro')\n",
    "auroc = m.AUROC(average='micro')    \n",
    "warnings.filterwarnings('default')"
   ]
  },
  {
   "cell_type": "code",
   "execution_count": 36,
   "id": "441da4997e240a",
   "metadata": {
    "collapsed": false,
    "ExecuteTime": {
     "end_time": "2023-10-10T13:50:38.239350Z",
     "start_time": "2023-10-10T13:50:38.075816Z"
    }
   },
   "outputs": [
    {
     "data": {
      "text/plain": "                    id                                            premise  \\\n0  2677109430.jpg#1r1n  This church choir sings to the masses as they ...   \n1  2677109430.jpg#1r1e  This church choir sings to the masses as they ...   \n2  2677109430.jpg#1r1c  This church choir sings to the masses as they ...   \n3  6160193920.jpg#4r1n  A woman with a green headscarf, blue shirt and...   \n4  6160193920.jpg#4r1e  A woman with a green headscarf, blue shirt and...   \n\n                              hypothesis          label  \\\n0  The church has cracks in the ceiling.        neutral   \n1        The church is filled with song.     entailment   \n2    A choir singing at a baseball game.  contradiction   \n3                    The woman is young.        neutral   \n4               The woman is very happy.     entailment   \n\n                                         explanation  \\\n0        Not all churches have cracks in the ceiling   \n1  \"Filled with song\" is a rephrasing of the \"cho...   \n2  A choir sing some other songs other than book ...   \n3      the woman could've been old rather than young   \n4                          a grin suggests hapiness.   \n\n                                   highlight_premise  \\\n0  This church choir sings to the masses as they ...   \n1  This church *choir* *sings* *to* *the* *masses...   \n2  This church choir sings to the *masses* as the...   \n3  A woman with a green headscarf, blue shirt and...   \n4  A woman with a green headscarf, blue shirt and...   \n\n                            highlight_hypothesis  \\\n0  The church has *cracks* *in* *the* *ceiling.*   \n1          The church is *filled* *with* *song.*   \n2      A choir *singing* at a *baseball* *game.*   \n3                          The woman is *young.*   \n4                     The woman is very *happy.*   \n\n                                 tokens.norm.premise  \\\n0  [this, church, choir, sing, to, the, masse, as...   \n1  [this, church, choir, sing, to, the, masse, as...   \n2  [this, church, choir, sing, to, the, masse, as...   \n3  [a, woman, with, a, green, headscarf, ,, blue,...   \n4  [a, woman, with, a, green, headscarf, ,, blue,...   \n\n                            tokens.norm.hypothesis  \\\n0  [the, church, have, crack, in, the, ceiling, .]   \n1           [the, church, be, fill, with, song, .]   \n2    [a, choir, singing, at, a, baseball, game, .]   \n3                       [the, woman, be, young, .]   \n4                 [the, woman, be, very, happy, .]   \n\n                                   rationale.premise  \\\n0  [False, False, False, False, False, False, Fal...   \n1  [False, False, True, True, True, True, True, F...   \n2  [False, False, False, False, False, False, Tru...   \n3  [False, False, False, False, False, False, Fal...   \n4  [False, False, False, False, False, False, Fal...   \n\n                                rationale.hypothesis  \\\n0  [False, False, False, True, True, True, True, ...   \n1     [False, False, False, True, True, True, False]   \n2  [False, False, True, False, False, True, True,...   \n3                 [False, False, False, True, False]   \n4          [False, False, False, False, True, False]   \n\n                                   heuristic.premise  \\\n0  [-1.0000000150474662e+30, 3.064525842666626, 1...   \n1  [-1.0000000150474662e+30, 2.79181170463562, 2....   \n2  [-1.0000000150474662e+30, 2.5598974227905273, ...   \n3  [-1.0000000150474662e+30, 2.597653388977051, -...   \n4  [-1.0000000150474662e+30, 2.784580707550049, -...   \n\n                                heuristic.hypothesis  \\\n0  [-1.0000000150474662e+30, 7.628961086273193, -...   \n1  [-1.0000000150474662e+30, 7.628961086273193, -...   \n2  [-1.0000000150474662e+30, 6.388305187225342, 6...   \n3  [-1.0000000150474662e+30, 5.648240089416504, -...   \n4  [-1.0000000150474662e+30, 5.648240089416504, -...   \n\n                                 tokens.form.premise  \\\n0  [This, church, choir, sings, to, the, masses, ...   \n1  [This, church, choir, sings, to, the, masses, ...   \n2  [This, church, choir, sings, to, the, masses, ...   \n3  [A, woman, with, a, green, headscarf, ,, blue,...   \n4  [A, woman, with, a, green, headscarf, ,, blue,...   \n\n                            tokens.form.hypothesis  \n0  [The, church, has, cracks, in, the, ceiling, .]  \n1         [The, church, is, filled, with, song, .]  \n2    [A, choir, singing, at, a, baseball, game, .]  \n3                       [The, woman, is, young, .]  \n4                 [The, woman, is, very, happy, .]  ",
      "text/html": "<div>\n<style scoped>\n    .dataframe tbody tr th:only-of-type {\n        vertical-align: middle;\n    }\n\n    .dataframe tbody tr th {\n        vertical-align: top;\n    }\n\n    .dataframe thead th {\n        text-align: right;\n    }\n</style>\n<table border=\"1\" class=\"dataframe\">\n  <thead>\n    <tr style=\"text-align: right;\">\n      <th></th>\n      <th>id</th>\n      <th>premise</th>\n      <th>hypothesis</th>\n      <th>label</th>\n      <th>explanation</th>\n      <th>highlight_premise</th>\n      <th>highlight_hypothesis</th>\n      <th>tokens.norm.premise</th>\n      <th>tokens.norm.hypothesis</th>\n      <th>rationale.premise</th>\n      <th>rationale.hypothesis</th>\n      <th>heuristic.premise</th>\n      <th>heuristic.hypothesis</th>\n      <th>tokens.form.premise</th>\n      <th>tokens.form.hypothesis</th>\n    </tr>\n  </thead>\n  <tbody>\n    <tr>\n      <th>0</th>\n      <td>2677109430.jpg#1r1n</td>\n      <td>This church choir sings to the masses as they ...</td>\n      <td>The church has cracks in the ceiling.</td>\n      <td>neutral</td>\n      <td>Not all churches have cracks in the ceiling</td>\n      <td>This church choir sings to the masses as they ...</td>\n      <td>The church has *cracks* *in* *the* *ceiling.*</td>\n      <td>[this, church, choir, sing, to, the, masse, as...</td>\n      <td>[the, church, have, crack, in, the, ceiling, .]</td>\n      <td>[False, False, False, False, False, False, Fal...</td>\n      <td>[False, False, False, True, True, True, True, ...</td>\n      <td>[-1.0000000150474662e+30, 3.064525842666626, 1...</td>\n      <td>[-1.0000000150474662e+30, 7.628961086273193, -...</td>\n      <td>[This, church, choir, sings, to, the, masses, ...</td>\n      <td>[The, church, has, cracks, in, the, ceiling, .]</td>\n    </tr>\n    <tr>\n      <th>1</th>\n      <td>2677109430.jpg#1r1e</td>\n      <td>This church choir sings to the masses as they ...</td>\n      <td>The church is filled with song.</td>\n      <td>entailment</td>\n      <td>\"Filled with song\" is a rephrasing of the \"cho...</td>\n      <td>This church *choir* *sings* *to* *the* *masses...</td>\n      <td>The church is *filled* *with* *song.*</td>\n      <td>[this, church, choir, sing, to, the, masse, as...</td>\n      <td>[the, church, be, fill, with, song, .]</td>\n      <td>[False, False, True, True, True, True, True, F...</td>\n      <td>[False, False, False, True, True, True, False]</td>\n      <td>[-1.0000000150474662e+30, 2.79181170463562, 2....</td>\n      <td>[-1.0000000150474662e+30, 7.628961086273193, -...</td>\n      <td>[This, church, choir, sings, to, the, masses, ...</td>\n      <td>[The, church, is, filled, with, song, .]</td>\n    </tr>\n    <tr>\n      <th>2</th>\n      <td>2677109430.jpg#1r1c</td>\n      <td>This church choir sings to the masses as they ...</td>\n      <td>A choir singing at a baseball game.</td>\n      <td>contradiction</td>\n      <td>A choir sing some other songs other than book ...</td>\n      <td>This church choir sings to the *masses* as the...</td>\n      <td>A choir *singing* at a *baseball* *game.*</td>\n      <td>[this, church, choir, sing, to, the, masse, as...</td>\n      <td>[a, choir, singing, at, a, baseball, game, .]</td>\n      <td>[False, False, False, False, False, False, Tru...</td>\n      <td>[False, False, True, False, False, True, True,...</td>\n      <td>[-1.0000000150474662e+30, 2.5598974227905273, ...</td>\n      <td>[-1.0000000150474662e+30, 6.388305187225342, 6...</td>\n      <td>[This, church, choir, sings, to, the, masses, ...</td>\n      <td>[A, choir, singing, at, a, baseball, game, .]</td>\n    </tr>\n    <tr>\n      <th>3</th>\n      <td>6160193920.jpg#4r1n</td>\n      <td>A woman with a green headscarf, blue shirt and...</td>\n      <td>The woman is young.</td>\n      <td>neutral</td>\n      <td>the woman could've been old rather than young</td>\n      <td>A woman with a green headscarf, blue shirt and...</td>\n      <td>The woman is *young.*</td>\n      <td>[a, woman, with, a, green, headscarf, ,, blue,...</td>\n      <td>[the, woman, be, young, .]</td>\n      <td>[False, False, False, False, False, False, Fal...</td>\n      <td>[False, False, False, True, False]</td>\n      <td>[-1.0000000150474662e+30, 2.597653388977051, -...</td>\n      <td>[-1.0000000150474662e+30, 5.648240089416504, -...</td>\n      <td>[A, woman, with, a, green, headscarf, ,, blue,...</td>\n      <td>[The, woman, is, young, .]</td>\n    </tr>\n    <tr>\n      <th>4</th>\n      <td>6160193920.jpg#4r1e</td>\n      <td>A woman with a green headscarf, blue shirt and...</td>\n      <td>The woman is very happy.</td>\n      <td>entailment</td>\n      <td>a grin suggests hapiness.</td>\n      <td>A woman with a green headscarf, blue shirt and...</td>\n      <td>The woman is very *happy.*</td>\n      <td>[a, woman, with, a, green, headscarf, ,, blue,...</td>\n      <td>[the, woman, be, very, happy, .]</td>\n      <td>[False, False, False, False, False, False, Fal...</td>\n      <td>[False, False, False, False, True, False]</td>\n      <td>[-1.0000000150474662e+30, 2.784580707550049, -...</td>\n      <td>[-1.0000000150474662e+30, 5.648240089416504, -...</td>\n      <td>[A, woman, with, a, green, headscarf, ,, blue,...</td>\n      <td>[The, woman, is, very, happy, .]</td>\n    </tr>\n  </tbody>\n</table>\n</div>"
     },
     "execution_count": 36,
     "metadata": {},
     "output_type": "execute_result"
    }
   ],
   "source": [
    "import pandas as pd\n",
    "\n",
    "df = pd.read_parquet(ROOT+'/dataset/esnli/test.pretransformed.parquet')\n",
    "df.head()"
   ]
  },
  {
   "cell_type": "code",
   "execution_count": 37,
   "id": "8678955d79273f10",
   "metadata": {
    "collapsed": false,
    "ExecuteTime": {
     "end_time": "2023-10-10T13:50:42.826926Z",
     "start_time": "2023-10-10T13:50:41.651027Z"
    }
   },
   "outputs": [],
   "source": [
    "import numpy as np\n",
    "from scipy.special import softmax\n",
    "from modules.utils import rescale\n",
    "\n",
    "# Remove uneccessary columns\n",
    "df = df[['id', 'label', 'heuristic.premise', 'heuristic.hypothesis', 'rationale.premise', 'rationale.hypothesis']]\n",
    "\n",
    "# Convert numpy to list\n",
    "df['rationale.premise'] = df['rationale.premise'].apply(lambda x: x.tolist())\n",
    "df['rationale.hypothesis'] = df['rationale.hypothesis'].apply(lambda x: x.tolist())\n",
    "\n",
    "# ignore neutral labels\n",
    "df = df[df['label'] == 'entailment']\n",
    "\n",
    "def rescale_heuristic(x):\n",
    "    # transform to numpy array\n",
    "    x = np.array(x)\n",
    "    # rescale back to exponential\n",
    "    x = np.exp(x)\n",
    "    # normalize #TODO this step is because that heuristic was not normalized before\n",
    "    x = softmax(x)\n",
    "    # rescale to [0, 1]\n",
    "    x = rescale(x)\n",
    "    return x.tolist()\n",
    "\n",
    "df['heuristic.premise'] = df['heuristic.premise'].apply(rescale_heuristic)\n",
    "df['heuristic.hypothesis'] = df['heuristic.hypothesis'].apply(rescale_heuristic)\n",
    "df['heuristic'] = df.apply(lambda x: x['heuristic.premise'] + x['heuristic.hypothesis'], axis=1)\n",
    "df['rationale'] = df.apply(lambda x: x['rationale.premise'] + x['rationale.hypothesis'], axis=1)\n",
    "df['rationale'] = df['rationale'].apply(lambda x: [float(_x) for _x in x])"
   ]
  },
  {
   "cell_type": "code",
   "execution_count": 31,
   "id": "da8040a3f4c1877e",
   "metadata": {
    "collapsed": false,
    "ExecuteTime": {
     "end_time": "2023-10-10T13:49:48.833141Z",
     "start_time": "2023-10-10T13:49:47.519439Z"
    }
   },
   "outputs": [
    {
     "name": "stdout",
     "output_type": "stream",
     "text": [
      "Heuristic scores:\n",
      "AUPRC: 0.39253997802734375\n",
      "AUROC: 0.6837261915206909\n"
     ]
    }
   ],
   "source": [
    "import torch\n",
    "\n",
    "for idx, row in df.iterrows():\n",
    "    auprc.update(torch.tensor(row['heuristic']), torch.tensor(row['rationale']))\n",
    "    \n",
    "score = auprc.compute()\n",
    "print(f'AUPRC: {score}')\n",
    "auprc.reset()"
   ]
  },
  {
   "cell_type": "code",
   "execution_count": 38,
   "id": "fa3cb4ceee48710d",
   "metadata": {
    "collapsed": false,
    "ExecuteTime": {
     "end_time": "2023-10-10T13:50:47.745919Z",
     "start_time": "2023-10-10T13:50:47.131403Z"
    }
   },
   "outputs": [],
   "source": [
    "import torch\n",
    "\n",
    "for idx, row in df.iterrows():\n",
    "    auroc.update(torch.tensor(row['heuristic']), torch.tensor(row['rationale']).int())\n",
    "    \n",
    "score = auroc.compute()\n",
    "print(f'AUROC: {score}')\n",
    "auroc.reset()"
   ]
  },
  {
   "cell_type": "code",
   "execution_count": 39,
   "id": "46b90739d7dc5813",
   "metadata": {
    "collapsed": false,
    "ExecuteTime": {
     "end_time": "2023-10-10T13:50:50.557868Z",
     "start_time": "2023-10-10T13:50:50.170348Z"
    }
   },
   "outputs": [],
   "source": [
    "# Get model's prediction to check:\n",
    "df = pd.read_json(ROOT+'/logs/lstm_attention/esnli/run=0_lstm=1/predictions/batch_inference.json')\n",
    "\n",
    "df = df[(df['label'] != 'neutral') & (df['label'] == df['y_hat'])]\n",
    "df.head()"
   ]
  },
  {
   "cell_type": "code",
   "execution_count": 34,
   "id": "73de43430be4ca31",
   "metadata": {
    "collapsed": false,
    "ExecuteTime": {
     "end_time": "2023-10-10T13:50:25.483835Z",
     "start_time": "2023-10-10T13:50:24.503991Z"
    }
   },
   "outputs": [],
   "source": [
    "import torch\n",
    "\n",
    "# clean padding mask\n",
    "df['a_hat.clean.premise'] = df.apply(lambda x: [a for a, m in zip(x['a_hat.premise'], x['padding_mask.premise']) if not m], axis=1)\n",
    "df['a_hat.clean.hypothesis'] = df.apply(lambda x: [a for a, m in zip(x['a_hat.hypothesis'], x['padding_mask.hypothesis']) if not m], axis=1)\n",
    "df['a_true.clean.premise'] = df.apply(lambda x: [a for a, m in zip(x['a_true.premise'], x['padding_mask.premise']) if not m], axis=1)\n",
    "df['a_true.clean.hypothesis'] = df.apply(lambda x: [a for a, m in zip(x['a_true.hypothesis'], x['padding_mask.hypothesis']) if not m], axis=1)"
   ]
  },
  {
   "cell_type": "code",
   "execution_count": 41,
   "id": "aef226ed0904608",
   "metadata": {
    "collapsed": false,
    "ExecuteTime": {
     "end_time": "2023-10-10T13:51:08.126457Z",
     "start_time": "2023-10-10T13:51:07.977722Z"
    }
   },
   "outputs": [],
   "source": [
    "for idx, row in df.iterrows():\n",
    "    a_hat = row['a_hat.clean.premise'] + row['a_hat.clean.hypothesis']\n",
    "    a_true = row['a_true.clean.premise'] + row['a_true.clean.hypothesis']\n",
    "    auprc.update(torch.tensor(a_hat), torch.tensor(a_true))\n",
    "    auroc.update(torch.tensor(a_hat), torch.tensor(a_true))\n",
    "    \n",
    "score = auprc.compute()\n",
    "print(f'AUPRC Attetion: {score}')\n",
    "auprc.reset()\n",
    "\n",
    "score = auroc.compute()\n",
    "print(f'AUROC Attention: {score}')\n",
    "auroc.reset()"
   ]
  },
  {
   "cell_type": "code",
   "execution_count": 46,
   "id": "fda6d0d599814d04",
   "metadata": {
    "collapsed": false,
    "ExecuteTime": {
     "end_time": "2023-10-10T13:52:14.071372Z",
     "start_time": "2023-10-10T13:52:13.056286Z"
    }
   },
   "outputs": [
    {
     "name": "stdout",
     "output_type": "stream",
     "text": [
      "AUPRC Attetion: 0.4838666319847107\n",
      "AUROC Attention: 0.7167083024978638\n"
     ]
    }
   ],
   "source": []
  }
 ],
 "metadata": {
  "kernelspec": {
   "display_name": "Python 3 (ipykernel)",
   "language": "python",
   "name": "python3"
  },
  "language_info": {
   "codemirror_mode": {
    "name": "ipython",
    "version": 3
   },
   "file_extension": ".py",
   "mimetype": "text/x-python",
   "name": "python",
   "nbconvert_exporter": "python",
   "pygments_lexer": "ipython3",
   "version": "3.8.16"
  }
 },
 "nbformat": 4,
 "nbformat_minor": 5
}
